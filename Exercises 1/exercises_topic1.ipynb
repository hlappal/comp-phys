{
 "cells": [
  {
   "cell_type": "markdown",
   "metadata": {},
   "source": [
    "Before you turn this problem in, make sure everything runs as expected. First, **restart the kernel** (in the menubar, select Kernel$\\rightarrow$Restart) and then **run all cells** (in the menubar, select Cell$\\rightarrow$Run All).\n",
    "\n",
    "**NB. Do not add new or remove/cut cells in the notebook. Additionally, change the filename of this notebook to your_name-student_number.ipynb before submitting.**\n",
    "\n",
    "Make sure you fill in any place that says `YOUR CODE HERE` or \"YOUR ANSWER HERE\", as well as your student number below:"
   ]
  },
  {
   "cell_type": "code",
   "execution_count": 1,
   "metadata": {},
   "outputs": [],
   "source": [
    "STUDENT_NUMBER = \"141927\""
   ]
  },
  {
   "cell_type": "markdown",
   "metadata": {},
   "source": [
    "---"
   ]
  },
  {
   "cell_type": "markdown",
   "metadata": {
    "deletable": false,
    "editable": false,
    "nbgrader": {
     "cell_type": "markdown",
     "checksum": "4657bb1e3eaf6b2d753323044750e386",
     "grade": false,
     "grade_id": "cell-073aeb06b4946ea4",
     "locked": true,
     "schema_version": 3,
     "solution": false,
     "task": false
    }
   },
   "source": [
    "# Exercises Lecture 1"
   ]
  },
  {
   "cell_type": "markdown",
   "metadata": {
    "deletable": false,
    "editable": false,
    "nbgrader": {
     "cell_type": "markdown",
     "checksum": "faf0dc9eca64ff078b6bd4f624222a80",
     "grade": false,
     "grade_id": "cell-28cb49ed0f34cb7e",
     "locked": true,
     "schema_version": 3,
     "solution": false,
     "task": false
    }
   },
   "source": [
    "## Exercise 1.1: Another ball dropped from a tower (2 points)\n",
    "\n",
    "A ball is dropped from a tower of height $h$ with initial velocity zero.  Write a program that asks the user to enter the height in meters of the tower and then calculates and prints the time the ball takes until it hits the ground, ignoring air resistance.  Use your program to calculate the time for a ball dropped from a $100\\,$m high tower."
   ]
  },
  {
   "cell_type": "code",
   "execution_count": 2,
   "metadata": {
    "deletable": false,
    "nbgrader": {
     "cell_type": "code",
     "checksum": "723a261445fafaf1d1cf080bee222ddd",
     "grade": false,
     "grade_id": "cell-2b275b368c6f0b1c",
     "locked": false,
     "schema_version": 3,
     "solution": true,
     "task": false
    }
   },
   "outputs": [],
   "source": [
    "def time_from_h(s):\n",
    "    \"\"\"calculates time taken for a mass dropped from height\n",
    "    s to hit the ground\n",
    "    Args:\n",
    "        s (float): height in meters\n",
    "    Returns:\n",
    "        float: time to reach the ground\"\"\"\n",
    "    # constants\n",
    "    a = 9.8  # acceleration due to gravity (m/s^2)\n",
    "    t = 0  # time (s)\n",
    "\n",
    "    # YOUR CODE HERE\n",
    "    dt = 0.0001  # time step (s)\n",
    "    v = 0  # velocity (m/s)\n",
    "    \n",
    "    # iterate time steps until s = 0\n",
    "    while s > 0:\n",
    "        v += (-a) * dt  # update velocity downward\n",
    "        s += v * dt  # update position\n",
    "        t += dt  # update time passed\n",
    "    # raise NotImplementedError()\n",
    "    return t"
   ]
  },
  {
   "cell_type": "code",
   "execution_count": 3,
   "metadata": {
    "deletable": false,
    "editable": false,
    "nbgrader": {
     "cell_type": "code",
     "checksum": "7ab0668e969af36af9da86cfc1950269",
     "grade": true,
     "grade_id": "time_from_h",
     "locked": true,
     "points": 2,
     "schema_version": 3,
     "solution": false,
     "task": false
    }
   },
   "outputs": [
    {
     "name": "stdout",
     "output_type": "stream",
     "text": [
      "Time for a ball dropped from 100m high tower: 4.51750000000281 s\n"
     ]
    }
   ],
   "source": [
    "# validation\n",
    "assert time_from_h(0) == 0.0\n",
    "assert abs(time_from_h(10) - 1.4285714) < 1e-4\n",
    "print(\"Time for a ball dropped from 100m high tower: {} s\"\n",
    "      \"\".format(time_from_h(100)))"
   ]
  },
  {
   "cell_type": "markdown",
   "metadata": {
    "deletable": false,
    "editable": false,
    "nbgrader": {
     "cell_type": "markdown",
     "checksum": "1d8c3104b53993ae6ed7a910366ad6bf",
     "grade": false,
     "grade_id": "cell-4d5fda6c3dccfb5c",
     "locked": true,
     "schema_version": 3,
     "solution": false,
     "task": false
    }
   },
   "source": [
    "## Exercise 1.2: Quantum potential step (2 points)\n",
    "\n",
    "A well-known quantum mechanics problem involves a particle of mass $m$ that encounters a one-dimensional potential step, like this:\n",
    "\n",
    "<img src=\"qstep.png\" width=\"500\" />\n",
    "<!-- ![Image](qstep.png) -->\n",
    "\n",
    "The particle with initial kinetic energy $E$ and wavevector $k_1=\\sqrt{2mE}/\\hbar$ enters from the left and encounters a\n",
    "sudden jump in potential energy of height $V$ at position $x=0$.  By solving the Schroedinger equation, one can show that when $E>V$ the particle may either (a) pass the step, in which case it has a lower kinetic energy of $E-V$ on the other side and a correspondingly smaller wavevector of $k_2=\\sqrt{2m(E-V)}/\\hbar$, or (b) it may be reflected, keeping all of\n",
    "its kinetic energy and an unchanged wavevector but moving in the opposite direction.  The probabilities $T$ and $R$ for transmission and reflection are given by\n",
    "\n",
    "$$T = {4k_1k_2\\over(k_1+k_2)^2}\\,,\\qquad\n",
    "R = \\biggl( {k_1-k_2\\over k_1+k_2} \\biggr)^2.$$\n",
    "\n",
    "Suppose we have a particle with mass equal to the electron mass $m=9.11\\times10^{-31}\\,$kg and energy $10\\,$eV encountering a potential step of height $9\\,$eV.  Write a Python program to compute and print out the transmission and reflection probabilities using the formulas above."
   ]
  },
  {
   "cell_type": "code",
   "execution_count": 4,
   "metadata": {
    "deletable": false,
    "nbgrader": {
     "cell_type": "code",
     "checksum": "cf8230f50fd88d9afe6615873621404e",
     "grade": false,
     "grade_id": "cell-07391c181c7e0fdd",
     "locked": false,
     "schema_version": 3,
     "solution": true,
     "task": false
    }
   },
   "outputs": [],
   "source": [
    "def get_tnr_prob(m, e, v):\n",
    "    \"\"\"get transmission and reflection probabilities\n",
    "    Args:\n",
    "        m (float): mass of the object in Kg\n",
    "        e (float): energy of the object in eV\n",
    "        v (float): height of the potential step in eV\n",
    "    \n",
    "    Retruns:\n",
    "        float: transmission values\n",
    "        float: reflection values\n",
    "    \"\"\"\n",
    "    # constants\n",
    "    hbar = 6.58211956e-16  # eVs \n",
    "    t, r = 0, 0\n",
    "    \n",
    "    # YOUR CODE HERE\n",
    "    k1 = (2 * m * e)**0.5 / hbar  # initial wavevector\n",
    "    k2 = (2 * m * (e - v))**0.5 / hbar  # wavevector after the step\n",
    "    \n",
    "    t = (4 * k1 * k2) / ((k1 + k2)**2)  # transmission probability\n",
    "    r = ((k1 - k2) / (k1 + k2))**2  # reflection probability\n",
    "    # raise NotImplementedError()\n",
    "    return t, r"
   ]
  },
  {
   "cell_type": "code",
   "execution_count": 5,
   "metadata": {
    "deletable": false,
    "editable": false,
    "nbgrader": {
     "cell_type": "code",
     "checksum": "2e55cea0f833a40a0a7f9dd171f7c943",
     "grade": true,
     "grade_id": "cell-fc8c024fed62f1a8",
     "locked": true,
     "points": 2,
     "schema_version": 3,
     "solution": false,
     "task": false
    }
   },
   "outputs": [
    {
     "name": "stdout",
     "output_type": "stream",
     "text": [
      "With: M 9.11e-31 Kg, E 10 eV, and V 9 eV\n",
      "Transmission probability: 0.7301261363877616\n",
      "Reflection probability: 0.26987386361223836\n"
     ]
    }
   ],
   "source": [
    "# validation\n",
    "t, r = get_tnr_prob(8e-30, 20, 15)\n",
    "assert abs(t - 0.88888888) < 1e-4, \"bad transmission probability\"\n",
    "assert abs(r - 0.11111111) < 1e-4, \"bad reflection probability\"\n",
    "\n",
    "# ex\n",
    "m = 9.11e-31  # Kg\n",
    "e = 10  # eV\n",
    "v = 9  # eV\n",
    "t, r = get_tnr_prob(m, e, v)\n",
    "print(\"With: M {} Kg, E {} eV, and V {} eV\\n\"\n",
    "      \"Transmission probability: {}\\n\"\n",
    "      \"Reflection probability: {}\".format(m, e, v, t, r))"
   ]
  },
  {
   "cell_type": "markdown",
   "metadata": {
    "deletable": false,
    "editable": false,
    "nbgrader": {
     "cell_type": "markdown",
     "checksum": "1f87e39fdca942b5bc019889dd9caf58",
     "grade": false,
     "grade_id": "cell-7990636a4d9c11a0",
     "locked": true,
     "schema_version": 3,
     "solution": false,
     "task": false
    }
   },
   "source": [
    "## Exercise 1.3: Catalan numbers (2 points)\n",
    "\n",
    "The Catalan numbers $C_n$ are a sequence of integers 1, 1, 2, 5, 14, 42, 132 $\\dots$ that play an important role in quantum mechanics and the theory of disordered systems.  (They were central to Eugene Wigner's proof\n",
    "of the so-called semicircle law.)  They are given by\n",
    "\n",
    "$$\n",
    "C_0 = 1,\\qquad C_{n+1} = {4n+2\\over n+2}\\,C_n.\n",
    "$$\n",
    "\n",
    "Write a program that prints in increasing order all Catalan numbers less than or equal to one billion."
   ]
  },
  {
   "cell_type": "code",
   "execution_count": 6,
   "metadata": {
    "deletable": false,
    "nbgrader": {
     "cell_type": "code",
     "checksum": "2af654c4df29a21e925155d3a942c32a",
     "grade": false,
     "grade_id": "cell-bb750bad076c0eae",
     "locked": false,
     "schema_version": 3,
     "solution": true,
     "task": false
    }
   },
   "outputs": [],
   "source": [
    "def get_catalan_nos():\n",
    "    \"\"\" gets catalan numbers upto 1 billion\n",
    "    Returns:\n",
    "        list: list of catalan numbers upto 1 billion\"\"\"\n",
    "    cat_nos = []\n",
    "    \n",
    "    # YOUR CODE HERE\n",
    "    C = lambda n: (4*(n-1) + 2) / ((n-1) + 2) * cat_nos[n-1] if (n >= 1) else 1  # lambda function to get the n'th catalan number\n",
    "    cat_nos.append(1)  # append C0 = 1\n",
    "    n = 1  # start indexing at 1 (C0 has an index 0)\n",
    "    \n",
    "    while True:\n",
    "        cat = int(C(n))  # get new cat number\n",
    "        if cat >= 1e9:  # iterate as long as cat number is under 1 billion\n",
    "            break\n",
    "        cat_nos.append(cat)  # append to list\n",
    "        n += 1\n",
    "        \n",
    "    for cat_n in cat_nos:\n",
    "        print(cat_n, end=' ')  # print the cat numbers\n",
    "    #raise NotImplementedError()\n",
    "    \n",
    "    return cat_nos"
   ]
  },
  {
   "cell_type": "code",
   "execution_count": 7,
   "metadata": {
    "deletable": false,
    "editable": false,
    "nbgrader": {
     "cell_type": "code",
     "checksum": "1ef339018c04d61a70fbd6c4c997d2d1",
     "grade": true,
     "grade_id": "get_catalan_nos",
     "locked": true,
     "points": 2,
     "schema_version": 3,
     "solution": false,
     "task": false
    }
   },
   "outputs": [
    {
     "name": "stdout",
     "output_type": "stream",
     "text": [
      "1 1 2 5 14 42 132 429 1430 4862 16796 58786 208012 742900 2674440 9694845 35357670 129644790 477638700 "
     ]
    }
   ],
   "source": [
    "# validation\n",
    "cat_nos = get_catalan_nos()\n",
    "assert cat_nos[0] == 1\n",
    "assert cat_nos[1] == 1\n",
    "assert cat_nos[2] == 2\n",
    "assert cat_nos[3] == 5\n",
    "assert cat_nos[-1] <= 1e9"
   ]
  },
  {
   "cell_type": "markdown",
   "metadata": {
    "deletable": false,
    "editable": false,
    "nbgrader": {
     "cell_type": "markdown",
     "checksum": "77cbf173080d412ca5e499a9728684cb",
     "grade": false,
     "grade_id": "cell-527fe797dbfe9fe8",
     "locked": true,
     "schema_version": 3,
     "solution": false,
     "task": false
    }
   },
   "source": [
    "## Exercise 1.4: The Madelung constant (2 points)\n",
    "\n",
    "In condensed matter physics the Madelung constant gives the total electric potential felt by an atom in a solid.  It depends on the charges on the other atoms nearby and their locations.  Consider for instance solid sodium chloride---table salt.  The sodium chloride crystal has atoms arranged on a cubic lattice, but with alternating sodium and chlorine atoms, the sodium ones having a single positive charge $+e$ and the chlorine ones a single negative charge $-e$, where $e$ is the charge on the electron.  If we label each position on the lattice by three integer\n",
    "coordinates $(i,j,k)$, then the sodium atoms fall at positions where $i+j+k$ is even, and the chlorine atoms at positions where $i+j+k$ is odd.\n",
    "\n",
    "Consider a sodium atom at the origin, $i=j=k=0$, and let us calculate the Madelung constant.  If the spacing of atoms on the lattice is $a$, then the distance from the origin to the atom at position $(i,j,k)$ is\n",
    "\n",
    "$$\n",
    "\\sqrt{(ia)^2 + (ja)^2 + (ka)^2} = a \\sqrt{i^2+j^2+k^2},\n",
    "$$\n",
    "\n",
    "and the potential at the origin created by such an atom is\n",
    "\n",
    "$$\n",
    "V(i,j,k) = \\pm {e\\over4\\pi\\epsilon_0 a\\sqrt{i^2+j^2+k^2}},\n",
    "$$\n",
    "\n",
    "with $\\epsilon_0$ being the permittivity of the vacuum and the sign of the expression depending on whether $i+j+k$ is even or odd.  The total potential felt by the sodium atom is then the sum of this quantity over all other atoms.  Let us assume a cubic box around the sodium at the origin, with $L$ atoms in all directions.  Then\n",
    "\n",
    "$$\n",
    "V_\\textrm{total} = \\sum_{\\substack{i,j,k=-L\\\\ \\textrm{not }i=j=k=0}}^L\n",
    "                   \\hspace{-0.5em} V(i,j,k)\n",
    "                 = {e\\over4\\pi\\epsilon_0 a}\\,M,\n",
    "$$\n",
    "\n",
    "where $M$ is the Madelung constant, at least approximately---technically the Madelung constant is the value of $M$ when $L\\to\\infty$, but one can get a good approximation just by using a large value of $L$.\n",
    "\n",
    "Write a program to calculate and print the Madelung constant for sodium chloride.  Use as large a value of $L$ as you can, while still having your program run in reasonable time---say in a minute or less."
   ]
  },
  {
   "cell_type": "code",
   "execution_count": 8,
   "metadata": {
    "deletable": false,
    "nbgrader": {
     "cell_type": "code",
     "checksum": "454f10443c7ed4cba3bfdaa0dd7fb16e",
     "grade": false,
     "grade_id": "cell-bba284af1ad4382b",
     "locked": false,
     "schema_version": 3,
     "solution": true,
     "task": false
    }
   },
   "outputs": [],
   "source": [
    "def get_madelung_constant(L):\n",
    "    \"\"\"gets madelung constant\n",
    "    Args:\n",
    "        L (int): number of atoms in all directions\n",
    "    Returns:\n",
    "        float: madelungs constant\"\"\"\n",
    "    M = 0\n",
    "    # YOUR CODE HERE\n",
    "    # Equation: M = 1 / Sum (i,j,k = -L -> L) +/- [ sqrt(i^2 + j^2 + k^2) ]\n",
    "    for i in range(-L, L+1):\n",
    "        for j in range(-L, L+1):\n",
    "            for k in range(-L, L+1):\n",
    "                if i == 0 and j == 0 and k == 0:  # skip i = j = k = 0\n",
    "                    continue\n",
    "                if (i + j + k) % 2 == 0:\n",
    "                    M += 1 / (i**2 + j**2 + k**2)**0.5  # even: sodium\n",
    "                else:\n",
    "                    M -= 1 / (i**2 + j**2 + k**2)**0.5  # odd: chlorine\n",
    "    #raise NotImplementedError()\n",
    "    return M"
   ]
  },
  {
   "cell_type": "code",
   "execution_count": 9,
   "metadata": {
    "deletable": false,
    "editable": false,
    "nbgrader": {
     "cell_type": "code",
     "checksum": "becfc55bad42a079da061962ee5edfde",
     "grade": true,
     "grade_id": "cell-3d6376b6de29c907",
     "locked": true,
     "points": 2,
     "schema_version": 3,
     "solution": false,
     "task": false
    }
   },
   "outputs": [
    {
     "name": "stdout",
     "output_type": "stream",
     "text": [
      "Run time: 98.90437960624695 s\n",
      "Madelung constant: -1.7446850421707747\n"
     ]
    }
   ],
   "source": [
    "# validation\n",
    "import time\n",
    "t = time.time()\n",
    "M = get_madelung_constant(200)\n",
    "print(\"Run time: {} s\\n\"\n",
    "      \"Madelung constant: {}\".format(time.time() - t, M))\n",
    "assert abs(M + 1.747565) < 1e-2, \"wrong value\""
   ]
  },
  {
   "cell_type": "markdown",
   "metadata": {
    "deletable": false,
    "editable": false,
    "nbgrader": {
     "cell_type": "markdown",
     "checksum": "c3854ddde33d44689598f6b85442fb3e",
     "grade": false,
     "grade_id": "cell-93f54c022f56217b",
     "locked": true,
     "schema_version": 3,
     "solution": false,
     "task": false
    }
   },
   "source": [
    "## Exercise 1.5: Recursion (3 points)\n",
    "\n",
    "A useful feature of user-defined functions is *recursion*, the ability of a function to call itself.  For example, consider the following definition of the factorial $n!$ of a positive integer $n$:\n",
    "\n",
    "$$\n",
    "n! = \\biggl\\lbrace\\begin{array}{ll}\n",
    "  1 & \\qquad\\mbox{if $n=1$,} \\\\\n",
    "  n\\times(n-1)! & \\qquad\\mbox{if $n>1$.}\n",
    "\\end{array}\n",
    "$$\n",
    "\n",
    "This constitutes a complete definition of the factorial which allows us to calculate the value of $n!$ for any positive integer.  We can employ this definition directly to create a Python function for factorials, like this:\n",
    "\n",
    "```\n",
    "def factorial(n):\n",
    "    if n==1:\n",
    "        return 1\n",
    "    else:\n",
    "        return n*factorial(n-1)\n",
    "```\n",
    "\n",
    "Note how, if $n$ is not equal to 1, the function calls itself to calculate the factorial of $n-1$.  This is recursion.  If we now say `print(factorial(5))` the computer will correctly print the answer 120.\n",
    "\n",
    "(a) We encountered the Catalan numbers $C_n$ previously in Exercise 1.3.  With just a little rearrangement, the definition given there can be rewritten in the form\n",
    "\n",
    "$$\n",
    "C_n = \\left\\lbrace\\begin{array}{ll}\n",
    "  \\rule[-9pt]{0pt}{10pt}1 & \\qquad\\mbox{if $n=0$,} \\\\\n",
    "  \\dfrac{4n-2}{n+1}\\,C_{n-1} & \\qquad\\mbox{if $n>0$.}\n",
    "\\end{array}\\right.\n",
    "$$\n",
    "\n",
    "Write a Python function, using recursion, that calculates $C_n$.  Use your function to calculate and print $C_{100}$.\n",
    "\n",
    "(b) Euclid showed that the greatest common divisor $g(m,n)$ of two nonnegative integers $m$ and $n$ satisfies\n",
    "\n",
    "$$\n",
    "g(m,n) = \\biggl\\lbrace\\begin{array}{ll}\n",
    "  m & \\qquad\\mbox{if $n=0$,} \\\\\n",
    "  g(n,m\\>\\textrm{mod}\\>n) & \\qquad\\mbox{if $n>0$.}\n",
    "\\end{array}\n",
    "$$\n",
    "\n",
    "Write a Python function `g(m,n)` that employs recursion to calculate the greatest common divisor of $m$ and $n$ using this formula.  Use your function to calculate and print the greatest common divisor of 108 and 192.\n",
    "\n",
    "Comparing the calculation of the Catalan numbers in part (a) above with that of Exercise 1.3, we see that it's possible to do the calculation two ways, either directly or using recursion.  In most cases, if a quantity can\n",
    "be calculated *without* recursion, then it will be faster to do so, and we normally recommend taking this route if possible.  There are some calculations, however, that are essentially impossible (or at least much\n",
    "more difficult) without recursion.  We will see some examples later in this book."
   ]
  },
  {
   "cell_type": "code",
   "execution_count": 10,
   "metadata": {
    "deletable": false,
    "nbgrader": {
     "cell_type": "code",
     "checksum": "863901797176a2092e1a26da0bb44bcc",
     "grade": false,
     "grade_id": "cell-9ad958634ff8e4cd",
     "locked": false,
     "schema_version": 3,
     "solution": true,
     "task": false
    }
   },
   "outputs": [],
   "source": [
    "def get_catalan_n(n):\n",
    "    \"\"\" gets nth catalan number with recursion\n",
    "    Args:\n",
    "        n (int): the index of catalan number needed\n",
    "    Returns:\n",
    "        int: nth catalan number\n",
    "    Raises:\n",
    "        AssertionError: if n is not integer\"\"\"\n",
    "    cn = 1\n",
    "    assert isinstance(n, int), \"n should be int\"\n",
    "\n",
    "    # YOUR CODE HERE\n",
    "    C = lambda x: (4 * x - 2) / (x + 1) * C(x - 1) if (x > 0) else 1  # recursive function for C(n)\n",
    "    cn = C(n)\n",
    "    #raise NotImplementedError()\n",
    "    return cn"
   ]
  },
  {
   "cell_type": "code",
   "execution_count": 11,
   "metadata": {
    "deletable": false,
    "editable": false,
    "nbgrader": {
     "cell_type": "code",
     "checksum": "d4bec65c8ebcd0705c1882df06681ed4",
     "grade": true,
     "grade_id": "get_catalan_n",
     "locked": true,
     "points": 1.5,
     "schema_version": 3,
     "solution": false,
     "task": false
    }
   },
   "outputs": [
    {
     "name": "stdout",
     "output_type": "stream",
     "text": [
      "100th catalan number = 8.965199470901317e+56\n"
     ]
    }
   ],
   "source": [
    "# validation\n",
    "# catalan numbers\n",
    "c100 = get_catalan_n(100)\n",
    "assert get_catalan_n(0) == 1, \"bad get_catalan_n func\"\n",
    "assert get_catalan_n(1) == 1, \"bad get_catalan_n func\"\n",
    "assert get_catalan_n(2) == 2, \"bad get_catalan_n func\"\n",
    "assert get_catalan_n(20) == 6564120420, \"bad get_catalan_n func\"\n",
    "print(\"100th catalan number = {}\".format(c100))"
   ]
  },
  {
   "cell_type": "code",
   "execution_count": 12,
   "metadata": {
    "deletable": false,
    "nbgrader": {
     "cell_type": "code",
     "checksum": "a747fb83de1df167e6ed710f2a7a9b1c",
     "grade": false,
     "grade_id": "cell-9ad958634ff8e4cf",
     "locked": false,
     "schema_version": 3,
     "solution": true,
     "task": false
    }
   },
   "outputs": [],
   "source": [
    "def get_gcd(m, n):\n",
    "    \"\"\"gets greatest common divisor of two non negative integers\n",
    "    Args:\n",
    "        m (int): first integer\n",
    "        n (int): second integer\n",
    "    Returns:\n",
    "        int: greatest common divisor of m and n\n",
    "    Raises:\n",
    "        AssertionError: if m or n are not non negative integers\"\"\"\n",
    "    gcd = 0\n",
    "    \n",
    "    # YOUR CODE HERE\n",
    "    # special cases m = n, m = 0, n = 0\n",
    "    if m == n:\n",
    "        gcd = m\n",
    "    elif m == 0:\n",
    "        gcd = n\n",
    "    elif n == 0:\n",
    "        gcd = m\n",
    "    else:\n",
    "        m_divisors = []  # collect the divisors of m to a list\n",
    "        n_divisors = []  # collect the divisors of n to a list\n",
    "        limit = round(max(m, n) / 2) + 1  # upper limit for iteration\n",
    "        for i in range(1, limit):  # iterate and find divisors until reached the midpoint of max(m, n)\n",
    "            if m % i == 0:\n",
    "                m_divisors.append(i)  # append divisors of m\n",
    "            if n % i == 0:\n",
    "                n_divisors.append(i)  # append divisors of n\n",
    "        common_divisors = [value for value in m_divisors if value in n_divisors]  # get the union of the divisor lists\n",
    "        gcd = max(common_divisors)  # gcd is the largest value in the list\n",
    "    # raise NotImplementedError()\n",
    "    \n",
    "    return gcd"
   ]
  },
  {
   "cell_type": "code",
   "execution_count": 13,
   "metadata": {
    "deletable": false,
    "editable": false,
    "nbgrader": {
     "cell_type": "code",
     "checksum": "466d78993c0ba96c470b70067f972daf",
     "grade": true,
     "grade_id": "get_gcd",
     "locked": true,
     "points": 1.5,
     "schema_version": 3,
     "solution": false,
     "task": false
    }
   },
   "outputs": [
    {
     "name": "stdout",
     "output_type": "stream",
     "text": [
      "gcd of 108 and 192 = 12\n"
     ]
    }
   ],
   "source": [
    "# gcd\n",
    "assert get_gcd(2, 0) == 2, \"bad get_gcd func\"\n",
    "assert get_gcd(2, 10) == 2, \"bad get_gcd func\"\n",
    "assert get_gcd(12, 16) == 4, \"bad get_gcd func\"\n",
    "print(\"gcd of {} and {} = {}\".format(108, 192, get_gcd(108, 192)))"
   ]
  },
  {
   "cell_type": "markdown",
   "metadata": {
    "deletable": false,
    "editable": false,
    "nbgrader": {
     "cell_type": "markdown",
     "checksum": "b66bedd05fcccc927d52bacce36367fc",
     "grade": false,
     "grade_id": "cell-ce9de4dbad990400",
     "locked": true,
     "schema_version": 3,
     "solution": false,
     "task": false
    }
   },
   "source": [
    "## Exercise 1.6: Deterministic chaos and the Feigenbaum plot (2 points)\n",
    "\n",
    "One of the most famous examples of the phenomenon of chaos is the *logistic map*, defined by the equation\n",
    "\n",
    "$$\n",
    "x' = rx(1-x).\n",
    "$$\n",
    "\n",
    "For a given value of the constant $r$ you take a value of $x$ --- say $x=\\frac{1}{2}$ --- and you feed it into the right-hand side of this equation, which gives you a value of $x'$.  Then you take that value and feed it back in on the right-hand side again, which gives you another value, and so forth.  This is a *iterative map*.  You keep doing the same\n",
    "operation over and over on your value of $x$, and one of three things happens: \n",
    "\n",
    "1. The value settles down to a fixed number and stays there.  This is called a *fixed point*.  For instance, $x=0$ is always a fixed point of the logistic map.  (You put $x=0$ on the right-hand side and you get $x'=0$ on the left.)\n",
    "\n",
    "2. It doesn't settle down to a single value, but it settles down into a periodic pattern, rotating around a set of values, such as say four values, repeating them in sequence over and over.  This is called a *limit cycle*.\n",
    "\n",
    "3. It goes crazy.  It generates a seemingly random sequence of numbers that appear to have no rhyme or reason to them at all.  This is *deterministic chaos*.  \"Chaos\" because it really does look chaotic, and \"deterministic\" because even though the values look random, they're not.  They're clearly entirely predictable, because they are given to you by one simple equation.  The behavior is *determined*, although it may not look like it.\n",
    "\n",
    "Write a program that calculates and displays the behavior of the logistic map.  Here's what you need to do.  For a given value of $r$, start with $x=\\frac{1}{2}$, and iterate the logistic map equation a thousand times.  That will give it a chance to settle down to a fixed point or limit cycle if it's going to.  Then run for another thousand iterations and plot the points $(r,x)$ on a graph where the horizontal axis is $r$ and the vertical axis is $x$.  You can either use the ``plot`` function with the options ``\"ko\"`` or ``\"k.\"`` to draw a graph with dots, one for each point, you can use the ``scatter`` function to draw a scatter plot (which always uses dots).  Repeat the whole calculation for values of $r$ from 1 to 4 in steps of 0.01, plotting the dots for all values of $r$ on the same figure and then finally using the function ``show`` once to display the complete figure.\n",
    "\n",
    "Your program should generate a distinctive plot that looks like a tree bent over onto its side.  This famous picture is called the *Feigenbaum plot*, after its discoverer Mitchell Feigenbaum, or sometimes the *figtree plot*, a play on the fact that it looks like a tree and Feigenbaum means \"figtree\" in German."
   ]
  },
  {
   "cell_type": "code",
   "execution_count": 14,
   "metadata": {
    "deletable": false,
    "nbgrader": {
     "cell_type": "code",
     "checksum": "0c22a593eb406d04cca6260c6d78269a",
     "grade": false,
     "grade_id": "cell-dcbdbb5452eeec29",
     "locked": false,
     "schema_version": 3,
     "solution": true,
     "task": false
    }
   },
   "outputs": [],
   "source": [
    "def logistic_map(r, x_init, n_settle, n_prod):\n",
    "    \"\"\"returns a list of values generated through the logistic map\n",
    "    x' = r * x * (1 - x)\n",
    "    Args:\n",
    "        r (float): r value\n",
    "        x_init (float): initial x value\n",
    "        n_settle (int): number of values to make the map settle\n",
    "        n_prod (int): number of values to include in the final map\n",
    "    Returns:\n",
    "        list: list of values generated through the logistic map\"\"\"\n",
    "    map_values = []\n",
    "    \n",
    "    # YOUR CODE HERE\n",
    "    x = x_init  # start with the given value\n",
    "    for i in range(n_settle):  # iterate n_settle times to settle the value of x\n",
    "        x = r * x * (1 - x)  # calculate new x\n",
    "    for i in range(n_prod):  # iterate to produce n_prod new values for x\n",
    "        x = r * x * (1 - x)  # calculate new x\n",
    "        map_values.append(x)  # collect values for plotting\n",
    "    #raise NotImplementedError()\n",
    "    \n",
    "    return map_values"
   ]
  },
  {
   "cell_type": "code",
   "execution_count": 15,
   "metadata": {
    "deletable": false,
    "editable": false,
    "nbgrader": {
     "cell_type": "code",
     "checksum": "efead0e8eacf546ff63269d04302c992",
     "grade": true,
     "grade_id": "cell-f5237011178428c3",
     "locked": true,
     "points": 1,
     "schema_version": 3,
     "solution": false,
     "task": false
    }
   },
   "outputs": [],
   "source": [
    "# validation\n",
    "import numpy as np\n",
    "l_map = logistic_map(2, 0.5, 1000, 1000)\n",
    "assert np.all([abs(x - 0.5) < 1e-4 for x in l_map]) == True, \"bad function\"\n",
    "assert len(l_map) == 1000, \"len mismatch\""
   ]
  },
  {
   "cell_type": "code",
   "execution_count": 17,
   "metadata": {
    "deletable": false,
    "nbgrader": {
     "cell_type": "code",
     "checksum": "deffa88df249cc1ea0e019c97570018f",
     "grade": true,
     "grade_id": "cell-7dd5d30028e448a2",
     "locked": false,
     "points": 0.5,
     "schema_version": 3,
     "solution": true,
     "task": false
    }
   },
   "outputs": [
    {
     "data": {
      "image/png": "[encoded data removed]",
      "text/plain": [
       "<Figure size 432x288 with 1 Axes>"
      ]
     },
     "metadata": {
      "needs_background": "light"
     },
     "output_type": "display_data"
    }
   ],
   "source": [
    "# plotting\n",
    "from matplotlib import pyplot as plt\n",
    "r = [x / 20 for x in range(20, 101)]  # 1, 1.05, 1.10, 1.15 ... 5\n",
    "\n",
    "# YOUR CODE HERE\n",
    "for i in range(len(r)):  # calculate for every value of r\n",
    "    l_map = logistic_map(r[i], 0.5, 1000, 100)  # for every r, get a list of values x\n",
    "    for j in range(len(l_map)):\n",
    "        plt.plot(r[i], l_map[j], 'k.')  # plot every x with the corresponding value of r\n",
    "    \n",
    "#raise NotImplementedError()\n",
    "plt.xlabel('r')\n",
    "plt.ylabel('x')\n",
    "plt.show()"
   ]
  },
  {
   "cell_type": "markdown",
   "metadata": {
    "deletable": false,
    "editable": false,
    "nbgrader": {
     "cell_type": "code",
     "checksum": "2c4c11bd4490eed9d5157ddab252aaa3",
     "grade": false,
     "grade_id": "cell-226a2dc93e0ac612",
     "locked": true,
     "schema_version": 3,
     "solution": false,
     "task": false
    }
   },
   "source": [
    "Give answers to the following questions:\n",
    "\n",
    "(a) For a given value of $r$ what would a fixed point look like on the Feigenbaum plot?  How about a limit cycle?  And what would chaos look like?\n",
    "\n",
    "(b) Based on your plot, at what value of $r$ does the system move from orderly behavior (fixed points or limit cycles) to chaotic behavior? This point is sometimes called the \"edge of chaos.\"\n",
    "\n",
    "The logistic map is a very simple mathematical system, but deterministic chaos is seen in many more complex physical systems also, including especially fluid dynamics and the weather.  Because of its apparently random nature, the behavior of chaotic systems is difficult to predict and strongly affected by small perturbations in outside conditions.  You've probably heard of the classic exemplar of chaos in weather systems, the *butterfly effect*, which was popularized by physicist Edward Lorenz in 1972 when he gave a lecture to the American Association for the\n",
    "Advancement of Science entitled, \"Does the flap of a butterfly's wings in Brazil set off a tornado in Texas?\"  (Although arguably the first person to suggest the butterfly effect was not a physicist at all, but the science\n",
    "fiction writer Ray Bradbury in his famous 1952 short story *A Sound of Thunder*, in which a time traveler's careless destruction of a butterfly during a tourist trip to the Jurassic era changes the course of history.)\n",
    "\n",
    "**Comment:** There is another approach for computing the Feigenbaum plot, which is neater and faster, making use of Python's ability to perform arithmetic with entire arrays.  You could create an array ``r`` with one element containing each distinct value of $r$ you want to investigate: ``[1.0, 1.01, 1.02, ... ]``.  Then create another\n",
    "array ``x`` of the same size to hold the corresponding values of $x$, which should all be initially set to $0.5$.  Then an iteration of the logistic map can be performed for all values of $r$ at once with a statement of the form ``x = r*x*(1-x)``.  Because of the speed with which Python can perform calculations on arrays, this method should be\n",
    "significantly faster than the more basic method above."
   ]
  },
  {
   "cell_type": "markdown",
   "metadata": {
    "deletable": false,
    "nbgrader": {
     "cell_type": "markdown",
     "checksum": "b6a3e8991cd7329d8e0f47eeb3f0e69f",
     "grade": true,
     "grade_id": "cell-89a8029429b9dba0",
     "locked": false,
     "points": 0.5,
     "schema_version": 3,
     "solution": true,
     "task": false
    }
   },
   "source": [
    "### Explanation (double click)\n",
    "\n",
    "(a) Values of x are fixed to a point for all r lower than 3. A limit cycle can be seen, e.g., for value of r between 3 and 3.5, where x cycles between two values. From r values higher than 3.6, x behaves chaotically, except for some small areas of order.\n",
    "\n",
    "(b) Around 3.6."
   ]
  },
  {
   "cell_type": "markdown",
   "metadata": {
    "deletable": false,
    "editable": false,
    "nbgrader": {
     "cell_type": "markdown",
     "checksum": "20de347becbe6e2535706c2a2fa3a4d0",
     "grade": false,
     "grade_id": "cell-77adedc119626c40",
     "locked": true,
     "schema_version": 3,
     "solution": false,
     "task": false
    }
   },
   "source": [
    "## Exercise 1.7: Least-squares fitting and the photoelectric effect (3 points)\n",
    "\n",
    "It's a common situation in physics that an experiment produces data that lies roughly on a straight line, like the dots in this figure:\n",
    "\n",
    "<img src=\"leastsq.png\" width=\"500\" />\n",
    "\n",
    "The solid line here represents the underlying straight-line form, which we usually don't know, and the points representing the measured data lie roughly along the line but don't fall exactly on it, typically because of measurement error.\n",
    "\n",
    "The straight line can be represented in the familiar form $y=mx+c$ and a frequent question is what the appropriate values of the slope $m$ and intercept $c$ are that correspond to the measured data.  Since the data don't fall perfectly on a straight line, there is no perfect answer to such a question, but we can find the straight line that gives the best compromise fit to the data.  The standard technique for doing this is the *method of least squares*.\n",
    "\n",
    "Suppose we make some guess about the parameters $m$ and $c$ for the straight line.  We then calculate the vertical distances between the data points and that line, as represented by the short vertical lines in the figure, then we calculate the sum of the squares of those distances, which we denote $\\chi^2$.  If we have $N$ data points with coordinates $(x_i,y_i)$, then $\\chi^2$ is given by\n",
    "\n",
    "$$\n",
    "\\chi^2 = \\sum_{i=1}^N (mx_i+c-y_i)^2.\n",
    "$$\n",
    "\n",
    "The least-squares fit of the straight line to the data is the straight line that minimizes this total squared distance from data to line.  We find the minimum by differentiating with respect to both $m$ and $c$ and setting the derivatives to zero, which gives\n",
    "\n",
    "\\begin{align*}\n",
    "m \\sum_{i=1}^N x_i^2 + c \\sum_{i=1}^N x_i - \\sum_{i=1}^N x_iy_i &= 0, \\\\\n",
    "m \\sum_{i=1}^N x_i + cN - \\sum_{i=1}^N y_i &= 0.\n",
    "\\end{align*}\n",
    "\n",
    "For convenience, let us define the following quantities:\n",
    "$$\n",
    "E_x = {1\\over N} \\sum_{i=1}^N x_i,\\qquad\n",
    "E_y = {1\\over N} \\sum_{i=1}^N y_i,\\qquad\n",
    "E_{xx} = {1\\over N} \\sum_{i=1}^N x_i^2,\\qquad\n",
    "E_{xy} = {1\\over N} \\sum_{i=1}^N x_iy_i,\n",
    "$$\n",
    "in terms of which our equations can be written\n",
    "\\begin{align*}\n",
    "mE_{xx} + cE_x &= E_{xy}\\,, \\\\\n",
    "mE_x + c &= E_y\\,.\n",
    "\\end{align*}\n",
    "\n",
    "Solving these equations simultaneously for $m$ and $c$ now gives\n",
    "\n",
    "\\begin{equation}\n",
    "m = {E_{xy}-E_x E_y\\over E_{xx} - E_x^2},\\qquad\n",
    "c = {E_{xx}E_y-E_x E_{xy}\\over E_{xx} - E_x^2}.\n",
    "\\end{equation}\n",
    "\n",
    "These are the equations for the least-squares fit of a straight line to $N$ data points.  They tell you the values of $m$ and $c$ for the line that best fits the given data.\n",
    "\n",
    "(a) In the folder that you obtained this notebook you will find a file called ``millikan.txt``.  The file contains two columns of numbers, giving the $x$ and $y$ coordinates of a set of data points.  Write a program to read these data points and make a graph with one dot or circle for each point.\n",
    "\n",
    "(b) Add code to your program, before the part that makes the graph, to calculate the quantities $E_x$, $E_y$, $E_{xx}$, and $E_{xy}$ defined above, and from them calculate and print out the slope $m$ and intercept $c$ of the best-fit line.\n",
    "\n",
    "(c) Now write code that goes through each of the data points in turn and evaluates the quantity $mx_i+c$ using the values of $m$ and $c$ that you calculated.  Store these values in a new array or list, and then graph this new array, as a solid line, on the same plot as the original data. You should end up with a plot of the data points plus a straight line that runs through them.\n",
    "\n",
    "(d) The data in the file ``millikan.txt`` are taken from a historic experiment by Robert Millikan that measured the *photoelectric effect*.  When light of an appropriate wavelength is shone on the surface of a metal, the photons in the light can strike conduction electrons in the metal and, sometimes, eject them from the surface into the free space above.  The energy of an ejected electron is equal to the energy of the photon that struck it minus a small amount $\\phi$ called the *work function* of the surface, which represents the energy needed to remove an electron from the surface.  The energy of a photon is $h\\nu$, where $h$ is Planck's constant and $\\nu$ is the frequency of the light, and we can measure the energy of an ejected electron by measuring the voltage $V$ that is just sufficient to stop the electron moving.  Then the voltage, frequency, and work function are related by the equation\n",
    "\n",
    "\\begin{equation}\n",
    "V = {h\\over e}\\nu - \\phi,\n",
    "\\end{equation}\n",
    "\n",
    "where $e$ is the charge on the electron.  This equation was first given by Albert Einstein in 1905.\n",
    "\n",
    "The data in the file ``millikan.txt`` represent frequencies $\\nu$ in hertz (first column) and voltages $V$ in volts (second column) from photoelectric measurements of this kind.  Using the equation above and the program you wrote, and given that the charge on the electron is $1.602\\times10^{-19}\\,$C, calculate from Millikan's experimental data a value for Planck's constant.  Compare your value with the accepted value of the constant, which you can find in books or on-line.  You should get a result within a couple of percent of the accepted value.\n",
    "\n",
    "This calculation is essentially the same as the one that Millikan himself used to determine of the value of Planck's constant, although, lacking a computer, he fitted his straight line to the data by eye.  In part for this work, Millikan was awarded the Nobel prize in physics in 1923."
   ]
  },
  {
   "cell_type": "code",
   "execution_count": 76,
   "metadata": {
    "deletable": false,
    "nbgrader": {
     "cell_type": "code",
     "checksum": "9436de0e310af34ced2ba128099f8977",
     "grade": false,
     "grade_id": "cell-034964ceadd14515",
     "locked": false,
     "schema_version": 3,
     "solution": true,
     "task": false
    }
   },
   "outputs": [],
   "source": [
    "# data fitting \n",
    "def fit(x, y):\n",
    "    \"\"\"Fits straight line to the data\n",
    "    Args:\n",
    "        x (list): list of x values\n",
    "        y (list): list of y values\n",
    "    Returns\n",
    "        float: m slope of the line fit\n",
    "        float: c constant of the line fit\"\"\"\n",
    "    m, c = 0, 0\n",
    "    \n",
    "    # YOUR CODE HERE\n",
    "    #x_millikan = []\n",
    "    #y_millikan = []\n",
    "    #with open(\"millikan.txt\", \"r\") as file:  # read file\n",
    "    #    for line in file.readlines():\n",
    "    #        row = line.split(' ')  # split lines by whitespace\n",
    "    #        x_millikan.append(float(row[0]))  # read x\n",
    "    #        y_millikan.append(float(row[1]))  # and y values\n",
    "    #x = x_millikan\n",
    "    #y = y_millikan\n",
    "\n",
    "    N = len(x)  # number of data points\n",
    "    # calculate the quantities Ex, Ey, Exx, and Exy\n",
    "    Ex = Ey = Exx = Exy = 0  # initialize all quantities as zero\n",
    "    for i in range(N):\n",
    "            Ex += x[i]\n",
    "            Ey += y[i]\n",
    "            Exx += x[i] * x[i]\n",
    "            Exy += x[i] * y[i]\n",
    "            \n",
    "    # divide all quantities by N\n",
    "    Ex /= N\n",
    "    Ey /= N\n",
    "    Exx /= N\n",
    "    Exy /= N\n",
    "    \n",
    "    # calculate the slope m and intercept c\n",
    "    m = (Exy - Ex * Ey) / (Exx - Ex * Ex)\n",
    "    c = (Exx * Ey - Ex * Exy) / (Exx - Ex * Ex)\n",
    "    \n",
    "    print(\"The slope m is:\", m)\n",
    "    print(\"The intercept c is:\", c)\n",
    "    \n",
    "    # calculate the best fit line data points, ŷ = mx + c\n",
    "    y_hat = []\n",
    "    for i in range(N):\n",
    "        y_hat.append(m * x[i] + c)\n",
    "    \n",
    "    plt.plot(y, x, 'ko')  # data points\n",
    "    plt.plot(y_hat, x, 'r-')  # best fit line\n",
    "    plt.show()\n",
    "    #raise NotImplementedError()\n",
    "    \n",
    "    return m, c"
   ]
  },
  {
   "cell_type": "code",
   "execution_count": 77,
   "metadata": {
    "deletable": false,
    "editable": false,
    "nbgrader": {
     "cell_type": "code",
     "checksum": "90c680f1b0a7989655c64ea2f50636ed",
     "grade": true,
     "grade_id": "cell-108b9257c532e992",
     "locked": true,
     "points": 2,
     "schema_version": 3,
     "solution": false,
     "task": false
    }
   },
   "outputs": [
    {
     "name": "stdout",
     "output_type": "stream",
     "text": [
      "The slope m is: 1.0\n",
      "The intercept c is: 0.0\n"
     ]
    },
    {
     "data": {
      "image/png": "[encoded data removed]",
      "text/plain": [
       "<Figure size 432x288 with 1 Axes>"
      ]
     },
     "metadata": {
      "needs_background": "light"
     },
     "output_type": "display_data"
    }
   ],
   "source": [
    "# validation\n",
    "m, c = fit([0, 1], [0, 1])\n",
    "assert m == 1, \"bad fit\"\n",
    "assert c == 0, \"bad fit\""
   ]
  },
  {
   "cell_type": "code",
   "execution_count": 79,
   "metadata": {
    "deletable": false,
    "nbgrader": {
     "cell_type": "code",
     "checksum": "04e816964a3170197d66d7c4deeaea1a",
     "grade": false,
     "grade_id": "cell-f4907e4000bddb79",
     "locked": false,
     "schema_version": 3,
     "solution": true,
     "task": false
    }
   },
   "outputs": [],
   "source": [
    "def get_plank_const(filename):\n",
    "    \"\"\"returns planks constant from millikan experiment\n",
    "    Args:\n",
    "        filename (str): name of file with millikan data\n",
    "    Returns:\n",
    "        float: plank's constant\"\"\"\n",
    "    # constants\n",
    "    m = 0 # slope of fit, h/e\n",
    "    c = 0 # fitting constant, \\phi, work funtion\n",
    "    e = 1.602e-19 # charge on electron\n",
    "\n",
    "    # YOUR CODE HERE\n",
    "    x = []\n",
    "    y = []\n",
    "    with open(filename, \"r\") as file:  # read the file\n",
    "        for line in file.readlines():\n",
    "            row = line.split(' ')  # split lines by whitespace\n",
    "            x.append(float(row[0]))  # read x\n",
    "            y.append(float(row[1]))  # and y values\n",
    "            \n",
    "    m, c = fit(x, y)\n",
    "\n",
    "    # calculate the Planck's constant\n",
    "    #h = m * e  # m2 kg / s\n",
    "    #h_real = 6.626068e-34  # m2 kg / s\n",
    "    #print(\"Planck's constant:\", h)\n",
    "    #print(\"Literature value:\", h_real)\n",
    "    #print(\"Error: {:.2f}%\".format(abs(h_real - h) / h_real * 100))\n",
    "    #raise NotImplementedError()\n",
    "\n",
    "    return m * e"
   ]
  },
  {
   "cell_type": "code",
   "execution_count": 80,
   "metadata": {
    "deletable": false,
    "editable": false,
    "nbgrader": {
     "cell_type": "code",
     "checksum": "8ae41f74b179f853aeb8186de14b3cce",
     "grade": true,
     "grade_id": "get_plank_const",
     "locked": true,
     "points": 1,
     "schema_version": 3,
     "solution": false,
     "task": false
    }
   },
   "outputs": [
    {
     "name": "stdout",
     "output_type": "stream",
     "text": [
      "The slope m is: 4.088227358517516e-15\n",
      "The intercept c is: -1.7312358039813558\n"
     ]
    },
    {
     "data": {
      "image/png": "[encoded data removed]",
      "text/plain": [
       "<Figure size 432x288 with 1 Axes>"
      ]
     },
     "metadata": {
      "needs_background": "light"
     },
     "output_type": "display_data"
    },
    {
     "name": "stdout",
     "output_type": "stream",
     "text": [
      "plank's constant calculated = 6.549340228345061e-34 m^2Kg/s\n",
      "plank's constant = 6.626068e-34 m^2Kg/s\n"
     ]
    }
   ],
   "source": [
    "h = get_plank_const('millikan.txt')\n",
    "print(\"plank's constant calculated = {} m^2Kg/s\\n\"\n",
    "      \"plank's constant = 6.626068e-34 m^2Kg/s\".format(h))\n",
    "assert abs(h - 6.626068e-34) < 1e-35, \"error too large\""
   ]
  },
  {
   "cell_type": "markdown",
   "metadata": {
    "deletable": false,
    "editable": false,
    "nbgrader": {
     "cell_type": "markdown",
     "checksum": "eedb91ff38f371c65f48edcd6f0ee438",
     "grade": false,
     "grade_id": "cell-691f7516775251c2",
     "locked": true,
     "schema_version": 3,
     "solution": false,
     "task": false
    }
   },
   "source": [
    "## Exercise 1.8 (2 points)\n",
    "\n",
    "Write a program to calculate and print the factorial of a number entered by the user. Write your program so that it calculates the factorial using *integer* variables, not floating-point ones.  Use your program to calculate the factorial of 200.\n",
    "\n",
    "Now modify your program to use floating-point variables instead and again calculate the factorial of 200.  What do you find?  Explain."
   ]
  },
  {
   "cell_type": "code",
   "execution_count": 105,
   "metadata": {
    "deletable": false,
    "nbgrader": {
     "cell_type": "code",
     "checksum": "9b9ba0439954018ab3cf2b60e5f510f9",
     "grade": false,
     "grade_id": "cell-d118b44c57069199",
     "locked": false,
     "schema_version": 3,
     "solution": true,
     "task": false
    }
   },
   "outputs": [],
   "source": [
    "def factorial_int(n):\n",
    "    \"\"\"factorial of a number with integer variables\n",
    "    Args:\n",
    "        n (int): number to calculate factorial of\n",
    "    Returns:\n",
    "        int: the factorial of n\"\"\"    \n",
    "    # YOUR CODE HERE\n",
    "    factorial = lambda n: int(n) * factorial(int(n) - 1) if n > 1 else 1\n",
    "    fact_n = int(factorial(n))\n",
    "    #raise NotImplementedError()\n",
    "    return fact_n\n",
    "\n",
    "def factorial_float(n):\n",
    "    \"\"\"factorial of a number with floating variables\n",
    "    Args:\n",
    "        n (float): number to calculate factorial of\n",
    "    Returns:\n",
    "        int: the factorial of n\"\"\"\n",
    "    # YOUR CODE HERE\n",
    "    factorial = lambda n: float(n) * factorial(float(n) - 1) if n > 1 else 1\n",
    "    fact_n = float(factorial(n))\n",
    "    #raise NotImplementedError()\n",
    "    return fact_n"
   ]
  },
  {
   "cell_type": "code",
   "execution_count": 106,
   "metadata": {
    "deletable": false,
    "editable": false,
    "nbgrader": {
     "cell_type": "code",
     "checksum": "a672fe4ed6a103aac3b4fe86300b96ab",
     "grade": true,
     "grade_id": "cell-85206c38731a36a7",
     "locked": true,
     "points": 1,
     "schema_version": 3,
     "solution": false,
     "task": false
    }
   },
   "outputs": [
    {
     "name": "stdout",
     "output_type": "stream",
     "text": [
      "Factorial of 200\n",
      "With int variables: 788657867364790503552363213932185062295135977687173263294742533244359449963403342920304284011984623904177212138919638830257642790242637105061926624952829931113462857270763317237396988943922445621451664240254033291864131227428294853277524242407573903240321257405579568660226031904170324062351700858796178922222789623703897374720000000000000000000000000000000000000000000000000\n",
      "With float variables: inf\n"
     ]
    }
   ],
   "source": [
    "# validation\n",
    "print(\"Factorial of {}\\nWith int variables: {}\\nWith float variables: {}\"\n",
    "      \"\".format(200, factorial_int(200), factorial_float(200)))\n",
    "assert factorial_float(4) == 24\n",
    "assert factorial_int(4) == 24\n",
    "assert isinstance(factorial_int(0), int)\n",
    "assert isinstance(factorial_float(0), float)"
   ]
  },
  {
   "cell_type": "markdown",
   "metadata": {
    "deletable": false,
    "nbgrader": {
     "cell_type": "markdown",
     "checksum": "910bb43b313e326f19837b678ba2c695",
     "grade": true,
     "grade_id": "cell-741204e7fc7a899f",
     "locked": false,
     "points": 1,
     "schema_version": 3,
     "solution": true,
     "task": false
    }
   },
   "source": [
    "### Explanation (double click to edit)\n",
    "\n",
    "Factorial with int values is a very large number, but the same with floats goes to infinity. This is probably because in floating point arithmetic there is some small errors in very low decimal places, which build up in multiplication to produce a too high value."
   ]
  },
  {
   "cell_type": "markdown",
   "metadata": {
    "deletable": false,
    "editable": false,
    "nbgrader": {
     "cell_type": "markdown",
     "checksum": "13c02b535e9c3ba37fe725fee7d4dba3",
     "grade": false,
     "grade_id": "cell-f676c0207c5cbdf8",
     "locked": true,
     "schema_version": 3,
     "solution": false,
     "task": false
    }
   },
   "source": [
    "## Exercise 1.9: Calculating integrals (2 points)\n",
    "\n",
    "Suppose we want to calculate the value of the integral\n",
    "\n",
    "\\begin{equation}\n",
    "I = \\int_{-1}^1 \\sqrt{1-x^2} \\>d x.\n",
    "\\end{equation}\n",
    "\n",
    "The integrand looks like a semicircle of radius 1:\n",
    "\n",
    "<img src=\"semicircle.png\" width=\"500\" />\n",
    "\n",
    "and hence the value of the integral---the area under the curve---must be $\\frac{1}{2}\\pi=1.57079632679\\ldots$\n",
    "\n",
    "Alternatively, we can evaluate the integral on the computer by dividing the domain of integration into a large number $N$ of slices of width $h=2/N$ each and then using the Riemann definition of the integral:\n",
    "\n",
    "\\begin{equation}\n",
    "I = \\lim_{N\\to\\infty} \\sum_{k=1}^N hy_k\\,,\n",
    "\\end{equation}\n",
    "\n",
    "where\n",
    "\n",
    "\\begin{equation}\n",
    "y_k = \\sqrt{1 - x_k^2}\\qquad\\mbox{and}\\qquad\n",
    "x_k = -1 + hk.\n",
    "\\end{equation}\n",
    "\n",
    "We cannot in practice take the limit $N\\to\\infty$, but we can make a reasonable approximation by just making $N$ large.\n",
    "\n",
    "(a) Write a program to evaluate the integral above with $N=100$ and compare the result with the exact value.  The two will not agree very well, because $N=100$ is not a sufficiently large number of slices.\n",
    "\n",
    "(b) Increase the value of $N$ to get a more accurate value for the integral.  If we require that the program runs in about one second or less, how accurate a value can you get?\n",
    "\n",
    "Evaluating integrals is a common task in computational physics calculations.  We will study techniques for doing integrals in detail in the next chapter.  As we will see, there are substantially quicker and more accurate methods than the simple one we have used here."
   ]
  },
  {
   "cell_type": "code",
   "execution_count": 111,
   "metadata": {
    "deletable": false,
    "nbgrader": {
     "cell_type": "code",
     "checksum": "c508578d3b4c7252b13c55a115d587cc",
     "grade": false,
     "grade_id": "cell-be7b28b0666188dd",
     "locked": false,
     "schema_version": 3,
     "solution": true,
     "task": false
    }
   },
   "outputs": [],
   "source": [
    "def semicircle_area(N=100):\n",
    "    \"\"\"Calculates the area of a semi circle with unit radius using\n",
    "    the riemann definition of an integral\n",
    "    Args:\n",
    "        N (int): number of slices to compute area\n",
    "    Retruns:\n",
    "        float: area of the semi circle\"\"\"\n",
    "    N = 100\n",
    "    area = 0\n",
    "\n",
    "    # YOUR CODE HERE\n",
    "    h = 2/N\n",
    "    area = 0\n",
    "    for k in range(1, N+1):\n",
    "        xk = -1 + h*k\n",
    "        yk = (1 - xk**2)**0.5\n",
    "        area += h * yk\n",
    "    #raise NotImplementedError()\n",
    "    \n",
    "    return area"
   ]
  },
  {
   "cell_type": "code",
   "execution_count": 112,
   "metadata": {
    "deletable": false,
    "editable": false,
    "nbgrader": {
     "cell_type": "code",
     "checksum": "514e1eb8e2c15cff88212179a6b3891b",
     "grade": true,
     "grade_id": "cell-9fdb3f91543ad5fd",
     "locked": true,
     "points": 1,
     "schema_version": 3,
     "solution": false,
     "task": false
    }
   },
   "outputs": [
    {
     "name": "stdout",
     "output_type": "stream",
     "text": [
      "Runtime = 0.00016355514526367188 s\n",
      "Area with N 1000 = 1.5691342555492505 sq.m.\n",
      "Error = 0.10581074149480507 %\n"
     ]
    }
   ],
   "source": [
    "# validation\n",
    "N = 1000\n",
    "\n",
    "import time\n",
    "t = time.time()\n",
    "area = semicircle_area(N)\n",
    "print(\"Runtime = {} s\\nArea with N {} = {} sq.m.\\n\"\n",
    "      \"Error = {} %\".format((time.time() - t), N, area,\n",
    "                               abs(area / 1.57079632679 - 1) * 100))\n",
    "\n",
    "assert abs(area - 1.57079632679) < 1e-2, \"error too large\""
   ]
  },
  {
   "cell_type": "markdown",
   "metadata": {
    "deletable": false,
    "nbgrader": {
     "cell_type": "markdown",
     "checksum": "c82ae86515b062b4773a48dcc3059ca4",
     "grade": true,
     "grade_id": "cell-eafd30de04e558e1",
     "locked": false,
     "points": 1,
     "schema_version": 3,
     "solution": true,
     "task": false
    }
   },
   "source": [
    "### Explanation (double click to edit)\n",
    "\n",
    "YOUR ANSWER HERE"
   ]
  }
 ],
 "metadata": {
  "kernelspec": {
   "display_name": "Python 3",
   "language": "python",
   "name": "python3"
  },
  "language_info": {
   "codemirror_mode": {
    "name": "ipython",
    "version": 3
   },
   "file_extension": ".py",
   "mimetype": "text/x-python",
   "name": "python",
   "nbconvert_exporter": "python",
   "pygments_lexer": "ipython3",
   "version": "3.8.7"
  }
 },
 "nbformat": 4,
 "nbformat_minor": 4
}
