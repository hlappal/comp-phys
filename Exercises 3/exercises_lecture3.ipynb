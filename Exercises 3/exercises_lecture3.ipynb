{
 "cells": [
  {
   "cell_type": "markdown",
   "metadata": {},
   "source": [
    "Before you turn this problem in, make sure everything runs as expected. First, **restart the kernel** (in the menubar, select Kernel$\\rightarrow$Restart) and then **run all cells** (in the menubar, select Cell$\\rightarrow$Run All).\n",
    "\n",
    "**NB. Do not add new or remove/cut cells in the notebook. Additionally, do not change the filename of this notebook.**\n",
    "\n",
    "Make sure you fill in any place that says `YOUR CODE HERE` or \"YOUR ANSWER HERE\", as well as your student number below:"
   ]
  },
  {
   "cell_type": "code",
   "execution_count": 1,
   "metadata": {},
   "outputs": [],
   "source": [
    "STUDENT_NUMBER = \"141927\""
   ]
  },
  {
   "cell_type": "markdown",
   "metadata": {},
   "source": [
    "---"
   ]
  },
  {
   "cell_type": "markdown",
   "metadata": {
    "deletable": false,
    "editable": false,
    "nbgrader": {
     "cell_type": "markdown",
     "checksum": "95a215fbb6bc4b9fbab479ecdd5e2930",
     "grade": false,
     "grade_id": "cell-faa66b397a758c2e",
     "locked": true,
     "schema_version": 3,
     "solution": false,
     "task": false
    }
   },
   "source": [
    "# Exercise 3"
   ]
  },
  {
   "cell_type": "markdown",
   "metadata": {
    "deletable": false,
    "editable": false,
    "nbgrader": {
     "cell_type": "markdown",
     "checksum": "e6dc7bf635fe800aed3f1f5637868c8a",
     "grade": false,
     "grade_id": "cell-00da3bb1d9339148",
     "locked": true,
     "schema_version": 3,
     "solution": false,
     "task": false
    }
   },
   "source": [
    "## Exercise 3.1: A circuit of resistors (3 points)\n",
    "\n",
    "Consider the following circuit of resistors:\n",
    "\n",
    "<img src=\"resistor.png\" width=\"300\" />\n",
    "\n",
    "All the resistors have the same resistance $R$. The power rail at the top\n",
    "is at voltage $V_+=5\\,$V. What are the other four voltages, $V_1$\n",
    "to $V_4$?\n",
    "\n",
    "To answer this question we use Ohm's law and the Kirchhoff current\n",
    "law, which says that the total net current flow out of (or into) any\n",
    "junction in a circuit must be zero.  Thus for the junction at\n",
    "voltage $V_1$, for instance, we have\n",
    "\n",
    "$$\n",
    "{V_1-V_2\\over R} + {V_1-V_3\\over R} + {V_1-V_4\\over R} + {V_1-V_+\\over R}\n",
    "= 0,\n",
    "$$\n",
    "\n",
    "or equivalently\n",
    "\n",
    "$$\n",
    "4V_1 - V_2 - V_3 - V_4 = V_+.\n",
    "$$\n",
    "\n",
    "\n",
    "1. Write similar equations for the other three junctions with unknown voltages.\n",
    "2. Write a program to solve the four resulting equations using Gaussian elimination and hence find the four voltages.\n"
   ]
  },
  {
   "cell_type": "markdown",
   "metadata": {
    "deletable": false,
    "editable": false,
    "nbgrader": {
     "cell_type": "markdown",
     "checksum": "cfa3a5c19d7b57683131121d9022319a",
     "grade": false,
     "grade_id": "cell-e97b2a942d917107",
     "locked": true,
     "schema_version": 3,
     "solution": false,
     "task": false
    }
   },
   "source": [
    "## Solution 3.1"
   ]
  },
  {
   "cell_type": "markdown",
   "metadata": {
    "deletable": false,
    "nbgrader": {
     "cell_type": "markdown",
     "checksum": "e2447cf8aa2c9f20c45900d681218739",
     "grade": true,
     "grade_id": "cell-ca155870980ed282",
     "locked": false,
     "points": 1,
     "schema_version": 3,
     "solution": true,
     "task": false
    }
   },
   "source": [
    "$\\frac{V_3-V_+}{R} + \\frac{V_3-V_1}{R} + \\frac{V_3-V_4}{R} = 0 \\quad \\Leftrightarrow \\quad 3V_3 - V_1 - V_4 = V_+$\n",
    "\n",
    "$\\frac{V_2-V_1}{R} + \\frac{V_2-V_4}{R} + \\frac{V_2-0}{R} = 0 \\quad \\Leftrightarrow \\quad 3V_2 - V_1 - V_4 = 0$\n",
    "\n",
    "$\\frac{V_4-V_3}{R} + \\frac{V_4-V_1}{R} + \\frac{V_4-V_2}{R} + \\frac{V_4-0}{R} = 0 \\quad \\Leftrightarrow \\quad 4V_4 - V_1 - V_2 - V_3 = 0$"
   ]
  },
  {
   "cell_type": "code",
   "execution_count": 2,
   "metadata": {
    "deletable": false,
    "nbgrader": {
     "cell_type": "code",
     "checksum": "e19af5a86bb55fab80f14e089831b420",
     "grade": false,
     "grade_id": "cell-d23d1d25ebbc5856",
     "locked": false,
     "schema_version": 3,
     "solution": true,
     "task": false
    }
   },
   "outputs": [],
   "source": [
    "import numpy as np\n",
    "\n",
    "def gausselim(A,v): \n",
    "    \"\"\" Gaussian elimination with backsubstitution\n",
    "        A (2d float array): an NxN matrix\n",
    "        v (1d float array): a length N vector\n",
    "        returns the solution to the secular equation  A*x=v\n",
    "    \"\"\"\n",
    "    # YOUR CODE HERE\n",
    "    N = len(v)\n",
    "\n",
    "    # Form an upper triangle by Gaussian elimination\n",
    "    for m in range(N):\n",
    "        # Divide the row by the diagonal value\n",
    "        v[m] /= A[m,m]\n",
    "        A[m] /= A[m,m]\n",
    "\n",
    "        # Subtract the row from the lower rows\n",
    "        for n in range(m+1,N):\n",
    "            v[n] -= A[n,m]*v[m]\n",
    "            A[n] -= A[n,m]*A[m]\n",
    "\n",
    "    # Solve the equation by backsubstitution\n",
    "    x = np.empty(N,float)\n",
    "    for m in range(N-1,-1,-1):\n",
    "        x[m] = v[m]\n",
    "        for i in range(m+1,N):\n",
    "            x[m] -= A[m,i]*x[i]\n",
    "    \n",
    "    return x\n",
    "    #raise NotImplementedError()"
   ]
  },
  {
   "cell_type": "code",
   "execution_count": 3,
   "metadata": {
    "deletable": false,
    "editable": false,
    "nbgrader": {
     "cell_type": "code",
     "checksum": "e7f23393b5fe67304892cb864128c200",
     "grade": true,
     "grade_id": "cell-5bf5fb1f0283874e",
     "locked": true,
     "points": 2,
     "schema_version": 3,
     "solution": false,
     "task": false
    }
   },
   "outputs": [],
   "source": [
    "## Exercise 3.1 part 2 validation\n",
    "import numpy as np\n",
    "A=np.array(((1,1),(1,-1)),dtype=float)\n",
    "v=np.array(((2,0)),dtype=float)\n",
    "assert(sum(gausselim(A,v))-2 < 1e-7)\n"
   ]
  },
  {
   "cell_type": "markdown",
   "metadata": {
    "deletable": false,
    "editable": false,
    "nbgrader": {
     "cell_type": "markdown",
     "checksum": "ee686270bcab0ffdc61da9a65afecbf0",
     "grade": false,
     "grade_id": "cell-0467460e74ba4b35",
     "locked": true,
     "schema_version": 3,
     "solution": false,
     "task": false
    }
   },
   "source": [
    "## Exercise 3.2: Pivoting (2 points)\n",
    "\n",
    "Modify your program from exercise 3.1 and introduce pivoting to solve the following equation\n",
    "\n",
    "$$\n",
    "\\left(\\begin{array}{cccc} 0 & 1 & 4 & 1 \\\\ 3 & 4 & -1 & -1 \\\\ 1 & -4 & 1 & 5 \\\\ 2 & -2 & 1 & 3 \\end{array} \\right) \\left(\\begin{array}{c} w \\\\ x \\\\ y \\\\ z\\end{array} \\right) = \\left(\\begin{array}{c} -4 \\\\ 3 \\\\ 9 \\\\ 7\\end{array} \\right)\n",
    "$$\n",
    "\n",
    "and show that it can find the solution to these as well, even though Gaussian elimination without pivoting fails."
   ]
  },
  {
   "cell_type": "code",
   "execution_count": 4,
   "metadata": {
    "deletable": false,
    "nbgrader": {
     "cell_type": "code",
     "checksum": "c399736bf62d28c8d19d4280cfc802fc",
     "grade": false,
     "grade_id": "cell-52a199ef3820dab9",
     "locked": false,
     "schema_version": 3,
     "solution": true,
     "task": false
    }
   },
   "outputs": [
    {
     "name": "stdout",
     "output_type": "stream",
     "text": [
      "My solve \tx = [ 1.61904762 -0.42857143 -1.23809524  1.38095238]\n",
      "Numpy solve \tx = [ 1.61904762 -0.42857143 -1.23809524  1.38095238]\n"
     ]
    }
   ],
   "source": [
    "import numpy as np\n",
    "\n",
    "def gausselimpivot(A,v):\n",
    "    \"\"\" Gaussian elinmation with pivoting \n",
    "    A (2d float array): an NxN matrix\n",
    "    v (1d float array): a length N vector\n",
    "    returns the solution to the secular equation  A*x=v  \"\"\"\n",
    "    # YOUR CODE HERE\n",
    "    N = len(v)\n",
    "    \n",
    "    # Check if there are zeros on the diagonal\n",
    "    for m in range(N):\n",
    "        if A[m,m] == 0:\n",
    "            # If zeros found, save the row temporarily\n",
    "            tmp_A = A[m].copy()\n",
    "            tmp_v = v[m].copy()\n",
    "            # Find a lower row where the diagonal is not zero\n",
    "            for n in range(m+1,N):\n",
    "                if A[n,n] != 0:\n",
    "                    # Swap the rows\n",
    "                    A[m] = A[n]\n",
    "                    v[m] = v[n]\n",
    "                    A[n] = tmp_A\n",
    "                    v[n] = tmp_v\n",
    "                    break\n",
    "    \n",
    "    # Solve the equation with the corrected matrix\n",
    "    return gausselim(A,v)\n",
    "    #raise NotImplementedError()\n",
    "\n",
    "A = np.array([[ 0,  1,  4,  1],\n",
    "              [ 3,  4, -1, -1],\n",
    "              [ 1, -4,  1,  5],\n",
    "              [ 2, -2,  1,  3]], float)\n",
    "v = np.array([-4, 3, 9, 7], float)\n",
    "\n",
    "x = gausselimpivot(A,v)\n",
    "x_np = np.linalg.solve(A,v)\n",
    "print(\"My solve \\tx =\", x)\n",
    "print(\"Numpy solve \\tx =\", x_np)"
   ]
  },
  {
   "cell_type": "code",
   "execution_count": 5,
   "metadata": {
    "deletable": false,
    "editable": false,
    "nbgrader": {
     "cell_type": "code",
     "checksum": "f7e3127db35e24f95b68e75335c98cf7",
     "grade": true,
     "grade_id": "cell-dd0f2e61449b888a",
     "locked": true,
     "points": 2,
     "schema_version": 3,
     "solution": false,
     "task": false
    }
   },
   "outputs": [],
   "source": [
    "import numpy as np\n",
    "A=np.array(((0,1),(1,-1)),dtype=float)\n",
    "v=np.array(((1,0)),dtype=float)\n",
    "assert(sum(gausselimpivot(A,v))-2 < 1e-7)\n"
   ]
  },
  {
   "cell_type": "markdown",
   "metadata": {
    "deletable": false,
    "editable": false,
    "nbgrader": {
     "cell_type": "markdown",
     "checksum": "bee3aa2ed244f7e44227baaebff48b81",
     "grade": false,
     "grade_id": "cell-7d4510e7b78f9cd3",
     "locked": true,
     "schema_version": 3,
     "solution": false,
     "task": false
    }
   },
   "source": [
    "## Exercise 3.3: LU decomposition (6 points)\n",
    "\n",
    "LU decomposition with partial pivoting is the most widely used method for\n",
    "the solution of simultaneous equations in practice.  Write your own program to solve \n",
    "simultaneous equations using LU decomposition.\n",
    "1. Write a Python function that calculates the LU decomposition of a matrix. The calculation is the same as that for Gaussian\n",
    "  elimination, except that at each step of the calculation you need to\n",
    "  extract the appropriate elements of the matrix and assemble them to form\n",
    "  the lower diagonal matrix $\\mathbf{L}$. Test your function by\n",
    "  calculating the LU decomposition of the following matrix \n",
    "  $$ \n",
    "  \\left(\\begin{array}{cccc} 2 & 1 & 4 & 1 \\\\ 3 & 4 & -1 & -1 \\\\ 1 & -4 & 1 & 5 \\\\ 2 & -2 & 1 & 3 \\end{array} \\right).\n",
    "  $$\n",
    "  Then multiply the $\\mathbf{L}$ and $\\mathbf{U}$ you get and verifying that you\n",
    "  recover the original matrix.\n",
    "2. Build on your LU decomposition function to create a complete program\n",
    "  to solve the following equation:\n",
    "   $$ \n",
    "   \\left(\\begin{array}{cccc} 2 & 1 & 4 & 1 \\\\ 3 & 4 & -1 & -1 \\\\ 1 & -4 & 1 & 5 \\\\ 2 & -2 & 1 & 3 \\end{array} \\right) \\left(\\begin{array}{c} w \\\\ x \\\\ y \\\\ z\\end{array} \\right) = \\left(\\begin{array}{c} -4 \\\\ 3 \\\\ 9 \\\\ 7\\end{array} \\right) .\n",
    "   $$\n",
    "  \n",
    "  Perform a double backsubstitution as described\n",
    "  in the lecture. Solve the same equation using the function\n",
    "  `solve` from the `numpy` package (`linalg` module) and verify that you get the\n",
    "  same answer either way.\n",
    "3. Include partial pivoting in the LU decomposition. Partial pivoting works in the same way for LU\n",
    "  decomposition as it does for Gaussian elimination, swapping rows to get\n",
    "  the largest diagonal element as in Exercise 3.2, but the\n",
    "  extension to LU decomposition requires two additional steps. First,\n",
    "  every time you swap two rows you also have to swap the same rows in the\n",
    "  matrix $\\mathbf{L}$. Second, when you use your LU decomposition to solve a\n",
    "  set of equations $\\mathbf{A}\\mathbf{x}=\\mathbf{v}$ you will also need to perform\n",
    "  the same sequence of swaps on the vector $\\mathbf{v}$ on the right-hand\n",
    "  side. This means you need to record the swaps as you are doing the\n",
    "  decomposition so that you can recreate them later.  The simplest way to\n",
    "  do this is to set up a list or array in which the value of the $i$th\n",
    "  element records the row you swapped with on the $i$th step of the\n",
    "  process.  For instance, if you swapped the first row with the second then\n",
    "  the second with the fourth, the first two elements of the list would be 2\n",
    "  and 4. Solving a set of equations for given $\\mathbf{v}$ involves first\n",
    "  performing the required sequence of swaps on the elements of $\\mathbf{v}$\n",
    "  then performing a double backsubstitution as usual. \n",
    "\n",
    "  Modify the function you wrote for part 3.3.1 to perform LU decomposition\n",
    "  with partial pivoting. The function should return the matrices $\\mathbf{L}$\n",
    "  and $\\mathbf{U}$ for the LU decomposition of the swapped matrix, plus a list\n",
    "  of the swaps made. Then modify the rest of your program to solve\n",
    "  equations of the form $\\mathbf{A}\\mathbf{x}=\\mathbf{v}$ using LU decomposition\n",
    "  with pivoting. Test your program on the example from Exercise 3.2, which\n",
    "  cannot be solved without pivoting because of the zero in the first\n",
    "  element of the matrix.  Check your results against a solution of the same\n",
    "  equations using the `solve` function from `numpy`.\n",
    "\n",
    "\n",
    "\n"
   ]
  },
  {
   "cell_type": "markdown",
   "metadata": {
    "deletable": false,
    "editable": false,
    "nbgrader": {
     "cell_type": "markdown",
     "checksum": "a312c1a3c2267eafe96c89ea817ed7d7",
     "grade": false,
     "grade_id": "cell-5aacc7f02feb2fa8",
     "locked": true,
     "schema_version": 3,
     "solution": false,
     "task": false
    }
   },
   "source": [
    "## Solution 3.3"
   ]
  },
  {
   "cell_type": "code",
   "execution_count": 6,
   "metadata": {
    "deletable": false,
    "nbgrader": {
     "cell_type": "code",
     "checksum": "c175fd11f431e7e6723f54da6ee6701e",
     "grade": true,
     "grade_id": "cell-a82b58bc832d4453",
     "locked": false,
     "points": 2,
     "schema_version": 3,
     "solution": true,
     "task": false
    }
   },
   "outputs": [
    {
     "name": "stdout",
     "output_type": "stream",
     "text": [
      "L*U and A are equal: True\n"
     ]
    }
   ],
   "source": [
    "# Part 1\n",
    "\n",
    "import numpy as np\n",
    "\n",
    "def LU(A):\n",
    "    \"\"\" Function to perform an LU decomposition \n",
    "    A (2d float array): an NxN matrix\n",
    "    returns L,U: NxN matrices such that L[i,j>i] = U[i,j<i] = 0 and L*U = A\n",
    "    \"\"\"        \n",
    "    # YOUR CODE HERE\n",
    "    N = A.shape[0]\n",
    "    U = A.copy()\n",
    "    L = np.zeros(A.shape)\n",
    "   \n",
    "    # Form the upper triangle by Gaussian elimination\n",
    "    for m in range(N):\n",
    "        # Divide the row by the diagonal value\n",
    "        U[m] /= U[m,m]\n",
    "\n",
    "        # Subtract the row from the lower rows\n",
    "        for n in range(m+1,N):\n",
    "            U[n] -= U[n,m]*U[m]\n",
    "    \n",
    "        # Form the lower triangle using the upper triangle and A\n",
    "        for n in range(m+1):\n",
    "            L[m,n] = A[m,n]  # start with a copy of a_mn\n",
    "            for k in range(N):  # subtract the other elements l*u\n",
    "                if k != n:\n",
    "                    L[m,n] -= L[m,k]*U[k,n]\n",
    "        \n",
    "    return L,U\n",
    "    #raise NotImplementedError()\n",
    "\n",
    "A = np.array([[ 2,  1,  4,  1],\n",
    "              [ 3,  4, -1, -1],\n",
    "              [ 1, -4,  1,  5],\n",
    "              [ 2, -2,  1,  3]], float)\n",
    "N = A.shape[0]\n",
    "\n",
    "L,U = LU(A)\n",
    "\n",
    "# Test L*U = A\n",
    "A_prime = np.zeros(A.shape)\n",
    "for m in range(N):\n",
    "    for n in range(N):\n",
    "        for k in range(N):\n",
    "            A_prime[m,n] += L[m,k]*U[k,n]\n",
    "print(\"L*U and A are equal:\", (A_prime == A).all())"
   ]
  },
  {
   "cell_type": "code",
   "execution_count": 7,
   "metadata": {
    "deletable": false,
    "nbgrader": {
     "cell_type": "code",
     "checksum": "8c558ca186792f9400362dc7fdeaaeff",
     "grade": true,
     "grade_id": "cell-fe68d03c80263b3f",
     "locked": false,
     "points": 2,
     "schema_version": 3,
     "solution": true,
     "task": false
    }
   },
   "outputs": [
    {
     "name": "stdout",
     "output_type": "stream",
     "text": [
      "My solve: \tx = [ 2. -1. -2.  1.]\n",
      "Numpy solve: \tx = [ 2. -1. -2.  1.]\n"
     ]
    }
   ],
   "source": [
    "# part 2\n",
    "\n",
    "# YOUR CODE HERE\n",
    "def solve_by_LU(A,v):\n",
    "    \"\"\"Solve the system Ax = v using LU decomposition.\n",
    "    Ax = LUx = Ly = v\n",
    "    \n",
    "    Returns:\n",
    "        vector x\n",
    "    \"\"\"\n",
    "    N = len(v)\n",
    "    \n",
    "    # First get L and U\n",
    "    L,U = LU(A)\n",
    "    \n",
    "    # Then solve Ly = v by backsubstitution\n",
    "    y = np.zeros(N,float)\n",
    "    for m in range(N):\n",
    "        y[m] = v[m]\n",
    "        for n in range(m):\n",
    "            y[m] -= L[m,n]*y[n]\n",
    "        y[m] /= L[m,m]\n",
    "    \n",
    "    # Then solve Ux = y by another backsubstitution\n",
    "    x = np.zeros(N,float)\n",
    "    for m in range(N-1,-1,-1):\n",
    "        x[m] = y[m]\n",
    "        for n in range(m+1,N):\n",
    "            x[m] -= U[m,n]*x[n]\n",
    "    \n",
    "    return x\n",
    "\n",
    "A = np.array([[ 2,  1,  4,  1],\n",
    "              [ 3,  4, -1, -1],\n",
    "              [ 1, -4,  1,  5],\n",
    "              [ 2, -2,  1,  3]], float)\n",
    "v = np.array([-4, 3, 9, 7], float)\n",
    "\n",
    "# Solve Ax = v\n",
    "x = solve_by_LU(A,v)\n",
    "x_np = np.linalg.solve(A,v)\n",
    "print(\"My solve: \\tx =\", x)\n",
    "print(\"Numpy solve: \\tx =\", x_np)\n",
    "#raise NotImplementedError()"
   ]
  },
  {
   "cell_type": "code",
   "execution_count": 8,
   "metadata": {
    "deletable": false,
    "nbgrader": {
     "cell_type": "code",
     "checksum": "b0380b9f511cc16cee2daaacf5891ff6",
     "grade": true,
     "grade_id": "cell-e793ae965105f090",
     "locked": false,
     "points": 2,
     "schema_version": 3,
     "solution": true,
     "task": false
    }
   },
   "outputs": [
    {
     "name": "stdout",
     "output_type": "stream",
     "text": [
      "My solve: \tx = [ 1.61904762 -0.42857143 -1.23809524  1.38095238]\n",
      "Numpy solve: \tx = [ 1.61904762 -0.42857143 -1.23809524  1.38095238]\n"
     ]
    }
   ],
   "source": [
    "# Part 3\n",
    "\n",
    "# YOUR CODE HERE\n",
    "def LU_with_pivoting(A):\n",
    "    \"\"\"Function to perform an LU decomposition\n",
    "    A (2d float array): an NxN matrix\n",
    "    returns L,U: NxN matrices such that L[i,j>i] = U[i,j<i] = 0 and L*U = A\n",
    "    \"\"\"\n",
    "    N = A.shape[0]\n",
    "    \n",
    "    # Perform partial pivoting on matrix A\n",
    "    swaps = []\n",
    "    for m in range(N):\n",
    "        if A[m,m] == 0:\n",
    "            # If zeros found, save the row temporarily\n",
    "            tmp_A = A[m].copy()\n",
    "            # Find a lower row where the diagonal is not zero\n",
    "            for n in range(m+1,N):\n",
    "                if A[n,n] != 0:\n",
    "                    # Swap the rows for both U and L\n",
    "                    A[m] = A[n]\n",
    "                    A[n] = tmp_A\n",
    "                    swaps.append((m,n))\n",
    "                    break\n",
    "    \n",
    "    U = A.copy()\n",
    "    L = np.zeros(A.shape)\n",
    "    \n",
    "    # Form the upper triangle by Gaussian elimination\n",
    "    i = 0\n",
    "    for m in range(N):\n",
    "        # Divide the row by the diagonal value\n",
    "        U[m] /= U[m,m]\n",
    "\n",
    "        # Subtract the row from the lower rows\n",
    "        for n in range(m+1,N):\n",
    "            U[n] -= U[n,m]*U[m]\n",
    "    \n",
    "        # Form the lower triangle using the upper triangle and A\n",
    "        for n in range(m+1):\n",
    "            L[m,n] = A[m,n]  # start with a copy of a_mn\n",
    "            for k in range(N):  # subtract the other elements l*u\n",
    "                if k != n:\n",
    "                    L[m,n] -= L[m,k]*U[k,n]\n",
    "   \n",
    "    return L,U,swaps\n",
    "\n",
    "def solve_by_LU_with_pivoting(A,v):\n",
    "    \"\"\"Solve the system Ax = v using LU decomposition.\n",
    "    Ax = LUx = Ly = v\n",
    "    \n",
    "    Returns:\n",
    "        vector x\n",
    "    \"\"\"\n",
    "    N = len(v)\n",
    "    \n",
    "    # First get L and U\n",
    "    L,U,swaps = LU_with_pivoting(A)\n",
    "    \n",
    "    # Perform the swaps for v\n",
    "    for s in swaps:\n",
    "        m,n = s\n",
    "        tmp_v = v[m].copy()\n",
    "        v[m] = v[n]\n",
    "        v[n] = tmp_v\n",
    "    \n",
    "    # Then solve Ly = v by backsubstitution\n",
    "    y = np.zeros(N,float)\n",
    "    for m in range(N):\n",
    "        y[m] = v[m]\n",
    "        for n in range(m):\n",
    "            y[m] -= L[m,n]*y[n]\n",
    "        y[m] /= L[m,m]\n",
    "    \n",
    "    # Then solve Ux = y by another backsubstitution\n",
    "    x = np.zeros(N,float)\n",
    "    for m in range(N-1,-1,-1):\n",
    "        x[m] = y[m]\n",
    "        for n in range(m+1,N):\n",
    "            x[m] -= U[m,n]*x[n]\n",
    "            \n",
    "    return x\n",
    "\n",
    "A = np.array([[ 0,  1,  4,  1],\n",
    "              [ 3,  4, -1, -1],\n",
    "              [ 1, -4,  1,  5],\n",
    "              [ 2, -2,  1,  3]], float)\n",
    "v = np.array([-4, 3, 9, 7], float)\n",
    "\n",
    "# Solve Ax = v\n",
    "x = solve_by_LU_with_pivoting(A,v)\n",
    "x_np = np.linalg.solve(A,v)\n",
    "print(f\"My solve: \\tx = {x}\")\n",
    "print(f\"Numpy solve: \\tx = {x_np}\")\n",
    "#raise NotImplementedError()"
   ]
  },
  {
   "cell_type": "markdown",
   "metadata": {
    "deletable": false,
    "editable": false,
    "nbgrader": {
     "cell_type": "markdown",
     "checksum": "006213b2cd49a0241127e78c43989aa0",
     "grade": false,
     "grade_id": "cell-43b19b0928d00dcd",
     "locked": true,
     "schema_version": 3,
     "solution": false,
     "task": false
    }
   },
   "source": [
    "## Exercise 3.4: The QR algorithm (3 points)\n",
    "In this exercise you will write a program to calculate the eigenvalues and eigenvectors of a real symmetric\n",
    "matrix using the QR algorithm. The first challenge is to write a program\n",
    "that finds the QR decomposition of a matrix. Then you will use that\n",
    "decomposition to find the eigenvalues.\n",
    "\n",
    "As described above, the QR decomposition expresses a real square\n",
    "matrix $\\mathbf{A}$ in the form $\\mathbf{A}=\\mathbf{Q}\\mathbf{R}$, where $\\mathbf{Q}$ is\n",
    "an orthogonal matrix and $\\mathbf{R}$ is an upper-triangular matrix.  Given an\n",
    "$N\\times N$ matrix $\\mathbf{A}$ we can compute the QR decomposition as\n",
    "follows.\n",
    "\n",
    "Let us think of the matrix as a set of $N$ column\n",
    "vectors $\\mathbf{a}_0\\ldots\\mathbf{a}_{N-1}$ thus:\n",
    "$$\n",
    "\\mathbf{A} = \\begin{pmatrix}\n",
    "            | & | & | & \\cdots \\\\\n",
    "            \\mathbf{a}_0 & \\mathbf{a}_1 & \\mathbf{a}_2 & \\cdots \\\\\n",
    "            | & | & | & \\cdots\n",
    "          \\end{pmatrix},\n",
    "$$\n",
    "\n",
    "where we have numbered the vectors in Python fashion, starting from zero,\n",
    "which will be convenient when writing the program.  We now define two new\n",
    "sets of vectors $\\mathbf{u}_0\\ldots\\mathbf{u}_{N-1}$ and\n",
    "$\\mathbf{q}_0\\ldots\\mathbf{q}_{N-1}$ as follows:\n",
    "\\begin{align*}\n",
    "\\mathbf{u}_0 &= \\mathbf{a}_0,\n",
    "  & \\mathbf{q}_0 = {\\mathbf{u}_0\\over|\\mathbf{u}_0|}\\,,\\qquad \\\\\n",
    "\\mathbf{u}_1 &= \\mathbf{a}_1 - (\\mathbf{q}_0\\cdot\\mathbf{a}_1) \\mathbf{q}_0,\n",
    "  & \\mathbf{q}_1 = {\\mathbf{u}_1\\over|\\mathbf{u}_1|}\\,, \\qquad \\\\\n",
    "\\mathbf{u}_2 &= \\mathbf{a}_2 - (\\mathbf{q}_0\\cdot\\mathbf{a}_2) \\mathbf{q}_0\n",
    "             - (\\mathbf{q}_1\\cdot\\mathbf{a}_2) \\mathbf{q}_1,\n",
    "  & \\mathbf{q}_2 = {\\mathbf{u}_2\\over|\\mathbf{u}_2|}\\,, \\qquad\n",
    "\\end{align*}\n",
    "and so forth. The general formulas for calculating $\\mathbf{u}_i$ and\n",
    "$\\mathbf{q}_i$ are\n",
    "$$\n",
    "\\mathbf{u}_i = \\mathbf{a}_i - \\sum_{j=0}^{i-1} (\\mathbf{q}_j\\cdot\\mathbf{a}_i)\n",
    "            \\mathbf{q}_j, \\qquad\n",
    "\\mathbf{q}_i = {\\mathbf{u}_i\\over|\\mathbf{u}_i|}.\n",
    "$$\n",
    "\n",
    "1. Show, by induction or otherwise, that the vectors $\\mathbf{q}_i$ are orthonormal, i.e., that they satisfy\n",
    "$$ \n",
    "  \\mathbf{q}_i\\cdot\\mathbf{q}_j = \\biggl\\lbrace\\begin{array}{ll}\n",
    "                            1 & \\quad\\mbox{if $i=j$,} \\\\\n",
    "                            0 & \\quad\\mbox{if $i\\ne j$.}\n",
    "                          \\end{array}\n",
    "$$\n",
    "\n",
    "Now, rearranging the definitions of the vectors, we have\n",
    "\\begin{align*}\n",
    "\\mathbf{a}_0 &= |\\mathbf{u}_0|\\,\\mathbf{q}_0, \\\\\n",
    "\\mathbf{a}_1 &= |\\mathbf{u}_1|\\,\\mathbf{q}_1 + (\\mathbf{q}_0\\cdot\\mathbf{a}_1) \\mathbf{q}_0, \\\\\n",
    "\\mathbf{a}_2 &= |\\mathbf{u}_2|\\,\\mathbf{q}_2 + (\\mathbf{q}_0\\cdot\\mathbf{a}_2) \\mathbf{q}_0\n",
    "              + (\\mathbf{q}_1\\cdot\\mathbf{a}_2) \\mathbf{q}_1,\n",
    "\\end{align*}\n",
    "\n",
    "  and so on. Or we can group the vectors $\\mathbf{q}_i$ together as the columns of a matrix and write all of these equations as a single matrix equation\n",
    "\n",
    "  $$\n",
    "  \\mathbf{A} = \\begin{pmatrix}\n",
    "            | & | & | & \\cdots \\\\\n",
    "            \\mathbf{a}_0 & \\mathbf{a}_1 & \\mathbf{a}_2 & \\cdots \\\\\n",
    "            | & | & | & \\cdots\n",
    "          \\end{pmatrix}\n",
    "  =\n",
    "  \\begin{pmatrix}\n",
    "    | & | & | & \\cdots \\\\\n",
    "   \\mathbf{q}_0 & \\mathbf{q}_1 & \\mathbf{q}_2 & \\cdots \\\\\n",
    "   | & | & | & \\cdots\n",
    "  \\end{pmatrix}\n",
    "  \\begin{pmatrix}\n",
    "   |\\mathbf{u}_0| & \\mathbf{q}_0\\cdot\\mathbf{a}_1 & \\mathbf{q}_0\\cdot\\mathbf{a}_2 & \\cdots \\\\\n",
    "    0           & |\\mathbf{u}_1| & \\mathbf{q}_1\\cdot\\mathbf{a}_2 & \\cdots \\\\   \n",
    "    0           & 0           & |\\mathbf{u}_2| & \\cdots\n",
    "   \\end{pmatrix}.\n",
    "  $$\n",
    "\n",
    "  Notice now that the first matrix on the right-hand side of this equation, the matrix with columns $\\mathbf{q}_i$, is orthogonal, because the vectors       $\\mathbf{q}_i$ are orthonormal, and the second matrix is upper triangular. In other words, we have found the QR decomposition $\\mathbf{A}=\\mathbf{Q}\\mathbf{R}$. The matrices $\\mathbf{Q}$ and $\\mathbf{R}$ are\n",
    "\n",
    "$$\n",
    "\\mathbf{Q} =\n",
    "\\begin{pmatrix}\n",
    "  | & | & | & \\cdots \\\\\n",
    "  \\mathbf{q}_0 & \\mathbf{q}_1 & \\mathbf{q}_2 & \\cdots \\\\\n",
    "  | & | & | & \\cdots\n",
    "\\end{pmatrix}\n",
    ",\\qquad\n",
    "\\mathbf{R} =\n",
    "\\begin{pmatrix}\n",
    "|\\mathbf{u}_0| & \\mathbf{q}_0\\cdot\\mathbf{a}_1 & \\mathbf{q}_0\\cdot\\mathbf{a}_2 & \\cdots \\\\\n",
    "0           & |\\mathbf{u}_1| & \\mathbf{q}_1\\cdot\\mathbf{a}_2 & \\cdots \\\\\n",
    "0           & 0           & |\\mathbf{u}_2| & \\cdots\n",
    "\\end{pmatrix}.\n",
    "$$\n",
    "\n",
    "2. Write a Python function that takes as its argument a real square\n",
    "  matrix $\\mathbf{A}$ and returns the two matrices $\\mathbf{Q}$ and $\\mathbf{R}$\n",
    "  that form its QR decomposition.  As a test case, try out your function on\n",
    "  the matrix below and check the results by multiplying $\\mathbf{Q}$ and $\\mathbf{R}$ together to\n",
    "  recover the original matrix $\\mathbf{A}$ again.\n",
    "  \n",
    "$$\n",
    "\\mathbf{A} = \\begin{pmatrix}\n",
    "            1 & 4 & 8 & 4 \\\\\n",
    "            4 & 2 & 3 & 7 \\\\\n",
    "            8 & 3 & 6 & 9 \\\\\n",
    "            4 & 7 & 9 & 2\n",
    "          \\end{pmatrix}.\n",
    "$$\n",
    "\n",
    "3. Using your function, write a complete program to calculate the\n",
    "  eigenvalues and eigenvectors of a real symmetric matrix using the QR\n",
    "  algorithm.  Continue the calculation until the magnitude of every\n",
    "  off-diagonal element of the matrix is smaller than $10^{-6}$. When your are done the diagonal elements of $\\mathbf{A}$ contain the eigenvalues and the columns   of $\\mathbf{V}$ contain the eigenvectors. Test your  program on the example matrix above. You should find that the\n",
    "  eigenvalues are $1$, $21$, $-3$, and $-8$.\n"
   ]
  },
  {
   "cell_type": "markdown",
   "metadata": {
    "deletable": false,
    "editable": false,
    "nbgrader": {
     "cell_type": "markdown",
     "checksum": "2bb79841b49a4be4a42a65204daf5fa6",
     "grade": false,
     "grade_id": "cell-00e36fbbb58999e1",
     "locked": true,
     "schema_version": 3,
     "solution": false,
     "task": false
    }
   },
   "source": [
    "## Solution 3.4\n",
    "\n",
    "1.) Show that the vectors $\\mathbf{q}_i$ are orthonormal."
   ]
  },
  {
   "cell_type": "markdown",
   "metadata": {
    "deletable": false,
    "nbgrader": {
     "cell_type": "markdown",
     "checksum": "1bd76bf8f8e552a4d612268d36923ff7",
     "grade": true,
     "grade_id": "cell-b878a2b1fc83ec4a",
     "locked": false,
     "points": 2,
     "schema_version": 3,
     "solution": true,
     "task": false
    }
   },
   "source": [
    "Using the norm\n",
    "$$|u_i| = \\sqrt{\\sum_j u_{ij}^2}$$\n",
    "and the dot product\n",
    "$$(q_i \\cdot q_j) = \\sum_k q_{ik} q_{jk}$$\n",
    "we see that for every $i = j = k$\n",
    "\\begin{align*}\n",
    "q_k \\cdot q_k &= \\frac{u_k}{|u_k|} \\cdot \\frac{u_k}{|u_k|}\\\\\n",
    "&= \\frac{1}{|u_k|^2} (u_k \\cdot u_k)\\\\\n",
    "&= \\frac{1}{\\sum_l u_{kl}^2} \\sum_l u_{kl} u_{kl}\\\\\n",
    "&= 1\n",
    "\\end{align*}\n",
    "\n",
    "In the case when $i = 0$ and $j = 1$, the dot product is\n",
    "\\begin{align*}\n",
    "q_0 \\cdot q_1 &= q_0 \\cdot \\frac{u_1}{|u_1|}\\\\\n",
    "&= q_0 \\cdot \\left( a_1 - (q_0 \\cdot a_1) q_0 \\right) \\frac{1}{|u_1|}\\\\\n",
    "&= \\left[ (q_0 \\cdot a_1) - (q_0 \\cdot a_1) (q_0 \\cdot q_0) \\right] \\frac{1}{|u_1|}\\\\\n",
    "&= \\left[ (q_0 \\cdot a_1) - (q_0 \\cdot a_1) \\right] \\frac{1}{|u_1|}\\\\\n",
    "&= 0\n",
    "\\end{align*}\n",
    "\n",
    "In a case where $i = 1$ and $j = 2$, we have\n",
    "\\begin{align*}\n",
    "q_1 \\cdot q_2 &= q_1 \\cdot \\frac{u_2}{|u_2|}\\\\\n",
    "&= q_1 \\cdot \\left[ a_2 - (q_0 \\cdot a_2) q_0 - (q_1 \\cdot a_2) q_1 \\right] \\frac{1}{|u_2|}\\\\\n",
    "&= \\left[ (q_1 \\cdot a_2) - (q_0 \\cdot a_2) (q_1 \\cdot q_0) - (q_1 \\cdot a_2) (q_1 \\cdot q_1) \\right] \\frac{1}{|u_2|}\n",
    "\\end{align*}\n",
    "and because we already know that $q_i \\cdot q_i = 1$ and $q_0 \\cdot q_1 = 0$, and because dot products are revertable (meaning that $q_1 \\cdot q_0 = q_0 \\cdot q_1$), this becomes $$= \\left[ (q_1 \\cdot a_2) - (q_1 \\cdot a_2) \\right] \\frac{1}{|u_2|} = 0$$\n",
    "\n",
    "Next, we consider an incrementation in the indices separation, i.e., $i = 1$ and $j = 3$:\n",
    "\\begin{align*}\n",
    "q_1 \\cdot q_3 &= q_1 \\cdot \\left[ a_3 - (q_0 \\cdot a_3) q_0 - (q_1 \\cdot a_3) q_1 - (q_2 \\cdot a_3) q_2 \\right] \\frac{1}{|u_3|}\\\\\n",
    "&= \\left[ (q_1 \\cdot a_3) - (q_0 \\cdot a_3) (q_0 \\cdot q_1) - (q_1 \\cdot a_3) (q_1 \\cdot q_1) - (q_2 \\cdot a_3) (q_2 \\cdot q_1) \\right] \\frac{1}{|u_3|}\n",
    "\\end{align*}\n",
    "and because we know that all products $q_i \\cdot q_j$, where $i = j \\pm 1$, are zero, we can see that the only terms left are the ones that cancel each other out: $$\\left[ (q_1 \\cdot a_3) - (q_1 \\cdot a_3) \\right] \\frac{1}{|u_3|} = 0$$\n",
    "\n",
    "Hence, we know that incrementing the index separation by one, i.e., $j = j + 1$, when $i < j$, all the other terms, expect where $i = j$ will cancel out, and the result is zero."
   ]
  },
  {
   "cell_type": "markdown",
   "metadata": {
    "deletable": false,
    "editable": false,
    "nbgrader": {
     "cell_type": "markdown",
     "checksum": "7b63e7a5cf661cef7ae3cd7df25c4e60",
     "grade": false,
     "grade_id": "cell-16cc3d9ed70a9ad1",
     "locked": true,
     "schema_version": 3,
     "solution": false,
     "task": false
    }
   },
   "source": [
    "2.) Program for QR decomposition of Matrix A"
   ]
  },
  {
   "cell_type": "code",
   "execution_count": 9,
   "metadata": {
    "deletable": false,
    "nbgrader": {
     "cell_type": "code",
     "checksum": "f489304dd62c45149b8de33a4def899e",
     "grade": true,
     "grade_id": "cell-7db632a3dff656fa",
     "locked": false,
     "points": 2,
     "schema_version": 3,
     "solution": true,
     "task": false
    }
   },
   "outputs": [
    {
     "name": "stdout",
     "output_type": "stream",
     "text": [
      "A:\n",
      " [[1. 4. 8. 4.]\n",
      " [4. 2. 3. 7.]\n",
      " [8. 3. 6. 9.]\n",
      " [4. 7. 9. 2.]]\n",
      "\n",
      "Q: \n",
      " [[ 0.10153462  0.558463    0.80981107  0.1483773 ]\n",
      " [ 0.40613847 -0.10686638 -0.14147555  0.8964462 ]\n",
      " [ 0.81227693 -0.38092692  0.22995024 -0.37712564]\n",
      " [ 0.40613847  0.72910447 -0.5208777  -0.17928924]]\n",
      "\n",
      "R:\n",
      " [[ 9.8488578   6.49821546 10.55960012 11.37187705]\n",
      " [ 0.          5.98106979  8.4234836  -0.484346  ]\n",
      " [ 0.          0.          2.74586406  3.27671222]\n",
      " [ 0.          0.          0.          3.11592335]]\n",
      "\n",
      "Q * R:\n",
      " [[1. 4. 8. 4.]\n",
      " [4. 2. 3. 7.]\n",
      " [8. 3. 6. 9.]\n",
      " [4. 7. 9. 2.]]\n",
      "\n",
      "A and QR are equal: True\n"
     ]
    }
   ],
   "source": [
    "# YOUR CODE HERE\n",
    "import numpy as np\n",
    "\n",
    "def QR_decomp(A):\n",
    "    \"\"\"Get the QR decomposition of a matrix A\"\"\"\n",
    "    \n",
    "    m,n = A.shape  # store dimensions of A\n",
    "    Q = A.copy()  # start Q with a copy of A\n",
    "    R = np.zeros((n,n))  # R is an (n x n) shaped matrix\n",
    "    \n",
    "    # Iterate over the columns in A and form matrix Q\n",
    "    for i in range(n):\n",
    "        R[i,i] = np.linalg.norm(Q[:,i])  # norm of column i in Q: sqrt(sum(q_i^2))\n",
    "        Q[:,i] /= R[i,i]  # normalize column q_i\n",
    "        for j in range(i+1,n):\n",
    "            R[i,j] = np.dot(Q[:,j], Q[:,i])  # R_ij = q_i * a_j\n",
    "            Q[:,j] -= R[i,j] * Q[:,i]  # orhogonalize the j'th column\n",
    "   \n",
    "    return Q,R\n",
    "\n",
    "A = np.array([[1, 4, 8, 4],\n",
    "              [4, 2, 3, 7],\n",
    "              [8, 3, 6, 9],\n",
    "              [4, 7, 9, 2]], float)\n",
    "\n",
    "Q,R = QR_decomp(A)\n",
    "\n",
    "print(\"A:\\n\", A)\n",
    "print(\"\\nQ: \\n\", Q)\n",
    "#print(\"\\nQT * Q:\\n\", np.matmul(Q.T,Q))\n",
    "print(\"\\nR:\\n\", R)\n",
    "print(\"\\nQ * R:\\n\", np.matmul(Q,R))\n",
    "print(\"\\nA and QR are equal:\", (A - np.matmul(Q,R) < 1e-14).all())\n",
    "#raise NotImplementedError()"
   ]
  },
  {
   "cell_type": "markdown",
   "metadata": {
    "deletable": false,
    "editable": false,
    "nbgrader": {
     "cell_type": "markdown",
     "checksum": "c77c9840e8463fd05fec2b15e79b37ad",
     "grade": false,
     "grade_id": "cell-0fb2753807718871",
     "locked": true,
     "schema_version": 3,
     "solution": false,
     "task": false
    }
   },
   "source": [
    "3.) Complete program for calculating eigenvalues and eigenvectors"
   ]
  },
  {
   "cell_type": "code",
   "execution_count": 10,
   "metadata": {
    "deletable": false,
    "nbgrader": {
     "cell_type": "code",
     "checksum": "bf51022a4f96adcf2a8c3bb0f9911cf2",
     "grade": true,
     "grade_id": "cell-3803013a79d56787",
     "locked": false,
     "points": 1,
     "schema_version": 3,
     "solution": true,
     "task": false
    }
   },
   "outputs": [
    {
     "name": "stdout",
     "output_type": "stream",
     "text": [
      "Converged after 18  iterations\n",
      "A:\n",
      " [[ 2.10000000e+01  7.36068002e-07  3.08094126e-14 -2.43141334e-14]\n",
      " [ 7.36067998e-07 -8.00000000e+00  5.99038973e-08  7.55018986e-15]\n",
      " [ 1.76373367e-14  5.99038974e-08 -3.00000000e+00 -2.06493957e-08]\n",
      " [ 5.69063112e-23  9.58659066e-16 -2.06493983e-08  1.00000000e+00]]\n",
      "\n",
      "The eigenvalues are: [21. -8. -3.  1.]\n"
     ]
    }
   ],
   "source": [
    "# YOUR CODE HERE\n",
    "def check_off_diagonals(A, lim=1e-6):\n",
    "    n,m = A.shape\n",
    "    converged = True\n",
    "    \n",
    "    for i in range(n):\n",
    "        for j in range(m):\n",
    "            if i != j and A[i,j] > lim:\n",
    "                converged = False\n",
    "                break\n",
    "        if not converged:\n",
    "            break\n",
    "    \n",
    "    return converged\n",
    "\n",
    "A = np.array([[1, 4, 8, 4],\n",
    "              [4, 2, 3, 7],\n",
    "              [8, 3, 6, 9],\n",
    "              [4, 7, 9, 2]], float)\n",
    "\n",
    "converged = False\n",
    "count = 0\n",
    "while not converged:\n",
    "    Q,R = QR_decomp(A)\n",
    "    A = np.matmul(R,Q)\n",
    "    converged = check_off_diagonals(A)\n",
    "    count += 1\n",
    "\n",
    "print(\"Converged after\", count, \" iterations\")\n",
    "print(\"A:\\n\",A)\n",
    "print(\"\\nThe eigenvalues are:\", A.diagonal())\n",
    "#raise NotImplementedError()"
   ]
  },
  {
   "cell_type": "markdown",
   "metadata": {
    "deletable": false,
    "editable": false,
    "nbgrader": {
     "cell_type": "markdown",
     "checksum": "312383beeb933dc2ad554a199fcc0a2c",
     "grade": false,
     "grade_id": "cell-0ec96401f9a4ab40",
     "locked": true,
     "schema_version": 3,
     "solution": false,
     "task": false
    }
   },
   "source": [
    "## Exercise 3.5: Relaxation method (2 points)\n",
    "\n",
    "Consider the equation $x = 1 - \\mathrm{e}^{-cx}$, where $c$ is a known\n",
    "parameter and $x$ is unknown.  This equation arises in a variety of\n",
    "situations, including the physics of contact processes, mathematical models\n",
    "of epidemics, and the theory of random graphs.\n",
    "Write a program to solve this equation for $x$ using the relaxation\n",
    "method for values of $c$ from 0.01 to 3 in steps of 0.01 . Calculate your solution to an accuracy of at\n",
    "least $10^{-6}$. Make a plot of $x$ as a function of $c$. You\n",
    "should see a clear transition from a regime in which $x=0$ to a regime of\n",
    "nonzero $x$. This is another example of a phase transition. In physics\n",
    "this transition is known as the percolation transition; in epidemiology it is the epidemic threshold.\n",
    "\n",
    "<b>Hint:</b> The expression for the error is\n",
    "\n",
    "$$\n",
    " \\mathrm{error} = \\frac{x-x'}{1-1/f'(x)}\n",
    "$$\n",
    "\n",
    "where $x$ is the current estimate and $x'$ the old one.\n"
   ]
  },
  {
   "cell_type": "code",
   "execution_count": 11,
   "metadata": {
    "deletable": false,
    "nbgrader": {
     "cell_type": "code",
     "checksum": "bf51dec636e029c148f4457cb619f4c6",
     "grade": true,
     "grade_id": "cell-1e11f4b42a410d1a",
     "locked": false,
     "points": 2,
     "schema_version": 3,
     "solution": true,
     "task": false
    }
   },
   "outputs": [
    {
     "name": "stderr",
     "output_type": "stream",
     "text": [
      "<ipython-input-11-e50f1d7c525b>:11: RuntimeWarning: divide by zero encountered in true_divide\n",
      "  error = lambda x,x_prime: (x-x_prime) / (1-1/f_prime(x))\n"
     ]
    },
    {
     "data": {
      "image/png": "[encoded data removed]",
      "text/plain": [
       "<Figure size 432x288 with 1 Axes>"
      ]
     },
     "metadata": {
      "needs_background": "light"
     },
     "output_type": "display_data"
    }
   ],
   "source": [
    "# YOUR CODE HERE\n",
    "import numpy as np\n",
    "from matplotlib import pyplot as plt\n",
    "\n",
    "def relax(c):\n",
    "    \"\"\"Calculate x = 1 - exp(-cx) with the relaxation method.\"\"\"\n",
    "    \n",
    "    # Helper functions for f' and the error\n",
    "    f_prime = lambda x: c*np.exp(-c*x)\n",
    "    error = lambda x,x_prime: (x-x_prime) / (1-1/f_prime(x))\n",
    "    \n",
    "    # Initialize x as and empty array\n",
    "    x = np.zeros(c.shape)\n",
    "    \n",
    "    # Initial value for the error\n",
    "    err = error(x,0.01)\n",
    "    \n",
    "    # Iterate until x converges\n",
    "    while (err >= 1e-6).any():\n",
    "        x_prime = x             # previous x\n",
    "        x = x+err               # current x\n",
    "        err = error(x,x_prime)  # update error\n",
    "    \n",
    "    return x\n",
    "\n",
    "c = np.arange(0.01, 3.01, 0.01)\n",
    "x = relax(c)\n",
    "\n",
    "plt.plot(c,x)\n",
    "plt.xlabel(\"c\")\n",
    "plt.ylabel(\"x\")\n",
    "plt.show()\n",
    "#raise NotImplementedError()"
   ]
  },
  {
   "cell_type": "markdown",
   "metadata": {
    "deletable": false,
    "editable": false,
    "nbgrader": {
     "cell_type": "markdown",
     "checksum": "56c0aefe6238c455b316ef54e9a2f314",
     "grade": false,
     "grade_id": "cell-7f6a2de423ad50fd",
     "locked": true,
     "points": 0,
     "schema_version": 3,
     "solution": false,
     "task": true
    }
   },
   "source": [
    "## Exercise 3.6: Finding the roots of a polynomial with Newton method (2 points)\n",
    "\n",
    "Consider the sixth-order polynomial\n",
    "$$\n",
    "P(x) = 924 x^6 - 2772 x^5 + 3150 x^4 - 1680 x^3 + 420 x^2 - 42 x + 1.\n",
    "$$\n",
    "There is no general formula for the roots of a sixth-order polynomial, but\n",
    "one can find them easily enough using a computer.\n",
    "1. Make a plot of $P(x)$ from $x=0$ to $x=1$ and by inspecting it find\n",
    "  rough values for the six roots of the polynomial---the points at which\n",
    "  the function is zero.\n",
    "2. Write a Python program to solve for the positions of all six roots to\n",
    "   at least ten decimal places of accuracy, using Newton's method."
   ]
  },
  {
   "cell_type": "code",
   "execution_count": 12,
   "metadata": {
    "deletable": false,
    "nbgrader": {
     "cell_type": "code",
     "checksum": "44a8270ecb0deed0f4af4884ed994cf4",
     "grade": true,
     "grade_id": "cell-d45d3e53834584cb",
     "locked": false,
     "points": 1,
     "schema_version": 3,
     "solution": true,
     "task": false
    }
   },
   "outputs": [
    {
     "data": {
      "image/png": "[encoded data removed]",
      "text/plain": [
       "<Figure size 432x288 with 1 Axes>"
      ]
     },
     "metadata": {
      "needs_background": "light"
     },
     "output_type": "display_data"
    },
    {
     "name": "stdout",
     "output_type": "stream",
     "text": [
      "The roots of P(x) are approximately at x = 0.03, 0.17, 0.4, 0.6, 0.82, and 0.95\n"
     ]
    }
   ],
   "source": [
    "# Part 1\n",
    "# YOUR CODE HERE\n",
    "import numpy as np\n",
    "from matplotlib import pyplot as plt\n",
    "\n",
    "P = lambda x: 924*x**6 - 2772*x**5 + 3150*x**4 - 1680*x**3 + 420*x**2 - 42*x + 1\n",
    "x = np.arange(0, 1.01, 0.01)\n",
    "\n",
    "plt.plot(x, P(x))\n",
    "plt.xlabel(\"x\")\n",
    "plt.ylabel(\"P(x)\")\n",
    "plt.show()\n",
    "print(\"The roots of P(x) are approximately at x = 0.03, 0.17, 0.4, 0.6, 0.82, and 0.95\")\n",
    "#raise NotImplementedError()"
   ]
  },
  {
   "cell_type": "code",
   "execution_count": 13,
   "metadata": {
    "deletable": false,
    "nbgrader": {
     "cell_type": "code",
     "checksum": "8c47261ccad2b0f3a6f4c1e64cc8ee04",
     "grade": true,
     "grade_id": "cell-d1e7b5c4ca3c1c49",
     "locked": false,
     "points": 1,
     "schema_version": 3,
     "solution": true,
     "task": false
    }
   },
   "outputs": [
    {
     "name": "stdout",
     "output_type": "stream",
     "text": [
      "Found root #1: 0.03376524289842399\n",
      "Found root #2: 0.16939530676686768\n",
      "Found root #3: 0.3806904069583867\n",
      "Found root #4: 0.6193095930416064\n",
      "Found root #5: 0.8306046932333768\n",
      "Found root #6: 0.966234757101586\n"
     ]
    }
   ],
   "source": [
    "# Part 2\n",
    "# YOUR CODE HERE\n",
    "roots = [0.03, 0.17, 0.4, 0.6, 0.82, 0.95]\n",
    "tolerance = 1e-12\n",
    "\n",
    "# Helper function P'(x)\n",
    "P_prime = lambda x: 5544*x**5 - 13860*x**4 + 12600*x**3 - 5040*x**2 + 840*x - 42\n",
    "\n",
    "# Find each root\n",
    "for i in range(len(roots)):\n",
    "    # Initialize x_0 as the initial guess\n",
    "    x0 = roots[i]\n",
    "    # Calculate the first x_1 = x_0 - f(x)/f'(x)\n",
    "    x1 = x0 - P(x0)/P_prime(x0)\n",
    "    # Iterate until converges\n",
    "    while abs(x1 - x0) >= tolerance:\n",
    "        x0 = x1  # update old x\n",
    "        x1 = x0 - P(x0) / P_prime(x0)  # calculate new x\n",
    "    roots[i] = x0  # save root\n",
    "    print(f\"Found root #{i+1}: {x0}\")\n",
    "        \n",
    "#raise NotImplementedError()"
   ]
  },
  {
   "cell_type": "code",
   "execution_count": null,
   "metadata": {},
   "outputs": [],
   "source": []
  }
 ],
 "metadata": {
  "kernelspec": {
   "display_name": "Python 3",
   "language": "python",
   "name": "python3"
  },
  "language_info": {
   "codemirror_mode": {
    "name": "ipython",
    "version": 3
   },
   "file_extension": ".py",
   "mimetype": "text/x-python",
   "name": "python",
   "nbconvert_exporter": "python",
   "pygments_lexer": "ipython3",
   "version": "3.8.8"
  }
 },
 "nbformat": 4,
 "nbformat_minor": 4
}
