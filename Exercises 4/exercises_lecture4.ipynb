{
 "cells": [
  {
   "cell_type": "markdown",
   "metadata": {},
   "source": [
    "Before you turn this problem in, make sure everything runs as expected. First, **restart the kernel** (in the menubar, select Kernel$\\rightarrow$Restart) and then **run all cells** (in the menubar, select Cell$\\rightarrow$Run All).\n",
    "\n",
    "**NB. Do not add new or remove/cut cells in the notebook. Additionally, do not change the filename of this notebook.**\n",
    "\n",
    "Make sure you fill in any place that says `YOUR CODE HERE` or \"YOUR ANSWER HERE\", as well as your student number below:"
   ]
  },
  {
   "cell_type": "code",
   "execution_count": 1,
   "metadata": {},
   "outputs": [],
   "source": [
    "STUDENT_NUMBER = \"141927\""
   ]
  },
  {
   "cell_type": "markdown",
   "metadata": {},
   "source": [
    "---"
   ]
  },
  {
   "cell_type": "markdown",
   "metadata": {
    "deletable": false,
    "editable": false,
    "nbgrader": {
     "cell_type": "markdown",
     "checksum": "719ee837b823bffbf133c7c2ebd6e428",
     "grade": false,
     "grade_id": "cell-8b84f6967f759a46",
     "locked": true,
     "schema_version": 3,
     "solution": false,
     "task": false
    }
   },
   "source": [
    "# Exercises Topic 4"
   ]
  },
  {
   "cell_type": "code",
   "execution_count": 2,
   "metadata": {
    "deletable": false,
    "editable": false,
    "nbgrader": {
     "cell_type": "code",
     "checksum": "9f1a78d2f14eb8c1bb652d9067c7cfc3",
     "grade": false,
     "grade_id": "cell-476581684377bb11",
     "locked": true,
     "schema_version": 3,
     "solution": false,
     "task": false
    }
   },
   "outputs": [],
   "source": [
    "# imports\n",
    "\n",
    "import numpy as np\n",
    "from matplotlib import pyplot as plt"
   ]
  },
  {
   "cell_type": "markdown",
   "metadata": {
    "deletable": false,
    "editable": false,
    "nbgrader": {
     "cell_type": "markdown",
     "checksum": "eca9575446c5d23b6ee2adbda7711f0f",
     "grade": false,
     "grade_id": "cell-194ab9480371dd3b",
     "locked": true,
     "schema_version": 3,
     "solution": false,
     "task": false
    }
   },
   "source": [
    "## Exercise 4.1: Detecting periodicity (4 points)\n",
    "\n",
    "In the folder that you obtained this notebook there is a file called\n",
    "`sunspots.txt`, which contains the observed number of sunspots on the\n",
    "Sun for each month since January 1749.  The file contains two columns of\n",
    "numbers, the first representing the month and the second being the sunspot\n",
    "number.\n",
    "\n",
    "(a) Write a program that reads the data in the file and makes a graph of\n",
    "  sunspots as a function of time.  You should see that the number of\n",
    "  sunspots has fluctuated on a regular cycle for as long as observations\n",
    "  have been recorded.  Make an estimate of the length of the cycle in\n",
    "  months.\n",
    "  "
   ]
  },
  {
   "cell_type": "code",
   "execution_count": 3,
   "metadata": {
    "deletable": false,
    "nbgrader": {
     "cell_type": "code",
     "checksum": "91756be20611d61ffe6a982dedd70be4",
     "grade": false,
     "grade_id": "cell-2d7a42c8859d224b",
     "locked": false,
     "schema_version": 3,
     "solution": true,
     "task": false
    }
   },
   "outputs": [
    {
     "data": {
      "text/plain": [
       "Text(0, 0.5, 'sunspot (#)')"
      ]
     },
     "execution_count": 3,
     "metadata": {},
     "output_type": "execute_result"
    },
    {
     "data": {
      "image/png": "[encoded data removed]",
      "text/plain": [
       "<Figure size 432x288 with 1 Axes>"
      ]
     },
     "metadata": {
      "needs_background": "light"
     },
     "output_type": "display_data"
    }
   ],
   "source": [
    "def read_sunspot_data(filename):\n",
    "    \"\"\"Reads and returns sunspot data\n",
    "    \n",
    "    Args:\n",
    "        filename (str): name of the file\n",
    "    \n",
    "    Returns:\n",
    "        numpy array: the data\"\"\"\n",
    "    \n",
    "    data = None\n",
    "    \n",
    "    # YOUR CODE HERE\n",
    "    data = np.loadtxt(filename)\n",
    "    #raise NotImplementedError()\n",
    "    \n",
    "    return data\n",
    "\n",
    "data = read_sunspot_data('sunspots.txt')\n",
    "# plotting\n",
    "# YOUR CODE HERE\n",
    "plt.plot(data[:,0], data[:,1])\n",
    "#raise NotImplementedError()\n",
    "plt.xlabel('time (months)')\n",
    "plt.ylabel('sunspot (#)')"
   ]
  },
  {
   "cell_type": "markdown",
   "metadata": {
    "deletable": false,
    "nbgrader": {
     "cell_type": "markdown",
     "checksum": "75b73fba1fab6809d817c787c884d3c5",
     "grade": true,
     "grade_id": "cell-ceecebcde8862a4f",
     "locked": false,
     "points": 1,
     "schema_version": 3,
     "solution": true,
     "task": false
    }
   },
   "source": [
    "### Answer (Double click to edit)\n",
    "There seems to 24 peaks in a time period of 3143 months, or about 272 years.\n",
    "This means that a peak occurs every ~131 months, or once in every 11 years."
   ]
  },
  {
   "cell_type": "code",
   "execution_count": 4,
   "metadata": {
    "deletable": false,
    "editable": false,
    "nbgrader": {
     "cell_type": "code",
     "checksum": "0d1e3c4d4d5e5d64aae4b8eb7e020b53",
     "grade": true,
     "grade_id": "cell-f8fb3ecfe30f1e3f",
     "locked": true,
     "points": 1,
     "schema_version": 3,
     "solution": false,
     "task": false
    }
   },
   "outputs": [],
   "source": [
    "# validation\n",
    "fn = read_sunspot_data('sunspots.txt')\n",
    "assert isinstance(fn, np.ndarray), 'bad function'\n",
    "assert fn.shape == (3143, 2), 'bad shape'\n",
    "assert fn.dtype == float, 'bad type'"
   ]
  },
  {
   "cell_type": "markdown",
   "metadata": {
    "deletable": false,
    "editable": false,
    "nbgrader": {
     "cell_type": "markdown",
     "checksum": "26f77211838e25f5b0d19f65e2d0cce6",
     "grade": false,
     "grade_id": "cell-2b8eba275a0ed42a",
     "locked": true,
     "schema_version": 3,
     "solution": false,
     "task": false
    }
   },
   "source": [
    "(b) Modify your program to calculate the Fourier transform of the sunspot\n",
    "  data and then make a graph of the magnitude squared $|c_k|^2$ of the\n",
    "  Fourier coefficients as a function of $k$---also called the\n",
    "  *power spectrum* of the sunspot signal.  You should see that\n",
    "  there is a noticeable peak in the power spectrum at a nonzero value\n",
    "  of~$k$.  The appearance of this peak tells us that there is one frequency\n",
    "  in the Fourier series that has a higher amplitude than the others around\n",
    "  it---meaning that there is a large sine-wave term with this frequency,\n",
    "  which corresponds to the periodic wave you can see in the original data."
   ]
  },
  {
   "cell_type": "code",
   "execution_count": 5,
   "metadata": {
    "deletable": false,
    "nbgrader": {
     "cell_type": "code",
     "checksum": "20e1f4fbdb286f34e396ac58f468841c",
     "grade": false,
     "grade_id": "cell-dfcc9a3c1407a892",
     "locked": false,
     "schema_version": 3,
     "solution": true,
     "task": false
    }
   },
   "outputs": [],
   "source": [
    "def discrete_fourier_transform(y):\n",
    "    \"\"\"Calculates coefficient of the discrete trasnform of 1D y\n",
    "    \n",
    "    Args:\n",
    "        y (numpy array): 1D data\n",
    "    \n",
    "    Returns:\n",
    "        numpy array: 1D array of coefficients after fourier transform\"\"\"\n",
    "    # coefficients\n",
    "    c = None\n",
    "    \n",
    "    # YOUR CODE HERE\n",
    "    N = len(y)\n",
    "    n = np.arange(N)\n",
    "    c = np.zeros(N//2+1,complex)\n",
    "    for k in range(N//2+1):\n",
    "        c[k] = np.sum(y*np.exp(-2j*np.pi*k*n/N))\n",
    "    #raise NotImplementedError()\n",
    "    return c"
   ]
  },
  {
   "cell_type": "code",
   "execution_count": 6,
   "metadata": {
    "deletable": false,
    "editable": false,
    "nbgrader": {
     "cell_type": "code",
     "checksum": "0695e9f384ee4aae9b6d44250c3c78a3",
     "grade": true,
     "grade_id": "cell-11558d11ce79a12c",
     "locked": true,
     "points": 1,
     "schema_version": 3,
     "solution": false,
     "task": false
    }
   },
   "outputs": [],
   "source": [
    "# validation\n",
    "n = 10\n",
    "fn = np.sin(np.arange(n))\n",
    "dft = discrete_fourier_transform(fn)\n",
    "c_k2 = np.abs(dft)**2\n",
    "assert abs(c_k2[0] - 3.82284412) <= 1e-4, 'bad function' \n",
    "assert abs(c_k2[1] - 10.28600735) <= 1e-4, 'bad function' "
   ]
  },
  {
   "cell_type": "code",
   "execution_count": 7,
   "metadata": {
    "deletable": false,
    "nbgrader": {
     "cell_type": "code",
     "checksum": "d224d7122003429765085ed2c1f66b9a",
     "grade": false,
     "grade_id": "cell-18b4e03930f9ad28",
     "locked": false,
     "schema_version": 3,
     "solution": true,
     "task": false
    }
   },
   "outputs": [
    {
     "data": {
      "text/plain": [
       "Text(0, 0.5, '$c_k^2$')"
      ]
     },
     "execution_count": 7,
     "metadata": {},
     "output_type": "execute_result"
    },
    {
     "data": {
      "image/png": "[encoded data removed]",
      "text/plain": [
       "<Figure size 432x288 with 1 Axes>"
      ]
     },
     "metadata": {
      "needs_background": "light"
     },
     "output_type": "display_data"
    }
   ],
   "source": [
    "fft_data = discrete_fourier_transform(data[:, 1])\n",
    "\n",
    "#plotting\n",
    "# YOUR CODE HERE\n",
    "plt.plot(np.square(abs(fft_data)))\n",
    "#raise NotImplementedError()\n",
    "plt.xlabel('k')\n",
    "plt.ylabel('$c_k^2$')"
   ]
  },
  {
   "cell_type": "code",
   "execution_count": 8,
   "metadata": {},
   "outputs": [
    {
     "name": "stdout",
     "output_type": "stream",
     "text": [
      "k = 24: freq = 3143/24 = 130.95833333333334\n"
     ]
    },
    {
     "data": {
      "image/png": "[encoded data removed]",
      "text/plain": [
       "<Figure size 432x288 with 1 Axes>"
      ]
     },
     "metadata": {
      "needs_background": "light"
     },
     "output_type": "display_data"
    }
   ],
   "source": [
    "plt.plot(np.square(abs(fft_data[0:50])))  # Zoom closer to the non-zero peak\n",
    "#raise NotImplementedError()\n",
    "plt.xlabel('k')\n",
    "plt.ylabel('$c_k^2$')\n",
    "\n",
    "k = 24\n",
    "N = data.shape[0]\n",
    "print(f\"k = {k}: freq = {N}/{k} = {N/k}\")"
   ]
  },
  {
   "cell_type": "markdown",
   "metadata": {
    "deletable": false,
    "editable": false,
    "nbgrader": {
     "cell_type": "markdown",
     "checksum": "c4193e9e0ab7e82bbbd388f492a86dbc",
     "grade": false,
     "grade_id": "cell-88c1b90d5d27b9c8",
     "locked": true,
     "schema_version": 3,
     "solution": false,
     "task": false
    }
   },
   "source": [
    "(c) Find the approximate value of $k$ to which the peak corresponds.\n",
    "  What is the period of the sine wave with this value of $k$?  You should\n",
    "  find that the period corresponds roughly to the length of the cycle that\n",
    "  you estimated in part~(a).\n",
    "  \n",
    "\n",
    "This kind of Fourier analysis is a sensitive method for detecting\n",
    "periodicity in signals.  Even in cases where it is not clear to the eye\n",
    "that there is a periodic component to a signal, it may still be possible to\n",
    "find one using a Fourier transform."
   ]
  },
  {
   "cell_type": "markdown",
   "metadata": {
    "deletable": false,
    "nbgrader": {
     "cell_type": "markdown",
     "checksum": "7410e8d3297a1b343b3d103d94cc4366",
     "grade": true,
     "grade_id": "cell-e1e755cb0037ba3f",
     "locked": false,
     "points": 1,
     "schema_version": 3,
     "solution": true,
     "task": false
    }
   },
   "source": [
    "### Answer (Double click to edit)\n",
    "\n",
    "From the plot, it can be visually estimated that the peak occurs approximately at $k=24$. When the total number of data points, 3143, is divided by $k$, we get the frequency: $N/k = 3143$ months $/24 \\approx 130.96$ months, which is very close to the approximated value 131 months."
   ]
  },
  {
   "cell_type": "markdown",
   "metadata": {
    "deletable": false,
    "editable": false,
    "nbgrader": {
     "cell_type": "markdown",
     "checksum": "afb5013d03f905b25202241b70b761d8",
     "grade": false,
     "grade_id": "cell-f74dc4511e38d10e",
     "locked": true,
     "schema_version": 3,
     "solution": false,
     "task": false
    }
   },
   "source": [
    "## Exercise 4.2: Fourier filtering and smoothing (6 points)\n",
    "\n",
    "In the folder that you obtained this notebook you'll find a file called `dow.txt`.\n",
    "It contains the daily closing value for each business day from late 2006\n",
    "until the end of 2010 of the Dow Jones Industrial Average, which is a\n",
    "measure of average prices on the US stock market.\n",
    "\n",
    "Write a program to do the following:\n",
    "\n",
    "(a) Read in the data from `dow.txt` and plot them on a graph."
   ]
  },
  {
   "cell_type": "code",
   "execution_count": 9,
   "metadata": {
    "deletable": false,
    "nbgrader": {
     "cell_type": "code",
     "checksum": "a70cbcc797da58b1b93e90644cdeb7ff",
     "grade": false,
     "grade_id": "cell-47cd813fb1ad57ff",
     "locked": false,
     "schema_version": 3,
     "solution": true,
     "task": false
    }
   },
   "outputs": [
    {
     "data": {
      "text/plain": [
       "Text(0, 0.5, 'closing value')"
      ]
     },
     "execution_count": 9,
     "metadata": {},
     "output_type": "execute_result"
    },
    {
     "data": {
      "image/png": "[encoded data removed]",
      "text/plain": [
       "<Figure size 432x288 with 1 Axes>"
      ]
     },
     "metadata": {
      "needs_background": "light"
     },
     "output_type": "display_data"
    }
   ],
   "source": [
    "def read_dow_data(filename):\n",
    "    \"\"\"read dow data from filename\n",
    "    \n",
    "    Args:\n",
    "        filename (str): name of the file\n",
    "    \n",
    "    Returns:\n",
    "        numpy array: dow data\"\"\"\n",
    "    data = None\n",
    "    \n",
    "    # YOUR CODE HERE\n",
    "    data = np.loadtxt(filename)\n",
    "    #raise NotImplementedError()\n",
    "    \n",
    "    return data\n",
    "\n",
    "data = read_dow_data('dow.txt')\n",
    "\n",
    "# plotting\n",
    "# YOUR CODE HERE\n",
    "plt.plot(data)\n",
    "#raise NotImplementedError()\n",
    "plt.xlabel('days')\n",
    "plt.ylabel('closing value')"
   ]
  },
  {
   "cell_type": "code",
   "execution_count": 10,
   "metadata": {
    "deletable": false,
    "editable": false,
    "nbgrader": {
     "cell_type": "code",
     "checksum": "cf2ec550c2fec74246503d9da7f9d137",
     "grade": true,
     "grade_id": "cell-eaf9bb593510c72b",
     "locked": true,
     "points": 1,
     "schema_version": 3,
     "solution": false,
     "task": false
    }
   },
   "outputs": [],
   "source": [
    "# validation\n",
    "fn = read_dow_data('dow.txt')\n",
    "assert isinstance(fn, np.ndarray), 'bad function'\n",
    "assert fn.shape == (1024,), 'bad function'\n",
    "assert fn.dtype == float, 'bad function'"
   ]
  },
  {
   "cell_type": "markdown",
   "metadata": {
    "deletable": false,
    "editable": false,
    "nbgrader": {
     "cell_type": "markdown",
     "checksum": "450fdbbf926d42c806a7e3668c5c4db6",
     "grade": false,
     "grade_id": "cell-0e23e69b3a02a60f",
     "locked": true,
     "schema_version": 3,
     "solution": false,
     "task": false
    }
   },
   "source": [
    "(b) Calculate the coefficients of the discrete Fourier transform of the\n",
    "  data using the function `rfft` from `numpy.fft`, which produces\n",
    "  an array of $\\frac{1}{2} N+1$ complex numbers.\n",
    " "
   ]
  },
  {
   "cell_type": "code",
   "execution_count": 11,
   "metadata": {
    "deletable": false,
    "nbgrader": {
     "cell_type": "code",
     "checksum": "229d5c4b71e6fc5646aacfe3ba3bfe9c",
     "grade": false,
     "grade_id": "cell-b138ad4a36c67987",
     "locked": false,
     "schema_version": 3,
     "solution": true,
     "task": false
    }
   },
   "outputs": [],
   "source": [
    "def dft_numpy(y):\n",
    "    \"\"\"Perform numpy rfft\n",
    "    \n",
    "    Args:\n",
    "        y (array): input data\n",
    "    Returns:\n",
    "        numpy array: dft of data\n",
    "    \"\"\"\n",
    "    dft = None\n",
    "    # modifications on y should not change incomming data too\n",
    "    y = np.copy(y)\n",
    "\n",
    "    # YOUR CODE HERE\n",
    "    dft = np.fft.rfft(y)\n",
    "    #raise NotImplementedError()\n",
    "    \n",
    "    return dft\n",
    "\n",
    "# compute dft\n",
    "dft_data = dft_numpy(data)"
   ]
  },
  {
   "cell_type": "code",
   "execution_count": 12,
   "metadata": {
    "deletable": false,
    "editable": false,
    "nbgrader": {
     "cell_type": "code",
     "checksum": "8257e603d082102d36242568fde1ad92",
     "grade": true,
     "grade_id": "cell-b2caaed252639e74",
     "locked": true,
     "points": 1,
     "schema_version": 3,
     "solution": false,
     "task": false
    }
   },
   "outputs": [],
   "source": [
    "# validation\n",
    "n = 10\n",
    "fn = np.sin(np.arange(n))\n",
    "dft = dft_numpy(fn)\n",
    "c_k2 = np.abs(dft)**2\n",
    "assert abs(c_k2[0] - 3.82284412) <= 1e-4, 'bad function' \n",
    "assert abs(c_k2[1] - 10.28600735) <= 1e-4, 'bad function' "
   ]
  },
  {
   "cell_type": "markdown",
   "metadata": {
    "deletable": false,
    "editable": false,
    "nbgrader": {
     "cell_type": "markdown",
     "checksum": "e0d6a251d2e44442129efb155d0ce9d5",
     "grade": false,
     "grade_id": "cell-b8eb84b9e0072a68",
     "locked": true,
     "schema_version": 3,
     "solution": false,
     "task": false
    }
   },
   "source": [
    "(c) Now set all but the first 10\\% of the elements of this array to zero\n",
    "  (i.e.,~set the last 90\\% to zero but keep the values of the first 10\\%)."
   ]
  },
  {
   "cell_type": "code",
   "execution_count": 13,
   "metadata": {
    "deletable": false,
    "nbgrader": {
     "cell_type": "code",
     "checksum": "1a3afef1196be591492c6d5d53263c63",
     "grade": false,
     "grade_id": "cell-d282e9476f0cd874",
     "locked": false,
     "schema_version": 3,
     "solution": true,
     "task": false
    }
   },
   "outputs": [],
   "source": [
    "def data_trim(y, x):\n",
    "    \"\"\"trim data, by making all but first x% elements to zero\n",
    "    \n",
    "    Args:\n",
    "        y (numpy array): fft data\n",
    "        x (float): percentage of first elements to be the same\n",
    "    Returns:\n",
    "        numpy array: trimmed data\n",
    "    \"\"\"\n",
    "    partc_out = None\n",
    "    # modifications on y should not change incomming data too\n",
    "    y = np.copy(y)\n",
    "    \n",
    "    # YOUR CODE HERE\n",
    "    i = int(len(y)*x/100)\n",
    "    partc_out = np.zeros_like(y)\n",
    "    partc_out[:i] = y[:i]\n",
    "    #raise NotImplementedError()\n",
    "    \n",
    "    return partc_out\n",
    "\n",
    "dft_data_trimmed = data_trim(dft_data, 10)"
   ]
  },
  {
   "cell_type": "code",
   "execution_count": 14,
   "metadata": {
    "deletable": false,
    "editable": false,
    "nbgrader": {
     "cell_type": "code",
     "checksum": "732b22714e02c339465f4afe8e9248c2",
     "grade": true,
     "grade_id": "cell-de00b7e9fdc766b6",
     "locked": true,
     "points": 1,
     "schema_version": 3,
     "solution": false,
     "task": false
    }
   },
   "outputs": [],
   "source": [
    "# validation\n",
    "a = np.arange(1, 11)\n",
    "a_trimmed = data_trim(a, 10)\n",
    "assert len(a_trimmed) == len(a), 'bad function'\n",
    "for i in range(1, 10):\n",
    "    assert len(np.where(data_trim(a, i*10)==0)[0]) == 10 - i, 'bad function at i = {}'.format(i)"
   ]
  },
  {
   "cell_type": "markdown",
   "metadata": {
    "deletable": false,
    "editable": false,
    "nbgrader": {
     "cell_type": "markdown",
     "checksum": "a118483a079580c081d977bdb9e941ae",
     "grade": false,
     "grade_id": "cell-f0fac4328e28679a",
     "locked": true,
     "schema_version": 3,
     "solution": false,
     "task": false
    }
   },
   "source": [
    "(d) Calculate the inverse Fourier transform of the resulting array, zeros\n",
    "  and all, using the function \\verb|irfft|, and plot it on the same graph\n",
    "  as the original data.  You may need to vary the colors of the two curves\n",
    "  to make sure they both show up on the graph.  Comment on what you see.\n",
    "  What is happening when you set the Fourier coefficients to zero?"
   ]
  },
  {
   "cell_type": "code",
   "execution_count": 15,
   "metadata": {
    "deletable": false,
    "nbgrader": {
     "cell_type": "code",
     "checksum": "62299175302390f8e5b94c5e3683599c",
     "grade": false,
     "grade_id": "cell-e818b4b635fb93b1",
     "locked": false,
     "schema_version": 3,
     "solution": true,
     "task": false
    }
   },
   "outputs": [
    {
     "data": {
      "text/plain": [
       "Text(0, 0.5, 'closing value')"
      ]
     },
     "execution_count": 15,
     "metadata": {},
     "output_type": "execute_result"
    },
    {
     "data": {
      "image/png": "[encoded data removed]",
      "text/plain": [
       "<Figure size 432x288 with 1 Axes>"
      ]
     },
     "metadata": {
      "needs_background": "light"
     },
     "output_type": "display_data"
    }
   ],
   "source": [
    "def idft_numpy(y):\n",
    "    \"\"\"Perform numpy irfft\n",
    "    \n",
    "    Args:\n",
    "        y (array): input data\n",
    "    Returns:\n",
    "        numpy array: dft of data\n",
    "    \"\"\"\n",
    "    idft = None\n",
    "    # modifications on y should not change incomming data too\n",
    "    y = np.copy(y)\n",
    "\n",
    "    # YOUR CODE HERE\n",
    "    idft = np.fft.irfft(y)\n",
    "    #raise NotImplementedError()\n",
    "    \n",
    "    return idft\n",
    "\n",
    "# compute idft\n",
    "data_idft = idft_numpy(dft_data_trimmed)\n",
    "\n",
    "# plotting\n",
    "# YOUR CODE HERE\n",
    "plt.plot(data, label='original')\n",
    "plt.plot(data_idft, label='irfft')\n",
    "plt.legend()\n",
    "#raise NotImplementedError()\n",
    "plt.xlabel('days')\n",
    "plt.ylabel('closing value')"
   ]
  },
  {
   "cell_type": "markdown",
   "metadata": {
    "deletable": false,
    "nbgrader": {
     "cell_type": "markdown",
     "checksum": "c7c9dc8647b5acbfbbb6174791273c67",
     "grade": true,
     "grade_id": "cell-77175abdcc469a6e",
     "locked": false,
     "points": 1,
     "schema_version": 3,
     "solution": true,
     "task": false
    }
   },
   "source": [
    "### Answer (Double click to edit)\n",
    "The inverse FFT adapts to the original data quite well. Increasing the percentage x of the data used to perform the inverse FFT, i.e. decreasing the number of zeros, makes the irfft data more accurate. In other words, decreasing the percentage makes the function smoother. 10% data usage already seems to be enough to get very good approximation of the original data."
   ]
  },
  {
   "cell_type": "code",
   "execution_count": 16,
   "metadata": {
    "deletable": false,
    "editable": false,
    "nbgrader": {
     "cell_type": "code",
     "checksum": "b23df7bbda08362b669fc22a31423013",
     "grade": true,
     "grade_id": "cell-9e4c57e2dc85e109",
     "locked": true,
     "points": 1,
     "schema_version": 3,
     "solution": false,
     "task": false
    }
   },
   "outputs": [],
   "source": [
    "# validation\n",
    "n = 10\n",
    "fn = np.sin(np.arange(n))\n",
    "dft = dft_numpy(fn)\n",
    "fn_idft = idft_numpy(dft)\n",
    "assert np.mean(np.abs(fn - fn_idft)) <= 1e-4, 'bad function' "
   ]
  },
  {
   "cell_type": "markdown",
   "metadata": {
    "deletable": false,
    "editable": false,
    "nbgrader": {
     "cell_type": "markdown",
     "checksum": "1de5fe4bd63961a382f994b32f14412a",
     "grade": false,
     "grade_id": "cell-b9dc1bc81bde0870",
     "locked": true,
     "schema_version": 3,
     "solution": false,
     "task": false
    }
   },
   "source": [
    "(e) Modify your program so that it sets all but the first 2\\% of the\n",
    "  coefficients to zero and run it again."
   ]
  },
  {
   "cell_type": "code",
   "execution_count": 17,
   "metadata": {
    "deletable": false,
    "nbgrader": {
     "cell_type": "code",
     "checksum": "9115d35466d3d763d099516571c564d6",
     "grade": true,
     "grade_id": "cell-27e458483fd183d3",
     "locked": false,
     "points": 1,
     "schema_version": 3,
     "solution": true,
     "task": false
    }
   },
   "outputs": [
    {
     "data": {
      "text/plain": [
       "Text(0, 0.5, 'closing value')"
      ]
     },
     "execution_count": 17,
     "metadata": {},
     "output_type": "execute_result"
    },
    {
     "data": {
      "image/png": "[encoded data removed]",
      "text/plain": [
       "<Figure size 432x288 with 1 Axes>"
      ]
     },
     "metadata": {
      "needs_background": "light"
     },
     "output_type": "display_data"
    }
   ],
   "source": [
    "# get trimmed data\n",
    "# YOUR CODE HERE\n",
    "dft_data_trimmed_2 = data_trim(dft_data, 2)\n",
    "data_idft_2 = idft_numpy(dft_data_trimmed_2)\n",
    "#raise NotImplementedError()\n",
    "\n",
    "# plotting\n",
    "# YOUR CODE HERE\n",
    "plt.plot(data, label='original')\n",
    "plt.plot(data_idft_2, label='irfft')\n",
    "plt.legend()\n",
    "#raise NotImplementedError()\n",
    "plt.xlabel('days')\n",
    "plt.ylabel('closing value')"
   ]
  },
  {
   "cell_type": "markdown",
   "metadata": {
    "deletable": false,
    "editable": false,
    "nbgrader": {
     "cell_type": "markdown",
     "checksum": "768462768ac9b951fff2bb063428a961",
     "grade": false,
     "grade_id": "cell-0c6f51fb65a0a35b",
     "locked": true,
     "schema_version": 3,
     "solution": false,
     "task": false
    }
   },
   "source": [
    "## Exercise 4.3: Comparison of the DFT and DCT (3 points)\n",
    "\n",
    "Exercise 4.2 looked at data representing the variation of the Dow Jones\n",
    "Industrial Average, colloquially called \"the Dow,\" over time.  The\n",
    "particular time period studied in that exercise was special in one sense:\n",
    "the value of the Dow at the end of the period was almost the same as at the\n",
    "start, so the function was, roughly speaking, periodic.  In the folder that you obtained this notebook there is another file called `dow2.txt`, which also contains\n",
    "data on the Dow but for a different time period, from 2004 until 2008.\n",
    "Over this period the value changed considerably from a starting level\n",
    "around 9000 to a final level around 14000.\n",
    "\n",
    "(a) Write a program in\n",
    "  which you read the data in the file `dow2.txt` and plot it on a\n",
    "  graph.  Then smooth the data by calculating its Fourier transform,\n",
    "  setting all but the first 2\\% of the coefficients to zero, and inverting\n",
    "  the transform again, plotting the result on the same graph as the\n",
    "  original data.  You should see that the data are\n",
    "  smoothed, but now there will be an additional artifact.  At the beginning\n",
    "  and end of the plot you should see large deviations away from the true\n",
    "  smoothed function.  These occur because the function is required to be\n",
    "  periodic---its last value must be the same as its first---so it needs to\n",
    "  deviate substantially from the correct value to make the two ends of the\n",
    "  function meet.  In some situations (including this one) this behavior is\n",
    "  unsatisfactory.  If we want to use the Fourier transform for smoothing,\n",
    "  we would certainly prefer that it not introduce artifacts of this kind."
   ]
  },
  {
   "cell_type": "code",
   "execution_count": 18,
   "metadata": {
    "deletable": false,
    "nbgrader": {
     "cell_type": "code",
     "checksum": "02c2b1a9aeb5186772cc3a5fb7bb7199",
     "grade": true,
     "grade_id": "cell-0aaf2994c76f3b30",
     "locked": false,
     "points": 1,
     "schema_version": 3,
     "solution": true,
     "task": false
    }
   },
   "outputs": [
    {
     "data": {
      "text/plain": [
       "Text(0, 0.5, 'DOW closing values')"
      ]
     },
     "execution_count": 18,
     "metadata": {},
     "output_type": "execute_result"
    },
    {
     "data": {
      "image/png": "[encoded data removed]",
      "text/plain": [
       "<Figure size 432x288 with 1 Axes>"
      ]
     },
     "metadata": {
      "needs_background": "light"
     },
     "output_type": "display_data"
    }
   ],
   "source": [
    "# use already made functions in 4.2\n",
    "# YOUR CODE HERE\n",
    "data = read_dow_data('dow2.txt')\n",
    "dft_data = dft_numpy(data)\n",
    "dft_data_trimmed = data_trim(dft_data, 2)\n",
    "data_idft = idft_numpy(dft_data_trimmed)\n",
    "#raise NotImplementedError()\n",
    "\n",
    "# plotting\n",
    "# YOUR CODE HERE\n",
    "plt.plot(data, label='original')\n",
    "plt.plot(data_idft, label='irfft')\n",
    "plt.legend()\n",
    "#raise NotImplementedError()\n",
    "plt.xlabel('days')\n",
    "plt.ylabel('DOW closing values')"
   ]
  },
  {
   "cell_type": "markdown",
   "metadata": {
    "deletable": false,
    "editable": false,
    "nbgrader": {
     "cell_type": "markdown",
     "checksum": "ad20dfb54c4bae7c9bad5fc03918f4dd",
     "grade": false,
     "grade_id": "cell-c7ed77744c5e5261",
     "locked": true,
     "schema_version": 3,
     "solution": false,
     "task": false
    }
   },
   "source": [
    "(b) Modify your program to repeat the same analysis using discrete cosine\n",
    "  transforms.  You can use the functions from `dcst.py` (in the folder that you obtained this notebook) to perform the\n",
    "  transforms if you wish.  Again discard all but the first 2\\% of the\n",
    "  coefficients, invert the transform, and plot the result.  You should see\n",
    "  a significant improvement, with less distortion of the function at the\n",
    "  ends of the interval.  This occurs because the cosine transform does not force the value of the\n",
    "  function to be the same at both ends.\n",
    "\n",
    "It is because of the artifacts introduced by the strict periodicity\n",
    "of the DFT that the cosine transform is favored for many technological\n",
    "applications, such as audio compression.  The artifacts can degrade the\n",
    "sound quality of compressed audio and the cosine transform generally gives\n",
    "better results.\n",
    "\n",
    "The cosine transform is not wholly free of artifacts itself however.  It's\n",
    "true it does not force the function to be periodic, but it does force the\n",
    "gradient to be zero at the ends of the interval (which the ordinary Fourier\n",
    "transform does not).  You may be able to see this in your calculations for\n",
    "part (b) above.  Look closely at the smoothed function and you should see\n",
    "that its slope is flat at the beginning and end of the interval.  The\n",
    "distortion of the function introduced is less than the distortion in\n",
    "part (a), but it's there all the same.  To reduce this effect, audio\n",
    "compression schemes often use overlapped cosine transforms, in which\n",
    "transforms are performed on overlapping blocks of samples, so that the\n",
    "portions at the ends of blocks, where the worst artifacts lie, need not be\n",
    "used."
   ]
  },
  {
   "cell_type": "code",
   "execution_count": 19,
   "metadata": {
    "deletable": false,
    "nbgrader": {
     "cell_type": "code",
     "checksum": "d4bfd6038009bbf9504e723820f2fe68",
     "grade": true,
     "grade_id": "cell-8abb6cf9076436d9",
     "locked": false,
     "points": 2,
     "schema_version": 3,
     "solution": true,
     "task": false
    }
   },
   "outputs": [
    {
     "data": {
      "text/plain": [
       "Text(0, 0.5, 'DOW closing values')"
      ]
     },
     "execution_count": 19,
     "metadata": {},
     "output_type": "execute_result"
    },
    {
     "data": {
      "image/png": "[encoded data removed]",
      "text/plain": [
       "<Figure size 432x288 with 1 Axes>"
      ]
     },
     "metadata": {
      "needs_background": "light"
     },
     "output_type": "display_data"
    }
   ],
   "source": [
    "# use already made functions in 4.2 and dcst.py\n",
    "from dcst import dct, idct\n",
    "# YOUR CODE HERE\n",
    "data = read_dow_data('dow2.txt')\n",
    "dct_data = dct(data)\n",
    "dct_data_trimmed = data_trim(dct_data, 2)\n",
    "data_idct = idct(dct_data_trimmed)\n",
    "#raise NotImplementedError()\n",
    "\n",
    "# plotting\n",
    "# YOUR CODE HERE\n",
    "plt.plot(data, label='original')\n",
    "plt.plot(data_idct, label='idct')\n",
    "plt.legend()\n",
    "#raise NotImplementedError()\n",
    "plt.xlabel('days')\n",
    "plt.ylabel('DOW closing values')\n"
   ]
  },
  {
   "cell_type": "markdown",
   "metadata": {
    "deletable": false,
    "editable": false,
    "nbgrader": {
     "cell_type": "markdown",
     "checksum": "4719f2002c1269529d8c943d56b47688",
     "grade": false,
     "grade_id": "cell-5a6125e384fd82aa",
     "locked": true,
     "schema_version": 3,
     "solution": false,
     "task": false
    }
   },
   "source": [
    "## Exercise 4.4: Image deconvolution (7 points)\n",
    "\n",
    "You've probably seen it on TV, in one of those crime drama shows.\n",
    "They have a blurry photo of a crime scene and they click a few buttons on\n",
    "the computer and magically the photo becomes sharp and clear, so you can\n",
    "make out someone's face, or some lettering on a sign.  Surely (like almost\n",
    "everything else on such TV shows) this is just science fiction?  Actually,\n",
    "no.  It's not.  It's real and in this exercise you'll write a program that\n",
    "does it.\n",
    "\n",
    "When a photo is blurred each point on the photo gets smeared out\n",
    "according to some \"smearing distribution,\" which is technically called a\n",
    "*point spread function*.  We can represent this smearing\n",
    "mathematically as follows.  For simplicity let's assume we're working with\n",
    "a black and white photograph, so that the picture can be represented by a\n",
    "single function $a(x,y)$ which tells you the brightness at each\n",
    "point $(x,y)$.  And let us denote the point spread function by $f(x,y)$.\n",
    "This means that a single bright dot at the origin ends up appearing as\n",
    "$f(x,y)$ instead.  If $f(x,y)$ is a broad function then the picture is\n",
    "badly blurred.  If it is a narrow peak then the picture is relatively\n",
    "sharp.\n",
    "\n",
    "In general the brightness $b(x,y)$ of the blurred photo at point $(x,y)$ is\n",
    "given by\n",
    "\n",
    "$$\\begin{equation}\n",
    "b(x,y) = \\int_0^K \\int_0^L a(x',y') f(x-x',y-y') \\>d x'\\>d y',\n",
    "\\end{equation}$$\n",
    "\n",
    "where $K\\times L$ is the dimension of the picture.  This equation is called\n",
    "the *convolution* of the picture with the point spread\n",
    "function.\n",
    "\n",
    "Working with two-dimensional functions can get complicated, so to get the\n",
    "idea of how the math works, let's switch temporarily to a one-dimensional\n",
    "equivalent of our problem.  Once we work out the details in 1D we'll return\n",
    "to the 2D version.  The one-dimensional version of the convolution above\n",
    "would be\n",
    "\n",
    "$$\\begin{equation}\n",
    "b(x) = \\int_0^L a(x') f(x-x') \\>d x'.\n",
    "\\end{equation}$$\n",
    "\n",
    "The function $b(x)$ can be represented by a Fourier series as in Eq. (7.5):\n",
    "\n",
    "$$\\begin{equation}\n",
    "b(x) = \\sum_{k=-\\infty}^\\infty\n",
    "         \\tilde{b}_k \\exp\\biggl( i {2\\pi k x\\over L} \\biggr),\n",
    "\\end{equation}$$\n",
    "\n",
    "where\n",
    "\n",
    "$$\\begin{equation}\n",
    "\\tilde{b}_k = {1\\over L} \\int_0^L b(x)\n",
    "                         \\exp\\biggl( -i {2\\pi k x\\over L} \\biggr) \\>d x\n",
    "\\end{equation}$$\n",
    "\n",
    "are the Fourier coefficients.  Substituting for $b(x)$ in this equation\n",
    "gives\n",
    "\n",
    "$$\\begin{align*}\n",
    "\\tilde{b}_k &= {1\\over L} \\int_0^L \\int_0^L a(x') f(x-x')\n",
    "                         \\exp\\biggl( -i {2\\pi k x\\over L} \\biggr)\n",
    "                         \\>d x'\\>d x \\\\\n",
    "            &= {1\\over L} \\int_0^L \\int_0^L a(x') f(x-x')\n",
    "                         \\exp\\biggl( -i {2\\pi k (x-x')\\over L} \\biggr)\n",
    "                         \\exp\\biggl( -i {2\\pi k x'\\over L} \\biggr)\n",
    "                         \\>d x'\\>d x.\n",
    "\\end{align*}$$\n",
    "\n",
    "Now let us change variables to $X=x-x'$, and we get\n",
    "\n",
    "$$\\begin{equation}\n",
    "\\tilde{b}_k = {1\\over L} \\int_0^L a(x')\n",
    "                         \\exp\\biggl( -i {2\\pi k x'\\over L} \\biggr)\n",
    "                         \\int_{-x'}^{L-x'} f(X)\n",
    "                         \\exp\\biggl( -i {2\\pi k X\\over L} \\biggr) \\>d X\n",
    "                         \\>d x'.\n",
    "\\end{equation}$$\n",
    "\n",
    "If we make $f(x)$ a periodic function in the standard fashion by repeating\n",
    "it infinitely many times to the left and right of the interval from 0\n",
    "to~$L$, then the second integral above can be written as\n",
    "\n",
    "$$\\begin{align*}\n",
    "\\int_{-x'}^{L-x'} f(X) \\exp\\biggl( -i {2\\pi k X\\over L} \\biggr) \\>d X\n",
    "&= \\int_{-x'}^0 f(X) \\exp\\biggl( -i {2\\pi k X\\over L} \\biggr) \\>d X\n",
    "   \\\\\n",
    "&\\hspace{5em}{} + \\int_0^{L-x'} f(X) \\exp\\biggl( -i {2\\pi k X\\over L}\n",
    "   \\biggr) \\>d X \\\\\n",
    "&\\hspace{-12em} {} = \\exp\\biggl( i {2\\pi k L\\over L} \\biggr)\n",
    "   \\int_{L-x'}^L f(X) \\exp\\biggl( -i {2\\pi k X\\over L} \\biggr) \\>d X\n",
    "   + \\int_0^{L-x'} f(X) \\exp\\biggl( -i {2\\pi k X\\over L} \\biggr) \\>d X\n",
    "   \\\\\n",
    "&\\hspace{-12em} {} = \\int_0^L f(X)\n",
    "                    \\exp\\biggl( -i {2\\pi k X\\over L} \\biggr) \\>d X,\n",
    "\\end{align*}$$\n",
    "\n",
    "which is simply $L$ times the Fourier transform $\\tilde{f}_k$ of $f(x)$.\n",
    "Substituting this result back into our equation for $\\tilde{b}_k$ we then\n",
    "get\n",
    "\n",
    "$$\\begin{align*}\n",
    "\\tilde{b}_k = \\int_0^L a(x')\n",
    "              \\exp\\biggl( -i {2\\pi k x'\\over L} \\biggr)\n",
    "              \\tilde{f}_k \\>d x'\n",
    "            = L\\,\\tilde{a}_k\\tilde{f}_k.\n",
    "\\end{align*}$$\n",
    "\n",
    "In other words, apart from the factor of $L$, the Fourier transform of the\n",
    "blurred photo is the product of the Fourier transforms of the unblurred\n",
    "photo and the point spread function.\n",
    "\n",
    "Now it is clear how we deblur our picture.  We take the blurred\n",
    "picture and Fourier transform it to get $\\tilde{b}_k =\n",
    "L\\,\\tilde{a}_k\\tilde{f}_k$.  We also take the point spread function and\n",
    "Fourier transform it to get~$\\tilde{f}_k$.  Then we divide one by the\n",
    "other:\n",
    "\n",
    "$$\\begin{equation}\n",
    "{\\tilde{b}_k\\over L\\tilde{f}_k} = \\tilde{a}_k\n",
    "\\end{equation}$$\n",
    "\n",
    "which gives us the Fourier transform of the \\emph{unblurred} picture.\n",
    "Then, finally, we do an inverse Fourier transform on $\\tilde{a}_k$ to get\n",
    "back the unblurred picture.  This process of recovering the unblurred\n",
    "picture from the blurred one, of reversing the convolution process, is\n",
    "called *deconvolution*.\n",
    "\n",
    "Real pictures are two-dimensional, but the mathematics follows through\n",
    "exactly the same.  For a picture of dimensions $K\\times L$ we find that the\n",
    "two-dimensional Fourier transforms are related by\n",
    "\n",
    "$$\\begin{equation}\n",
    "\\tilde{b}_{kl} =  KL\\tilde{a}_{kl}\\tilde{f}_{kl}\\,,\n",
    "\\end{equation}$$\n",
    "\n",
    "and again we just divide the blurred Fourier transform by the Fourier\n",
    "transform of the point spread function to get the Fourier transform of the\n",
    "unblurred picture.\n",
    "\n",
    "In the digital realm of computers, pictures are not pure functions $f(x,y)$\n",
    "but rather grids of samples, and our Fourier transforms are discrete\n",
    "transforms not continuous ones.  But the math works out the same again.\n",
    "\n",
    "The main complication with deblurring in practice is that we don't usually\n",
    "know the point spread function.  Typically we have to experiment with\n",
    "different ones until we find something that works.  For many cameras it's a\n",
    "reasonable approximation to assume the point spread function is Gaussian:\n",
    "\n",
    "$$\\begin{equation}\n",
    "f(x,y) = \\exp\\biggl( -{x^2+y^2\\over2\\sigma^2} \\biggr),\n",
    "\\end{equation}$$\n",
    "\n",
    "where $\\sigma$ is the width of the Gaussian.  Even with this assumption,\n",
    "however, we still don't know the value of $\\sigma$ and we may have to\n",
    "experiment to find a value that works well.  In the following exercise, for\n",
    "simplicity, we'll assume we know the value of $\\sigma$.\n",
    "\n",
    "(a) In the folder that you obtained this notebook you will find a file called `blur.txt` that\n",
    "  contains a grid of values representing brightness on a black-and-white\n",
    "  photo---a badly out-of-focus one that has been deliberately blurred using\n",
    "  a Gaussian point spread function of width $\\sigma=25$.  Write a program\n",
    "  that reads the grid of values into a two-dimensional array of real\n",
    "  numbers and then draws the values on the screen of the computer as a\n",
    "  density plot.  You should see the photo appear.  If you get something\n",
    "  wrong it might be upside-down.  Work with the details of your program\n",
    "  until you get it appearing correctly.  (Hint: The picture has the sky,\n",
    "  which is bright, at the top and the ground, which is dark, at the\n",
    "  bottom.)"
   ]
  },
  {
   "cell_type": "code",
   "execution_count": 20,
   "metadata": {
    "deletable": false,
    "nbgrader": {
     "cell_type": "code",
     "checksum": "321c0db12fb93440b9c0e6a465dbcffe",
     "grade": false,
     "grade_id": "cell-80bd9bf988f7f256",
     "locked": false,
     "schema_version": 3,
     "solution": true,
     "task": false
    }
   },
   "outputs": [
    {
     "data": {
      "image/png": "[encoded data removed]",
      "text/plain": [
       "<Figure size 432x288 with 1 Axes>"
      ]
     },
     "metadata": {
      "needs_background": "light"
     },
     "output_type": "display_data"
    }
   ],
   "source": [
    "def read_2D_data(filename):\n",
    "    \"\"\"Reads 2D data\n",
    "    \n",
    "    Args:\n",
    "        filename (str): name of the file\n",
    "    \n",
    "    Returns:\n",
    "        numpy array: the data\"\"\"\n",
    "    \n",
    "    data = None\n",
    "    \n",
    "    # YOUR CODE HERE\n",
    "    data = np.loadtxt(filename)\n",
    "    #raise NotImplementedError()\n",
    "    \n",
    "    return data\n",
    "\n",
    "data = read_2D_data('blur.txt')\n",
    "\n",
    "# plotting\n",
    "# YOUR CODE HERE\n",
    "plt.imshow(data, cmap='gray')\n",
    "plt.show()\n",
    "#raise NotImplementedError()"
   ]
  },
  {
   "cell_type": "code",
   "execution_count": 21,
   "metadata": {
    "deletable": false,
    "editable": false,
    "nbgrader": {
     "cell_type": "code",
     "checksum": "29c175f7a076dbe759d4b0d20d401448",
     "grade": true,
     "grade_id": "cell-d6596dd6f935b0f7",
     "locked": true,
     "points": 1,
     "schema_version": 3,
     "solution": false,
     "task": false
    }
   },
   "outputs": [],
   "source": [
    "# validation\n",
    "\n",
    "data = read_2D_data('blur.txt')\n",
    "assert isinstance(data, np.ndarray), 'bad function'\n",
    "assert data.dtype == float, 'bad function'\n",
    "assert data.shape == (1024, 1024), 'bad function'"
   ]
  },
  {
   "cell_type": "markdown",
   "metadata": {
    "deletable": false,
    "editable": false,
    "nbgrader": {
     "cell_type": "markdown",
     "checksum": "3090c3d43a9e436b8cb7de5b462931a8",
     "grade": false,
     "grade_id": "cell-4a8cfffa493ec792",
     "locked": true,
     "schema_version": 3,
     "solution": false,
     "task": false
    }
   },
   "source": [
    "(b) Write another program that creates an array, of the same size as the\n",
    "  photo, containing a grid of samples drawn from the Gaussian~$f(x,y)$\n",
    "  above with $\\sigma=25$.  Make a density plot of these values on the\n",
    "  screen too, so that you get a visualization of your point spread\n",
    "  function.  Remember that the point spread function is periodic (along\n",
    "  both axes), which means that the values for negative $x$ and $y$ are\n",
    "  repeated at the end of the interval.  Since the Gaussian is centered on\n",
    "  the origin, this means there should be bright patches in each of the four\n",
    "  corners of your picture, something like this:\n",
    "\n",
    "<img src=\"psf.png\" width=\"250\" />\n",
    "\n",
    "Note: This photo has a smaller shape, than the blur.txt, therefore the \n",
    "spreads will not be as drastic as in the photo."
   ]
  },
  {
   "cell_type": "code",
   "execution_count": 22,
   "metadata": {
    "deletable": false,
    "nbgrader": {
     "cell_type": "code",
     "checksum": "35b1c08a3ed0166b5f4e307da26067e4",
     "grade": false,
     "grade_id": "cell-2c1e2acd13e8392e",
     "locked": false,
     "schema_version": 3,
     "solution": true,
     "task": false
    }
   },
   "outputs": [
    {
     "data": {
      "image/png": "[encoded data removed]",
      "text/plain": [
       "<Figure size 432x288 with 1 Axes>"
      ]
     },
     "metadata": {
      "needs_background": "light"
     },
     "output_type": "display_data"
    }
   ],
   "source": [
    "def get_point_spread_function(data, sigma):\n",
    "    \"\"\"Retruns a gaussian point spread function\n",
    "    \n",
    "    Args:\n",
    "        data (numpy array): the photo array to get the size of the spread function\n",
    "        sigma (float): sigma of gaussian\n",
    "    \n",
    "    Returns:\n",
    "        numpy array: the point spread function\"\"\"\n",
    "    spread = np.zeros_like(data)\n",
    "    \n",
    "    # YOUR CODE HERE\n",
    "    w = 2*sigma**2\n",
    "    \n",
    "    # Upper left corner\n",
    "    x,y = np.meshgrid(np.arange(data.shape[0]), np.arange(data.shape[1]))\n",
    "    d = x*x + y*y\n",
    "    spread += np.exp(-d/w)\n",
    "    \n",
    "    # Upper right corner\n",
    "    x,y = np.meshgrid(np.arange(data.shape[0]-1,-1,-1), np.arange(data.shape[1]))\n",
    "    d = x*x + y*y\n",
    "    spread += np.exp(-d/w)\n",
    "    \n",
    "    # Lower left corner\n",
    "    x,y = np.meshgrid(np.arange(data.shape[0]), np.arange(data.shape[1]-1,-1,-1))\n",
    "    d = x*x + y*y\n",
    "    spread += np.exp(-d/w)\n",
    "    \n",
    "    # Lower right corner\n",
    "    x,y = np.meshgrid(np.arange(data.shape[0]-1,-1,-1), np.arange(data.shape[1]-1,-1,-1))\n",
    "    d = x*x + y*y\n",
    "    spread += np.exp(-d/w)\n",
    "    #raise NotImplementedError()\n",
    "    \n",
    "    return spread\n",
    "\n",
    "point_func = get_point_spread_function(data, 25)\n",
    "\n",
    "# plotting\n",
    "# YOUR CODE HERE\n",
    "plt.imshow(point_func, cmap='gray')\n",
    "plt.show()\n",
    "#raise NotImplementedError()"
   ]
  },
  {
   "cell_type": "code",
   "execution_count": 23,
   "metadata": {
    "deletable": false,
    "editable": false,
    "nbgrader": {
     "cell_type": "code",
     "checksum": "df5f6381edc0c11ad0d56bbed8a61e73",
     "grade": true,
     "grade_id": "cell-0746b961e4f19f6f",
     "locked": true,
     "points": 2,
     "schema_version": 3,
     "solution": false,
     "task": false
    }
   },
   "outputs": [],
   "source": [
    "# validation\n",
    "fn = read_2D_data('blur.txt')\n",
    "pt_fn = get_point_spread_function(fn, 25)\n",
    "assert pt_fn.shape == fn.shape, 'shape mismatch'\n",
    "# checking 90 deg rotational symmetry, since the gaussian is even in all corners\n",
    "assert np.mean(np.abs(pt_fn - np.rot90(pt_fn, k=1))) <= 1e-4, 'bad function'"
   ]
  },
  {
   "cell_type": "markdown",
   "metadata": {
    "deletable": false,
    "editable": false,
    "nbgrader": {
     "cell_type": "markdown",
     "checksum": "044bce27976a2d5b0c67b01624b01a42",
     "grade": false,
     "grade_id": "cell-49337ea55bf8d68e",
     "locked": true,
     "schema_version": 3,
     "solution": false,
     "task": false
    }
   },
   "source": [
    "(c) Combine your two programs and add Fourier transforms using the\n",
    "  functions `rfft2` and `irfft2` from `numpy.fft`, to make a\n",
    "  program that does the following:\n",
    "\n",
    "i) Calculates Fourier transform of both, photo and point spread function\n",
    "\n",
    "ii) Divides one by the other\n",
    "\n",
    "iii) Performs an inverse transform to get the unblurred photo\n",
    "\n",
    "iv) Displays the unblurred photo on the screen\n",
    "\n",
    "When you are done, you should be able to make out the scene in\n",
    "the photo, although probably it will still not be perfectly sharp.\n",
    "\n",
    "Hint: One thing you'll need to deal with is what happens when the Fourier\n",
    "transform of the point spread function is zero, or close to zero.  In that\n",
    "case if you divide by it you'll get an error (because you can't divide by\n",
    "zero) or just a very large number (because you're dividing by something\n",
    "small).  A workable compromise is that if a value in the Fourier transform\n",
    "of the point spread function is smaller than a certain amount $\\epsilon$\n",
    "you don't divide by it---just leave that coefficient alone.  The value of\n",
    "$\\epsilon$ is not very critical but a reasonable value seems to be $10^{-3}$."
   ]
  },
  {
   "cell_type": "code",
   "execution_count": 24,
   "metadata": {
    "deletable": false,
    "nbgrader": {
     "cell_type": "code",
     "checksum": "179626820875ef77ba6c5c30989de02d",
     "grade": true,
     "grade_id": "cell-798b40439b72e347",
     "locked": false,
     "points": 2,
     "schema_version": 3,
     "solution": true,
     "task": false
    }
   },
   "outputs": [
    {
     "data": {
      "image/png": "[encoded data removed]",
      "text/plain": [
       "<Figure size 432x288 with 1 Axes>"
      ]
     },
     "metadata": {
      "needs_background": "light"
     },
     "output_type": "display_data"
    }
   ],
   "source": [
    "def deconvolve(data, point_function):\n",
    "    \"\"\"Deconvolves point_function from the data\n",
    "    \n",
    "    Args:\n",
    "        data (numpy array): the 2D data to deconvolve\n",
    "        point_dunction (numpy array): the point function\n",
    "    \n",
    "    Returns:\n",
    "        numpy array: Deconvolved array\"\"\"\n",
    "    \n",
    "    deconv_data = np.zeros_like(data)\n",
    "    epsilon = 1e-3\n",
    "    \n",
    "    # YOUR CODE HERE\n",
    "    # FFT for the blurred data\n",
    "    rfft_data = np.fft.rfft2(data)\n",
    "    \n",
    "    # FFT for the spread function\n",
    "    rfft_pf = np.fft.rfft2(point_function)\n",
    "    \n",
    "    # Assign elements lower than epsilon to 1 in spread func fft\n",
    "    # (division by 1 = No division)\n",
    "    rfft_pf[rfft_pf < epsilon] = 1\n",
    "    \n",
    "    # a_kl = b_kl / (f_kl * K * L)\n",
    "    conv_data = rfft_data / (rfft_pf * data.shape[0] * data.shape[1])\n",
    "    \n",
    "    # Inverse FFT for the convoluted data\n",
    "    deconv_data = np.fft.irfft2(conv_data)\n",
    "    #raise NotImplementedError()\n",
    "    \n",
    "    return deconv_data\n",
    "\n",
    "data = read_2D_data('blur.txt')\n",
    "# try different values of sigma to get the best deconvolution without artefacts\n",
    "point_func = get_point_spread_function(data, 19)\n",
    "deconc_data = deconvolve(data, point_func)\n",
    "\n",
    "# plotting\n",
    "# YOUR CODE HERE\n",
    "plt.imshow(deconc_data, cmap='gray')\n",
    "plt.show()\n",
    "#raise NotImplementedError()"
   ]
  },
  {
   "cell_type": "markdown",
   "metadata": {
    "deletable": false,
    "editable": false,
    "nbgrader": {
     "cell_type": "markdown",
     "checksum": "37f877d0a177d816c0a6635411e3796a",
     "grade": false,
     "grade_id": "cell-31946bcf11f4e3dc",
     "locked": true,
     "schema_version": 3,
     "solution": false,
     "task": false
    }
   },
   "source": [
    "(d) Bearing in mind this last point about zeros in the Fourier transform,\n",
    "  what is it that limits our ability to deblur a photo?  Why can we not\n",
    "  perfectly unblur any photo and make it completely sharp?\n",
    "\n",
    "\n",
    "We have seen this process in action here for a normal snapshot, but it is\n",
    "also used in many physics applications where one takes photos.  For\n",
    "instance, it is used in astronomy to enhance photos taken by telescopes.\n",
    "It was famously used with images from the Hubble Space Telescope\n",
    "after it was realized that the telescope's main mirror had a serious\n",
    "manufacturing flaw and was returning blurry photos---scientists managed to\n",
    "partially correct the blurring using Fourier transform techniques."
   ]
  },
  {
   "cell_type": "markdown",
   "metadata": {
    "deletable": false,
    "nbgrader": {
     "cell_type": "markdown",
     "checksum": "d56cc89e7adbc5c20d7c86c4de55e692",
     "grade": true,
     "grade_id": "cell-c654f67fd4c091a0",
     "locked": false,
     "points": 2,
     "schema_version": 3,
     "solution": true,
     "task": false
    }
   },
   "source": [
    "### Answer (double click to edit)\n",
    "\n",
    "If the values in the fourier transformed point function become very small, those points cannot be divided, i.e. it is left \"untreated\", which decreases the unblurring. If enough points are left untouched, the image cannot be properly unblurred. Because the fourier transform produces very small values for at least some of the points, the unblurring can never be perfect. Also, if the point function parameter sigma is increased too much, artifacts are introduced to the image. While increasing the sigma makes the image sharper, at some point it start to draw grid-like dots on the image, which occurs because the Gaussians become too wide."
   ]
  },
  {
   "cell_type": "code",
   "execution_count": null,
   "metadata": {},
   "outputs": [],
   "source": []
  }
 ],
 "metadata": {
  "kernelspec": {
   "display_name": "Python 3",
   "language": "python",
   "name": "python3"
  },
  "language_info": {
   "codemirror_mode": {
    "name": "ipython",
    "version": 3
   },
   "file_extension": ".py",
   "mimetype": "text/x-python",
   "name": "python",
   "nbconvert_exporter": "python",
   "pygments_lexer": "ipython3",
   "version": "3.8.8"
  }
 },
 "nbformat": 4,
 "nbformat_minor": 4
}
