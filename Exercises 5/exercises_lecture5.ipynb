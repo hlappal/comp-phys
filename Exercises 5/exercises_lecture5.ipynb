{
 "cells": [
  {
   "cell_type": "markdown",
   "metadata": {},
   "source": [
    "Before you turn this problem in, make sure everything runs as expected. First, **restart the kernel** (in the menubar, select Kernel$\\rightarrow$Restart) and then **run all cells** (in the menubar, select Cell$\\rightarrow$Run All).\n",
    "\n",
    "**NB. Do not add new or remove/cut cells in the notebook. Additionally, do not change the filename of this notebook.**\n",
    "\n",
    "Make sure you fill in any place that says `YOUR CODE HERE` or \"YOUR ANSWER HERE\", as well as your student number below:"
   ]
  },
  {
   "cell_type": "code",
   "execution_count": 1,
   "metadata": {},
   "outputs": [],
   "source": [
    "STUDENT_NUMBER = \"141927\""
   ]
  },
  {
   "cell_type": "markdown",
   "metadata": {},
   "source": [
    "---"
   ]
  },
  {
   "cell_type": "markdown",
   "metadata": {
    "deletable": false,
    "editable": false,
    "nbgrader": {
     "cell_type": "markdown",
     "checksum": "372e48e99982a0fc8ed745e2c84b0fc7",
     "grade": false,
     "grade_id": "cell-576feab85b4a13c1",
     "locked": true,
     "schema_version": 3,
     "solution": false,
     "task": false
    }
   },
   "source": [
    "# Exercise 5\n",
    "\n",
    "<font color='red'>Please be sure to provide verbal answers the question prompts along with your code.</font>"
   ]
  },
  {
   "cell_type": "markdown",
   "metadata": {
    "deletable": false,
    "editable": false,
    "nbgrader": {
     "cell_type": "markdown",
     "checksum": "586c48c3130515c24ea54fa28d52ffe3",
     "grade": false,
     "grade_id": "cell-9ad2fc2dd3216317",
     "locked": true,
     "schema_version": 3,
     "solution": false,
     "task": false
    }
   },
   "source": [
    "## Exercise 5.1: Kinetics of chemical reactions (4 points)"
   ]
  },
  {
   "cell_type": "markdown",
   "metadata": {
    "deletable": false,
    "editable": false,
    "nbgrader": {
     "cell_type": "markdown",
     "checksum": "caccd7d5196b5f2336cc9b2c1eb32aa2",
     "grade": false,
     "grade_id": "cell-74a68ad7a34bfaaa",
     "locked": true,
     "schema_version": 3,
     "solution": false,
     "task": false
    }
   },
   "source": [
    "Chemical kinetics or reaction kinetics investigates the speed of a chemical reaction, i.e., how fast the concentration of a reactant changes with time. The reactions are due to collisions of the the reactant species. The frequency with which the molecules or ions collide depends -next to theromodynamic variables such as the temperature- on their concentrations. Lets consider the thermical decomposition of dimethlyether  \n",
    "\n",
    "$$\n",
    "CH_3OCH_3 \\rightarrow CH_4+ H_2 +CO\n",
    "$$\n",
    "\n",
    "This is an reaction of the type \n",
    "$$\n",
    "A \\rightarrow B + C + ...\n",
    "$$\n",
    "\n",
    "Since we have only one reactant, the reaction rate will depend only on the concentration $c_A$ of $A$. This is a so-called 1st order reaction. The differential equation for a 1st order reaction is\n",
    "\n",
    "$$\n",
    "\\frac{d c_A(t)}{dt} = -kc_A(t)\n",
    "$$\n",
    "\n",
    "where $k$ is the reaction rate coefficient, which depends on the temperature, the activation energy of the reaction and other factors.\n",
    "\n",
    "1. Solve this equation i) analytically and write a program to solve with ii) the Euler method and iii) the 4th-order Runge-Kutta (RK4) method. Assume that the concentration of $A$ is $c_A = 1~\\mathrm{mol/l}$ at $t=0$ and that $k = 2.0~\\mathrm{min}^{-1}$. For the Euler method and RK4 method use a step size of $h= 0.1~\\mathrm{min}$. Plot $c_A(t)$ for $t=0$ to $t=1~\\mathrm{min}$ using the analytic, Euler and RK4 solution. Which method, Euler or RK4, agrees best with the analytic solution?\n",
    "2. Modify your program and repeat the Euler and RK4 calculations for step sizes $h=0.3,0.2,0.1,0.05,0.02,0.01,0.005,0.002,0.001,0.0005~\\mathrm{min}$. Calculate the errors with respect to the analytic solution after $1~\\mathrm{min}$, i.e., calculate  $\\mathrm{error}_{\\mathrm{Euler}}= |c_A^{\\mathrm{analytic}}(t=1~\\mathrm{min}) - c_A^{\\mathrm{euler}}(t=1~\\mathrm{min})|$ and  $\\mathrm{error}_{\\mathrm{RK4}}= |c_A^{\\mathrm{analytic}}(t=1~\\mathrm{min}) - c_A^{\\mathrm{RK4}}(t=1~\\mathrm{min})|$. Due to the finite step size, you will have only values at times < 1 min. Use the data point closest to 1 min. Plot both errors with respect to $h$. For which method does the error decrease faster?  <b>Hint:</b> Use a log-scale for both axes.\n",
    "3. Investigate the convergence properties of the Euler and RK4 solver with respect to $h$ further:  Determine from your calculations in 5.1.2 the scaling of the error $\\mathcal{O}(h^n)$ by power-law fits. Do the obtained exponents $n$ match the theoretical predictions? Include your fitted curves in your plot from 5.1.2. <b>Hint:</b> If you use a log-scale for the axes, you can perform a simple linear fit to get the exponents $n$.\n",
    "\n",
    "<b>Hint:</b> Notice that the differential\n",
    "equation in this case does not depend explicitly on time $t$, i.e, the right-hand side of the equation has no explicit dependence on $t$.\n",
    "You may nonetheless find it convenient to define a Python function `f(x,t)` including the time variable, so that your program takes the same form as the example programs in the lecture.\n",
    " You don't have to do it that way, but it can avoid some confusion."
   ]
  },
  {
   "cell_type": "code",
   "execution_count": 2,
   "metadata": {
    "deletable": false,
    "nbgrader": {
     "cell_type": "code",
     "checksum": "54afe7ee951e1ec29157675c0b220e45",
     "grade": true,
     "grade_id": "cell-aab8faa39663caf7",
     "locked": false,
     "points": 1,
     "schema_version": 3,
     "solution": true,
     "task": false
    }
   },
   "outputs": [
    {
     "data": {
      "image/png": "[encoded data removed]",
      "text/plain": [
       "<Figure size 432x288 with 1 Axes>"
      ]
     },
     "metadata": {
      "needs_background": "light"
     },
     "output_type": "display_data"
    },
    {
     "name": "stdout",
     "output_type": "stream",
     "text": [
      "The RK4 method is closer to the analytical solution than the Euler method.\n"
     ]
    }
   ],
   "source": [
    "# Part 1 (1.5 points)\n",
    "\n",
    "# YOUR CODE HERE\n",
    "import numpy as np\n",
    "from matplotlib import pyplot as plt\n",
    "\n",
    "# f(c, t) = dc/dt = -kc\n",
    "# Note: argument t is not needed in the function.\n",
    "f = lambda c: -k*c\n",
    "\n",
    "# Define variables\n",
    "c0 = 1   # mol/l\n",
    "k = 2.0  # 1/min\n",
    "h = 0.1  # min\n",
    "t_points = np.arange(0, 1, h)\n",
    "\n",
    "def analytical(h):\n",
    "    # The analytical solution can be found by separation of variables and integrating over t = 0..t and cA(t) = c(0)..c(t)\n",
    "    # The solution is then c(t) = c(0) exp(-kt)\n",
    "    t_points = np.arange(0, 1, h)\n",
    "    return c0 * np.exp(-k*t_points)\n",
    "c_analytical = analytical(h)\n",
    "\n",
    "def euler(h):\n",
    "    # Euler's method: cA_n+1 = cA_n + h*f(t_n, cA_n), where f(t_n, cA_n) = dcA/dt = -k cA_n\n",
    "    # So: cA_n+1 = cA_n - h*k*cA_n\n",
    "    t_points = np.arange(0, 1, h)\n",
    "    c_euler = []\n",
    "    c = c0\n",
    "    for t in t_points:\n",
    "        c_euler.append(c)\n",
    "        c += h*f(c)\n",
    "    return c_euler\n",
    "c_euler = euler(h)\n",
    "\n",
    "def rk4(h):\n",
    "    # RK4: y_n+1 = y_n + h/6 (k1 + 2*k2 + 2*k3 + k4),\n",
    "    # where\n",
    "    # k1 = f(y_n, t_n)\n",
    "    # k2 = f(y_n + h/2 k1, t_n + h/2)\n",
    "    # k3 = f(y_n + h/2 k2, t_n + h/2)\n",
    "    # k4 = f(y_n + h k3, t_n + h)\n",
    "    t_points = np.arange(0, 1, h)\n",
    "    c_rk4 = []\n",
    "    c = c0\n",
    "    for t in t_points:\n",
    "        c_rk4.append(c)\n",
    "        k1 = f(c)\n",
    "        k2 = f(c + 0.5*h*k1)\n",
    "        k3 = f(c + 0.5*h*k2)\n",
    "        k4 = f(c + h*k3)\n",
    "        c += 1/6*h*(k1 + 2*k2 + 2*k3 + k4)\n",
    "    return c_rk4\n",
    "c_rk4 = rk4(h)\n",
    "\n",
    "# Plot\n",
    "plt.plot(t_points, c_analytical, label='Analytical')\n",
    "plt.plot(t_points, c_euler, 'ro', label='Euler')\n",
    "plt.plot(t_points, c_rk4, 'k^', label='RK4')\n",
    "plt.xlabel('$t$ [min]')\n",
    "plt.ylabel('$c_A(t)$ [mol/L]')\n",
    "plt.legend()\n",
    "plt.show()\n",
    "\n",
    "# ANSWER\n",
    "print(\"The RK4 method is closer to the analytical solution than the Euler method.\")\n",
    "#raise NotImplementedError()"
   ]
  },
  {
   "cell_type": "code",
   "execution_count": 3,
   "metadata": {
    "deletable": false,
    "nbgrader": {
     "cell_type": "code",
     "checksum": "d2221bee2be74d20552fd9be90cc5fe7",
     "grade": true,
     "grade_id": "cell-f97e2c1dd12e7f63",
     "locked": false,
     "points": 2,
     "schema_version": 3,
     "solution": true,
     "task": false
    }
   },
   "outputs": [
    {
     "data": {
      "image/png": "[encoded data removed]",
      "text/plain": [
       "<Figure size 432x288 with 1 Axes>"
      ]
     },
     "metadata": {
      "needs_background": "light"
     },
     "output_type": "display_data"
    },
    {
     "name": "stdout",
     "output_type": "stream",
     "text": [
      "The RK4 method error decreases a lot faster than the Eeuler method error, as the h decreases.\n"
     ]
    }
   ],
   "source": [
    "# part 2 (1.5 points)\n",
    "# YOUR CODE HERE\n",
    "h_points = [0.3, 0.2, 0.1, 0.05, 0.02, 0.01, 0.005, 0.002, 0.001, 0.0005]\n",
    "errors = {'Euler': [], 'RK4': []}\n",
    "ind = -1  # The last data point is at t = 1 min - h\n",
    "\n",
    "# Calculate the errors\n",
    "for h in h_points:\n",
    "    c_analytical = analytical(h)\n",
    "    c_euler = euler(h)\n",
    "    c_rk4 = rk4(h)\n",
    "    errors['Euler'].append(abs(c_analytical[ind] - c_euler[ind]))\n",
    "    errors['RK4'].append(abs(c_analytical[ind] - c_rk4[ind]))\n",
    "\n",
    "# Plot\n",
    "plt.loglog(h_points, errors['Euler'], 'ro', label='Euler')\n",
    "plt.loglog(h_points, errors['RK4'], 'k^', label='RK4')\n",
    "plt.xlabel('$h$')\n",
    "plt.ylabel('Error')\n",
    "plt.legend()\n",
    "plt.show()\n",
    "\n",
    "print(\"The RK4 method error decreases a lot faster than the Eeuler method error, as the h decreases.\")\n",
    "#raise NotImplementedError()"
   ]
  },
  {
   "cell_type": "code",
   "execution_count": 4,
   "metadata": {
    "deletable": false,
    "nbgrader": {
     "cell_type": "code",
     "checksum": "6f7022ea2c8db641a01be3831dac4e00",
     "grade": true,
     "grade_id": "cell-986f2df2c1d053e4",
     "locked": false,
     "points": 1,
     "schema_version": 3,
     "solution": true,
     "task": false
    }
   },
   "outputs": [
    {
     "name": "stdout",
     "output_type": "stream",
     "text": [
      "Euler method error decreases with order n = 1.040\n",
      "RK4 method error decreases with order n = 4.075\n",
      "The scaling factors correspond to the expected errors orders of O(h^2) and O(h^5) for the Euler and RK4 method, respectively.\n"
     ]
    }
   ],
   "source": [
    "# part 3 (1 point)\n",
    "# YOUR CODE HERE\n",
    "# Take logs of h and both errors\n",
    "log_h = np.log(h_points)\n",
    "log_error_euler = np.log(errors['Euler'])\n",
    "log_error_rk4 = np.log(errors['RK4'])\n",
    "\n",
    "# Perform a linear fit on the log data (polyfit returns [slope, intercept])\n",
    "n_euler = np.polyfit(log_h, log_error_euler, 1)[0]\n",
    "n_rk4 = np.polyfit(log_h, log_error_rk4, 1)[0]\n",
    "print(f\"Euler method error decreases with order n = {n_euler:.3f}\")\n",
    "print(f\"RK4 method error decreases with order n = {n_rk4:.3f}\")\n",
    "print(\"The scaling factors correspond to the expected errors orders of O(h^2) and O(h^5) for the Euler and RK4 method, respectively.\")\n",
    "#raise NotImplementedError()"
   ]
  },
  {
   "cell_type": "markdown",
   "metadata": {
    "deletable": false,
    "editable": false,
    "nbgrader": {
     "cell_type": "markdown",
     "checksum": "32e43e1974c0fc160a6790225fcceb3f",
     "grade": false,
     "grade_id": "cell-32325af6dfeb1657",
     "locked": true,
     "schema_version": 3,
     "solution": false,
     "task": false
    }
   },
   "source": [
    "## Exercise 5.2: The Lotka-Volterra equations (3 points)"
   ]
  },
  {
   "cell_type": "markdown",
   "metadata": {
    "deletable": false,
    "editable": false,
    "nbgrader": {
     "cell_type": "markdown",
     "checksum": "100946b8ae3c7f2d03ada0ae75e74693",
     "grade": false,
     "grade_id": "cell-31197daf862144a4",
     "locked": true,
     "schema_version": 3,
     "solution": false,
     "task": false
    }
   },
   "source": [
    "The Lotka-Volterra equations are a mathematical model of predator-prey interactions between biological\n",
    "species.  Let two variables $x$ and $y$ be proportional to the size of the\n",
    "populations of two species, traditionally called \"rabbits\" (the\n",
    "prey) and \"foxes'' (the predators).  You could think of $x$ and $y$ as\n",
    "being the population in thousands, say, so that $x=2$ means there are 2000\n",
    "rabbits.  Strictly the only allowed values of $x$ and $y$ would then be\n",
    "multiples of 0.001, since you can only have whole numbers of rabbits or\n",
    "foxes.  But 0.001 is a pretty close spacing of values, so it's a decent\n",
    "approximation to treat $x$ and $y$ as continuous real numbers so long as\n",
    "neither gets very close to zero.\n",
    "\n",
    "In the Lotka-Volterra model the rabbits reproduce at a rate proportional\n",
    "to their population, but are eaten by the foxes at a rate proportional to\n",
    "both their own population and the population of foxes:\n",
    "\n",
    "$$\n",
    "{\\mathrm{d} x(t)\\over\\mathrm{d} t} = \\alpha x(t) - \\beta x(t)y(t),\n",
    "$$\n",
    "\n",
    "where $\\alpha$ and $\\beta$ are constants.  At the same time the foxes\n",
    "reproduce at a rate proportional the rate at which they eat\n",
    "rabbits - because they need food to grow and reproduce - but also die of\n",
    "old age at a rate proportional to their own population:\n",
    "\n",
    "$$\n",
    "{\\mathrm{d} y(t)\\over\\mathrm{d} t} = \\gamma x(t)y(t) - \\delta y(t),\n",
    "$$\n",
    "\n",
    "where $\\gamma$ and $\\delta$ are also constants.\n",
    "\n",
    "\n",
    "1. Write a program to solve these equations using the fourth-order\n",
    "  Runge-Kutta method for the case $\\alpha=1$, $\\beta=\\gamma=0.5$, and\n",
    "  $\\delta=2$, starting from the initial condition $x=y=2$.  Make a graph showing both $x$ and $y$ as a function of time on\n",
    "  the same axes from $t=0$ to $t=20$.  \n",
    "2. Describe in words what is going on in the system, in terms of rabbits\n",
    "  and foxes.\n",
    "\n"
   ]
  },
  {
   "cell_type": "code",
   "execution_count": 5,
   "metadata": {
    "deletable": false,
    "nbgrader": {
     "cell_type": "code",
     "checksum": "db2111c7de04cd7edc2b0fa9e36925ec",
     "grade": true,
     "grade_id": "cell-2290fa2b690126dc",
     "locked": false,
     "points": 2,
     "schema_version": 3,
     "solution": true,
     "task": false
    }
   },
   "outputs": [],
   "source": [
    "# Part 1 implementation (1 point)\n",
    "\n",
    "# YOUR CODE HERE\n",
    "# Functions dx/dt and dy/dt together in dr/dt\n",
    "# Note: argument t is not needed\n",
    "def f(r):\n",
    "    x = r[0]\n",
    "    y = r[1]\n",
    "    fx = alpha * x - beta * x * y\n",
    "    fy = gamma * x * y - delta * y\n",
    "    return np.array([fx, fy], float)\n",
    "\n",
    "# Define variables\n",
    "alpha = 1\n",
    "beta = 0.5\n",
    "gamma = 0.5\n",
    "delta = 2\n",
    "x0 = 2\n",
    "y0 = 2\n",
    "\n",
    "h = 0.01  # Some value for h\n",
    "t_points = np.arange(0, 20, h)\n",
    "# Use separate arrays for x and y\n",
    "x_rk4 = []\n",
    "y_rk4 = []\n",
    "r = np.array([x0, y0], float)\n",
    "for t in t_points:\n",
    "    x_rk4.append(r[0])\n",
    "    y_rk4.append(r[1])\n",
    "    k1 = f(r)\n",
    "    k2 = f(r + 0.5*h*k1)\n",
    "    k3 = f(r + 0.5*h*k2)\n",
    "    k4 = f(r + h*k3)\n",
    "    r += 1/6*h*(k1 + 2*k2 + 2*k3 + k4)\n",
    "#raise NotImplementedError()"
   ]
  },
  {
   "cell_type": "code",
   "execution_count": 6,
   "metadata": {
    "deletable": false,
    "nbgrader": {
     "cell_type": "code",
     "checksum": "2931f770f9eee95501681bbdfc2b7a75",
     "grade": true,
     "grade_id": "cell-3e08e1e6977f10ad",
     "locked": false,
     "points": 1,
     "schema_version": 3,
     "solution": true,
     "task": false
    }
   },
   "outputs": [
    {
     "data": {
      "image/png": "[encoded data removed]",
      "text/plain": [
       "<Figure size 432x288 with 1 Axes>"
      ]
     },
     "metadata": {
      "needs_background": "light"
     },
     "output_type": "display_data"
    }
   ],
   "source": [
    "# Part 1 plot (0.5 points)\n",
    "# YOUR CODE HERE\n",
    "plt.plot(t_points, x_rk4, label='Rabbits')\n",
    "plt.plot(t_points, y_rk4, label='Foxes')\n",
    "plt.xlabel('Time')\n",
    "plt.ylabel('Population (thousands)')\n",
    "plt.legend()\n",
    "plt.show()\n",
    "#raise NotImplementedError()"
   ]
  },
  {
   "cell_type": "markdown",
   "metadata": {
    "deletable": false,
    "nbgrader": {
     "cell_type": "markdown",
     "checksum": "2d401650abfe390af5d79f20746ba844",
     "grade": true,
     "grade_id": "cell-b0053fddf8340da5",
     "locked": false,
     "points": 0,
     "schema_version": 3,
     "solution": true,
     "task": false
    }
   },
   "source": [
    "Part 2 answer (0.5 points)\n",
    "\n",
    "When the population of foxes is decreasing below 2000, the rabbit population goes up rapidly.\n",
    "However, the fox population also starts to grow quickly when the rabbit population reaches approximately 3000.\n",
    "The rabbit population peaks at ca. 7000 and starts to drop.\n",
    "The fox population still grows, while the rabbit population is dropping, and peaks at ca. 4000, after which it also starts to drop.\n",
    "Both populations go down until the rabbit population starts to grow again at ca 2000.\n",
    "The fox population still drops while the number of rabbits is increasing, until it reaches a bottom at <1000, and then starts to rise again.\n",
    "The same cycle is repeated prediodically."
   ]
  },
  {
   "cell_type": "markdown",
   "metadata": {
    "deletable": false,
    "editable": false,
    "nbgrader": {
     "cell_type": "markdown",
     "checksum": "8795c06be75e88cef6f4ffc1391dd6f8",
     "grade": false,
     "grade_id": "cell-bd9bfb4507b8f026",
     "locked": true,
     "schema_version": 3,
     "solution": false,
     "task": false
    }
   },
   "source": [
    "## Exercise 5.3: Leapfrog method (2 points)"
   ]
  },
  {
   "cell_type": "markdown",
   "metadata": {
    "deletable": false,
    "editable": false,
    "nbgrader": {
     "cell_type": "markdown",
     "checksum": "5a7cd6588c58b8b8ca679a77196504f4",
     "grade": false,
     "grade_id": "cell-a4ee594a16ccb8ef",
     "locked": true,
     "schema_version": 3,
     "solution": false,
     "task": false
    }
   },
   "source": [
    "We want to solve the following second-order differential equation:\n",
    " \n",
    "$$\n",
    "{\\mathrm{d}^2 x(t)\\over\\mathrm{d} t^2} - \\biggl( {\\mathrm{d} x(t)\\over\\mathrm{d} t} \\biggr)^2 + x(t) + 5 = 0 .\n",
    "$$\n",
    "\n",
    "1. Change the second-order equation into two first-order equations and write them down.\n",
    "2. Write the program that solves these equations using the Leapfrog method. Solve from $t=0$ to $t=50$ in steps of\n",
    "$h=0.001$ with initial condition $x=1$ and $\\mathrm{d} x/\\mathrm{d} t = 0$.  Make a plot\n",
    "of your solution showing $x$ as a function of $t$. "
   ]
  },
  {
   "cell_type": "markdown",
   "metadata": {
    "deletable": false,
    "nbgrader": {
     "cell_type": "markdown",
     "checksum": "e7daa9c42f10b92e59208b0efb2ab12a",
     "grade": true,
     "grade_id": "cell-33888c34d24ae24a",
     "locked": false,
     "points": 1,
     "schema_version": 3,
     "solution": true,
     "task": false
    }
   },
   "source": [
    "Part 1 (0.5 points)\n",
    "\n",
    "$$\\frac{\\text{d}x}{\\text{d}t} = y, \\quad \\text{ and } \\quad \\frac{\\text{d}y}{\\text{d}t} = y^2 - x - 5$$"
   ]
  },
  {
   "cell_type": "code",
   "execution_count": 7,
   "metadata": {
    "deletable": false,
    "nbgrader": {
     "cell_type": "code",
     "checksum": "15c445f6a91c24d19569d589186375d7",
     "grade": true,
     "grade_id": "cell-06eae56b51181f86",
     "locked": false,
     "points": 1,
     "schema_version": 3,
     "solution": true,
     "task": false
    }
   },
   "outputs": [
    {
     "data": {
      "image/png": "[encoded data removed]",
      "text/plain": [
       "<Figure size 432x288 with 1 Axes>"
      ]
     },
     "metadata": {
      "needs_background": "light"
     },
     "output_type": "display_data"
    }
   ],
   "source": [
    "# Part 2 (1.5 points)\n",
    "\n",
    "# YOUR CODE HERE\n",
    "# Functions dy/dt, no t needed\n",
    "fy = lambda x,y: y*y - x - 5\n",
    "# fx is just y, so it is not explicitly defined\n",
    "\n",
    "# Define variables\n",
    "x0 = 1\n",
    "y0 = 0\n",
    "h = 0.001\n",
    "t_points = np.arange(0, 50, h)\n",
    "x_points = []\n",
    "y_points = []\n",
    "\n",
    "x = x0\n",
    "y = y0 + 0.5*h*fy(x, y0)  # Calculate the first half-step\n",
    "for t in t_points:\n",
    "    x_points.append(x)\n",
    "    y_points.append(y)\n",
    "    x += h*y         # Calculate the next whole step\n",
    "    y += h*fy(x, y)  # Calculate the next half-step\n",
    "\n",
    "plt.plot(t_points, x_points)\n",
    "plt.xlabel('$t$')\n",
    "plt.ylabel('$x$')\n",
    "plt.show()\n",
    "#raise NotImplementedError()"
   ]
  },
  {
   "cell_type": "markdown",
   "metadata": {
    "deletable": false,
    "editable": false,
    "nbgrader": {
     "cell_type": "markdown",
     "checksum": "fb90394e0c47b587fc08bbb32680726e",
     "grade": false,
     "grade_id": "cell-d2f6a3e341a1abf8",
     "locked": true,
     "schema_version": 3,
     "solution": false,
     "task": false
    }
   },
   "source": [
    "## Exercise 5.4: Orbit of the Earth (5 points)"
   ]
  },
  {
   "cell_type": "markdown",
   "metadata": {
    "deletable": false,
    "editable": false,
    "nbgrader": {
     "cell_type": "markdown",
     "checksum": "0678ee4e42e181f624de8c4d4c18ca66",
     "grade": false,
     "grade_id": "cell-3d90f772bfa289b1",
     "locked": true,
     "schema_version": 3,
     "solution": false,
     "task": false
    }
   },
   "source": [
    " Use the Verlet method to calculate the orbit of the Earth around\n",
    "the Sun. The differential equation obeyed by the earth is straightforward to\n",
    "derive.  The force between the Sun, with mass $M$ at the origin, and a\n",
    "earth of mass $m$ with position vector $\\mathbf{r}$ is $GMm/r^2$ in direction\n",
    "$-\\mathbf{r}/r$ (i.e., the direction towards the Sun), and hence Newton's\n",
    "second law tells us that\n",
    "\n",
    "$$\n",
    "m {\\mathrm{d}^2\\mathbf{r}\\over\\mathrm{d} t^2} = -\\biggl({GMm\\over r^2}\\biggr)\\,{\\mathbf{r}\\over r}.\n",
    "$$\n",
    "\n",
    "Canceling the $m$ and taking the $x$ component we have\n",
    "\n",
    "$$\n",
    "{\\mathrm{d}^2 x\\over\\mathrm{d} t^2} = -GM {x\\over r^3}\\,,\n",
    "$$\n",
    "\n",
    "and similarly for the other two coordinates.  We can, however, throw out\n",
    "one of the coordinates because the earth stays in a single plane as it\n",
    "orbits.  If we orient our axes so that this plane is perpendicular to\n",
    "the $z$-axis, we can forget about the $z$ coordinate and we are left with\n",
    "just two second-order equations to solve:\n",
    "\n",
    "$$\n",
    "{\\mathrm{d}^2 x\\over\\mathrm{d} t^2} = -GM {x\\over r^3}\\,, \\qquad\n",
    "{\\mathrm{d}^2 y\\over\\mathrm{d} t^2} = -GM {y\\over r^3}\\,,\n",
    "$$\n",
    "\n",
    "where $r=\\sqrt{x^2+y^2}$ and $G=6.6738\\times10^{-11}\\,\\mathrm{m^3\\,kg^{-1}\\,s^{-2}}$ is Newton's\n",
    "gravitational constant and $M=1.9891\\times10^{30}\\,$kg is the mass of the\n",
    "Sun.\n",
    "\n",
    "The orbit of the Earth is not perfectly circular, the planet being\n",
    "sometimes closer to and sometimes further from the Sun.  When it is at its\n",
    "closest point, or ``perihelion\", it is moving precisely tangentially\n",
    "(i.e., perpendicular to the line between itself and the Sun) and it has\n",
    "distance $1.4710\\times10^{11}\\,$m from the Sun and linear velocity\n",
    "$3.0287\\times10^4\\,\\mathrm{m\\,s^{-1}}$. \n",
    "\n",
    "1. Turn these two second-order equations into four first-order equations and write them down.\n",
    "2. Write a program to calculate the orbit of the Earth using the Verlet\n",
    "  method with a time-step of $h=1$ hour. Choose the perihelion as starting point, which translates to\n",
    "  the initial conditions $x=1.4710\\times10^{11}\\,$m and $y=0$ for the coordinates and $v_x=0$ and $v_y=3.0287\\times10^4\\,\\mathrm{m\\,s^{-1}}$ for the velocities.\n",
    "  Make a\n",
    "  plot of the orbit, showing 10 complete revolutions around the Sun.\n",
    "  The orbit should be very slightly, but visibly, non-circular.\n",
    "3.The gravitational potential energy of the Earth is $-GMm/r$, where\n",
    "  $m=5.9722\\times10^{24}\\,$kg is the mass of the planet, and its kinetic\n",
    "  energy is $1/2 mv^2$ as usual.  Modify your program to calculate both\n",
    "  of these quantities at each step, along with their sum (which is the\n",
    "  total energy), and make a plot showing all three as a function of time on\n",
    "  the same axes.  You should find that the potential and kinetic energies\n",
    "  vary visibly during the course of an orbit, but the total energy remains\n",
    "  constant.\n",
    "4. Now plot the total energy alone without the others and you should be\n",
    "  able to see a slight variation over the course of an orbit.  Because\n",
    "  you're using the Verlet method, however, which conserves energy in the\n",
    "  long term, the energy should always return to its starting value at the\n",
    "  end of each complete orbit.\n",
    "5. Calculate the earth orbit with the second-order Runge-Kutta method instead of the Verlet algorithm . Plot the total energy and compare to the total energy from the Verlet algorithm. What is the major difference? Which method, second-order Runge-Kutta or Verlet, do you find more suitable for the investigated problem?\n"
   ]
  },
  {
   "cell_type": "markdown",
   "metadata": {
    "deletable": false,
    "nbgrader": {
     "cell_type": "markdown",
     "checksum": "61d58883f3a23d6fa595845b09cdd336",
     "grade": true,
     "grade_id": "cell-057965dbfd3ccede",
     "locked": false,
     "points": 1,
     "schema_version": 3,
     "solution": true,
     "task": false
    }
   },
   "source": [
    "Part 1 (0.5 points):\n",
    "\n",
    "$$\\frac{\\text{d}x}{\\text{d}t} = v_x, \\quad \\frac{\\text{d}v_x}{\\text{d}t} = -GM \\frac{x}{r^3}$$\n",
    "\n",
    "$$\\frac{\\text{d}y}{\\text{d}t} = v_y, \\quad \\frac{\\text{d}v_y}{\\text{d}t} = -GM \\frac{y}{r^3}$$"
   ]
  },
  {
   "cell_type": "code",
   "execution_count": 65,
   "metadata": {
    "deletable": false,
    "nbgrader": {
     "cell_type": "code",
     "checksum": "1e3a1993b6d35e265f54bb14757732be",
     "grade": true,
     "grade_id": "cell-dd8a7eef3e9e56f8",
     "locked": false,
     "points": 1,
     "schema_version": 3,
     "solution": true,
     "task": false
    }
   },
   "outputs": [
    {
     "name": "stdout",
     "output_type": "stream",
     "text": [
      "Done!\n"
     ]
    }
   ],
   "source": [
    "# Parts 2-3. Verlet method with potential and kinetic energies (1.5 point)\n",
    "\n",
    "\n",
    "# YOUR CODE HERE\n",
    "\"\"\"\n",
    "The Verlet algorithm:\n",
    "    Before iteration,\n",
    "      calculate v at the first midpoint:     v(t + 0.5h) = v(t) + 0.5h f(r(t), t)\n",
    "    Then iterate by\n",
    "      calculating r at the full point:       r(t + h) = r(t) + h v(t + 0.5h)\n",
    "      calculating:                           k = h f(r(t + h), t + h)\n",
    "      calculating v at the full point:       v(t + h) = v(t + 0.5h) + 0.5k\n",
    "      calculating v at the next midpoint:    v(t + 1.5h) = v(t + 0.5h) + k\n",
    "\"\"\"\n",
    "\n",
    "import numpy as np\n",
    "from matplotlib import pyplot as plt\n",
    "\n",
    "def f(x, y, r):\n",
    "    \"\"\" Return the functions f(x) = -GM x/r^3 and f(y) = -GM y/r^3 \"\"\"\n",
    "    fx = -G*M*x/r**3\n",
    "    fy = -G*M*y/r**3\n",
    "    return np.array([fx, fy], float)\n",
    "\n",
    "def V(r):\n",
    "    \"\"\" Return the Earth's potential energy \"\"\"\n",
    "    return -G*M*m/r\n",
    "\n",
    "def T(vx, vy):\n",
    "    \"\"\" Return the Earth's kinetic energy \"\"\"\n",
    "    return 0.5*m*(vx*vx + vy*vy)\n",
    "\n",
    "# Define variables\n",
    "# Units converted so that the orders of magnitude are closer together (in range 1e0 -- 1e-9)\n",
    "#G = 6.6738e-11     # m^3 kg^-1 s^-2\n",
    "#G = 8.6492448e-4   # m^3 kg^-1 h^-2\n",
    "G = 8.6492448e-7   # (1e12 m)^3 (1e33 kg)^-1 h^-2\n",
    "#M = 1.9891e30      # kg\n",
    "M = 1.9891e-3      # 1e33 kg\n",
    "#m = 5.9722e24      # kg\n",
    "m = 5.9722e-9      # 1e33 kg\n",
    "h = 1              # h\n",
    "#x0 = 1.4710e11     # m\n",
    "x0 = 1.4710e-1     # 1e12 m\n",
    "y0 = 0             # 1e12 m\n",
    "vx0 = 0            # 1e12 m h^-1\n",
    "#vy0 = 3.0287e4     # m s^-1\n",
    "#vy0 = 1.090332e8   # m h^-1\n",
    "vy0 = 1.090332e-4  # 1e12 m h^-1\n",
    "\n",
    "t_points = np.arange(0, 87601, h)  # 10 a * 365 d * 24 h + 1 hours for 10 full revolutions\n",
    "x_points = []\n",
    "y_points = []\n",
    "vx_points = []\n",
    "vy_points = []\n",
    "\n",
    "# Potential and kinetic energies of Earth (for part 3)\n",
    "Epot_points = []\n",
    "Ekin_points = []\n",
    "Etot_points = []\n",
    "\n",
    "# Initial conditions\n",
    "x = x0\n",
    "y = y0\n",
    "vx = vx0\n",
    "vy = vy0\n",
    "r = np.sqrt(x*x + y*y)\n",
    "\n",
    "# Calculate v(t + 0.5h)\n",
    "a = f(x, y, r)\n",
    "vx += 0.5*a[0]\n",
    "vy += 0.5*a[1]\n",
    "\n",
    "for t in t_points:\n",
    "    # Record positions at full point\n",
    "    x_points.append(x)\n",
    "    y_points.append(y)\n",
    "    # Calculate the position at midpoint\n",
    "    x += 0.5*h*vx\n",
    "    y += 0.5*h*vy\n",
    "    r = np.sqrt(x*x + y*y)\n",
    "    # Calculate k\n",
    "    k = h*f(x, y, r)\n",
    "    # Record v at full point\n",
    "    vx_points.append(vx + 0.5*k[0])\n",
    "    vy_points.append(vx + 0.5*k[1])\n",
    "    # Calculate v at the next midpoint\n",
    "    vx += k[0]\n",
    "    vy += k[1]\n",
    "    \n",
    "    # Calculate the potential, kinetic and total energies of Earth\n",
    "    Epot = V(r)\n",
    "    Ekin = T(vx, vy)\n",
    "    Epot_points.append(Epot)\n",
    "    Ekin_points.append(Ekin)\n",
    "    Etot_points.append(Epot + Ekin)\n",
    "\n",
    "print(\"Done!\")\n",
    "#raise NotImplementedError()"
   ]
  },
  {
   "cell_type": "code",
   "execution_count": 69,
   "metadata": {
    "deletable": false,
    "nbgrader": {
     "cell_type": "code",
     "checksum": "b2ac707bdd1e7ba447659221960fd41a",
     "grade": true,
     "grade_id": "cell-a35af47a5629ce32",
     "locked": false,
     "points": 1,
     "schema_version": 3,
     "solution": true,
     "task": false
    }
   },
   "outputs": [
    {
     "data": {
      "image/png": "[encoded data removed]",
      "text/plain": [
       "<Figure size 432x288 with 1 Axes>"
      ]
     },
     "metadata": {
      "needs_background": "light"
     },
     "output_type": "display_data"
    }
   ],
   "source": [
    "# Part 2 plot. (0.5 points)\n",
    "\n",
    "\n",
    "# YOUR CODE HERE\n",
    "plt.plot(x_points, y_points)\n",
    "plt.gca().set_aspect('equal', adjustable='box')\n",
    "plt.xlabel('x (billion km)')\n",
    "plt.ylabel('y (billion km)')\n",
    "plt.show()\n",
    "#raise NotImplementedError()"
   ]
  },
  {
   "cell_type": "code",
   "execution_count": 76,
   "metadata": {
    "deletable": false,
    "nbgrader": {
     "cell_type": "code",
     "checksum": "6cf3722a948574414f60de54ba550216",
     "grade": true,
     "grade_id": "cell-f4e75a50dee71dc8",
     "locked": false,
     "points": 1,
     "schema_version": 3,
     "solution": true,
     "task": false
    }
   },
   "outputs": [
    {
     "data": {
      "image/png": "[encoded data removed]",
      "text/plain": [
       "<Figure size 432x288 with 1 Axes>"
      ]
     },
     "metadata": {
      "needs_background": "light"
     },
     "output_type": "display_data"
    }
   ],
   "source": [
    "# Part 3 plot. (0.5 points)\n",
    "\n",
    "\n",
    "# YOUR CODE HERE\n",
    "# Scale units\n",
    "Epot = np.array(Epot_points) * 1e16\n",
    "Ekin = np.array(Ekin_points) * 1e16\n",
    "Etot = np.array(Etot_points) * 1e16\n",
    "\n",
    "plt.plot(t_points, Epot, label='Epot')\n",
    "plt.plot(t_points, Ekin, label='Ekin')\n",
    "plt.plot(t_points, Etot, label='Etot')\n",
    "plt.xlabel('Time (hours)')\n",
    "plt.ylabel('Energy (1e24 GJ)')\n",
    "plt.legend()\n",
    "plt.show()\n",
    "#raise NotImplementedError()"
   ]
  },
  {
   "cell_type": "code",
   "execution_count": 78,
   "metadata": {
    "deletable": false,
    "nbgrader": {
     "cell_type": "code",
     "checksum": "53cd97dfbb75f18b25144cd7757d4061",
     "grade": true,
     "grade_id": "cell-2145536c09174113",
     "locked": false,
     "points": 1,
     "schema_version": 3,
     "solution": true,
     "task": false
    }
   },
   "outputs": [
    {
     "data": {
      "image/png": "[encoded data removed]",
      "text/plain": [
       "<Figure size 432x288 with 1 Axes>"
      ]
     },
     "metadata": {
      "needs_background": "light"
     },
     "output_type": "display_data"
    }
   ],
   "source": [
    "# Part 4. (0.5 points)\n",
    "\n",
    "\n",
    "# YOUR CODE HERE\n",
    "plt.plot(t_points, Etot)\n",
    "plt.xlabel('Time (hours)')\n",
    "plt.ylabel('Energy (1e24 GJ)')\n",
    "plt.show()\n",
    "#raise NotImplementedError()"
   ]
  },
  {
   "cell_type": "code",
   "execution_count": 82,
   "metadata": {
    "deletable": false,
    "nbgrader": {
     "cell_type": "code",
     "checksum": "734c8e6ad3d9efa95432e7861c9a15be",
     "grade": true,
     "grade_id": "cell-b3a44323f513fc71",
     "locked": false,
     "points": 0,
     "schema_version": 3,
     "solution": true,
     "task": false
    }
   },
   "outputs": [
    {
     "name": "stdout",
     "output_type": "stream",
     "text": [
      "Done!\n"
     ]
    },
    {
     "data": {
      "image/png": "[encoded data removed]",
      "text/plain": [
       "<Figure size 432x288 with 1 Axes>"
      ]
     },
     "metadata": {
      "needs_background": "light"
     },
     "output_type": "display_data"
    },
    {
     "name": "stdout",
     "output_type": "stream",
     "text": [
      "RK2 produces cumulative error, whereas the error in Verlet only fluctuates, and is conserved in the long run.\n",
      "Thus, the Verlet algorithm is a more suitable method for this kind of problem.\n"
     ]
    }
   ],
   "source": [
    "# Part 5. (1.5 points)\n",
    "\n",
    "# YOUR CODE HERE\n",
    "\"\"\"\n",
    "RK2 for position and velocity:\n",
    "  k1 = h f(r, t)\n",
    "  l1 = h v\n",
    "  k2 = h f(r + 0.5 l1, v + 0.5 k1, t + 0.5 h)\n",
    "  l2 = h (v + 0.5 k1)\n",
    "  v(t + h) = v(t) + k2\n",
    "  r(t + h) = r(t) + l2\n",
    "\n",
    "Here f(...) = f(x, y, r), r being the radial distance, is the same as in Verlet,\n",
    "and does not depend on v or t.\n",
    "\"\"\"\n",
    "\n",
    "# Initialize empty lists\n",
    "x_points = []\n",
    "y_points = []\n",
    "Epot_points = []\n",
    "Ekin_points = []\n",
    "Etot_points = []\n",
    "\n",
    "# Initial conditions\n",
    "x = x0\n",
    "y = y0\n",
    "vx = vx0\n",
    "vy = vy0\n",
    "r = np.sqrt(x*x + y*y)\n",
    "\n",
    "for t in t_points:\n",
    "    # Record positions at full point\n",
    "    x_points.append(x)\n",
    "    y_points.append(y)\n",
    "    # Calculate k1 and l1\n",
    "    k1 = h * f(x, y, r)\n",
    "    l1 = h * np.array([vx, vy], float)\n",
    "    # Update r and calculate k2 and l2\n",
    "    r = np.sqrt(x*x + y*y)\n",
    "    k2 = h * f(x + 0.5*l1[0], y + 0.5*l1[1], r)\n",
    "    l2 = h * np.array([vx + k1[0], vy + k1[1]])\n",
    "    # Update velocities\n",
    "    vx += k2[0]\n",
    "    vy += k2[1]\n",
    "    # Update positions\n",
    "    x += l2[0]\n",
    "    y += l2[1]\n",
    "    r = np.sqrt(x*x + y*y)\n",
    "    \n",
    "    # Calculate the potential, kinetic and total energies of Earth\n",
    "    Epot = V(r)\n",
    "    Ekin = T(vx, vy)\n",
    "    Epot_points.append(Epot)\n",
    "    Ekin_points.append(Ekin)\n",
    "    Etot_points.append(Epot + Ekin)\n",
    "\n",
    "print(\"Done!\")\n",
    "\n",
    "Etot = np.array(Etot_points) * 1e16\n",
    "plt.plot(t_points, Etot)\n",
    "plt.xlabel('Time (hours)')\n",
    "plt.ylabel('Energy (1e24 GJ)')\n",
    "plt.show()\n",
    "\n",
    "print(\"RK2 produces cumulative error, whereas the error in Verlet only fluctuates, and is conserved in the long run.\")\n",
    "print(\"Thus, the Verlet algorithm is a more suitable method for this kind of problem.\")\n",
    "#raise NotImplementedError()"
   ]
  },
  {
   "cell_type": "markdown",
   "metadata": {
    "deletable": false,
    "editable": false,
    "nbgrader": {
     "cell_type": "markdown",
     "checksum": "122e3ae9317eeda6ec3c8a575d226fb6",
     "grade": false,
     "grade_id": "cell-9de59bc1d36c65d3",
     "locked": true,
     "schema_version": 3,
     "solution": false,
     "task": false
    }
   },
   "source": [
    "## Exercise 5.5: Solution of the Poisson equation (2 Points)"
   ]
  },
  {
   "cell_type": "markdown",
   "metadata": {
    "deletable": false,
    "editable": false,
    "nbgrader": {
     "cell_type": "markdown",
     "checksum": "eb13ad50f7fbfe0c872d523499cdc3ea",
     "grade": false,
     "grade_id": "cell-688bdd54b78da62b",
     "locked": true,
     "schema_version": 3,
     "solution": false,
     "task": false
    }
   },
   "source": [
    "As a more complex example of the use of the relaxation method, let us consider the solution of the Poisson equation of electrostatics\n",
    "\n",
    "$$\n",
    "\\nabla^2\\phi = - \\frac{\\rho}{\\epsilon_0}\n",
    "$$\n",
    "\n",
    " which governs the electric potential in the presence of a charge density $\\rho$. Here $\\epsilon_0$ is the permittivity of empty space (and we are assuming that we are in empty space). Let us consider this equation in two dimensions, for simplicity, in a square box 1 m along each side. All the walls of the box will be at voltage zero, but there will be two square charge in the box, one positive, one negative, as depicted below.\n",
    " \n",
    "<img src=\"poisson.png\" width=\"400\" />\n",
    "\n",
    "The two charges are each 20 cm on a side and 20 cm from the walls of the box and have the charge density $\\rho = \\pm 1 ~\\mathrm{Cm}^{-2}$.\n",
    "\n",
    "To solve this problem using the relaxation method we proceed similar as in the example in the lecture and rewrite the Poisson equation as\n",
    "\n",
    "$$\n",
    "\\frac{\\phi(x+a,y) + \\phi(x-a,y) + \\phi(x,y+a) + \\phi(x,y-a) -4\\phi(x,y)}{a^2} = - \\frac{\\rho(x,y)}{\\epsilon_0}\n",
    "$$\n",
    "\n",
    "Now we rearrange this expression for $\\phi(x,y)$ and get\n",
    "\n",
    "$$\n",
    "\\phi(x,y) = \\frac{1}{4}\\left[\\phi(x+a,y) + \\phi(x-a,y) + \\phi(x,y+a) + \\phi(x,y-a) \\right] + \\frac{a^2}{4\\epsilon_0}\\rho(x,y)\n",
    "$$\n",
    "\n",
    "This is similar to the example for the Laplace equation discussed in the lecture, but with the addition of the term $\\rho(x,y)$. Note that the spacing $a$ of the grid points no longer drops out of the calculation. We can, however, still solve the problem as we did before by choosing initial values for $\\phi(x,y)$ on a grid and then iterating to convergence.\n",
    "\n",
    "Write a program to solve Poisson's equaion for this system. Work in units where $\\epsilon_0 = 1$ and continue the iteration until your solution for the electric potential changes by less than $10^{-6}~\\mathrm{V}$ per step at every grid point."
   ]
  },
  {
   "cell_type": "code",
   "execution_count": 86,
   "metadata": {
    "deletable": false,
    "nbgrader": {
     "cell_type": "code",
     "checksum": "836ba47585db9e6b7acfec54ff0aff97",
     "grade": true,
     "grade_id": "cell-addeaaa321109ead",
     "locked": false,
     "points": 2,
     "schema_version": 3,
     "solution": true,
     "task": false
    }
   },
   "outputs": [
    {
     "data": {
      "image/png": "[encoded data removed]",
      "text/plain": [
       "<Figure size 432x288 with 1 Axes>"
      ]
     },
     "metadata": {
      "needs_background": "light"
     },
     "output_type": "display_data"
    }
   ],
   "source": [
    "# YOUR CODE HERE\n",
    "M = 100\n",
    "V = 1\n",
    "\n",
    "phi = np.zeros([M+1, M+1], float)\n",
    "phi[0,:] = V\n",
    "phiprime = np.empty([M+1, M+1], float)\n",
    "\n",
    "target = 1e-6\n",
    "delta = 1\n",
    "while delta > target:\n",
    "    # Calculate new values of the potential\n",
    "    for i in range(M+1):\n",
    "        for j in range(M+1):\n",
    "            if i==0 or i==M or j==0 or j==M:\n",
    "                phiprime[i,j] = phi[i,j]\n",
    "            else:\n",
    "                phiprime[i,j] = (phi[i+1,j] + phi[i-1,j] + phi[i,j+1] + phi[i,j-1])/4\n",
    "                if (i >= 60 and i < 80) and (j >= 20 and j < 40):  # i,j at the positive charge\n",
    "                    phiprime[i,j] += 1/4  # add the term a^2 / 4 eps0 rho_+\n",
    "                elif (i >= 20 and i < 40) and (j >= 60 and j < 80):  #i,j at the negative charge\n",
    "                    phiprime[i,j] -= 1/4  # add the term a^2 / 4 eps0 rho_-\n",
    "    \n",
    "    delta = np.max(abs(phi-phiprime))\n",
    "    phi,phiprime = phiprime,phi\n",
    "\n",
    "plt.imshow(phi)\n",
    "plt.show()\n",
    "#raise NotImplementedError()"
   ]
  },
  {
   "cell_type": "markdown",
   "metadata": {
    "deletable": false,
    "nbgrader": {
     "cell_type": "markdown",
     "checksum": "936dfe1a6c55a4d4c5836bb04454f984",
     "grade": true,
     "grade_id": "cell-9a4ea506f0d0f99c",
     "locked": false,
     "points": 0,
     "schema_version": 3,
     "solution": true,
     "task": false
    }
   },
   "source": [
    "Please comment on your results:\n",
    "\n",
    "The positive and negative charges can be seen in the plot. The charges \"bleed\" onto the surroundings."
   ]
  },
  {
   "cell_type": "markdown",
   "metadata": {
    "deletable": false,
    "editable": false,
    "nbgrader": {
     "cell_type": "markdown",
     "checksum": "5378e6e4020ff6f2c12001241ddf2e32",
     "grade": false,
     "grade_id": "cell-43746bbf3edf8862",
     "locked": true,
     "schema_version": 3,
     "solution": false,
     "task": false
    }
   },
   "source": [
    "## Exercise 5.6: FTCS solution of the wave equation (4 points)"
   ]
  },
  {
   "cell_type": "markdown",
   "metadata": {
    "deletable": false,
    "editable": false,
    "nbgrader": {
     "cell_type": "markdown",
     "checksum": "f461ef5eb270bac4567249c4eccf7ed3",
     "grade": false,
     "grade_id": "cell-d13f4aa9c8279ffe",
     "locked": true,
     "schema_version": 3,
     "solution": false,
     "task": false
    }
   },
   "source": [
    "Consider a piano string of\n",
    "length $L$, initially at rest.  At time $t=0$ the string is struck by the\n",
    "piano hammer a distance $d$ from the end of the string:\n",
    "\n",
    "<img src=\"piano.png\" width=\"500\" />\n",
    "\n",
    "The string vibrates as a result of being struck, except at\n",
    "the ends, $x=0$ and $x=L$, where it is held fixed.\n",
    "\n",
    "This system can be described by the 1D wave equation\n",
    "\n",
    "$$\n",
    "\\frac{\\partial^2\\phi}{\\partial t^2} = v^2\\frac{\\partial^2\\phi}{\\partial x^2}\n",
    "$$\n",
    "\n",
    "We start by dividing the string into discrete points with spacing $a$. Then we replace the\n",
    "right-hand side of the equation with a discrete difference, see lecture, and derive a set of\n",
    "second-order differential equation, one for each grid point\n",
    "\n",
    "$$\n",
    "\\frac{\\partial^2\\phi}{\\partial t^2} = \\frac{v^2}{a^2}\\left[\\phi(x+a,t)+\\phi(x-a,t)-2\\phi(x,t)\\right]\n",
    "$$\n",
    "\n",
    "Now we change this second-order equation into two first-order equations:\n",
    "\n",
    "$$\n",
    "\\frac{\\mathrm{d}\\phi}{\\mathrm{d}t} = \\psi(x,t), \\qquad \\qquad \\frac{\\mathrm{d}\\psi}{\\mathrm{d}t} = \\frac{v^2}{a^2}\\left[\\phi(x+a,t)+\\phi(x-a,t)-2\\phi(x,t)\\right]\n",
    "$$\n",
    "\n",
    "Then, applying Euler's method, these equations become two FTCS equations\n",
    "\n",
    "$$\n",
    "\\phi(x,t+h) = \\phi(x,t) + h\\psi(x,t), \\qquad \\qquad \\psi(x,t+h) = \\psi(x,t) +h \\frac{v^2}{a^2}\\left[\\phi(x+a,t)+\\phi(x-a,t)-2\\phi(x,t)\\right]\n",
    "$$\n",
    "\n",
    "\n",
    "1. Write a program that uses the FTCS method to solve the complete set\n",
    "  of simultaneous first-order equations arrived above for the case\n",
    "  $v=100\\,\\mathrm{ms}^{-1}$, with the initial condition that $\\phi(x)=0$\n",
    "  everywhere but the velocity $\\psi(x)$ is nonzero, with profile \n",
    "$$\n",
    "\\psi(x) = C {x(L-x)\\over L^2} \\exp \\biggl[ -{(x-d)^2\\over2\\sigma^2} \\biggr],\n",
    "$$\n",
    "where $L=1\\mathrm{m}$, $d=10\\mathrm{cm}$, $C=1\\,\\mathrm{ms}^{-1}$, and $\\sigma=0.3\\mathrm{m}$.\n",
    "You will also need to choose a value for the time-step $h$. A reasonable\n",
    "choice is $h=10^{-6}\\mathrm{s}$.\n",
    "\n",
    "2. Plot the solution at  2 ms, 83 ms and 100 ms. Make also an animation of the motion of the piano string. There are various ways how\n",
    "you can could do animations, which were introduce in the first lecture of this course. You can use `FuncAnimation ` from the `matplotlib` package. You \n",
    "can also use the `vpython` package by, e.g., placing a small sphere at the location of each grid point on the string.   Allow your animation to run for at least 100 ms.\n",
    "3. When do numerical instabilities start to appear? The FTCS method worked well for the diffusion problem discussed in the lecture. Can you improve the numerical stability for the wave equation by making the step size smaller?"
   ]
  },
  {
   "cell_type": "code",
   "execution_count": 87,
   "metadata": {
    "deletable": false,
    "nbgrader": {
     "cell_type": "code",
     "checksum": "c976119275322c47acfd2d7248ddc207",
     "grade": true,
     "grade_id": "cell-2c4d6df096b980d4",
     "locked": false,
     "points": 1,
     "schema_version": 3,
     "solution": true,
     "task": false
    }
   },
   "outputs": [
    {
     "ename": "NotImplementedError",
     "evalue": "",
     "output_type": "error",
     "traceback": [
      "\u001b[0;31m---------------------------------------------------------------------------\u001b[0m",
      "\u001b[0;31mNotImplementedError\u001b[0m                       Traceback (most recent call last)",
      "\u001b[0;32m<ipython-input-87-ae1b9bb1657f>\u001b[0m in \u001b[0;36m<module>\u001b[0;34m\u001b[0m\n\u001b[1;32m     25\u001b[0m \u001b[0;34m\u001b[0m\u001b[0m\n\u001b[1;32m     26\u001b[0m \u001b[0;31m# NOTE: Time ran out!\u001b[0m\u001b[0;34m\u001b[0m\u001b[0;34m\u001b[0m\u001b[0;34m\u001b[0m\u001b[0m\n\u001b[0;32m---> 27\u001b[0;31m \u001b[0;32mraise\u001b[0m \u001b[0mNotImplementedError\u001b[0m\u001b[0;34m(\u001b[0m\u001b[0;34m)\u001b[0m\u001b[0;34m\u001b[0m\u001b[0;34m\u001b[0m\u001b[0m\n\u001b[0m",
      "\u001b[0;31mNotImplementedError\u001b[0m: "
     ]
    }
   ],
   "source": [
    "# Part 1 solution. (1.5 points)\n",
    "\n",
    "\n",
    "# YOUR CODE HERE\n",
    "#import numpy as np\n",
    "#from matplotlib import pyplot as plt\n",
    "#\n",
    "## Define variables\n",
    "#L = 1        # m\n",
    "#d = 0.01     # m\n",
    "#C = 1e-3     # s^-1\n",
    "#sigma = 0.3  # m\n",
    "#h = 10e-6    # s\n",
    "#N = 100      # number of grid points\n",
    "#a = L/N      # grid spacing\n",
    "#\n",
    "#psi = np.empty([N+1], float)\n",
    "#\n",
    "#def f(tend):\n",
    "#    x = 0\n",
    "#    t = 0\n",
    "#    while t < tend:\n",
    "#        for i in range(1, N):\n",
    "#            psi[i] = C * x*(L - x) / (L*L) * np.exp(-(x-d)*(x-d) / (2*sigma*sigma))\n",
    "\n",
    "# NOTE: Time ran out!\n",
    "raise NotImplementedError()"
   ]
  },
  {
   "cell_type": "code",
   "execution_count": null,
   "metadata": {
    "deletable": false,
    "nbgrader": {
     "cell_type": "code",
     "checksum": "fe0bb57532f5df496ecc3dd0a1c47af6",
     "grade": true,
     "grade_id": "cell-3b50ec5a21e182ba",
     "locked": false,
     "points": 2,
     "schema_version": 3,
     "solution": true,
     "task": false
    }
   },
   "outputs": [],
   "source": [
    "# Part 2 plots of solution. (0.5 points)\n",
    "\n",
    "\n",
    "# YOUR CODE HERE\n",
    "raise NotImplementedError()"
   ]
  },
  {
   "cell_type": "code",
   "execution_count": null,
   "metadata": {
    "deletable": false,
    "nbgrader": {
     "cell_type": "code",
     "checksum": "048aef3dbd181060fd137f3ed9231d49",
     "grade": true,
     "grade_id": "cell-bd79fe4ff39da253",
     "locked": false,
     "points": 1,
     "schema_version": 3,
     "solution": true,
     "task": false
    }
   },
   "outputs": [],
   "source": [
    "# Part 2 animation. (1 point)\n",
    "\n",
    "\n",
    "# YOUR CODE HERE\n",
    "raise NotImplementedError()"
   ]
  },
  {
   "cell_type": "markdown",
   "metadata": {
    "deletable": false,
    "nbgrader": {
     "cell_type": "markdown",
     "checksum": "a297b0d356ac26bb81db62fb90e35cdf",
     "grade": true,
     "grade_id": "cell-12c47b1e66547c7c",
     "locked": false,
     "points": 0,
     "schema_version": 3,
     "solution": true,
     "task": false
    }
   },
   "source": [
    "Part 3 answer. (1 point)\n"
   ]
  }
 ],
 "metadata": {
  "kernelspec": {
   "display_name": "Python 3",
   "language": "python",
   "name": "python3"
  },
  "language_info": {
   "codemirror_mode": {
    "name": "ipython",
    "version": 3
   },
   "file_extension": ".py",
   "mimetype": "text/x-python",
   "name": "python",
   "nbconvert_exporter": "python",
   "pygments_lexer": "ipython3",
   "version": "3.8.8"
  }
 },
 "nbformat": 4,
 "nbformat_minor": 5
}
