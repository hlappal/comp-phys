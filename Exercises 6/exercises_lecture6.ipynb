{
 "cells": [
  {
   "cell_type": "markdown",
   "metadata": {},
   "source": [
    "Before you turn this problem in, make sure everything runs as expected. First, **restart the kernel** (in the menubar, select Kernel$\\rightarrow$Restart) and then **run all cells** (in the menubar, select Cell$\\rightarrow$Run All).\n",
    "\n",
    "**NB. Do not add new or remove/cut cells in the notebook. Additionally, do not change the filename of this notebook.**\n",
    "\n",
    "Make sure you fill in any place that says `YOUR CODE HERE` or \"YOUR ANSWER HERE\", as well as your student number below:"
   ]
  },
  {
   "cell_type": "code",
   "execution_count": 1,
   "metadata": {},
   "outputs": [],
   "source": [
    "STUDENT_NUMBER = \"141927\""
   ]
  },
  {
   "cell_type": "markdown",
   "metadata": {},
   "source": [
    "---"
   ]
  },
  {
   "cell_type": "markdown",
   "metadata": {
    "deletable": false,
    "editable": false,
    "nbgrader": {
     "cell_type": "markdown",
     "checksum": "c2fd903471318b8e5eb0b7d736d0f29e",
     "grade": false,
     "grade_id": "cell-852fdd92cb781534",
     "locked": true,
     "schema_version": 3,
     "solution": false,
     "task": false
    }
   },
   "source": [
    "# Exercises Lecture 6"
   ]
  },
  {
   "cell_type": "code",
   "execution_count": 2,
   "metadata": {
    "deletable": false,
    "editable": false,
    "nbgrader": {
     "cell_type": "code",
     "checksum": "d7eb5d5b582295a490d30f55b2d2667e",
     "grade": false,
     "grade_id": "cell-3d44b544c4ac4668",
     "locked": true,
     "schema_version": 3,
     "solution": false,
     "task": false
    }
   },
   "outputs": [],
   "source": [
    "# imports\n",
    "\n",
    "import numpy as np"
   ]
  },
  {
   "cell_type": "markdown",
   "metadata": {
    "deletable": false,
    "editable": false,
    "nbgrader": {
     "cell_type": "markdown",
     "checksum": "e96cc2fbd58784cf4faab8bd3cfb3187",
     "grade": false,
     "grade_id": "cell-c52fdff9cbb68501",
     "locked": true,
     "schema_version": 3,
     "solution": false,
     "task": false
    }
   },
   "source": [
    "## Exercise 6.1: (4 points)\n",
    "\n",
    "(a) Write a program to evaluate the integral in Equation $I=\\int_0^2sin^2\\big[\\frac{1}{x(2-x)}\\big]dx$ using the Monte Carlo Integration method with $10\\,000$ points.\n",
    "  Also evaluate the error on your estimate.\n",
    "  \n",
    "(b) Now estimate the integral again using the mean value method with\n",
    "  $10\\,000$ points.  Also evaluate the error.\n",
    "\n",
    "You should find that the error is somewhat smaller using the mean value\n",
    "method."
   ]
  },
  {
   "cell_type": "code",
   "execution_count": 19,
   "metadata": {
    "deletable": false,
    "nbgrader": {
     "cell_type": "code",
     "checksum": "5cdb1fc6eaa04be9f88a1c93cdb26cea",
     "grade": false,
     "grade_id": "cell-ca89145c5c2b3829",
     "locked": false,
     "schema_version": 3,
     "solution": true,
     "task": false
    }
   },
   "outputs": [],
   "source": [
    "def mc_integration(n):\n",
    "    \"\"\"\n",
    "    derive Monte Carlo integral of the function\n",
    "    Args:\n",
    "        n (int): number of points\n",
    "    Returns:\n",
    "        float: the integral value\n",
    "        float: the error on the estimate\n",
    "    \"\"\"\n",
    "    integral = 0  # the integral value\n",
    "    err = 0\n",
    "    # recall form the lecture that the area is bounded\n",
    "    # 2 units in x and 1 unit in y, from the plot of the function.\n",
    "    # YOUR CODE HERE\n",
    "    \n",
    "    area = 2\n",
    "    x = np.random.uniform(0, 2, n)  # N random points in range [0, 2] dran from the uniform distribution\n",
    "    y = np.random.uniform(0, 1, n)  # N random points in range [0, 1] dran from the uniform distribution\n",
    "    fx = np.sin(1/(x*(2-x)))**2     # The actual values for the data points\n",
    "    \n",
    "    # Calculate the Monte Carlo integral\n",
    "    under_zero = np.count_nonzero(y < fx)\n",
    "    integral = area*under_zero/n\n",
    "    \n",
    "    # Calculate the standard deviation sigma\n",
    "    err = np.sqrt(integral*(area-integral))/np.sqrt(n)\n",
    "    \n",
    "    #raise NotImplementedError()\n",
    "    \n",
    "    return integral, err\n",
    "\n",
    "def mvt_integration(n):\n",
    "    \"\"\"derive Mean Value integral of the function\n",
    "    Args:\n",
    "        n (int): number of points\n",
    "    Returns:\n",
    "        float: the integral value\n",
    "        float: the error on the estimate\"\"\"\n",
    "    integral = 0  # the integral value\n",
    "    err = 0\n",
    "    # recall form the lecture that the area is bounded\n",
    "    # 2 units in x and 1 unit in y, from the plot of the function.\n",
    "    # YOUR CODE HERE\n",
    "    \n",
    "    area = 2\n",
    "    x = np.random.uniform(0, 2, n)  # N random points in range [0, 2] dran from the uniform distribution\n",
    "    fx = np.sin(1/(x*(2-x)))**2\n",
    "    \n",
    "    # Calculate the mean value <f(x)> and the integral I = (b - a)<f(x)>\n",
    "    mean_value = np.sum(fx)/n\n",
    "    integral = 2*mean_value\n",
    "    \n",
    "    # Calculate the standard deviation\n",
    "    err = np.sqrt(integral*(area-integral))/np.sqrt(n)\n",
    "    \n",
    "    #raise NotImplementedError()\n",
    "    \n",
    "    return integral, err "
   ]
  },
  {
   "cell_type": "code",
   "execution_count": 20,
   "metadata": {
    "deletable": false,
    "editable": false,
    "nbgrader": {
     "cell_type": "code",
     "checksum": "d237d206ebbe8cff62e1f773f938dc05",
     "grade": true,
     "grade_id": "cell-ace9b1b9d302374d",
     "locked": true,
     "points": 2,
     "schema_version": 3,
     "solution": false,
     "task": false
    }
   },
   "outputs": [
    {
     "name": "stdout",
     "output_type": "stream",
     "text": [
      "Integral through Monte Carlo method: 1.4548 +-0.008905935997973487\n"
     ]
    }
   ],
   "source": [
    "# validation\n",
    "mc_I, mc_E = mc_integration(10000)\n",
    "print('Integral through Monte Carlo method: {} +-{}'\n",
    "      ''.format(mc_I, mc_E))\n",
    "assert abs(mc_I - 1.4514) < 3e-2, 'Monte Carlo integral bad'"
   ]
  },
  {
   "cell_type": "code",
   "execution_count": 21,
   "metadata": {
    "deletable": false,
    "editable": false,
    "nbgrader": {
     "cell_type": "code",
     "checksum": "8220a4d1f9d87795c9c4522a0669f041",
     "grade": true,
     "grade_id": "cell-d46a4685d7f10995",
     "locked": true,
     "points": 2,
     "schema_version": 3,
     "solution": false,
     "task": false
    }
   },
   "outputs": [
    {
     "name": "stdout",
     "output_type": "stream",
     "text": [
      "Integral through mean value method: 1.4560663882513822 +-0.008899457564971808\n"
     ]
    }
   ],
   "source": [
    "mvt_I, mvt_E = mvt_integration(10000)\n",
    "print('Integral through mean value method: {} +-{}'\n",
    "      ''.format(mvt_I, mvt_E))\n",
    "assert abs(mvt_I - 1.4514) < 3e-2, 'Mean value integral bad'\n",
    "assert mvt_E < mc_E, 'MVT error should be less than MC error'"
   ]
  },
  {
   "cell_type": "markdown",
   "metadata": {
    "deletable": false,
    "editable": false,
    "nbgrader": {
     "cell_type": "markdown",
     "checksum": "15ef70eb2477d0ad73697706604ff1f4",
     "grade": false,
     "grade_id": "cell-89a9f4e5302826d8",
     "locked": true,
     "schema_version": 3,
     "solution": false,
     "task": false
    }
   },
   "source": [
    "## Exercise 6.2: Volume of a hypersphere (4 point)\n",
    "\n",
    "This exercise asks you to estimate\n",
    "the volume of a sphere of unit radius in ten dimensions using a Monte Carlo\n",
    "method.  Consider the equivalent problem in two dimensions, the area of a\n",
    "circle of unit radius:\n",
    "\n",
    "<img src=\"circle.png\" width=\"250\" />\n",
    "\n",
    "The area of the circle, the shaded area above, is given by the integral\n",
    "\n",
    "$$\\begin{equation}\n",
    "I = \\iint_{-1}^{+1} f(x,y) \\>d x\\,d y,\n",
    "\\end{equation}$$\n",
    "\n",
    "where $f(x,y)=1$ everywhere inside the circle and zero everywhere outside.\n",
    "In other words,\n",
    "\n",
    "$$\\begin{equation}\n",
    "f(x,y) = \\biggl\\lbrace\\begin{array}{ll}\n",
    "           1 &\\qquad\\mbox{if $x^2+y^2\\le1$,} \\\\\n",
    "           0 &\\qquad\\mbox{otherwise.}\n",
    "         \\end{array}\n",
    "\\end{equation}$$\n",
    "\n",
    "So if we didn't already know the area of the circle, we could calculate it\n",
    "by Monte Carlo integration.  We would generate a set of $N$ random points\n",
    "$(x,y)$, where both $x$ and $y$ are in the range from $-1$ to~1.  Then the\n",
    "two-dimensional version of Equation $I \\simeq \\frac{V}{N}\\sum^N_{i=1}f(\\textbf{r}_i)$ (from Lecture 6) for this calculation would be\n",
    "\n",
    "$$\\begin{equation}\n",
    "I \\simeq {4\\over N} \\sum_{i=1}^N f(x_i,y_i).\n",
    "\\end{equation}$$\n",
    "\n",
    "Generalize this method to the ten-dimensional case and write a program to\n",
    "perform a Monte Carlo calculation of the volume of a sphere of unit radius\n",
    "in ten dimensions.\n",
    "\n",
    "If we had to do a ten-dimensional integral the traditional way, it would\n",
    "take a very long time.  Even with only 100 points along each axis (which\n",
    "wouldn't give a very accurate result) we'd still have $100^{10} = 10^{20}$\n",
    "points to sample, which is impossible on any computer.  But using the Monte\n",
    "Carlo method we can get a pretty good result with a million points or so."
   ]
  },
  {
   "cell_type": "code",
   "execution_count": 22,
   "metadata": {
    "deletable": false,
    "nbgrader": {
     "cell_type": "code",
     "checksum": "97c0e6962a1119387ae19daa2f2c7510",
     "grade": false,
     "grade_id": "cell-8f8e267caed13aa0",
     "locked": false,
     "schema_version": 3,
     "solution": true,
     "task": false
    }
   },
   "outputs": [],
   "source": [
    "def mc_sphere(n, dim):\n",
    "    \"\"\"\n",
    "    Monte Carlo volume of multi-dimensional unit sphere\n",
    "    Args:\n",
    "        n (int): number of points\n",
    "        dim (int): dimensions of the unit sphere\n",
    "    Returns:\n",
    "        float: the volume of the unit sphere\n",
    "    \"\"\"\n",
    "    vol = 0 # volume of the sphere\n",
    "    \n",
    "    # YOUR CODE HERE\n",
    "    \n",
    "    x = np.random.uniform(-1, 1, size=(dim, n))  # n random points in 10 dimensions in range [0, 1]\n",
    "    fx = np.sqrt(np.sum(np.square(x), axis=0))   # Calculate f(r_i) = sqrt(x_1,i^2 + x_2,i^2 + ... + x_10,i^2) for each point\n",
    "    \n",
    "    # Get the points that inside the sphere\n",
    "    inside_sphere = (fx <= 1)\n",
    "    \n",
    "    # Assign value 1 for points inside the sphere, and 0 to the points outside the sphere\n",
    "    fx = np.zeros_like(fx)\n",
    "    fx[inside_sphere] = 1\n",
    "    \n",
    "    # Calculate the mean value and the integral V/N sum(fx), where V = 2^dim\n",
    "    vol = 2**dim/n*np.sum(fx)\n",
    "    \n",
    "    #raise NotImplementedError()\n",
    "    \n",
    "    return vol"
   ]
  },
  {
   "cell_type": "code",
   "execution_count": 23,
   "metadata": {
    "deletable": false,
    "editable": false,
    "nbgrader": {
     "cell_type": "code",
     "checksum": "45b4e4a1a20238d769df262076cc371c",
     "grade": true,
     "grade_id": "cell-a8b1647a9f33ff45",
     "locked": true,
     "points": 4,
     "schema_version": 3,
     "solution": false,
     "task": false
    }
   },
   "outputs": [
    {
     "name": "stdout",
     "output_type": "stream",
     "text": [
      "Volume of 10 dimensional sphere: 2.646016\n"
     ]
    }
   ],
   "source": [
    "# validation\n",
    "vol = mc_sphere(500000, 10)\n",
    "print('Volume of 10 dimensional sphere: {}'.format(vol))\n",
    "assert abs(vol - 2.55016) < 5e-1, 'bad volume' "
   ]
  },
  {
   "cell_type": "markdown",
   "metadata": {
    "deletable": false,
    "editable": false,
    "nbgrader": {
     "cell_type": "markdown",
     "checksum": "b8bb486ad0e3affb7c048708bd2358f9",
     "grade": false,
     "grade_id": "cell-e4345efff3662057",
     "locked": true,
     "schema_version": 3,
     "solution": false,
     "task": false
    }
   },
   "source": [
    "## Exercise 6.3: (4 points)\n",
    "\n",
    "Calculate a value for the integral\n",
    "\n",
    "$$\\begin{equation}\n",
    "I = \\int_0^1 {x^{-1/2}\\over e^x + 1}\\>d x,\n",
    "\\end{equation}$$\n",
    "\n",
    "using the importance sampling formula, Equation $I \\simeq \\frac{1}{N}\\sum_{i=1}^N\\frac{f(x_i)}{w(x_i)}\\int_a^bw(x)dx$ (from lecture 6), with $w(x)=x^{-1/2}$,\n",
    "as follows.\n",
    "\n",
    "(a) Show that the probability distribution $p(x)$ from which the sample\n",
    "  points should be drawn is given by\n",
    "  \n",
    "$$\\begin{equation}\n",
    "p(x) = {1\\over2\\sqrt{x}}\n",
    "\\end{equation}$$\n",
    "\n",
    "and derive a transformation formula for generating random numbers between\n",
    "zero and one from this distribution."
   ]
  },
  {
   "cell_type": "markdown",
   "metadata": {
    "deletable": false,
    "nbgrader": {
     "cell_type": "markdown",
     "checksum": "03b225c2b466f2fbbbba9d8d53c70de2",
     "grade": true,
     "grade_id": "cell-e5b22d48e5d3e445",
     "locked": false,
     "points": 2,
     "schema_version": 3,
     "solution": true,
     "task": false
    }
   },
   "source": [
    "### Solution (Double click to edit)\n",
    "\n",
    "The probability density function is given by $$p(x) = \\frac{w(x)}{\\int_a^b w(x) dx} = \\frac{x^{-1/2}}{\\int_0^1 x^{-1/2} dx}$$\n",
    "where $$\\int_0^1 x^{-1/2} dx = 2 x^{1/2} \\bigg|_0^1 = 2$$\n",
    "Substituting this gives $$p(x) = \\frac{x^{-1/2}}{2} = \\frac{1}{2\\sqrt{x}}$$\n",
    "\n",
    "The transformation formula gives $$z = \\int_0^x p(x) dx = \\int_0^x \\frac{1}{2 \\sqrt{x}} dx = \\frac{1}{2} 2 x^{1/2} \\bigg|_0^x = \\sqrt{x}$$\n",
    "so $$x = z^2$$"
   ]
  },
  {
   "cell_type": "markdown",
   "metadata": {
    "deletable": false,
    "editable": false,
    "nbgrader": {
     "cell_type": "markdown",
     "checksum": "8af9d1c26309a8b91b6a1cfb73d0fc6e",
     "grade": false,
     "grade_id": "cell-e4345efff3662058",
     "locked": true,
     "schema_version": 3,
     "solution": false,
     "task": false
    }
   },
   "source": [
    "(b) Using your formula, sample $N=1,000,000$ random points and hence\n",
    "  evaluate the integral.  You should get a value around $0.84$."
   ]
  },
  {
   "cell_type": "code",
   "execution_count": 24,
   "metadata": {
    "deletable": false,
    "nbgrader": {
     "cell_type": "code",
     "checksum": "dbebf985aca937316b001060ea1c87c0",
     "grade": false,
     "grade_id": "cell-9fe372abaafb4d5d",
     "locked": false,
     "schema_version": 3,
     "solution": true,
     "task": false
    }
   },
   "outputs": [],
   "source": [
    "def imp_integral(n):\n",
    "    \"\"\"Calculate integral with importance sampling\n",
    "    Args:\n",
    "        n (int): number of points\n",
    "    Returns:\n",
    "        float: integral of the function\"\"\"\n",
    "    integral = 0\n",
    "    \n",
    "    # YOUR CODE HERE\n",
    "    \n",
    "    z = np.random.uniform(0, 1, n)  # n random points between 0 and 1\n",
    "    x = z*z                         # Transform the points to the distribution p(x)\n",
    "    \n",
    "    # Since the integral of w(x) from 0 to 1 is 2, and f(x)/w(x) = exp(x) + 1, the integral becomes\n",
    "    integral = np.sum(1/(np.exp(x)+1))*2/n\n",
    "    \n",
    "    #raise NotImplementedError()\n",
    "    \n",
    "    return integral"
   ]
  },
  {
   "cell_type": "code",
   "execution_count": 25,
   "metadata": {
    "deletable": false,
    "editable": false,
    "nbgrader": {
     "cell_type": "code",
     "checksum": "4d1705d01f81f6cff3277150ad04e7ca",
     "grade": true,
     "grade_id": "cell-765dc63316bf9d6e",
     "locked": true,
     "points": 2,
     "schema_version": 3,
     "solution": false,
     "task": false
    }
   },
   "outputs": [
    {
     "name": "stdout",
     "output_type": "stream",
     "text": [
      "Integral through importance sampling: 0.8390107291601904\n"
     ]
    }
   ],
   "source": [
    "# validation\n",
    "integral = imp_integral(1000000)\n",
    "print('Integral through importance sampling: {}'\n",
    "      ''.format(integral))\n",
    "assert abs(integral - 0.84) < 5e-2, 'bad integral value'"
   ]
  },
  {
   "cell_type": "markdown",
   "metadata": {
    "deletable": false,
    "editable": false,
    "nbgrader": {
     "cell_type": "markdown",
     "checksum": "0b9a7952127e4dd851fcf9f0241ac4c5",
     "grade": false,
     "grade_id": "cell-61a2d64c50a71a7d",
     "locked": true,
     "schema_version": 3,
     "solution": false,
     "task": false
    }
   },
   "source": [
    "## Exercise 6.4: The Ising model (8 points)\n",
    "\n",
    "The Ising model is a theoretical\n",
    "model of a magnet.  The magnetization of a magnetic material is made up of\n",
    "the combination of many small magnetic dipoles spread throughout the\n",
    "material.  If these dipoles point in random directions then the overall\n",
    "magnetization of the system will be close to zero, but if they line up so\n",
    "that all or most of them point in the same direction then the system can\n",
    "acquire a macroscopic magnetic moment---it becomes magnetized.  The Ising\n",
    "model is a model of this process in which the individual moments are\n",
    "represented by dipoles or \"spins\" arranged on a grid or lattice: \n",
    "\n",
    "<img src=\"spins.png\" width=\"250\" />\n",
    "\n",
    "In this case we are using a square lattice in two dimensions, although the\n",
    "model can be defined in principle for any lattice in any number of\n",
    "dimensions.\n",
    "\n",
    "The spins themselves, in this simple model, are restricted to point in only\n",
    "two directions, up and down.  Mathematically the spins are represented by\n",
    "variables $s_i=\\pm1$ on the points of the lattice, $+1$ for up-pointing\n",
    "spins and $-1$ for down-pointing ones.  Dipoles in real magnets can\n",
    "typically point in any spatial direction, not just up or down, but the\n",
    "Ising model, with its restriction to just the two directions, captures a\n",
    "lot of the important physics while being significantly simpler to\n",
    "understand.\n",
    "\n",
    "Another important feature of many magnetic materials is that the individual\n",
    "dipoles in the material may interact magnetically in such a way that it is\n",
    "energetically favorable for them to line up in the same direction.  The\n",
    "magnetic potential energy due to the interaction of two dipoles is\n",
    "proportional to their dot product, but in the Ising model this simplifies\n",
    "to just the product $s_is_j$ for spins on sites $i$ and $j$ of the lattice,\n",
    "since the spins are one-dimensional scalars, not vectors.  Then the actual\n",
    "energy of interaction is $-Js_is_j$, where $J$ is a positive interaction\n",
    "constant.  The minus sign ensures that the interactions are\n",
    "*ferromagnetic*, meaning the energy is lower when dipoles are\n",
    "lined up.  A ferromagnetic interaction implies that the material will\n",
    "magnetize if given the chance.  (In some materials the interaction has the\n",
    "opposite sign so that the dipoles prefer to be antialigned.  Such a\n",
    "material is said to be *antiferromagnetic*, but we will not\n",
    "look at the antiferromagnetic case here.)\n",
    "\n",
    "Normally it is assumed that spins interact only with those that are\n",
    "immediately adjacent to them on the lattice, which gives a total energy for\n",
    "the entire system equal to\n",
    "\n",
    "$$\\begin{equation}\n",
    "E = -J \\sum_{\\langle{ij}\\rangle} s_i s_j\\,,\n",
    "\\end{equation}$$\n",
    "\n",
    "where the notation $\\langle{ij}\\rangle$ indicates a sum over pairs $i,j$ that are\n",
    "adjacent on the lattice.  On the square lattice we use in this exercise\n",
    "each spin has four adjacent neighbors with which it interacts.\n",
    "\n",
    "Write a program to perform a Markov chain Monte Carlo simulation of\n",
    "the Ising model on the square lattice for a system of $20\\times20$ spins.\n",
    "You will need to set up variables to hold the value $\\pm1$ of the spin on\n",
    "each lattice site, probably using a two-dimensional integer array, and then\n",
    "take the following steps.\n",
    "\n",
    "(a) First write a function to calculate the total energy of the system,\n",
    "  as given by the equation above.  That is, for a given array of values of\n",
    "  the spins, go through every pair of adjacent spins and add up the\n",
    "  contributions $s_is_j$ from all of them, then multiply by $-J$.  Hint 1:\n",
    "  Each unique pair of adjacent spins crops up only once in the sum.  Thus\n",
    "  there is a term $-Js_1 s_2$ if spins 1 and 2 are adjacent to one another,\n",
    "  but you do not also need a term $-Js_2 s_1$.  Hint 2: To make your final\n",
    "  program to run in a reasonable amount of time, you will find it helpful\n",
    "  if you can work out a way to calculate the energy using Numpy's ability\n",
    "  to do arithmetic with entire arrays at once.  If you do the calculation\n",
    "  step by step, your program will be significantly slower."
   ]
  },
  {
   "cell_type": "code",
   "execution_count": 44,
   "metadata": {
    "deletable": false,
    "nbgrader": {
     "cell_type": "code",
     "checksum": "f5b2a1aae76fddcca04e7cc3f2ed13f4",
     "grade": false,
     "grade_id": "cell-4ca7f665b8220eb5",
     "locked": false,
     "schema_version": 3,
     "solution": true,
     "task": false
    }
   },
   "outputs": [],
   "source": [
    "def ising_energy(array, J):\n",
    "    \"\"\"Calculates ising energy for array\n",
    "    Args:\n",
    "        array (nd array): 2D array with representing ising field\n",
    "        J (float): interaction constant\n",
    "    Returns:\n",
    "        float: ising energy\"\"\"\n",
    "    energy = 0  # energy (units)\n",
    "    \n",
    "    # YOUR CODE HERE\n",
    "    \n",
    "    energy -= J * np.sum([array[i,:]*array[i+1,:] + array[:,i]*array[:,i+1] for i in range(len(array)-1)])\n",
    "    \n",
    "    #raise NotImplementedError()\n",
    "    \n",
    "    return energy"
   ]
  },
  {
   "cell_type": "code",
   "execution_count": 45,
   "metadata": {
    "deletable": false,
    "editable": false,
    "nbgrader": {
     "cell_type": "code",
     "checksum": "e7e937336a5a222f344975937becee45",
     "grade": true,
     "grade_id": "cell-d1205ba69069dd1d",
     "locked": true,
     "points": 2,
     "schema_version": 3,
     "solution": false,
     "task": false
    }
   },
   "outputs": [
    {
     "name": "stdout",
     "output_type": "stream",
     "text": [
      "wall time for 1000x1000 field: 0.025481462478637695 s\n"
     ]
    }
   ],
   "source": [
    "# validate\n",
    "array = np.array([[ 1,  1, -1,  1],\n",
    "                  [ 1, -1, -1,  1],\n",
    "                  [-1,  1,  1, -1],\n",
    "                  [ 1, -1,  1,  1]])\n",
    "energy = ising_energy(array, 1)\n",
    "assert energy == 8, 'bad energy'\n",
    "# wall time check\n",
    "import time\n",
    "# random large ising field\n",
    "array = np.random.randint(0, 2, (1000, 1000)) * 2 - 1\n",
    "t0 = time.time()\n",
    "energy = ising_energy(array, 1)\n",
    "wall_time = time.time() - t0\n",
    "print('wall time for 1000x1000 field: {} s'.format(wall_time))\n",
    "assert wall_time < 5e-2, ('needs further optimising, bring wall time below 0.05 s')"
   ]
  },
  {
   "cell_type": "markdown",
   "metadata": {
    "deletable": false,
    "editable": false,
    "nbgrader": {
     "cell_type": "markdown",
     "checksum": "dd940d4cc0ca1c887e42c6cb31fc9b86",
     "grade": false,
     "grade_id": "cell-61a2d64c50a71a7e",
     "locked": true,
     "schema_version": 3,
     "solution": false,
     "task": false
    }
   },
   "source": [
    "  \n",
    "(b) Now use your function as the basis for a Metropolis-style simulation\n",
    "  of the Ising model with $J=1$ and temperature $T=1$ in units where the\n",
    "  Boltzmann constant $k_B$ is also~$1$.  Initially set the spin variables\n",
    "  randomly to $\\pm1$, so that on average about a half of them are up and a\n",
    "  half down, giving a total magnetization of roughly zero.  Then choose a\n",
    "  spin at random, flip it, and calculate the new energy after it is\n",
    "  flipped, and hence also the change in energy as a result of the flip.\n",
    "  Then decide whether to accept the flip using the Metropolis acceptance\n",
    "  formula, \n",
    "  \n",
    "  $$ P_A = \n",
    "\\begin{cases}\n",
    "1 & \\text{if} E_j \\leq E_i \\\\\n",
    "e^{-\\beta(E_j-E_i)} & \\text{if} E_j \\gt E_i \\\\\n",
    "\\end{cases}\n",
    "$$\n",
    "  \n",
    "  from lecture 6."
   ]
  },
  {
   "cell_type": "code",
   "execution_count": 81,
   "metadata": {
    "deletable": false,
    "nbgrader": {
     "cell_type": "code",
     "checksum": "1c871ad2272d77cf6815d7006cbd1dde",
     "grade": false,
     "grade_id": "cell-087732c28a2d9687",
     "locked": false,
     "schema_version": 3,
     "solution": true,
     "task": false
    }
   },
   "outputs": [],
   "source": [
    "def flip(array, flip_ind, j=1, kbt=10):\n",
    "    \"\"\"flips a spin if accepted using metropolis formula\n",
    "    Args:\n",
    "        array (nd array): the ising field\n",
    "        flip_ind (list): index (as a list [x, y]) to be flipped\n",
    "        j (float): interaction energy\n",
    "        kbt (float): k_b * T\n",
    "    Returns:\n",
    "        nd array: the ising field with flipped spin, if accepted, or\n",
    "            the same field otherwise.\"\"\"\n",
    "    # YOUR CODE HERE\n",
    "    if array is None:\n",
    "        array = np.random.choice([-1, 1], size=(20, 20))\n",
    "    if flip_ind is None:\n",
    "        flip_ind = np.random.randint(len(array), size=2)\n",
    "    \n",
    "    \n",
    "    Ei = ising_energy(array, j)  # energy before the flip\n",
    "    array[flip_ind[1], flip_ind[0]] *= -1  # do the flip\n",
    "    Ej = ising_energy(array, j)  # energy after the flip\n",
    "    \n",
    "    if Ei < Ej:  # energy increases\n",
    "        if np.random.rand() < np.exp(-1/kbt * (Ej-Ei)):\n",
    "            pass  # accept the flip\n",
    "        else:\n",
    "            array[flip_ind[1], flip_ind[0]] *= -1  # reject the flip\n",
    "    #raise NotImplementedError()\n",
    "    \n",
    "    return array\n",
    "\n",
    "# initialise random array with zero magnetisation.\n",
    "array = None\n",
    "# choose an index, [x, y], at random\n",
    "random_index = None\n",
    "# get flipped array if it is flipped\n",
    "array = flip(array, random_index, j=1, kbt=1)"
   ]
  },
  {
   "cell_type": "code",
   "execution_count": 82,
   "metadata": {
    "deletable": false,
    "editable": false,
    "nbgrader": {
     "cell_type": "code",
     "checksum": "2faed6532dcb824e2147a9dd55bf4ccf",
     "grade": true,
     "grade_id": "cell-7396fd64094dcee7",
     "locked": true,
     "points": 2,
     "schema_version": 3,
     "solution": false,
     "task": false
    }
   },
   "outputs": [],
   "source": [
    "# validation\n",
    "array = np.array([[ 1,  1, -1,  1],\n",
    "                  [ 1, -1, -1,  1],\n",
    "                  [-1,  1,  1, -1],\n",
    "                  [ 1, -1, -1,  1]])\n",
    "array = flip(array, [2, 2], j=1, kbt=10)\n",
    "assert array[2, 2] == -1, \"should flip\"\n",
    "array = flip(array, [2, 2], j=1, kbt=1e-9)\n",
    "assert array[2, 2] == -1, \"shouldn't flip\""
   ]
  },
  {
   "cell_type": "markdown",
   "metadata": {
    "deletable": false,
    "editable": false,
    "nbgrader": {
     "cell_type": "markdown",
     "checksum": "9e562c64b664fc448899c412f5f0bdad",
     "grade": false,
     "grade_id": "cell-61a2d64c50a71a7f",
     "locked": true,
     "schema_version": 3,
     "solution": false,
     "task": false
    }
   },
   "source": [
    "(c) Now repeat the above process for many moves. Make a plot of the total magnetization $M=\\sum_i s_i$ of the system\n",
    "  as a function of time for a million Monte Carlo steps.  You should see\n",
    "  that the system develops a \"spontaneous magnetization,\" a nonzero value\n",
    "  of the overall magnetization.  Hint: While you are working on your\n",
    "  program, do shorter runs, of maybe ten thousand steps at a time.  Once\n",
    "  you have it working properly, do a longer run of a million steps to get\n",
    "  the final results."
   ]
  },
  {
   "cell_type": "code",
   "execution_count": 91,
   "metadata": {
    "deletable": false,
    "nbgrader": {
     "cell_type": "code",
     "checksum": "32feb6ae05b908ead22b0d45acbad475",
     "grade": false,
     "grade_id": "cell-011f675c069e025e",
     "locked": false,
     "schema_version": 3,
     "solution": true,
     "task": false
    }
   },
   "outputs": [],
   "source": [
    "def monte_carlo(array, n, j, kbt):\n",
    "    \"\"\"perform monte carlo for n steps\n",
    "    Args:\n",
    "        array (nd array): initial ising field\n",
    "        n (int): number of steps\n",
    "        j (float): interaction energy\n",
    "        kbt (float): k_b * T\n",
    "    Returns:\n",
    "        nd array: array of size n with magnetisation at each step\"\"\"\n",
    "    array = np.array(array)  # making sure its a np array\n",
    "    if np.any(np.logical_and(array != 1, array != -1)):\n",
    "        raise ValueError('bad ising array')\n",
    "    \n",
    "    magnetisation = np.zeros(n)\n",
    "    \n",
    "    # YOUR CODE HERE\n",
    "    # Record the initial magnetization first\n",
    "    magnetisation[0] = np.sum(array)\n",
    "    # Iterate over the rest of the steps\n",
    "    for i in range(1, n):\n",
    "        # Perform a flip on a random site\n",
    "        flip_ind = np.random.randint(len(array), size=2)\n",
    "        # Update the array\n",
    "        array = flip(array, flip_ind, j, kbt)\n",
    "        # Record the new magnetisation\n",
    "        magnetisation[i] = np.sum(array)\n",
    "    #raise NotImplementedError()\n",
    "        \n",
    "    return magnetisation"
   ]
  },
  {
   "cell_type": "code",
   "execution_count": 108,
   "metadata": {
    "deletable": false,
    "nbgrader": {
     "cell_type": "code",
     "checksum": "49ed62d7dbf4a4198fa071a85009fc5d",
     "grade": true,
     "grade_id": "cell-3c74d780de213a4e",
     "locked": false,
     "points": 2,
     "schema_version": 3,
     "solution": true,
     "task": false
    }
   },
   "outputs": [
    {
     "data": {
      "text/plain": [
       "Text(0, 0.5, 'Magnetisation (units)')"
      ]
     },
     "execution_count": 108,
     "metadata": {},
     "output_type": "execute_result"
    },
    {
     "data": {
      "image/png": "[encoded data removed]",
      "text/plain": [
       "<Figure size 432x288 with 1 Axes>"
      ]
     },
     "metadata": {
      "needs_background": "light"
     },
     "output_type": "display_data"
    }
   ],
   "source": [
    "from matplotlib import pyplot as plt\n",
    "\n",
    "# plotting\n",
    "# YOUR CODE HERE\n",
    "n = int(1e6)\n",
    "j = 1\n",
    "kbt = 1\n",
    "#for kbt in [0.01, 0.05, 0.1, 0.5, 1.0, 1.5, 2.0, 3.0, 4.0, 5.0, 6.0, 7.0, 8.0, 9.0, 10.0]:\n",
    "#    array = np.random.choice([-1, 1], size=(20, 20))\n",
    "#    magnetisation = monte_carlo(array, n, j, kbt)\n",
    "#    plt.plot(magnetisation, label=f'kbt={kbt}')\n",
    "#plt.legend()\n",
    "array = np.random.choice([-1, 1], size=(20, 20))\n",
    "magnetisation = monte_carlo(array, n, j, kbt)\n",
    "plt.plot(magnetisation)\n",
    "#raise NotImplementedError()\n",
    "plt.xlabel('steps (#)')\n",
    "plt.ylabel('Magnetisation (units)')"
   ]
  },
  {
   "cell_type": "markdown",
   "metadata": {
    "deletable": false,
    "editable": false,
    "nbgrader": {
     "cell_type": "markdown",
     "checksum": "19f3e1bb95696b9fddf3aef95c4db6af",
     "grade": false,
     "grade_id": "cell-61a2d64c50a71a7g",
     "locked": true,
     "schema_version": 3,
     "solution": false,
     "task": false
    }
   },
   "source": [
    "(d) Run your program several times, in the previous cell itself, and observe the sign of the\n",
    "  magnetization that develops, positive or negative.  Describe what you\n",
    "  find and give a brief explanation of what is happening."
   ]
  },
  {
   "cell_type": "markdown",
   "metadata": {
    "deletable": false,
    "nbgrader": {
     "cell_type": "markdown",
     "checksum": "1b48bb7a321f8190510a0b3290786005",
     "grade": true,
     "grade_id": "cell-391d17d3fe3ea292",
     "locked": false,
     "points": 2,
     "schema_version": 3,
     "solution": true,
     "task": false
    }
   },
   "source": [
    "### Solution (Double click to edit)\n",
    "\n",
    "The magnetisation tends towards a negative or a positive value, or sometimes it stays around zero. Which direction the magnetisation ends up going seems to be random. This behaviour seems to be dependent on the value of $k_{b}T$ so that the higher the value, more likely the magnetisation is to stay around zero. With value of $k_bT$ around 1, spontaneous magnetisation can be observed, but with values closer to 10, it does not happen. This might be explained by the Curie temperature, above which spontaneous magnetisation does not happen. The Curie temperature is material dependent, and for the material that the Ising model describes, the Curie temperature seems to be around 10/$k_B$."
   ]
  }
 ],
 "metadata": {
  "kernelspec": {
   "display_name": "Python 3",
   "language": "python",
   "name": "python3"
  },
  "language_info": {
   "codemirror_mode": {
    "name": "ipython",
    "version": 3
   },
   "file_extension": ".py",
   "mimetype": "text/x-python",
   "name": "python",
   "nbconvert_exporter": "python",
   "pygments_lexer": "ipython3",
   "version": "3.8.8"
  }
 },
 "nbformat": 4,
 "nbformat_minor": 4
}
