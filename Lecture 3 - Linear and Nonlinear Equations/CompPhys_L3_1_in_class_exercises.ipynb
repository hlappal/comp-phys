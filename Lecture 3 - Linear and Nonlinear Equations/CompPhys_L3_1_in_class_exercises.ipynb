{
 "cells": [
  {
   "cell_type": "markdown",
   "metadata": {},
   "source": [
    "# Lecture 3 Part 1 - Linear Equations - In-Class Exercises\n",
    "\n",
    "\n",
    "## Exercise 1 - Gaussian elimination and back substitution\n",
    "\n",
    "Below you find part of an example program to solve the following set of equations: $$ \\left(\\begin{array}{cccc} 2 & 1 & 4 & 1 \\\\ 3 & 4 & -1 & -1 \\\\ 1 & -4 & 1 & 5 \\\\ 2 & -2 & 1 & 3 \\end{array} \\right) \\left(\\begin{array}{c} w \\\\ x \\\\ y \\\\ z\\end{array} \\right) = \\left(\\begin{array}{c} -4 \\\\ 3 \\\\ 9 \\\\ 7\\end{array} \\right)$$\n",
    "\n",
    "1. Complete the Gaussian elimination part of the program.\n",
    "2. Add a print statement that prints the matrix at every step to check that the program is eliminating the lower triangle correctly. You can add a read statement that waits for you to press enter to proceed.\n",
    "3. Check your final solution for the vector $\\mathbf{x}=(w,x,y,z)$ after backsubstitution.\n",
    "\n",
    "\n",
    "## Talking points\n",
    "\n",
    "1. What do you observe?\n",
    "2. Is your solution correct?\n",
    "\n",
    "Example program to complete:"
   ]
  },
  {
   "cell_type": "code",
   "execution_count": 1,
   "metadata": {},
   "outputs": [
    {
     "name": "stdout",
     "output_type": "stream",
     "text": [
      "[2. 1. 4. 1.]   -4.0\n",
      "[ 3.  4. -1. -1.]   3.0\n",
      "[ 1. -4.  1.  5.]   9.0\n",
      "[ 2. -2.  1.  3.]   7.0\n",
      "\n",
      "Dividing row 0 by 2.0\n",
      "[1.  0.5 2.  0.5]   -2.0\n",
      "[ 3.  4. -1. -1.]   3.0\n",
      "[ 1. -4.  1.  5.]   9.0\n",
      "[ 2. -2.  1.  3.]   7.0\n",
      "\n",
      "Subtracting row 0 from the lower rows\n",
      "[1.  0.5 2.  0.5]   -2.0\n",
      "[ 0.   2.5 -7.  -2.5]   9.0\n",
      "[ 0.  -4.5 -1.   4.5]   11.0\n",
      "[ 0. -3. -3.  2.]   11.0\n",
      "\n",
      "Dividing row 1 by 2.5\n",
      "[1.  0.5 2.  0.5]   -2.0\n",
      "[ 0.   1.  -2.8 -1. ]   3.6\n",
      "[ 0.  -4.5 -1.   4.5]   11.0\n",
      "[ 0. -3. -3.  2.]   11.0\n",
      "\n",
      "Subtracting row 1 from the lower rows\n",
      "[1.  0.5 2.  0.5]   -2.0\n",
      "[ 0.   1.  -2.8 -1. ]   3.6\n",
      "[  0.    0.  -13.6   0. ]   27.2\n",
      "[  0.    0.  -11.4  -1. ]   21.8\n",
      "\n",
      "Dividing row 2 by -13.6\n",
      "[1.  0.5 2.  0.5]   -2.0\n",
      "[ 0.   1.  -2.8 -1. ]   3.6\n",
      "[-0. -0.  1. -0.]   -2.0\n",
      "[  0.    0.  -11.4  -1. ]   21.8\n",
      "\n",
      "Subtracting row 2 from the lower rows\n",
      "[1.  0.5 2.  0.5]   -2.0\n",
      "[ 0.   1.  -2.8 -1. ]   3.6\n",
      "[-0. -0.  1. -0.]   -2.0\n",
      "[ 0.  0.  0. -1.]   -0.9999999999999964\n",
      "\n",
      "Dividing row 3 by -1.0\n",
      "[1.  0.5 2.  0.5]   -2.0\n",
      "[ 0.   1.  -2.8 -1. ]   3.6\n",
      "[-0. -0.  1. -0.]   -2.0\n",
      "[-0. -0. -0.  1.]   0.9999999999999964\n",
      "\n",
      "Subtracting row 3 from the lower rows\n",
      "[1.  0.5 2.  0.5]   -2.0\n",
      "[ 0.   1.  -2.8 -1. ]   3.6\n",
      "[-0. -0.  1. -0.]   -2.0\n",
      "[-0. -0. -0.  1.]   0.9999999999999964\n",
      "\n"
     ]
    }
   ],
   "source": [
    "from numpy import array,empty\n",
    "\n",
    "A = array([[ 2,  1,  4,  1 ],\n",
    "           [ 3,  4, -1, -1 ],\n",
    "           [ 1, -4,  1,  5 ],\n",
    "           [ 2, -2,  1,  3 ]], float)\n",
    "v = array([ -4, 3, 9, 7 ],float)\n",
    "N = len(v)\n",
    "\n",
    "def print_Av(A,v):\n",
    "    for i in range(N):\n",
    "        print(A[i], \" \", v[i])\n",
    "    print()\n",
    "\n",
    "# Gaussian elimination\n",
    "print_Av(A,v)\n",
    "\n",
    "for m in range(N):\n",
    "    # Divide by the diagonal element\n",
    "    print(\"Dividing row\", m, \"by\", A[m,m])\n",
    "    v[m] /= A[m,m]\n",
    "    A[m] /= A[m,m]\n",
    "    print_Av(A,v)\n",
    "\n",
    "    # Now subtract from the lower rows\n",
    "    print(\"Subtracting row\", m, \"from the lower rows\")\n",
    "    for n in range(m+1, N):\n",
    "        v[n] -= A[n,m] * v[m]\n",
    "        A[n] -= A[n,m] * A[m]\n",
    "    print_Av(A,v)\n",
    "\n",
    "    \n",
    "# Backsubstitution\n",
    "x = empty(N,float)\n",
    "for m in range(N-1,-1,-1):\n",
    "    x[m] = v[m]\n",
    "    for i in range(m+1,N):\n",
    "        x[m] -= A[m,i]*x[i]\n"
   ]
  },
  {
   "cell_type": "markdown",
   "metadata": {},
   "source": [
    "## Exercise 2 - LU decomposition\n",
    "\n",
    "Solve the following set of equations: $$ \\left(\\begin{array}{cccc} 2 & 1 & 4 & 1 \\\\ 3 & 4 & -1 & -1 \\\\ 1 & -4 & 1 & 5 \\\\ 2 & -2 & 1 & 3 \\end{array} \\right) \\left(\\begin{array}{c} w \\\\ x \\\\ y \\\\ z\\end{array} \\right) = \\left(\\begin{array}{c} -4 \\\\ 3 \\\\ 9 \\\\ 7\\end{array} \\right)$$ with LU decomposition. The LU decomposition for the matrix is $$\t\\mathbf{L}=\\left(\\begin{array}{cccc}2 & 0 & 0 & 0 \\\\ 3 & 2.5 & 0 & 0 \\\\ 1 & -4.5 & -13.6 & 0 \\\\ 2 & -3 & -11.4 & -1  \\end{array} \\right) \\quad\t\\mathbf{U}=\\left(\\begin{array}{cccc}1 & 0.5 & 2 & 0.5 \\\\ 0 & 1 & -2.8 & -1 \\\\ 0 & 0 & 1 & 0 \\\\ 0 & 0 & 0 & 1  \\end{array} \\right)$$\n",
    "\n",
    "1. Verify that $\\mathbf{LU}$ gives the matrix $\\mathbf{A}$. You can use the $\\texttt{numpy}$ routine $\\texttt{matmul}$.\n",
    "2. Perform the double back substitution $\\mathbf{Ly}=\\mathbf{v}$ and $\\mathbf{Ux}=\\mathbf{y}$ with the $\\texttt{numpy.linalg}$ routine $\\texttt{solve}$.\n",
    "3. Verify your result.\n",
    "4. Apply the LU decomposition to the new vectors $\\mathbf{v}_1=(1,0,0,0)$, $\\mathbf{v}_2=(0,1,0,0)$, $\\mathbf{v}_3=(0,0,1,0)$, and $\\mathbf{v}_4=(0,0,0,1)$.\n",
    "5. Check your result with $\\texttt{solve}$.\n",
    "\n",
    "## Talking points\n",
    "\n",
    "1. What do you observe?\n",
    "2. What happens when you apply the LU decomposition to the vectors $\\mathbf{v}_1$ to $\\mathbf{v}_4$?"
   ]
  },
  {
   "cell_type": "markdown",
   "metadata": {},
   "source": [
    "## Exercise 3 - Linear spring model\n",
    "\n",
    "Solve the linear masses connected by springs model $$\\left( \\begin{array}{cccccc} (\\alpha-k) & -k \\\\ -k & \\alpha & -k \\\\ & -k & \\alpha & -k \\\\ & & \\ddots & \\ddots & \\ddots & \\\\ & & & -k & \\alpha & -k \\\\ & & & & -k & (\\alpha-k) \\end{array} \\right) \\left( \\begin{array}{c} x_1 \\\\ x_2 \\\\ x_3 \\\\ \\vdots \\\\ x_{N-1} \\\\ x_N \\end{array} \\right) = \\left( \\begin{array}{c}  C \\\\ 0 \\\\ 0 \\\\ \\vdots \\\\ 0 \\\\ 0 \\end{array} \\right) $$ where $\\alpha=2k-m\\omega^2$ for 26 masses with $C=1$, $m=1$, $k=2$ and $\\omega=2$. Below is a skeleton program that calls the subroutine $\\texttt{banded}$ for the solution of a banded matrix.\n",
    "\n",
    "1. Copy the file $\\texttt{banded.py}$ from MyCourses to your directory.\n",
    "2. Complete the program by initializing the problem for the spring model.\n",
    "3. Add plot statements to plot your results in a graph.\n",
    "\n",
    "## Talking points\n",
    "\n",
    "1. What do you observe?\n",
    "2. What can you say about the amplitudes of the vibrating masses?"
   ]
  },
  {
   "cell_type": "code",
   "execution_count": 2,
   "metadata": {},
   "outputs": [
    {
     "name": "stderr",
     "output_type": "stream",
     "text": [
      "/home/hlappal/projects/compphys/2021/Lecture 3 - Linear and Nonlinear Equations/banded.py:51: RuntimeWarning: divide by zero encountered in double_scalars\n",
      "  v[m] /= div\n",
      "/home/hlappal/projects/compphys/2021/Lecture 3 - Linear and Nonlinear Equations/banded.py:54: RuntimeWarning: invalid value encountered in double_scalars\n",
      "  v[m+k] -= A[up+k,m]*v[m]\n",
      "/home/hlappal/projects/compphys/2021/Lecture 3 - Linear and Nonlinear Equations/banded.py:60: RuntimeWarning: divide by zero encountered in double_scalars\n",
      "  A[i,j] /= div\n",
      "/home/hlappal/projects/compphys/2021/Lecture 3 - Linear and Nonlinear Equations/banded.py:62: RuntimeWarning: invalid value encountered in double_scalars\n",
      "  A[i+k,j] -= A[up+k,m]*A[i,j]\n"
     ]
    }
   ],
   "source": [
    "from numpy import empty,zeros\n",
    "from banded import banded # the description of the banded subroutine is given below or at the top of the file banded.py\n",
    "import matplotlib.pyplot as plt\n",
    "\n",
    "# Constants\n",
    "\n",
    "# SET THE PARAMETERS OF THE SPRING MODEL FOR 26 MASSES, C=1, m=1, k=6 and omega=2\n",
    "\n",
    "# Set up the initial values of the arrays\n",
    "\n",
    "# BUILD THE MATRIX A AND THE VECTOR V\n",
    "\n",
    "# Solve the equations - call to subroutine banded that solves a banded matrix equation\n",
    "x = banded(A,v,1,1)\n",
    "\n",
    "# Make a plot using both dots and lines\n",
    "\n",
    "# PLOT YOUR RESULTS\n",
    "\n",
    "######################################################################\n",
    "#\n",
    "# Function to solve a banded system of linear equations using\n",
    "# Gaussian elimination and backsubstitution\n",
    "#\n",
    "# x = banded(A,v,up,down)\n",
    "#\n",
    "# This function returns the vector solution x of the equation A.x = v,\n",
    "# where v is an array representing a vector of N elements, either real\n",
    "# or complex, and A is an N by N banded matrix with \"up\" nonzero\n",
    "# elements above the diagonal and \"down\" nonzero elements below the\n",
    "# diagonal.  The matrix is specified as a two-dimensional array of\n",
    "# (1+up+down) by N elements with the diagonals of the original matrix\n",
    "# along its rows, thus:\n",
    "#\n",
    "#   (  -   -  A02 A13 A24 ...\n",
    "#   (  -  A01 A12 A23 A34 ...\n",
    "#   ( A00 A11 A22 A33 A44 ...\n",
    "#   ( A10 A21 A32 A43 A54 ...\n",
    "#   ( A20 A31 A42 A53 A64 ...\n",
    "#\n",
    "# Elements represented by dashes are ignored -- it doesn't matter what\n",
    "# these elements contain.  The size of the system is taken from the\n",
    "# size of the vector v.  If the matrix A is larger than NxN then the\n",
    "# extras are ignored.  If it is smaller, the program will produce an\n",
    "# error.\n"
   ]
  },
  {
   "cell_type": "markdown",
   "metadata": {},
   "source": [
    "## Exercise 4 - QR decomposition\n",
    "\n",
    "The matrix $$\\mathbf{A}=\\left(\\begin{array}{ccc}2 & 6 & 7  \\\\ 1 & 0 & -1  \\\\ 2 & 3 & -2    \\end{array} \\right)$$ has the following QR decomposition: $$\\begin{equation*}\n",
    "\t\\mathbf{Q}=\\frac{1}{3}\\left(\\begin{array}{cccc}2 & 2 & 1  \\\\ 1 & -2 & 2  \\\\ 2 & -1 & -2   \\end{array} \\right) \\quad\n",
    "\t\\mathbf{R}=3\\left(\\begin{array}{cccc}1 & 2 & 1  \\\\ 0 & 1 & 2  \\\\ 0 & 0 & 1   \\end{array} \\right)\n",
    "\\end{equation*} $$\n",
    "\n",
    "1. Verify that $\\mathbf{Q}^T\\mathbf{Q}=\\mathbb{1}$.\n",
    "2. Check that $\\mathbf{QR}=\\mathbf{A}$.\n",
    "\n",
    "## Talking points\n",
    "\n",
    "1. What do you observe?"
   ]
  },
  {
   "cell_type": "markdown",
   "metadata": {},
   "source": [
    "## Exercise 5 - Eigenvalues and eigenvectors\n",
    "\n",
    "Diagonalize $$\\mathbf{A}=\\left(\\begin{array}{ccc}2 & 1 & 2  \\\\ 1 & 0 & 3  \\\\ 2 & 3 & -2    \\end{array} \\right)$$\n",
    "\n",
    "1. Calculate the eigenvalues and eigenvectors of $\\mathbf{A}$ using the $\\texttt{numpy}$ function $\\texttt{eigh}$.\n",
    "2. Verify that $\\mathbf{V}^T\\mathbf{AV}=\\mathbb{1}$.\n",
    "\n",
    "## Talking points\n",
    "\n",
    "1. What do you observe?"
   ]
  },
  {
   "cell_type": "code",
   "execution_count": 7,
   "metadata": {},
   "outputs": [
    {
     "data": {
      "text/plain": [
       "array([[1., 0., 0.],\n",
       "       [0., 1., 0.],\n",
       "       [0., 0., 1.]])"
      ]
     },
     "execution_count": 7,
     "metadata": {},
     "output_type": "execute_result"
    }
   ],
   "source": [
    "import numpy as np\n",
    "\n",
    "A = array([[2,6,7],[1,0,-1],[2,3,-2]],float)\n",
    "Q = array([[2,2,1],[1,-2,2],[2,-1,-2]],float)/3\n",
    "R = array([[1,2,1],[0,1,2],[0,0,1]],float)*3\n",
    "np.matmul(Q.T,Q)"
   ]
  },
  {
   "cell_type": "code",
   "execution_count": null,
   "metadata": {},
   "outputs": [],
   "source": []
  }
 ],
 "metadata": {
  "kernelspec": {
   "display_name": "Python 3",
   "language": "python",
   "name": "python3"
  },
  "language_info": {
   "codemirror_mode": {
    "name": "ipython",
    "version": 3
   },
   "file_extension": ".py",
   "mimetype": "text/x-python",
   "name": "python",
   "nbconvert_exporter": "python",
   "pygments_lexer": "ipython3",
   "version": "3.8.7"
  }
 },
 "nbformat": 4,
 "nbformat_minor": 4
}
