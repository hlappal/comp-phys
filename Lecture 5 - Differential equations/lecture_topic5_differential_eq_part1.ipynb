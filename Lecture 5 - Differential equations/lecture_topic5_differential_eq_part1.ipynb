{
 "cells": [
  {
   "cell_type": "markdown",
   "id": "tired-deadline",
   "metadata": {
    "slideshow": {
     "slide_type": "slide"
    }
   },
   "source": [
    "## Lecture topic 5: \n",
    "\n",
    "## Ordinary and partial differential equations"
   ]
  },
  {
   "cell_type": "code",
   "execution_count": 9,
   "id": "interesting-librarian",
   "metadata": {
    "slideshow": {
     "slide_type": "skip"
    }
   },
   "outputs": [],
   "source": [
    "from lecture_utils import *"
   ]
  },
  {
   "cell_type": "markdown",
   "id": "creative-exhibit",
   "metadata": {
    "slideshow": {
     "slide_type": "skip"
    }
   },
   "source": [
    "_This is the first part of the lecture material and should enable you to solve exercises 5.1, 5.2 and 5.3._"
   ]
  },
  {
   "cell_type": "markdown",
   "id": "collect-television",
   "metadata": {
    "slideshow": {
     "slide_type": "slide"
    }
   },
   "source": [
    "#### What are differential equations?\n",
    "\n",
    "A differential equation is an equation that contains next to variables and functions of these variables also derivates of these functions.\n",
    "\n",
    "- Example\n",
    "\n",
    "$$\n",
    "\\frac{\\mathrm{d}^2x(t)}{\\mathrm{d}t^2}-\\mu(1-x(t)^2)\\frac{\\mathrm{d}x(t)}{\\mathrm{d}t} +\\omega^2x(t) = 0\n",
    "$$\n",
    "\n",
    "The solution to this differential equation is the function $x(t)$ that satisfies the differential equation when $x(t)$ and its derivatives are substituted into the equation.\n"
   ]
  },
  {
   "cell_type": "markdown",
   "id": "potential-ecology",
   "metadata": {
    "slideshow": {
     "slide_type": "slide"
    }
   },
   "source": [
    "### Types of  differential equation\n",
    "\n",
    "#### Ordinary differential equations \n",
    "\n",
    "An ordinary differential equation (ODE) has only one independent variable, let's call it $t$. The ODE has only derivatives with respect to $t$.\n",
    "\n",
    " - Example\n",
    " \n",
    "$$\n",
    " tx^5\\frac{\\mathrm{d}x}{\\mathrm{d}t} = \\sin(t)\n",
    "$$\n",
    "\n",
    "For the ODEs, we will stick with $t$ as the independent variable because the time $t$ is for many problems indeed the independent variable.\n",
    "\n",
    "#### Partial differential equations\n",
    "\n",
    "Partial differential equations have several independent variables and contain partial derivatives with respect to these variables.\n",
    "\n",
    "- Example\n",
    "\n",
    "$$\n",
    " \\frac{\\partial^2z}{\\partial x \\partial y} = xyz\\frac{\\partial z}{\\partial x}\\frac{\\partial z}{\\partial y}\n",
    "$$\n"
   ]
  },
  {
   "cell_type": "markdown",
   "id": "previous-virus",
   "metadata": {
    "slideshow": {
     "slide_type": "slide"
    }
   },
   "source": [
    "### Order of ordinary differential equations\n",
    "\n",
    "The order $n$ of an ODE is defined by the highest order derivative $\\frac{\\mathrm{d}^n x}{\\mathrm{d}t^n}$. \n",
    "\n",
    "#### First-order differential equations\n",
    "\n",
    "The general form of a first-order ODE with one variable is\n",
    "\n",
    "$$\n",
    "\\frac{\\mathrm{d}x}{\\mathrm{d}t} = f(x,t)\n",
    "$$\n",
    "\n",
    "#### Second-order differential equations\n",
    "\n",
    "The general form of a second-order ODE with one variable is \n",
    "\n",
    "$$\n",
    "\\frac{\\mathrm{d}^2x}{\\mathrm{d}t^2} = f\\left(x,\\frac{\\mathrm{d}x}{\\mathrm{d}t},t\\right)\n",
    "$$"
   ]
  },
  {
   "cell_type": "markdown",
   "id": "conventional-joseph",
   "metadata": {
    "slideshow": {
     "slide_type": "slide"
    }
   },
   "source": [
    "### Examples for ordinary differential equations in chemistry and physics:\n",
    "\n",
    "- chemical reaction kinetics\n",
    " \n",
    "   $$\n",
    "    A + B \\rightarrow \\mathrm{Products}  \\qquad e.g. \\qquad CH_3CH_2Br + OH^- \\rightarrow CH_3CH_2OH + Br^-\n",
    "   $$\n",
    "   \n",
    "     with the rate equation\n",
    "     \n",
    "   $$\n",
    "   -\\frac{\\mathrm{d}c_A}{\\mathrm{d}t} = - \\frac{\\mathrm{d}c_B}{\\mathrm{d}t} = k c_A c_B\n",
    "   $$\n",
    "\n",
    "- Harmonic oscillator\n",
    "    $$\n",
    "    \\frac{\\mathrm{d}^2x}{\\mathrm{d}t^2} = -\\omega^2 x\n",
    "    $$\n"
   ]
  },
  {
   "cell_type": "markdown",
   "id": "third-toolbox",
   "metadata": {
    "slideshow": {
     "slide_type": "slide"
    }
   },
   "source": [
    "- Lorenz equations\n",
    "\n",
    " $$\n",
    "{\\mathrm{d} x\\over\\mathrm{d} t} = \\sigma(y-x),\\qquad\n",
    "{\\mathrm{d} y\\over\\mathrm{d} t} = rx - y - xz,\\qquad\n",
    "{\\mathrm{d} z\\over\\mathrm{d} t} = xy - bz,\n",
    "$$\n",
    "\n",
    " where where $\\sigma$, $r$ and $b$ are constants \n",
    "\n",
    "- Newton's equation of motion\n",
    " $$\n",
    " \\frac{\\mathrm{d}^2\\mathbf{r}_i}{\\mathrm{d}t^2} = \\frac{\\mathbf{F}_i}{m_i}\n",
    " $$\n",
    " \n",
    " where $\\mathbf{r}_i = (x,y,z)$, $m_i$, and $\\mathbf{F}_i$ are the position, mass and force acting on particle $i$.\n",
    " "
   ]
  },
  {
   "cell_type": "markdown",
   "id": "promotional-appreciation",
   "metadata": {
    "slideshow": {
     "slide_type": "skip"
    }
   },
   "source": [
    "<b> Chemical reaction kinetics </b>:\n",
    " Chemical kinetics or reaction kinetics investigates the speed of a chemical reaction, i.e., how fast the concentration of a reactant changes with time. The reactions are due to collisions of the the reactant species. The frequency with which the molecules or ions collide depends -next to theromodynamic variables such as the temperature- on their concentrations. $c_A$ and $c_B$  are here the concentrations of the reactants $A$ and $B$. Above you see a second-order reactions, i.e., the reaction rate depends on the concentration $c_A$ and $c_B$ of reactants $A$ and $B$. The reaction happens in one step. The order of an reaction is not defined by the stoichiometry of the reaction. The reaction could happen in several steps and intermediate products could form and the rate-determining step could have a different order. Studying the reaction rates is therefore important to identify the reaction mechanism. A typical example for a second-order reaction are so-called S$_N$2 reactions shown above. In the exercise you will solve the rate equation for a first-order reaction.\n",
    " \n",
    "<b>Lorenz equations</b>: \n",
    " These equations were first studied by Edward Lorenz in 1963, who\n",
    "derived them from a simplified model of weather patterns.  The\n",
    "reason for their fame is that they were one of the first incontrovertible\n",
    "examples of \"deterministic chaos\", the occurrence of apparently\n",
    "random motion even though there is no randomness built into the equations.\n",
    "\n",
    "<b> Equation of motion </b>:\n",
    "These equations are solved, e.g., in astrophysics to calculate the orbits of planets etc. They are also relevant in statistical physics for molecular dynamics simulations."
   ]
  },
  {
   "cell_type": "markdown",
   "id": "american-probe",
   "metadata": {
    "slideshow": {
     "slide_type": "slide"
    }
   },
   "source": [
    "### Example for equations of motions: molecular dynamics\n",
    "\n",
    "- Realm of statistical physics: generation of trajectories to analyze the movement of atoms and molecules \n",
    "- Applied for systems, where sampling of phase space is necessary, e.g., liquids\n",
    "- Trajectories are obtained by numerically solving Newton's equations of motion \n",
    "- Example: water film on top of Pt(111) surface"
   ]
  },
  {
   "cell_type": "code",
   "execution_count": 10,
   "id": "celtic-postcard",
   "metadata": {
    "scrolled": true,
    "slideshow": {
     "slide_type": "-"
    }
   },
   "outputs": [
    {
     "data": {
      "text/html": [
       "\n",
       "  <video  controls id=\"H2OPt\" width=\"500\" height=\"500\">\n",
       "  <source src=\"./H2O_on_Pt.mp4\">\n",
       "  </video>\n",
       "\n",
       "  <script>\n",
       "  video = document.getElementById(\"H2OPt\")\n",
       "  video.playbackRate = 2.0;\n",
       "  </script>\n",
       "  "
      ],
      "text/plain": [
       "<IPython.core.display.HTML object>"
      ]
     },
     "execution_count": 10,
     "metadata": {},
     "output_type": "execute_result"
    }
   ],
   "source": [
    "play_H2O_on_Pt()"
   ]
  },
  {
   "cell_type": "markdown",
   "id": "dependent-wales",
   "metadata": {
    "slideshow": {
     "slide_type": "skip"
    }
   },
   "source": [
    "Molecular dynamics is a computer simulation method for analyzing the physical movements of atoms and molecules.\n",
    "The simulations are run for a certain amount of time, in the example above, for a few pico seconds. You can then display the \"evolution\" of the system. From molecular dynamics, we can study the structure of the molecular systems, but also obtain properties such as diffusion coefficients etc. With more advanced techniques, we can also study reactions, e.g., dissociation reactions.\n",
    "\n",
    "The system above shows a liquid water film (oxygen atoms in red, hydrogen atoms in white) on top of a platinum surface (Pt atoms in brown). The purpose of this simulation was to study the structure of the water on Pt(111). One can observe that a very dense first adsorption layer forms.  "
   ]
  },
  {
   "cell_type": "markdown",
   "id": "rapid-transcript",
   "metadata": {
    "slideshow": {
     "slide_type": "slide"
    }
   },
   "source": [
    "### Example for partial differential equations:\n",
    "    \n",
    "  - Laplace equation\n",
    "  - Poisson equation\n",
    "  - Maxwell's equation\n",
    "  - Schrödinger equation\n",
    "  - ..."
   ]
  },
  {
   "cell_type": "markdown",
   "id": "exempt-interstate",
   "metadata": {
    "slideshow": {
     "slide_type": "slide"
    }
   },
   "source": [
    "### Solving ordinary differential equations analytically\n",
    "\n",
    "ODEs can be solved analytically if the variables can be separated. An example for such an equation is the following linear ODE\n",
    "\n",
    "$$\n",
    " \\frac{\\mathrm{d}x}{\\mathrm{d}t} = \\frac{2x}{t}\n",
    "$$\n",
    "\n",
    " - Separation of variables:\n",
    " $$\n",
    "  \\frac{\\mathrm{d}x}{x} = 2 \\frac{\\mathrm{d}t}{t}\n",
    " $$\n",
    " \n",
    " - Integration of both sides\n",
    " $$\n",
    "  \\int \\frac{\\mathrm{d}x}{x} = \\int2 \\frac{\\mathrm{d}t}{t} \\Rightarrow \\ln x = 2 \\ln t + c\n",
    " $$\n",
    " \n",
    " - Setting the integration constant to c = ln k \n",
    "$$\n",
    " \\ln x = \\ln(t^2) +  ln k\n",
    "$$\n",
    "\n",
    " - After rasing each side to $\\exp$, the solution is then\n",
    "$$\n",
    "  x(t) = kt^2\n",
    "$$\n",
    "\n",
    " -If we have an initial condition fixing $x$ at time $t$, we can also determine $k$. \n",
    " "
   ]
  },
  {
   "cell_type": "markdown",
   "id": "engaging-foster",
   "metadata": {
    "slideshow": {
     "slide_type": "slide"
    }
   },
   "source": [
    "### Numerical solution of ordinary differential equations\n",
    "\n",
    "Let's assume we have instead\n",
    "\n",
    "$$\n",
    " \\frac{\\mathrm{d}x}{\\mathrm{d}t} = \\frac{2x}{t} + \\frac{3x^2}{t^3}\n",
    "$$\n",
    "\n",
    "\n",
    "- no longer separable\n",
    "- nonlinear equation, i.e., powers or other non-linear functions of the dependent variable $x$ appear\n",
    "- nonlinear equations can be rarely solved analytically $\\rightarrow$ <b> solve it numerically </b>"
   ]
  },
  {
   "cell_type": "markdown",
   "id": "direct-exposure",
   "metadata": {
    "slideshow": {
     "slide_type": "-"
    }
   },
   "source": [
    "<b> Comment </b>:\n",
    "\n",
    "The definition of a linear first-oder ODE is\n",
    "\n",
    "$$\n",
    "\\frac{\\mathrm{d}x(t)}{\\mathrm{d}t} + f(t) x(t)= g(t)\n",
    "$$\n",
    "\n",
    "The definition of a linear $n$-th order ODE is\n",
    "\n",
    "$$\n",
    "\\frac{\\mathrm{d}^nx(t)}{\\mathrm{d}t^n} + a_{n-1}(t)\\frac{\\mathrm{d}^{n-1}x(t)}{\\mathrm{d}t^{n-1}} \\cdots + a_2(t)\\frac{\\mathrm{d}^2x(t)}{\\mathrm{d}t^2} + a_1(t)\\frac{\\mathrm{d}x(t)}{\\mathrm{d}t} + a_0(t) x(t) = b(t)\n",
    "$$\n",
    "\n"
   ]
  },
  {
   "cell_type": "markdown",
   "id": "funny-stupid",
   "metadata": {
    "slideshow": {
     "slide_type": "slide"
    }
   },
   "source": [
    "### Methods for numerical solutions of ODEs\n",
    "\n",
    "Methods covered in this lecture\n",
    "\n",
    "- Euler method\n",
    "- Runge-Kutta methods\n",
    "- Leapfrog\n",
    "- Verlet"
   ]
  },
  {
   "cell_type": "markdown",
   "id": "colonial-profile",
   "metadata": {
    "slideshow": {
     "slide_type": "slide"
    }
   },
   "source": [
    "### Euler's method\n",
    "\n",
    "If we start from the general form of the first-order ODE\n",
    "\n",
    "$$\n",
    "\\frac{\\mathrm{d}x}{\\mathrm{d}t} = f(x,t)\n",
    "$$\n",
    "\n",
    "and have an initial condition that fixes the value of $x$ for some $t$, then we can write the value of $x$ a short interval $h$ later using a Taylor expansion:\n",
    "\n",
    "$$\n",
    "\\begin{align}\n",
    " x(t+h) &= x(t) + h\\frac{\\mathrm{d}x}{\\mathrm{d}t} + \\frac{1}{2}h^2\\frac{\\mathrm{d}^2x}{\\mathrm{d}t^2} +\\cdots\\\\\n",
    "        &= x(t) + h\\frac{\\mathrm{d}x}{\\mathrm{d}t} + \\mathcal{O}(h^2)\n",
    "\\end{align}\n",
    "$$\n",
    "\n",
    "with $\\mathcal{O}(h^2)$ denotes all terms that go $h^2$ and higher"
   ]
  },
  {
   "cell_type": "markdown",
   "id": "completed-clothing",
   "metadata": {
    "slideshow": {
     "slide_type": "slide"
    }
   },
   "source": [
    "If $h$ is small, then $h^2$ is very small, so we can neglect the terms in $h^2$  and get\n",
    "\n",
    "$$\n",
    " x(t+h) = x(t) + hf(x,t)\n",
    "$$\n",
    "\n",
    "<b> Procedure: </b>:\n",
    "\n",
    "- start at time $t$, where value $x$ is known\n",
    "- calculate $x$ at short time later, i.e. at $t+h$\n",
    "- repeat and calculate $x$ at $t+2h$\n",
    "- continue until $t=t_{\\mathrm{end}}$"
   ]
  },
  {
   "cell_type": "markdown",
   "id": "banner-trauma",
   "metadata": {
    "slideshow": {
     "slide_type": "skip"
    }
   },
   "source": [
    "If you are given a differential equation for $x$ and an initial condition $t=a$ and asked to make a graph of $x(t)$ for values $t$ from $t_a$ to $t_b$, divide the interval from $a$ to $b$ into steps of size $h$ and use $x(t+h) = x(t) + hf(x,t)$ repeatedly and then plot the results.This method is called after its inventor, Leonhard Euler."
   ]
  },
  {
   "cell_type": "markdown",
   "id": "swiss-insider",
   "metadata": {
    "slideshow": {
     "slide_type": "slide"
    }
   },
   "source": [
    "### Example for Euler's method\n",
    "\n",
    "Let's use Euler's method to solve the differential equation\n",
    "\n",
    "$$\n",
    "\\frac{\\mathrm{d}x(t)}{\\mathrm{d}t} = (\\cos t) x(t)\n",
    "$$\n",
    "\n",
    "with the initial condition $x=1$ at $t=0$ and we want to perform the calculation from $t=0$ to $t=10$. This is a first-order linear equation, which can be also solved analytically.  With the given initial condition, the analytic solution is\n",
    "$$\n",
    "x(t) = e^{\\sin(t)}\n",
    "$$"
   ]
  },
  {
   "cell_type": "code",
   "execution_count": 3,
   "id": "cardiac-massage",
   "metadata": {
    "slideshow": {
     "slide_type": "-"
    }
   },
   "outputs": [
    {
     "name": "stdout",
     "output_type": "stream",
     "text": [
      "Step size 0.01\n"
     ]
    },
    {
     "data": {
      "text/plain": [
       "<matplotlib.legend.Legend at 0x7fee452b4e80>"
      ]
     },
     "execution_count": 3,
     "metadata": {},
     "output_type": "execute_result"
    },
    {
     "data": {
      "image/png": "[encoded data removed]",
      "text/plain": [
       "<Figure size 432x288 with 1 Axes>"
      ]
     },
     "metadata": {
      "needs_background": "light"
     },
     "output_type": "display_data"
    }
   ],
   "source": [
    "from numpy import cos, sin, exp,arange\n",
    "from matplotlib import pyplot as plt\n",
    "\n",
    "\"\"\" Define function \"\"\"\n",
    "def f(x,t):\n",
    "    return cos(t) * x\n",
    "\n",
    "\"\"\"Initial values and parameters\"\"\"\n",
    "a = 0.0        # Start of the interval\n",
    "b = 10.0       # End of the interval\n",
    "N = 1000       # Number of steps\n",
    "h = (b-a)/N    # Step size\n",
    "print ('Step size', h)\n",
    "x = 1.0        # Initial condition\n",
    "\n",
    "tpoints =  arange(a,b,h)\n",
    "xpoints_euler =[]\n",
    "xpoints_analytic =[]\n",
    "\n",
    "\"\"\" Solve with Euler \"\"\"\n",
    "for t in tpoints:\n",
    "    xpoints_analytic.append(exp(sin(t)))\n",
    "    xpoints_euler.append(x)\n",
    "    x += h*f(x,t)\n",
    "\n",
    "\"\"\" Plot results \"\"\"\n",
    "plt.rc('font', size=16)\n",
    "plt.plot(tpoints,xpoints_euler,label='Euler',linewidth=3.0)\n",
    "plt.plot(tpoints,xpoints_analytic,label='Analytic',)\n",
    "plt.xlabel('t')\n",
    "plt.ylabel('x')\n",
    "plt.legend()"
   ]
  },
  {
   "cell_type": "markdown",
   "id": "narrow-shanghai",
   "metadata": {
    "slideshow": {
     "slide_type": "skip"
    }
   },
   "source": [
    "Since we can solve this ODE analytic, we can compare the accuracy of the Euler method to the exact solution. Play with the step size $h$ (i.e. with $N$) to see when the Euler solution converges to the exact one. You will find that the error decreases when decreasing the step size."
   ]
  },
  {
   "cell_type": "markdown",
   "id": "characteristic-acrobat",
   "metadata": {
    "slideshow": {
     "slide_type": "slide"
    }
   },
   "source": [
    "### Error for Euler's method\n",
    "\n",
    "- neglection of $h^2$ and higher-order terms  $\\rightarrow$ error of single step is $\\mathcal{O}(h^2)$\n",
    "- with Euler we don't take one step, but many. \n",
    "- total number of steps $N = (b- a)/h$, where solution is calculated from $t = a$ to $t =b$\n",
    "- accumulative error:\n",
    "  $$\n",
    "  \\begin{align}\n",
    "  \\sum_{k=0}^{N-1}\\frac{1}{2}h^2\\left(\\frac{\\mathrm{d}^2x}{\\mathrm{d}t^2}\\right)_{t=t_k} &=  \\frac{1}{2}h \\sum_{k=0}^{N-1}h\\left(\\frac{\\mathrm{d}f}{\\mathrm{d}t}\\right)_{t=t_k}\\\\\n",
    "  &\\approx \\frac{1}{2}h  \\int_a^b \\left(\\frac{\\mathrm{d}f}{\\mathrm{d}t}\\right) = \\frac{1}{2}h \\left[f(x(b),b)-f(x(a),a)\\right]\n",
    "  \\end{align}\n",
    "  $$\n",
    "  \n",
    "  <b> Total error is $\\mathcal{O}(h)$</b> !!"
   ]
  },
  {
   "cell_type": "markdown",
   "id": "classical-karaoke",
   "metadata": {
    "slideshow": {
     "slide_type": "skip"
    }
   },
   "source": [
    "The accumulative error is linear in $h$, which means the total error goes down by a factor of two when we make $h$ half as large. To make the calculation more accurate, it will take proportionally longer. This might not be a problem for our example, but for the simulation of the water film on top of a platinum slab shown above (where the interactions are described at the quantum mechanics level) this would add weeks of additional computation time. "
   ]
  },
  {
   "cell_type": "markdown",
   "id": "careful-taxation",
   "metadata": {
    "slideshow": {
     "slide_type": "slide"
    }
   },
   "source": [
    "### Impact of error propagation"
   ]
  },
  {
   "cell_type": "markdown",
   "id": "seasonal-mention",
   "metadata": {
    "slideshow": {
     "slide_type": "-"
    }
   },
   "source": [
    "<b> Example:</b> Earth (blue) +  moon (gray) orbiting around sun (yellow)\n",
    "\n",
    "- Equations of motion solved by Euler method (= \"Lazy man\" method)\n",
    "- yields qualitively wrong results\n",
    "- <i>Video by Miguel Caro (Advanced Statistical Physics course at Aalto), see also  https://youtu.be/nHAZGkKn1-g </i>"
   ]
  },
  {
   "cell_type": "code",
   "execution_count": 11,
   "id": "outdoor-fundamentals",
   "metadata": {
    "slideshow": {
     "slide_type": "-"
    }
   },
   "outputs": [
    {
     "data": {
      "text/html": [
       "\n",
       " <video  controls id=\"lazyman\" width=\"500\" height=\"500\">\n",
       " <source src=\"./lazy_man.mp4\">\n",
       " </video>\n",
       "\n",
       " <script>\n",
       " video = document.getElementById(\"lazyman\")\n",
       " video.playbackRate = 2.0;\n",
       " </script>\n",
       " "
      ],
      "text/plain": [
       "<IPython.core.display.HTML object>"
      ]
     },
     "execution_count": 11,
     "metadata": {},
     "output_type": "execute_result"
    }
   ],
   "source": [
    "play_lazy_man()"
   ]
  },
  {
   "cell_type": "markdown",
   "id": "backed-charity",
   "metadata": {
    "slideshow": {
     "slide_type": "skip"
    }
   },
   "source": [
    "In the video you see a comparison between approximate and \"exact\" trajectories (where \"exact results\" are obtained with a better method and very small time step $h$. We see in this simulation that the Euler method performs terribly. The accumulated error leads to completely nonsensical behavior. Our Moon-like object shots away into an unstable orbit. "
   ]
  },
  {
   "cell_type": "markdown",
   "id": "geographic-underground",
   "metadata": {
    "slideshow": {
     "slide_type": "slide"
    }
   },
   "source": [
    "### Can we improve Euler's method?\n",
    "\n",
    "<b> Idea </b>: We could keep the order $h^2$ in the Taylor expansion. The $h^2$ term is\n",
    "\n",
    "$$\n",
    "\\frac{1}{2}h^2\\frac{\\mathrm{d}^2x}{\\mathrm{d}t^2} = \\frac{1}{2}h^2 \\frac{\\mathrm{d}f}{\\mathrm{d}t}\n",
    "$$\n",
    "\n",
    "- would yield more accurate expression\n",
    "- problem: we need an explicit expression of $f$ to calculate $\\mathrm{d}f/\\mathrm{d}t$ $\\rightarrow$ not always the case\n",
    "\n",
    "Conclusion: don't use Euler, there are better methods, e.g., Runge-Kutta\n",
    "\n"
   ]
  },
  {
   "cell_type": "markdown",
   "id": "simple-thumb",
   "metadata": {
    "slideshow": {
     "slide_type": "skip"
    }
   },
   "source": [
    "Side note: Euler's method is not completely useless, it will become relevant again for partial differential equations.    "
   ]
  },
  {
   "cell_type": "markdown",
   "id": "former-leader",
   "metadata": {
    "slideshow": {
     "slide_type": "slide"
    }
   },
   "source": [
    "### Runge Kutta method\n",
    "\n",
    "- actually set of methods\n",
    "- second-order and fourth-order Runga method\n",
    "- technically, Euler is a first-order Runge Kutta\n",
    "- increasing accuracy with increasing order\n",
    "\n"
   ]
  },
  {
   "cell_type": "markdown",
   "id": "entitled-arbitration",
   "metadata": {
    "slideshow": {
     "slide_type": "slide"
    }
   },
   "source": [
    "### Second-order Runge Kutta (RK2) method\n",
    "\n",
    "<img src=\"euler_vs_RK2.png\" width=\"500\" />\n",
    "(Figure from \"Computational Physics\" by Marc Newman.)\n",
    "\n",
    "Euler's method and the RK2 method: Euler's method is equivalent to taking the slope $\\mathrm{d}x/\\mathrm{d}t$ at time $t$ and extrapolating it into the future to time $t+h$. A better approximation is to perform the extrapolation using the slope at time $t + \\frac{1}{2}h$. This is the idea of the RK2 method.  "
   ]
  },
  {
   "cell_type": "markdown",
   "id": "polish-seeker",
   "metadata": {
    "slideshow": {
     "slide_type": "skip"
    }
   },
   "source": [
    "<b>Rational</b>: The curve represent the true form of $x(t)$, which we are trying to calculate. From $\\mathrm{d}x/\\mathrm{d}t = f(x,t)$ we know that the slope of the solution is equal to the function $f(x,t)$. Given the value of $x$ at time $t$ we can calculate the slope at that point, as shown in the figure. Then we extrapolate that slope to time $t+h$ $\\rightarrow$ we get $x(t+h)$ (Euler's method). This would work perfectly, if the curve was a straight line, but not if it is curved. Better: calculate slope at $t+\\frac{1}{2}h$. This is what we do in RK2, which is the reason why it is also called \"midpoint method\". "
   ]
  },
  {
   "cell_type": "markdown",
   "id": "adjusted-danish",
   "metadata": {
    "slideshow": {
     "slide_type": "slide"
    }
   },
   "source": [
    "### Derivation of the RK2 equations\n",
    "\n",
    "- First step: Taylor expansion around $t+\\frac{1}{2}h$ to get value of $x(t+h)$. \n",
    "\n",
    "$$\n",
    " x(t+h) = x\\left(t+\\frac{1}{2}h\\right) + \\frac{1}{2}h\\left(\\frac{\\mathrm{d}x}{\\mathrm{d}t}\\right)_{t+\\frac{1}{2}h} + \\frac{1}{8}h^2\\left(\\frac{\\mathrm{d}x}{\\mathrm{d}t}\\right)_{t+\\frac{1}{2}h} + \\mathcal{O}(h^3)\n",
    "$$\n",
    "\n",
    "- Second step: Taylor expansion around $t+\\frac{1}{2}h$ to get value of $x(t)$. \n",
    "\n",
    "$$\n",
    " x(t) = x\\left(t+\\frac{1}{2}h\\right) - \\frac{1}{2}h\\left(\\frac{\\mathrm{d}x}{\\mathrm{d}t}\\right)_{t+\\frac{1}{2}h} + \\frac{1}{8}h^2\\left(\\frac{\\mathrm{d}x}{\\mathrm{d}t}\\right)_{t+\\frac{1}{2}h} + \\mathcal{O}(h^3)\n",
    "$$\n",
    "\n",
    "- Third step: Subtract the second from the first expression\n",
    "\n",
    "$$\n",
    "\\begin{align}\n",
    "x(t+h) &= x(t) + h\\left(\\frac{\\mathrm{d}x}{\\mathrm{d}t}\\right)_{t+\\frac{1}{2}h} +  \\mathcal{O}(h^3)\\\\\n",
    "       &= x(t) + hf\\left(x\\left(t+\\frac{1}{2}h\\right),t+\\frac{1}{2}h\\right) + \\mathcal{O}(h^3)\n",
    "\\end{align}\n",
    "$$"
   ]
  },
  {
   "cell_type": "markdown",
   "id": "streaming-minneapolis",
   "metadata": {
    "slideshow": {
     "slide_type": "slide"
    }
   },
   "source": [
    "The error term is now $\\mathcal{O}(h^3)$! This is nice because our method will be more accurate. Problem: we don't have $x\\left(t+\\frac{1}{2}h\\right)$, only $x(t)$ 🤔"
   ]
  },
  {
   "cell_type": "markdown",
   "id": "collected-exercise",
   "metadata": {
    "slideshow": {
     "slide_type": "-"
    }
   },
   "source": [
    "- Fourth step: use Euler to approximate $x\\left(t+\\frac{1}{2}h\\right)$\n",
    "\n",
    "  $$\n",
    "   x\\left(t+\\frac{1}{2}h\\right) = x(t) +  \\frac{1}{2}h f(x,t)\n",
    "  $$\n",
    "  \n",
    "  and then substitute it into the equation above\n",
    " "
   ]
  },
  {
   "cell_type": "markdown",
   "id": "offshore-lender",
   "metadata": {
    "slideshow": {
     "slide_type": "slide"
    }
   },
   "source": [
    "### Working equations for RK2\n",
    "\n",
    "$$\n",
    " \\begin{align}\n",
    "  k_1 &= h f(x,t) \\\\\n",
    "  k_2 &= hf\\left(x+\\frac{1}{2}k_1,t+\\frac{1}{2}h\\right)\\\\\n",
    "  x(t+h) &= x(t) + k_2\n",
    " \\end{align}\n",
    "$$"
   ]
  },
  {
   "cell_type": "markdown",
   "id": "foreign-spine",
   "metadata": {
    "slideshow": {
     "slide_type": "slide"
    }
   },
   "source": [
    "### Example for RK2 method \n",
    "\n",
    "We want to solve again\n",
    "\n",
    "$$\n",
    "\\frac{\\mathrm{d}x(t)}{\\mathrm{d}t} = (\\cos t) x(t)\n",
    "$$\n",
    "\n",
    "with the initial condition $x=1$ at $t=0$."
   ]
  },
  {
   "cell_type": "code",
   "execution_count": 5,
   "id": "fallen-framing",
   "metadata": {
    "slideshow": {
     "slide_type": "-"
    }
   },
   "outputs": [
    {
     "name": "stdout",
     "output_type": "stream",
     "text": [
      "Step size 0.2\n"
     ]
    },
    {
     "data": {
      "text/plain": [
       "<matplotlib.legend.Legend at 0x7fee449f99e8>"
      ]
     },
     "execution_count": 5,
     "metadata": {},
     "output_type": "execute_result"
    },
    {
     "data": {
      "image/png": "[encoded data removed]",
      "text/plain": [
       "<Figure size 432x288 with 1 Axes>"
      ]
     },
     "metadata": {
      "needs_background": "light"
     },
     "output_type": "display_data"
    }
   ],
   "source": [
    "from numpy import cos, sin, exp,arange\n",
    "from matplotlib import pyplot as plt\n",
    "\n",
    "\"\"\" Define function \"\"\"\n",
    "def f(x,t):\n",
    "    return cos(t) * x\n",
    "\n",
    "\"\"\"Initial values and parameters\"\"\"\n",
    "a = 0.0        # Start of the interval\n",
    "b = 10.0       # End of the interval\n",
    "N = 50         # Number of steps\n",
    "h = (b-a)/N    # Step size\n",
    "print ('Step size', h)\n",
    "x = 1.0       # Initial condition\n",
    "\n",
    "tpoints =  arange(a,b,h)\n",
    "xpoints_rk2 =[]\n",
    "xpoints_analytic =[]\n",
    "\n",
    "\"\"\" Solve with RK2 \"\"\"\n",
    "for t in tpoints:\n",
    "    xpoints_analytic.append(exp(sin(t)))\n",
    "    xpoints_rk2.append(x)\n",
    "    k1 = h*f(x,t)\n",
    "    k2 = h*f(x+0.5*k1,t+0.5*h)\n",
    "    x += k2\n",
    "\n",
    "\"\"\" Plot results \"\"\"\n",
    "plt.rc('font', size=16)\n",
    "plt.plot(tpoints,xpoints_rk2,label='RKS',linewidth=3.0)\n",
    "plt.plot(tpoints,xpoints_analytic,label='Analytic',)\n",
    "plt.xlabel('t')\n",
    "plt.ylabel('x')\n",
    "plt.legend()"
   ]
  },
  {
   "cell_type": "markdown",
   "id": "becoming-davis",
   "metadata": {
    "slideshow": {
     "slide_type": "skip"
    }
   },
   "source": [
    "Play with the variable $N$, which controls the step size $h$. Try $N = 10, 20, 50, 100$. How does the result compare to Euler's method? You should find that you can use much larger step sizes with RK2 than with Euler's method."
   ]
  },
  {
   "cell_type": "markdown",
   "id": "dedicated-breast",
   "metadata": {
    "slideshow": {
     "slide_type": "slide"
    }
   },
   "source": [
    "### Error of the RK2 method\n",
    "\n",
    "- Does approximating $x(t+0.5h)$ by Euler's method increase the scaling of the error? \n",
    " $\\rightarrow$ No! Check by expanding $f(x+0.5k_1,t+0.5h)$ in its first argument around $x(t+0.5h)$\n",
    "\n",
    "- RK2 has an error of order $\\mathcal{O}(h^3)$ for a single step\n",
    "\n",
    "- accumulative error is of order $\\mathcal{O}(h^2)$"
   ]
  },
  {
   "cell_type": "markdown",
   "id": "african-ceramic",
   "metadata": {
    "slideshow": {
     "slide_type": "skip"
    }
   },
   "source": [
    "You can also \"measure\" the accumulative error by computing the error between analytic and numerical method at time $t=b$ for different steps sizes $h$. A power-law fit yields then the order of the error. You will do this in exercise 5.1 for the fourth-order Runge-Kutta method. If you are motivated, you can also test it for RK2. "
   ]
  },
  {
   "cell_type": "markdown",
   "id": "interracial-segment",
   "metadata": {
    "slideshow": {
     "slide_type": "slide"
    }
   },
   "source": [
    "### Fourth-order Runge Kutta (RK4) method\n",
    "\n",
    "We can perform similar Taylor expansions around various points and then taking linear combinations of them. We can then again arrange for terms in $h^3$ and $h^4$ etc. In this way, we can get increasingly accurate solvers. \n",
    "\n",
    "- equations get more complicated with higher order\n",
    "- very common: fourth-order rule\n",
    "- RK4 considered good balance between high accuracy and complexity of equation"
   ]
  },
  {
   "cell_type": "markdown",
   "id": "interesting-armstrong",
   "metadata": {},
   "source": [
    "### Working equations for RK4\n",
    "\n",
    "$$\n",
    " \\begin{align}\n",
    "  k_1 &= h f(x,t) \\\\\n",
    "  k_2 &= hf\\left(x+\\frac{1}{2}k_1,t+\\frac{1}{2}h\\right)\\\\\n",
    "  k_3 &= hf\\left(x+\\frac{1}{2}k_2,t+\\frac{1}{2}h\\right)\\\\\n",
    "  k_4 &= hf\\left(x+k_3,t+h\\right)\\\\\n",
    "  x(t+h) &= x(t) + \\frac{1}{6}(k_1 + 2k_2 + 2k_3 + k_4)\n",
    " \\end{align}\n",
    "$$"
   ]
  },
  {
   "cell_type": "markdown",
   "id": "freelance-canon",
   "metadata": {
    "slideshow": {
     "slide_type": "slide"
    }
   },
   "source": [
    "### Example for RK4 method \n",
    "\n",
    "We want to solve again\n",
    "\n",
    "$$\n",
    "\\frac{\\mathrm{d}x(t)}{\\mathrm{d}t} = (\\cos t) x(t)\n",
    "$$\n",
    "\n",
    "with the initial condition $x=1$ at $t=0$."
   ]
  },
  {
   "cell_type": "code",
   "execution_count": 6,
   "id": "upset-final",
   "metadata": {
    "slideshow": {
     "slide_type": "-"
    }
   },
   "outputs": [
    {
     "name": "stdout",
     "output_type": "stream",
     "text": [
      "Step size 0.2\n"
     ]
    },
    {
     "data": {
      "text/plain": [
       "<matplotlib.legend.Legend at 0x7fee4497c208>"
      ]
     },
     "execution_count": 6,
     "metadata": {},
     "output_type": "execute_result"
    },
    {
     "data": {
      "image/png": "[encoded data removed]",
      "text/plain": [
       "<Figure size 432x288 with 1 Axes>"
      ]
     },
     "metadata": {
      "needs_background": "light"
     },
     "output_type": "display_data"
    }
   ],
   "source": [
    "from numpy import cos, sin, exp,arange\n",
    "from matplotlib import pyplot as plt\n",
    "\n",
    "\"\"\" Define function \"\"\"\n",
    "def f(x,t):\n",
    "    return cos(t) * x\n",
    "\n",
    "\"\"\"Initial values and parameters\"\"\"\n",
    "a = 0.0        # Start of the interval\n",
    "b = 10.0       # End of the interval\n",
    "N = 50         # Number of steps\n",
    "h = (b-a)/N    # Step size\n",
    "print ('Step size', h)\n",
    "x = 1.0        # Initial condition\n",
    "\n",
    "tpoints =  arange(a,b,h)\n",
    "xpoints_rk4 =[]\n",
    "xpoints_analytic =[]\n",
    "\n",
    "\"\"\" Solve with RK4 \"\"\"\n",
    "for t in tpoints:\n",
    "    xpoints_analytic.append(exp(sin(t)))\n",
    "    xpoints_rk4.append(x)\n",
    "    k1 = h*f(x,t)\n",
    "    k2 = h*f(x+0.5*k1,t+0.5*h)\n",
    "    k3 = h*f(x+0.5*k2,t+0.5*h)\n",
    "    k4 = h*f(x+k3,t+h)\n",
    "    x += (k1+2*k2+2*k3+k4)/6\n",
    "    \n",
    "\"\"\" Plot results \"\"\"\n",
    "plt.rc('font', size=16)\n",
    "plt.plot(tpoints,xpoints_rk4,label='RK4',linewidth=3.0)\n",
    "plt.plot(tpoints,xpoints_analytic,label='Analytic',)\n",
    "plt.xlabel('t')\n",
    "plt.ylabel('x')\n",
    "plt.legend()"
   ]
  },
  {
   "cell_type": "markdown",
   "id": "breathing-display",
   "metadata": {
    "slideshow": {
     "slide_type": "skip"
    }
   },
   "source": [
    "Play again with the variable $N$, which controls the step size $h$. What do you find?"
   ]
  },
  {
   "cell_type": "markdown",
   "id": "sophisticated-imagination",
   "metadata": {
    "slideshow": {
     "slide_type": "slide"
    }
   },
   "source": [
    "### Error of the RK4 method\n",
    "\n",
    "- RK4 has an error of order $\\mathcal{O}(h^5)$ for a single step\n",
    "\n",
    "- accumulative error is of order $\\mathcal{O}(h^4)$\n",
    "\n",
    "\n",
    "- RK4 is often method of choice for many problems\n",
    "- there are exceptions, where other solvers are better suited. We will discuss them later"
   ]
  },
  {
   "cell_type": "markdown",
   "id": "statutory-graduate",
   "metadata": {
    "slideshow": {
     "slide_type": "skip"
    }
   },
   "source": [
    "So far we only applied the Euler and RK methods to 1st-order ODEs with one dependent variable. \n",
    "Before discussing other numerical solvers for ODEs, we learn how to\n",
    "\n",
    "- use these solvers for ODEs with more than one variable\n",
    "- second-order ODEs"
   ]
  },
  {
   "cell_type": "markdown",
   "id": "humanitarian-integral",
   "metadata": {
    "slideshow": {
     "slide_type": "slide"
    }
   },
   "source": [
    "### Simultaneous differential equations\n",
    "\n",
    "- So far we only looked at ODEs with one <it> dependent </it> variable $x$. \n",
    "- We have often more than one $\\rightarrow$ simultaneous differential equations\n",
    "\n",
    "- Example:\n",
    "\n",
    "$$\n",
    "\\frac{\\mathrm{d}x(t)}{\\mathrm{d}t} = x(t)y(t) -x(t), \\qquad \\frac{\\mathrm{d}y(t)}{\\mathrm{d}t} = y(t) -x(t)y(t) + sin^2(\\omega t) \n",
    "$$\n",
    "\n",
    "- there is still only one(!) <it> independet </it> variable $t$"
   ]
  },
  {
   "cell_type": "markdown",
   "id": "failing-museum",
   "metadata": {
    "slideshow": {
     "slide_type": "-"
    }
   },
   "source": [
    "These equations are still ODEs, not partial differential equations. "
   ]
  },
  {
   "cell_type": "markdown",
   "id": "virtual-opera",
   "metadata": {
    "slideshow": {
     "slide_type": "slide"
    }
   },
   "source": [
    "The general form for two simultaneous ODEs is\n",
    "\n",
    "$$\n",
    "\\frac{\\mathrm{d}x(t)}{\\mathrm{d}t} = f_x(x,y,t), \\qquad \\frac{\\mathrm{d}y(t)}{\\mathrm{d}t} = f_y(x,y,t) \n",
    "$$\n",
    "\n",
    "where $f_x$ and $f_y$ are general, possibly nonlinear functions of $x$, $y$ and $t$. This can be also written in vector form for an arbitrary number of variables \n",
    "\n",
    "\n",
    "$$\n",
    "\\frac{\\mathrm{d}\\mathbf{r}}{\\mathrm{d}t} = \\mathbf{f}(\\mathbf{r},t)\n",
    "$$\n",
    "\n",
    "where $\\mathbf{r} = (x,y,...)$ and $\\mathbf{f}$ is a vector of functions $\\mathbf{f}(\\mathbf{r},t) = (f_x(\\mathbf{r},t),f_y(\\mathbf{r},t)...)$\n"
   ]
  },
  {
   "cell_type": "markdown",
   "id": "electric-prince",
   "metadata": {
    "slideshow": {
     "slide_type": "slide"
    }
   },
   "source": [
    "### Numerical solution of simultaneous differential equations\n",
    "\n",
    "The working equations for, e.g., Euler's method and the RK4 method can be straigthforwardly expanded to the multi-variable case\n",
    "\n",
    "- Euler's method\n",
    " $$\n",
    "  \\mathbf{r}(t+h) = \\mathbf{r}(t) +  h\\mathbf{f}(\\mathbf{r},t)\n",
    " $$\n",
    " \n",
    "- RK4 method\n",
    " \n",
    " $$\n",
    " \\begin{align}\n",
    "  \\mathbf{k}_1 &= h \\mathbf{f}(\\mathbf{r},t) \\\\\n",
    "  \\mathbf{k_2} &= h\\mathbf{f}\\left(\\mathbf{r}+\\frac{1}{2}\\mathbf{k}_1,t+\\frac{1}{2}h\\right)\\\\\n",
    "  \\mathbf{k_3} &= h\\mathbf{f}\\left(\\mathbf{r}+\\frac{1}{2}\\mathbf{k}_2,t+\\frac{1}{2}h\\right)\\\\\n",
    "  \\mathbf{k_4} &= h\\mathbf{f}\\left(\\mathbf{r}+\\mathbf{k}_3,t+h\\right)\\\\\n",
    "  \\mathbf{r}(t+h) &= \\mathbf{r}(t) + \\frac{1}{6}(\\mathbf{k}_1 + 2\\mathbf{k}_2 + 2\\mathbf{k}_3 + \\mathbf{k}_4)\n",
    " \\end{align}\n",
    "$$\n",
    " "
   ]
  },
  {
   "cell_type": "markdown",
   "id": "arbitrary-midnight",
   "metadata": {
    "slideshow": {
     "slide_type": "slide"
    }
   },
   "source": [
    "### Example for simultaneous ODEs\n",
    "\n",
    "Let's try to find the solution with RK4 for \n",
    "\n",
    "$$\n",
    "\\frac{\\mathrm{d}x}{\\mathrm{d}t} = xy -x, \\qquad \\frac{\\mathrm{d}y}{\\mathrm{d}t} = y -xy + sin^2(\\omega t) \n",
    "$$\n",
    "\n",
    "for $t=0$ to $t = 10$ and $\\omega = 1$ with initial conditions $x=y=1$ at $t=0$ \n"
   ]
  },
  {
   "cell_type": "code",
   "execution_count": 7,
   "id": "surface-leave",
   "metadata": {
    "slideshow": {
     "slide_type": "-"
    }
   },
   "outputs": [
    {
     "data": {
      "text/plain": [
       "<matplotlib.legend.Legend at 0x7fee448e9400>"
      ]
     },
     "execution_count": 7,
     "metadata": {},
     "output_type": "execute_result"
    },
    {
     "data": {
      "image/png": "[encoded data removed]",
      "text/plain": [
       "<Figure size 432x288 with 1 Axes>"
      ]
     },
     "metadata": {
      "needs_background": "light"
     },
     "output_type": "display_data"
    }
   ],
   "source": [
    "from numpy import sin, array, arange\n",
    "from matplotlib import pyplot as plt\n",
    "\n",
    "\"\"\"Initial values and parameters\"\"\"\n",
    "a = 0.0                     # Start of the interval\n",
    "b = 10.0                    # End of the interval\n",
    "N = 100                     # Number of steps\n",
    "h = (b-a)/N                 # Step size\n",
    "r = array([1.0,1.0])        # Initial condition: r[0] = x = 1 and r[1] = y = 1\n",
    "\n",
    "\n",
    "\"\"\" Define function \"\"\"\n",
    "def f(r,t):\n",
    "    x = r[0]\n",
    "    y = r[1]\n",
    "    fx = x*y - x\n",
    "    fy = y - x*y + sin(t)**2\n",
    "    return array([fx,fy],float)\n",
    "\n",
    "\n",
    "tpoints =  arange(a,b,h)\n",
    "xpoints = []\n",
    "ypoints = []\n",
    "\n",
    "\"\"\" Solve with RK4 \"\"\"\n",
    "for t in tpoints:\n",
    "    xpoints.append(r[0])\n",
    "    ypoints.append(r[1])\n",
    "    k1 = h*f(r,t)\n",
    "    k2 = h*f(r+0.5*k1,t+0.5*h)\n",
    "    k3 = h*f(r+0.5*k2,t+0.5*h)\n",
    "    k4 = h*f(r+k3,t+h)\n",
    "    r += (k1+2*k2+2*k3+k4)/6\n",
    "    \n",
    "\"\"\" Plot results \"\"\"\n",
    "plt.rc('font', size=16)\n",
    "plt.plot(tpoints,xpoints,label='x',linewidth=3.0)\n",
    "plt.plot(tpoints,ypoints,label='y',linewidth=3.0)\n",
    "plt.xlabel('t')\n",
    "plt.ylabel('x')\n",
    "plt.legend()"
   ]
  },
  {
   "cell_type": "markdown",
   "id": "appointed-motion",
   "metadata": {
    "slideshow": {
     "slide_type": "skip"
    }
   },
   "source": [
    "Note that the program is almost identical to the RK4 program, except for the definition of the function $\\mathbf{f}(\\mathbf{r},t)$ which is slightly more diffcult."
   ]
  },
  {
   "cell_type": "markdown",
   "id": "legal-vegetarian",
   "metadata": {
    "slideshow": {
     "slide_type": "slide"
    }
   },
   "source": [
    "### Solving second-order ODEs numerically\n",
    "\n",
    "Second-order ODEs have the general form of\n",
    "\n",
    "$$\n",
    " \\frac{\\mathrm{d}^2x}{\\mathrm{d}t^2} =  f\\left(x,\\frac{\\mathrm{d}x}{\\mathrm{d}t},t \\right)\n",
    "$$\n",
    "\n",
    "Solving these equations numerically is actually quite simple due to the following trick. We can define a new quantity $y$ and rewrite the 2nd-order ODE\n",
    "\n",
    "$$\n",
    " \\frac{\\mathrm{d}x}{\\mathrm{d}t} = y, \\qquad  \\frac{\\mathrm{d}y}{\\mathrm{d}t} = f(x,y,t)\n",
    "$$"
   ]
  },
  {
   "cell_type": "markdown",
   "id": "incoming-wales",
   "metadata": {
    "slideshow": {
     "slide_type": "notes"
    }
   },
   "source": [
    "<b> Comment: </b> First-order equation are quite rare in physics. Many ODEs are second-order and higher. For higher orders we can do a similar trick. For example, for a third-order equation we would define two additional variables and obtain three simultaneous first-order equations. "
   ]
  },
  {
   "cell_type": "markdown",
   "id": "recreational-beauty",
   "metadata": {
    "slideshow": {
     "slide_type": "slide"
    }
   },
   "source": [
    "### Example 1:\n",
    "\n",
    "We have\n",
    "\n",
    "$$\n",
    " \\frac{\\mathrm{d}^2x}{\\mathrm{d}t^2} =  2 \\frac{\\mathrm{d}x}{\\mathrm{d}t} - x^3\\mathrm{e}^{4t}\n",
    "$$\n",
    "\n",
    "Now we apply our trick\n",
    "\n",
    "$$\n",
    " \\frac{\\mathrm{d}x}{\\mathrm{d}t} = y, \\qquad  \\frac{\\mathrm{d}y}{\\mathrm{d}t} = 2 y - x^3\\mathrm{e}^{4t}\n",
    "$$\n",
    "\n",
    "We have now two simultaneous first-order ODEs, that we can solved as described above"
   ]
  },
  {
   "cell_type": "markdown",
   "id": "stupid-evaluation",
   "metadata": {
    "slideshow": {
     "slide_type": "slide"
    }
   },
   "source": [
    "### Example 2: Nonlinear pendulum\n",
    "\n",
    "Consider a pendulum with an arm of length $l$ holding a bob of mass $m$:\n",
    "\n",
    "<img src=\"pendulum.png\" width=\"200\"/>\n",
    "\n",
    "We ignore friction and assume the arm is massless. The differential equation for the pendulum has the form:\n",
    "\n",
    "$$\n",
    "\\frac{\\mathrm{d}^2\\theta}{\\mathrm{d}t^2} = - \\frac{g}{l}\\sin(\\theta)\n",
    "$$\n",
    "\n",
    "Transform into two first-order equations\n",
    "\n",
    "$$\n",
    "\\begin{align}\n",
    " \\frac{\\mathrm{d}\\theta}{\\mathrm{d}t} & = \\omega \\\\\n",
    " \\frac{\\mathrm{d}\\omega}{\\mathrm{d}t} &= - \\frac{g}{l}\\sin(\\theta)\n",
    "\\end{align}\n",
    "$$\n"
   ]
  },
  {
   "cell_type": "markdown",
   "id": "transsexual-eligibility",
   "metadata": {
    "slideshow": {
     "slide_type": "skip"
    }
   },
   "source": [
    "The second-order ODE is not easily solved analytically (small angle approximation are possible though). However, solving it numerically on the computer is straightforward."
   ]
  },
  {
   "cell_type": "code",
   "execution_count": 8,
   "id": "manufactured-cheat",
   "metadata": {
    "slideshow": {
     "slide_type": "-"
    }
   },
   "outputs": [],
   "source": [
    "from numpy import sin\n",
    "g = 9.81\n",
    "l = 0.1   # Lenght of arm is 10 cm\n",
    "\n",
    "def f(r,t):\n",
    "    theta = r[0]\n",
    "    omega = r[1]\n",
    "    ftheta = omega\n",
    "    fomega = -(g/l)*sin(theta)\n",
    "    return array([ftheta,fomega],float)\n"
   ]
  },
  {
   "cell_type": "markdown",
   "id": "american-promotion",
   "metadata": {
    "slideshow": {
     "slide_type": "slide"
    }
   },
   "source": [
    "### Solving  simultaneous second-order ODEs \n",
    "\n",
    "The trick works also for simultaneous second-order ODEs, e.g., Newton's equation of motion. The general form\n",
    " is\n",
    " \n",
    "$$\n",
    " \\frac{\\mathrm{d}^2\\mathbf{r}}{\\mathrm{d}t^2} = \\mathbf{f}\\left(\\mathbf{r},\\frac{\\mathrm{d}\\mathbf{r}}{\\mathrm{d}t},t\\right) \n",
    "$$\n",
    "\n",
    "which can be transformed to \n",
    "\n",
    "$$\n",
    " \\frac{\\mathrm{d}\\mathbf{r}}{\\mathrm{d}t} =  \\mathbf{s}, \\qquad  \\frac{\\mathrm{d}\\mathbf{s}}{\\mathrm{d}t} = \\mathbf{f}\\left(\\mathbf{r},\\mathbf{s},t\\right) \n",
    "$$\n",
    "\n"
   ]
  },
  {
   "cell_type": "markdown",
   "id": "silver-generic",
   "metadata": {
    "slideshow": {
     "slide_type": "skip"
    }
   },
   "source": [
    "Let's say we start with three simultaneous equations, e.g., Newton's equations of motion, where we have $\\mathbf{r} = (x,y,z)$, after applying our trick we end up with six simultaneous first-order equations."
   ]
  },
  {
   "cell_type": "markdown",
   "id": "tested-newfoundland",
   "metadata": {
    "slideshow": {
     "slide_type": "slide"
    }
   },
   "source": [
    "#### Other integrators\n",
    "\n",
    "- Leapfrog\n",
    "- Verlet\n",
    "- (Bulirsch-Stoer)\n",
    "\n",
    "$\\rightarrow$ less widely used than Runge-Kutta methods, but popluar to solve Newton's equation of motion\n"
   ]
  },
  {
   "cell_type": "markdown",
   "id": "massive-destiny",
   "metadata": {
    "slideshow": {
     "slide_type": "skip"
    }
   },
   "source": [
    "Runge-Kutta methods, in particular RK4, are widely used, but other integrators are more suitable for certain problems. For example, Runge-Kutta methods are rarely used for molecular dynamics. Leapfrog and Verlet are much more common for these calculations. The reasons will be explored in the next lecture."
   ]
  },
  {
   "cell_type": "markdown",
   "id": "beneficial-jenny",
   "metadata": {
    "slideshow": {
     "slide_type": "slide"
    }
   },
   "source": [
    "### Leapfrog method\n",
    "\n",
    "\n",
    "Scheme comparing RK2 and leapfrog (Figure adapted from \"Computational Physics\" by Marc Newman)\n",
    "\n",
    "<img src=\"leapfrog.png\" width=\"500\"/>\n",
    "\n",
    "- RK2:  \n",
    "$$\n",
    " \\begin {align}\n",
    "   x(t+h) &= x(t) + hf\\left(x\\left(t+\\frac{1}{2}h\\right),t+\\frac{1}{2}h\\right)\\\\\n",
    "   x\\left(t+\\frac{1}{2}h\\right) &= x(t) + \\frac{1}{2}hf(x,t)\n",
    " \\end{align}\n",
    "$$"
   ]
  },
  {
   "cell_type": "markdown",
   "id": "reduced-insurance",
   "metadata": {
    "slideshow": {
     "slide_type": "slide"
    }
   },
   "source": [
    "- Leapfrog (for step > 1):\n",
    " $$\n",
    " \\begin {align}\n",
    "   x\\left(t+\\frac{3}{2}h\\right) &= x\\left(t+\\frac{1}{2}h\\right) + hf(x(t+h),t+h)\\\\\n",
    "   x\\left(t+2h\\right) &= x(t+h) + hf\\left(x\\left(t+\\frac{3}{2}h\\right),t+\\frac{3}{2}h\\right)\n",
    " \\end{align}\n",
    "$$"
   ]
  },
  {
   "cell_type": "markdown",
   "id": "verbal-polyester",
   "metadata": {
    "slideshow": {
     "slide_type": "skip"
    }
   },
   "source": [
    "The figure above shows a graphical representation of the RK2 method. At each step we calculate the solution at the midpoint and then use this solution to calculate $x(t+h)$. \n",
    "The leapfrog method is a variant of RK2. We start as with RK2 and make a half step followed by a full step, as depicted in the figure. The difference comes in the next step. Rather than calculating the next midpoint, $x\\left(t+\\frac{3}{2}h\\right)$, from $x(t+h)$, we calculate it from the previous midpoint, which is $x\\left(t+\\frac{1}{2}h\\right)$. Graphically, each step is \"leaping\" (like a frog) over the previous one. That is where the name is coming from. "
   ]
  },
  {
   "cell_type": "markdown",
   "id": "cardiac-kernel",
   "metadata": {
    "slideshow": {
     "slide_type": "slide"
    }
   },
   "source": [
    "### Working equations for Leapfrog method\n",
    "\n",
    "$$\n",
    "\\begin{align}\n",
    "   x\\left(t+h\\right) &= x(t) + hf\\left(x\\left(t+\\frac{1}{2}h\\right),t+\\frac{1}{2}h\\right)\\\\\n",
    "   x\\left(t+\\frac{3}{2}h\\right) &= x\\left(t+\\frac{1}{2}h\\right) + hf(x(t+h),t+h)\\\\\n",
    "\\end{align}\n",
    "$$"
   ]
  },
  {
   "cell_type": "markdown",
   "id": "animated-roommate",
   "metadata": {
    "slideshow": {
     "slide_type": "skip"
    }
   },
   "source": [
    "<b> Comment </b> Your task in exercise 5.3 is to figure out how to implement the Leapfrog method in a computer program. A few hints: Set the initial value for $x(t)$ given by the initial conditions. Then calculate the value for the second point (i.e. the first midpoint, which is $x(t+0.5h)$) as in RK2. You can then use it to calculate $x(t+h)$, which you can then again use to calculate $x(t+1.5h)$. Iterate until $t_{\\mathrm{end}}$."
   ]
  },
  {
   "cell_type": "markdown",
   "id": "catholic-sound",
   "metadata": {
    "slideshow": {
     "slide_type": "slide"
    }
   },
   "source": [
    "### Working equations for Leapfrog method for simultaneous ODEs\n",
    "\n",
    "The extension of the formalism is, as for Euler's and RK methods, straightforward\n",
    "\n",
    "$$\n",
    "\\begin{align}\n",
    "   \\mathbf{r}\\left(t+h\\right) &= \\mathbf{r}(t) + h\\mathbf{f}\\left(\\mathbf{r}\\left(t+\\frac{1}{2}h\\right),t+\\frac{1}{2}h\\right)\\\\\n",
    "   \\mathbf{r}\\left(t+\\frac{3}{2}h\\right) &= \\mathbf{r}\\left(t+\\frac{1}{2}h\\right) + h\\mathbf{f}(\\mathbf{r}(t+h),t+h)\\\\\n",
    "\\end{align}\n",
    "$$"
   ]
  }
 ],
 "metadata": {
  "celltoolbar": "Raw Cell Format",
  "kernelspec": {
   "display_name": "Python 3",
   "language": "python",
   "name": "python3"
  },
  "language_info": {
   "codemirror_mode": {
    "name": "ipython",
    "version": 3
   },
   "file_extension": ".py",
   "mimetype": "text/x-python",
   "name": "python",
   "nbconvert_exporter": "python",
   "pygments_lexer": "ipython3",
   "version": "3.6.13"
  }
 },
 "nbformat": 4,
 "nbformat_minor": 5
}
