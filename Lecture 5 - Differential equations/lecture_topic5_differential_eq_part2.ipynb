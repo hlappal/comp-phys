{
 "cells": [
  {
   "cell_type": "markdown",
   "id": "tired-deadline",
   "metadata": {
    "slideshow": {
     "slide_type": "slide"
    }
   },
   "source": [
    "## Lecture topic 5: \n",
    "\n",
    "## Ordinary and partial differential equations\n",
    "\n",
    "## Part 2"
   ]
  },
  {
   "cell_type": "code",
   "execution_count": 1,
   "id": "interesting-librarian",
   "metadata": {
    "slideshow": {
     "slide_type": "skip"
    }
   },
   "outputs": [],
   "source": [
    "from lecture_utils import *"
   ]
  },
  {
   "cell_type": "markdown",
   "id": "abandoned-index",
   "metadata": {
    "slideshow": {
     "slide_type": "slide"
    }
   },
   "source": [
    "### Topics of Part 2\n",
    "\n",
    "1. Continuation with integrators \n",
    "    - Leapfrog\n",
    "    - Verlet \n",
    "    \n",
    "2. Partial differential equations"
   ]
  },
  {
   "cell_type": "markdown",
   "id": "quiet-raising",
   "metadata": {
    "slideshow": {
     "slide_type": "slide"
    }
   },
   "source": [
    "### Repetition: Leapfrog method\n",
    "\n",
    "\n",
    "Scheme comparing RK2 and leapfrog (Figure adapted from \"Computational Physics\" by Marc Newman)\n",
    "\n",
    "<img src=\"leapfrog.png\" width=\"500\"/>\n",
    "\n",
    "- RK2:  \n",
    "$$\n",
    " \\begin {align}\n",
    " x\\left(t+\\frac{1}{2}h\\right) &= x(t) + \\frac{1}{2}hf(x(t),t)\\\\\n",
    "   x(t+h) &= x(t) + hf\\left(x\\left(t+\\frac{1}{2}h\\right),t+\\frac{1}{2}h\\right)\n",
    " \\end{align}\n",
    "$$\n",
    "\n",
    "\n",
    "- Leapfrog\n",
    "\n",
    "\n",
    "\\begin{align}\n",
    "   x\\left(t+h\\right) &= x(t) + hf\\left(x\\left(t+\\frac{1}{2}h\\right),t+\\frac{1}{2}h\\right)\\\\\n",
    "   x\\left(t+\\frac{3}{2}h\\right) &= x\\left(t+\\frac{1}{2}h\\right) + hf(x(t+h),t+h)\\\\\n",
    "\\end{align}\n",
    "\n"
   ]
  },
  {
   "cell_type": "markdown",
   "id": "official-watts",
   "metadata": {
    "slideshow": {
     "slide_type": "slide"
    }
   },
   "source": [
    "#### When/why would one use Leapfrog instead of RK?\n",
    "\n",
    "- RK4 more accurate, but not time-reversal symmetric\n",
    "- time-reversal symmetric behavior important for energy conservation\n",
    "- energy conservation important for many problems in physics, for example:\n",
    "  - nonlinear pendulum\n",
    "  - planet orbiting a star\n",
    "  - molecular dynamics (computer simulation of movement of atoms and molecules)"
   ]
  },
  {
   "cell_type": "markdown",
   "id": "absent-chicken",
   "metadata": {
    "slideshow": {
     "slide_type": "slide"
    }
   },
   "source": [
    "### Time reversal and energy conservation\n",
    "\n",
    "- forward and backward solution should be identical\n",
    "- forward means we have a positive interval $h$\n",
    "- backwards means we have a negative interval $-h$\n",
    "\n"
   ]
  },
  {
   "cell_type": "markdown",
   "id": "binding-james",
   "metadata": {
    "slideshow": {
     "slide_type": "slide"
    }
   },
   "source": [
    "### Forward and backward calculation with Leapfrog\n",
    "\n",
    "<img src=\"back_and_forward_calculation_leapfrog.png\" width=\"400\"/>\n",
    "\n",
    "Equations for backward calculation ($h \\rightarrow -h$):\n",
    "\n",
    "$$\n",
    "\\begin{align}\n",
    "   x\\left(t-h\\right) &= x(t) - hf\\left(x\\left(t-\\frac{1}{2}h\\right),t-\\frac{1}{2}h\\right)\\\\\n",
    "   x\\left(t-\\frac{3}{2}h\\right) &= x\\left(t-\\frac{1}{2}h\\right) - hf(x(t-h),t-h)\n",
    "\\end{align}\n",
    "$$\n",
    "\n",
    "Let's now start the backward calculation from $t+\\frac{3}{2}h$, i.e., $t\\rightarrow t+\\frac{3}{2}h$\n",
    "\n",
    "$$\n",
    "\\begin{align}\n",
    "   x\\left(t+\\frac{1}{2}h\\right) &= x\\left(t + \\frac{3}{2}h\\right) - hf(x\\left(t+h),t+h\\right)\\\\\n",
    "   x(t) &= x(t+h) - hf\\left(x\\left(t+\\frac{1}{2}h\\right),t+\\frac{1}{2}h\\right)\n",
    "\\end{align}\n",
    "$$"
   ]
  },
  {
   "cell_type": "markdown",
   "id": "approved-professional",
   "metadata": {
    "slideshow": {
     "slide_type": "skip"
    }
   },
   "source": [
    "The Leapfrog method is time-reversal symmetric. Time reversal symmetry means that if start from a certain time and go backwards in time we can exactly retrace all steps of the forward solution. Let's start our backward calculation at $t + \\frac{3}{2}h$ as shown in the figure. We perform the step between the midpoints from $t+\\frac{3}{2}h$ to $t+\\frac{1}{2}h$ and the step between the full integer points from $t+h$ to $t$. The same steps are performed in the forward algorithm, just reversed. The mathematical operations are the same, just reversed and the last two equations are identical to the forward equations on slide 3."
   ]
  },
  {
   "cell_type": "markdown",
   "id": "unexpected-memory",
   "metadata": {
    "slideshow": {
     "slide_type": "slide"
    }
   },
   "source": [
    "### Forward and backward calculation with RK2\n",
    "\n",
    "<img src=\"back_and_forward_calculation_rk2.png\" width=\"400\"/>\n",
    "\n",
    "Equations for backward calculation ($h \\rightarrow -h$):\n",
    "\n",
    "$$\n",
    " \\begin {align}\n",
    "   x\\left(t-\\frac{1}{2}h\\right) &= x(t) - \\frac{1}{2}hf(x,t)\\\\\n",
    "   x(t-h) &= x(t) - hf\\left(x\\left(t-\\frac{1}{2}h\\right),t-\\frac{1}{2}h\\right)\n",
    " \\end{align}\n",
    "$$\n",
    "\n",
    "\n",
    "Let's start the backward calculation from $t+h$, i.e., $t\\rightarrow t+h$\n",
    "\n",
    "$$\n",
    " \\begin {align}\n",
    "   x\\left(t+\\frac{1}{2}h\\right) &= x(t+h) - \\frac{1}{2}hf(x(t+h),t+h)\\\\\n",
    "   x(t) &= x(t+h)- hf\\left(x\\left(t+\\frac{1}{2}h\\right),t+\\frac{1}{2}h\\right)\n",
    " \\end{align}\n",
    "$$\n",
    "\n"
   ]
  },
  {
   "cell_type": "markdown",
   "id": "oriental-ocean",
   "metadata": {
    "slideshow": {
     "slide_type": "skip"
    }
   },
   "source": [
    "RK2 is not time-reversal. Let's start the backward calculation from $t+h$. We perform a midpoint step from $t+h$ to $t+\\frac{1}{2}h$ and a full step form $t+h$ to $h$. However, in the forward algorithm we don't perform a midpoint step from $t+\\frac{1}{2}h$ to $t+h$. It is easy to show that the last two equations are not identical to the RK2 forward equations on slide 3. "
   ]
  },
  {
   "cell_type": "markdown",
   "id": "auburn-elevation",
   "metadata": {
    "slideshow": {
     "slide_type": "slide"
    }
   },
   "source": [
    "### Example: Nonlinear pendulum\n",
    "\n",
    "\n",
    "\n",
    "<img src=\"pendulum.png\" width=\"200\"/>\n",
    "\n",
    "$$\n",
    "\\frac{\\mathrm{d}^2\\theta}{\\mathrm{d}t^2} = - \\frac{g}{l}\\sin(\\theta)\n",
    "$$\n",
    "\n",
    "Transformation into two first-order equations\n",
    "\n",
    "$$\n",
    "\\begin{align}\n",
    " \\frac{\\mathrm{d}\\theta}{\\mathrm{d}t}  = \\omega, \\qquad\n",
    " \\frac{\\mathrm{d}\\omega}{\\mathrm{d}t} = - \\frac{g}{l}\\sin(\\theta)\n",
    "\\end{align}\n",
    "$$\n",
    "\n",
    "The motion of the pendulum is time-reversal symmetric. The motion the pendulum makes in a single period, is exactly the same backwards as it is forwards. The length of the arm is 10 cm and m =1 kg. The potential energy of the pendulum is $V = mgl(1-\\cos(\\theta))$ and the kinetic energy is $T= 0.5ml^2(\\mathrm{d}\\theta/\\mathrm{d}t)^2$.  \n",
    "\n"
   ]
  },
  {
   "cell_type": "code",
   "execution_count": 29,
   "id": "subtle-salad",
   "metadata": {
    "slideshow": {
     "slide_type": "-"
    }
   },
   "outputs": [],
   "source": [
    "from numpy import sin, cos, pi, array, arange\n",
    "from matplotlib import pyplot as plt\n",
    "\n",
    "\"\"\"\"Definition of parameters and initial conditions\"\"\"\n",
    "g = 9.81\n",
    "l = 0.1        # Lenght of arm is 10 cm\n",
    "a = 0.0        # start time\n",
    "b = 10.0       # end time\n",
    "h = 0.001      # time step\n",
    "\n",
    "start_theta_degree = 10\n",
    "start_theta =  pi*start_theta_degree/180\n",
    "\n",
    "tpoints = arange(a,b,h)\n",
    "\n",
    "\"\"\"Right-hand side of differential equations\"\"\"\n",
    "def f(r):\n",
    "    theta = r[0]\n",
    "    omega = r[1]\n",
    "    ftheta = omega\n",
    "    fomega = -(g/l)*sin(theta)\n",
    "    return array([ftheta,fomega],float)\n",
    "\n",
    "\"\"\" Potential energy \"\"\"\n",
    "def V(theta):\n",
    "    return g*l*(1-cos(theta))\n",
    "\n",
    "\"\"\" Kinetic energy \"\"\"\n",
    "def T(omega):\n",
    "    return 0.5*l*l*omega*omega\n",
    "    "
   ]
  },
  {
   "cell_type": "code",
   "execution_count": 30,
   "id": "interstate-index",
   "metadata": {
    "slideshow": {
     "slide_type": "skip"
    }
   },
   "outputs": [],
   "source": [
    "\"\"\" RK2 integration for pendulum \"\"\"\n",
    "def rk2_integration(tpoints,start_theta): \n",
    "    #Initial condition: r[0] = start_theta ;  and r[1] = omega = 0\n",
    "    r = array([start_theta,0.0],float) \n",
    "    thetapoints = []\n",
    "    Vpoints = []\n",
    "    Tpoints = []\n",
    "    Epoints =[]\n",
    "\n",
    "    for t in tpoints:\n",
    "        thetapoints.append(r[0]*180/pi)\n",
    "        Vpoints.append(V(r[0]))\n",
    "        Tpoints.append(T(r[1]))\n",
    "        Epoints.append(V(r[0])+T(r[1]))\n",
    "        k1 = h*f(r)\n",
    "        k2 = h*f(r+0.5*k1)\n",
    "        r += k2  \n",
    "    return thetapoints, Epoints\n",
    "\n",
    "\"\"\" Leapfrog integration for pendulum \"\"\"\n",
    "def leapfrog_integration(tpoints,start_theta):\n",
    "    thetapoints = []\n",
    "    Vpoints = []\n",
    "    Tpoints = []\n",
    "    Epoints =[]\n",
    "\n",
    "    r1 = array([start_theta,0.0],float) # Initial value for point 1\n",
    "    r2 = r1 + 0.5*h*f(r1)               # Initial value for point 2 = midpoint\n",
    "\n",
    "    for t in tpoints:\n",
    "        thetapoints.append(r1[0]*180/pi)\n",
    "        Vpoints.append(V(r1[0]))\n",
    "        Tpoints.append(T(r1[1]))\n",
    "        Epoints.append(V(r1[0])+T(r1[1]))\n",
    "        r1 += h*f(r2)\n",
    "        r2 += h*f(r1)\n",
    "    return thetapoints, Epoints"
   ]
  },
  {
   "cell_type": "code",
   "execution_count": 31,
   "id": "sonic-premiere",
   "metadata": {
    "slideshow": {
     "slide_type": "-"
    }
   },
   "outputs": [
    {
     "data": {
      "image/png": "[encoded data removed]",
      "text/plain": [
       "<Figure size 432x288 with 1 Axes>"
      ]
     },
     "metadata": {
      "needs_background": "light"
     },
     "output_type": "display_data"
    },
    {
     "data": {
      "image/png": "[encoded data removed]",
      "text/plain": [
       "<Figure size 432x288 with 1 Axes>"
      ]
     },
     "metadata": {
      "needs_background": "light"
     },
     "output_type": "display_data"
    }
   ],
   "source": [
    "\"\"\"Solve problem with RK2\"\"\"\n",
    "thetapointsRK2,EpointsRK2 = rk2_integration(tpoints,start_theta)\n",
    "\n",
    "\"\"\"Solve problem with Leapfrog\"\"\"\n",
    "thetapointsLF,EpointsLF = leapfrog_integration(tpoints,start_theta)\n",
    "\n",
    "\"\"\"Plot theta with respect to time\"\"\"\n",
    "plt.rc('font', size=16)\n",
    "\n",
    "xstart = a\n",
    "xend = b\n",
    "\n",
    "plt.figure(1)\n",
    "plt.xlim(xstart,xend)\n",
    "plt.ylim(-start_theta_degree-10,start_theta_degree+10)\n",
    "#plt.ylim(-200,200)\n",
    "plt.ylabel('Angle displacement theta')\n",
    "plt.plot(tpoints,thetapointsRK2,label='RK2',linewidth=1.0)\n",
    "plt.legend()\n",
    "plt.figure(2)\n",
    "plt.xlim(xstart,xend)\n",
    "plt.ylim(-start_theta_degree-10,start_theta_degree+10)\n",
    "plt.ylabel('Angle displacement theta')\n",
    "plt.xlabel('Time')\n",
    "plt.plot(tpoints,thetapointsLF,label='Leapfrog',linewidth=1.0)\n",
    "plt.legend()\n",
    "plt.show()\n"
   ]
  },
  {
   "cell_type": "code",
   "execution_count": 32,
   "id": "champion-plant",
   "metadata": {},
   "outputs": [
    {
     "data": {
      "image/png": "[encoded data removed]",
      "text/plain": [
       "<Figure size 432x288 with 1 Axes>"
      ]
     },
     "metadata": {
      "needs_background": "light"
     },
     "output_type": "display_data"
    },
    {
     "data": {
      "image/png": "[encoded data removed]",
      "text/plain": [
       "<Figure size 432x288 with 1 Axes>"
      ]
     },
     "metadata": {
      "needs_background": "light"
     },
     "output_type": "display_data"
    }
   ],
   "source": [
    "\"\"\"Plot total energy with respect to time\"\"\"\n",
    "plt.rc('font', size=16)\n",
    "\n",
    "xstart = a\n",
    "xend = b\n",
    "\n",
    "plt.figure(1)\n",
    "plt.xlim(xstart,xend)\n",
    "plt.ylabel('Total energy')\n",
    "plt.plot(tpoints,EpointsRK2,label='RK2',linewidth=1.0)\n",
    "plt.legend()\n",
    "plt.figure(2)\n",
    "plt.xlim(xstart,xend)\n",
    "plt.ylabel('Total energy')\n",
    "plt.xlabel('Time')\n",
    "plt.plot(tpoints,EpointsLF,label='LF',linewidth=1.0)\n",
    "plt.plot(tpoints,EpointsRK2,label='RK2',linewidth=1.0)\n",
    "plt.legend()\n",
    "plt.show()"
   ]
  },
  {
   "cell_type": "markdown",
   "id": "comparable-silver",
   "metadata": {},
   "source": [
    "Now the settings are $t_{end}=b =10$s and $h = 0.001$. Try the following things\n",
    "-  decrease $h$ by an order of magnitude \n",
    "-  set $h$ to 0.01 and $b$ to 4000s. \n",
    "\n",
    "Especially the last point gives some interesting insights. Watch the videos to get some more explanations."
   ]
  },
  {
   "cell_type": "markdown",
   "id": "magnetic-instrumentation",
   "metadata": {
    "slideshow": {
     "slide_type": "skip"
    }
   },
   "source": [
    "The solution with our numerical solvers is only approximate, which means the total energy of the system is only approximately constant. With RK2 we see clearly a drift in the energy. The leapfrog algorithm conserves energy at the end of a full swing of the pendulum, i.e., at the beginning and the end of the swing the energy will be the same.The energy fluctuates during the course of the swing though, i.e., it is not conserved during fractions of a period. However, at the end of the swing, it will return to the correct value. The leapfrog method is thus useful for solving the equations of motion of energy conserving physical systems. If we wait long enough with RK2, the energy will drift, also with RK4, i.e., the pendulum might stop swinging or the planet might fall out of orbit into the star. "
   ]
  },
  {
   "cell_type": "markdown",
   "id": "immediate-blank",
   "metadata": {
    "slideshow": {
     "slide_type": "slide"
    }
   },
   "source": [
    "### Verlet method\n",
    "\n",
    "- specialized method to solve ODEs of the form\n",
    "\n",
    "\\begin{align}\n",
    " \\frac{\\mathrm{d}^2x}{\\mathrm{d}t^2} = f(x,t)\n",
    "\\end{align}\n",
    "\n",
    "- most important example: Newton's equation of motion\n",
    "\n",
    "\\begin{equation}\n",
    " \\frac{\\mathrm{d}^2\\mathbf{r}_i}{\\mathrm{d}t^2} = \\frac{\\mathbf{F}_i}{m_i}\n",
    "\\end{equation}\n",
    "\n",
    "- Verlet is a variant of Leapfrog method"
   ]
  },
  {
   "cell_type": "markdown",
   "id": "superior-soccer",
   "metadata": {
    "slideshow": {
     "slide_type": "skip"
    }
   },
   "source": [
    "In the case of molecular dynamics (MD), the force on atom $i$ will depend on the positions of all other atoms in the system. The interaction potentials are also in the case of classical MD non-linear functions of $\\mathbf{r}$. In the case of ab initio MD the forces are obtained from quantum mechanics, i.e., the corresponding equations of motion must be always solved numerically. "
   ]
  },
  {
   "cell_type": "markdown",
   "id": "consecutive-specialist",
   "metadata": {
    "slideshow": {
     "slide_type": "slide"
    }
   },
   "source": [
    "### Derivation of Verlet method\n",
    "\n",
    "We transform\n",
    "\n",
    "\\begin{align}\n",
    " \\frac{\\mathrm{d}^2x}{\\mathrm{d}t^2} = f(x,t)\n",
    "\\end{align}\n",
    "\n",
    "to 2 first-order differential equations\n",
    "\n",
    "\\begin{equation}\n",
    " \\frac{\\mathrm{d}x}{\\mathrm{d}t} = v, \\qquad \\frac{\\mathrm{d}v}{\\mathrm{d}t} = f(x,t)\n",
    "\\end{equation}\n",
    "\n"
   ]
  },
  {
   "cell_type": "markdown",
   "id": "charitable-elimination",
   "metadata": {
    "slideshow": {
     "slide_type": "slide"
    }
   },
   "source": [
    "Using Leapfrog we would define a vector $\\mathbf{r} = (x,v)$ and combine the two equations to a single vector equation\n",
    "\n",
    "\\begin{equation}\n",
    " \\frac{\\mathrm{d}\\mathbf{r}}{\\mathrm{d}t} = \\mathbf{f}(\\mathbf{r},t)\n",
    "\\end{equation}\n",
    "\n",
    "With Leapfrog, the explicit expression to solve for $\\mathbf{r}$ are\n",
    "\n",
    "- Full step\n",
    "\n",
    "\\begin{align}\n",
    " x(t+h) &= x(t) + hv\\left(t+\\frac{1}{2}h\\right)\\\\\n",
    " v(t+h) &= v(t) + h f\\left(x\\left(t+\\frac{1}{2}h\\right),t+\\frac{1}{2}h\\right)\n",
    "\\end{align}\n",
    "\n",
    "- Midpoint step\n",
    "\\begin{align}\n",
    "  x\\left(t+\\frac{3}{2}h\\right) &= x\\left(t+\\frac{1}{2}h\\right) + hv(t+h)\\\\\n",
    "  v\\left(t+\\frac{3}{2}h\\right) &= v\\left(t+\\frac{1}{2}h\\right) + hf(x(t+h),t+h)\n",
    "\\end{align}\n"
   ]
  },
  {
   "cell_type": "markdown",
   "id": "eastern-niagara",
   "metadata": {
    "slideshow": {
     "slide_type": "slide"
    }
   },
   "source": [
    "We can derive a full solution to the problem by only using\n",
    "\n",
    "\\begin{align}\n",
    "  x(t+h) &= x(t) + hv\\left(t+\\frac{1}{2}h\\right)\\\\\n",
    "  v\\left(t+\\frac{3}{2}h\\right) &= v\\left(t+\\frac{1}{2}h\\right) + hf(x(t+h),t+h)\n",
    "\\end{align}\n",
    "\n",
    "The initial value for $v\\left(t+\\frac{1}{2}h\\right)$ can be obtained from Euler's method with a step size of $\\frac{1}{2}h$\n",
    "\n",
    "\\begin{equation}\n",
    " v\\left(t + \\frac{1}{2}h\\right) = v(t) + \\frac{1}{2}hf(x(t),t)\n",
    "\\end{equation}\n"
   ]
  },
  {
   "cell_type": "markdown",
   "id": "touched-brand",
   "metadata": {
    "slideshow": {
     "slide_type": "slide"
    }
   },
   "source": [
    "We never need to calculate $v$ at any integer point or $x$ at half integers. This is an improvement over leapfrog where we would solve all four equations, i.e., we have to do only half the work compared to leapfrog. \n",
    "This simplification only works for differential equations that have the specific form  $ \\frac{\\mathrm{d}^2x}{\\mathrm{d}t^2} = f(x,t)$. For these type of ODEs, the right-hand side of the first equation ($ \\frac{\\mathrm{d}x}{\\mathrm{d}t} =v$) depends on $v$, but not on $x$. The right-hand side of the second equation ($\\frac{\\mathrm{d}v}{\\mathrm{d}t} = f(x,t)$) depends on $x$, but not on $v$. However, solving the equations of motion are ODEs of this form and they are a pretty common problem in physics. "
   ]
  },
  {
   "cell_type": "markdown",
   "id": "indie-expression",
   "metadata": {
    "slideshow": {
     "slide_type": "skip"
    }
   },
   "source": [
    "There is a small problem so far: We know $v$ at half-integer points and $x$ at full integer points, i.e., we never know both quantities at the same time. This is problematic if we want to calculate the potential, kinetic and total energy of the system because then we have to know $x$ and $v$ at the same time."
   ]
  },
  {
   "cell_type": "markdown",
   "id": "improved-cargo",
   "metadata": {
    "slideshow": {
     "slide_type": "slide"
    }
   },
   "source": [
    "To make sure that we know also know $v$ at the integer points, we perform an additional half step. Let's assume we would know $v(t+h)$ then could perform a half-step with step size $-\\frac{1}{2}h$ using Euler's method\n",
    "\n",
    "\\begin{equation}\n",
    " v\\left(t+\\frac{1}{2}h\\right) = v(t+h) - \\frac{1}{2}hf(x(t+h),t+h)\n",
    "\\end{equation}\n",
    "\n",
    "Rearranging yields:\n",
    "\\begin{equation}\n",
    " v(t+h) = v\\left(t+\\frac{1}{2}h\\right) + \\frac{1}{2}hf(x(t+h),t+h)\n",
    "\\end{equation}\n",
    "\n",
    "\n",
    "\n",
    "In combination with the equations on the previous slide, this give us the Verlet method."
   ]
  },
  {
   "cell_type": "markdown",
   "id": "negative-workshop",
   "metadata": {
    "slideshow": {
     "slide_type": "slide"
    }
   },
   "source": [
    "### Working equations for the Verlet algorithm\n",
    "\n",
    "Start:\n",
    "\n",
    "\\begin{equation}\n",
    " v\\left(t + \\frac{1}{2}h\\right) = v(t) + \\frac{1}{2}hf(x(t),t)\n",
    "\\end{equation}\n",
    "\n",
    "Then iterate:\n",
    "\n",
    "\\begin{align}\n",
    " x(t+h) &= x(t) + hv\\left(t+\\frac{1}{2}h\\right)\\\\\n",
    "      k &= hf(x(t+h),t+h)\\\\\n",
    " v(t+h) &= v\\left(t+\\frac{1}{2}h\\right) + \\frac{1}{2}k\\\\\n",
    "v\\left(t+\\frac{3}{2}h\\right) &=  v\\left(t+\\frac{1}{2}h\\right) + k\n",
    "\\end{align}"
   ]
  },
  {
   "cell_type": "markdown",
   "id": "front-clock",
   "metadata": {
    "slideshow": {
     "slide_type": "skip"
    }
   },
   "source": [
    "We are given initial values of $x$ and $v$ at some time $t$. We start by calculating the $v$ at the $t+\\frac{1}{2}h$.  The subsequent values of $x$ and $v$ are then derived by applying the set of equations above. "
   ]
  },
  {
   "cell_type": "markdown",
   "id": "neural-gross",
   "metadata": {
    "slideshow": {
     "slide_type": "slide"
    }
   },
   "source": [
    "### Verlet working equations for simultaneous differential equations\n",
    "\n",
    "Let's assume we have an equation of the form\n",
    "\n",
    "\\begin{align}\n",
    " \\frac{\\mathrm{d}^2\\mathbf{r}}{\\mathrm{d}t^2} = \\mathbf{f}(\\mathbf{r},t)\n",
    "\\end{align}\n",
    "\n",
    "wher $\\mathbf{r}=(x,y,...)$ is a vector. The Verlet working equations then transform to\n",
    "\n",
    "Start:\n",
    "\n",
    "\\begin{equation}\n",
    " \\mathbf{v}\\left(t + \\frac{1}{2}h\\right) = \\mathbf{v}(t) + \\frac{1}{2}h\\mathbf{f}(\\mathbf{r}(t),t)\n",
    "\\end{equation}\n",
    "\n",
    "Iterate:\n",
    "\n",
    "\\begin{align}\n",
    " \\mathbf{r}(t+h) &= \\mathbf{r}(t) + h\\mathbf{v}\\left(t+\\frac{1}{2}h\\right)\\\\\n",
    " \\mathbf{k} &= h\\mathbf{f}(\\mathbf{r}(t+h),t+h)\\\\\n",
    " \\mathbf{v}(t+h) &= \\mathbf{v}\\left(t+\\frac{1}{2}h\\right) + \\frac{1}{2}\\mathbf{k}\\\\\n",
    " \\mathbf{v}\\left(t+\\frac{3}{2}h\\right) &=  \\mathbf{v}\\left(t+\\frac{1}{2}h\\right) + \\mathbf{k}\n",
    "\\end{align}"
   ]
  },
  {
   "cell_type": "markdown",
   "id": "related-mediterranean",
   "metadata": {
    "slideshow": {
     "slide_type": "skip"
    }
   },
   "source": [
    "When solving equations of motion, we usually have simulateneous second-order differential equations with position vector $\\mathbf{r}=(x,y,z)$, i.e., three simultaneous second-order differential equations, which can be transformed to 6 simulatenous first-order equations. If we want to solve the equation of motions for $n$ interacting particles, we have $6n$ simulatenous euqations to solve. "
   ]
  },
  {
   "cell_type": "markdown",
   "id": "continental-fusion",
   "metadata": {
    "slideshow": {
     "slide_type": "skip"
    }
   },
   "source": [
    "There are different flavors of the Verlet method. What we have discussed here is often called the <b>Velocity Verlet</b> algorithm. "
   ]
  },
  {
   "cell_type": "markdown",
   "id": "numerous-ballot",
   "metadata": {
    "slideshow": {
     "slide_type": "slide"
    }
   },
   "source": [
    "### Error propagation with the (Velocity) Verlet method \n",
    "\n",
    "- Verlet conserves, since it is a variant of leapfrog, also the energy\n",
    "- error for single step is $\\mathcal{O}(n^3)$ \n",
    "- accumulated error is $\\mathcal{O}(n^2)$"
   ]
  },
  {
   "cell_type": "markdown",
   "id": "further-example",
   "metadata": {
    "slideshow": {
     "slide_type": "slide"
    }
   },
   "source": [
    " ### Error propagation with the Verlet method \n",
    " \n",
    " <b>Example:</b> Earth (blue) +  moon (gray) orbiting around sun (yellow)\n",
    "\n",
    "- Equations of motion solved by the (Velocity) Verlet method\n",
    "- yields right behavior\n",
    "- <i>Video by Miguel Caro (Advanced Statistical Physics course at Aalto), see also   https://youtu.be/KQAP90SWtiQ</i>"
   ]
  },
  {
   "cell_type": "code",
   "execution_count": 128,
   "id": "flush-theater",
   "metadata": {
    "slideshow": {
     "slide_type": "-"
    }
   },
   "outputs": [
    {
     "data": {
      "text/html": [
       "\n",
       " <video  controls id=\"vverlet\" width=\"500\" height=\"500\">\n",
       " <source src=\"./VelocityVerlet.mp4\">\n",
       " </video>\n",
       "\n",
       " <script>\n",
       " video = document.getElementById(\"vverlet\")\n",
       " video.playbackRate = 2.0;\n",
       " </script>\n",
       " "
      ],
      "text/plain": [
       "<IPython.core.display.HTML object>"
      ]
     },
     "execution_count": 128,
     "metadata": {},
     "output_type": "execute_result"
    }
   ],
   "source": [
    "play_VelocityVerlet()"
   ]
  },
  {
   "cell_type": "markdown",
   "id": "equipped-address",
   "metadata": {
    "slideshow": {
     "slide_type": "slide"
    }
   },
   "source": [
    "### Summary: Methods for solving ODEs and error\n",
    "\n",
    "| method | single step error | accumulated error |\n",
    "| --- | --- | --- |\n",
    "| Euler | $\\mathcal{O}(n^2)$ | $\\mathcal{O}(n)$ |\n",
    "| RK2   | $\\mathcal{O}(n^3)$ | $\\mathcal{O}(n^2)$ |\n",
    "| RK4        | $\\mathcal{O}(n^5)$ | $\\mathcal{O}(n^4)$ |\n",
    "| Leapfrog   | $\\mathcal{O}(n^3)$ | $\\mathcal{O}(n^2)$ |\n",
    "| (Velocity) Verlet   | $\\mathcal{O}(n^3)$ | $\\mathcal{O}(n^2)$ |\n",
    "\n",
    "Leapfrog and Velocity Verlet are in addition time-reversal symmetric and conserve, e.g., energy.\n",
    "\n",
    "<b>Lesson learned:</b> it is important to choose a sensible integration scheme for the ODEs together with a proper step size\n",
    "\n",
    "\n"
   ]
  },
  {
   "cell_type": "markdown",
   "id": "focused-idaho",
   "metadata": {
    "slideshow": {
     "slide_type": "slide"
    }
   },
   "source": [
    "## Partial differential equations\n"
   ]
  },
  {
   "cell_type": "markdown",
   "id": "boxed-opinion",
   "metadata": {
    "slideshow": {
     "slide_type": "slide"
    }
   },
   "source": [
    "Many problems in physics are partial differential equations, e.g.,\n",
    "\n",
    "- Laplace and Poisson equations\n",
    "- Maxwell's equations\n",
    "- Schrödinger equation\n",
    "- wave equation\n",
    "- diffusion equation\n",
    "\n",
    "$\\rightarrow$ solving them is usually computationally more demanding than the ODE case"
   ]
  },
  {
   "cell_type": "markdown",
   "id": "revised-terry",
   "metadata": {
    "slideshow": {
     "slide_type": "slide"
    }
   },
   "source": [
    "### Types of problems\n",
    "\n",
    "1. boundary problems\n",
    "2. initial value problems\n",
    "\n",
    "- $\\rightarrow$ initial value problems are typically harder to solve for partial differential equations\n",
    "- we will learn one method for each"
   ]
  },
  {
   "cell_type": "markdown",
   "id": "respective-edmonton",
   "metadata": {
    "slideshow": {
     "slide_type": "notes"
    }
   },
   "source": [
    "For ODEs we discussed only initial value problems, meaning that we are solving differential equations given the initial values of the variables. This is the most common from for differential equations in physics. However, there are also boundary value problems. \n",
    "\n",
    "For instance, let's consider the example of a ball thrown into the air. We could specify two initial conditions:  the height of the ball at $t=0$ and its initial upward velocity. Another possibilty is to formulate this example as boundary value problem. We could specify our two conditions as initial and end condition instead. We could specify that the ball has the height $x(t=0)=0$ and $x(t_1)=0$, where $t_1$ is a later time, i.e., we specify the time when the ball is thrown and when it lands.\n",
    "\n",
    "Initial value problems are generally easier to solve for ODEs. For partial differential equations, the opposite is true."
   ]
  },
  {
   "cell_type": "markdown",
   "id": "confidential-metropolitan",
   "metadata": {
    "slideshow": {
     "slide_type": "slide"
    }
   },
   "source": [
    "### Relaxation method for boundary value problems\n",
    "\n",
    "<img src=\"laplace1.png\" width=\"300\"/>\n",
    "(Figure from \"Computational Physics\" by Marc Newman\n",
    "\n",
    "To introduce the method we will look at a simple electrostatics problem: an empty box, which as conducting wall, all of which are grounded to 0 V except for the wall at the top, which is at some other voltage $V$. The (very) small gaps between the top wall and the others are intended to show that they are insulated from one another.\n",
    "\n",
    "<b>Goal:</b> determine value of the electrostatic potential at points within the box"
   ]
  },
  {
   "cell_type": "markdown",
   "id": "imposed-drill",
   "metadata": {
    "slideshow": {
     "slide_type": "notes"
    }
   },
   "source": [
    "This also a boundary value problem: we want to describe the behavior of a variable in space and we are given some constraints on the variable around that space."
   ]
  },
  {
   "cell_type": "markdown",
   "id": "alternate-processor",
   "metadata": {
    "slideshow": {
     "slide_type": "slide"
    }
   },
   "source": [
    "We can find the electrostatic potential $\\phi$ inside the box by solving the 2D Laplace equation\n",
    "\n",
    "\\begin{equation}\n",
    " \\frac{\\partial^2\\phi}{\\partial x^2} + \\frac{\\partial^2\\phi}{\\partial y^2} = 0\n",
    "\\end{equation}\n",
    "\n",
    "with the boundary conditions that $\\phi =V$ on the top wall and $\\phi =0$ on the other walls.\n",
    "\n",
    "<b>Procedure:</b>\n",
    "  - use method of finite difference to express the second derivatives of $\\phi$ \n",
    "      $\\rightarrow$ see lecture topic 2    \n",
    "  - use relaxation method to solve the obtained set of linear simultaneous equations\n",
    "      $\\rightarrow$ see lecture topic 3\n",
    "    "
   ]
  },
  {
   "cell_type": "markdown",
   "id": "stopped-petersburg",
   "metadata": {
    "slideshow": {
     "slide_type": "slide"
    }
   },
   "source": [
    "### Repetition: Finite differences for second derivatives\n",
    "\n",
    "We calculate the first derivates first using the central difference method for derivatives at $x+h/2$ and $x-h/2$.\n",
    "\n",
    "\\begin{equation}\n",
    " f'(x+h/2) \\approx \\frac{f(x+h)-f(x)}{h} \\qquad f'(x-h/2) \\approx \\frac{f(x)-f(x-h)}{h}\n",
    "\\end{equation}\n",
    "\n",
    "Now we applyt the central difference method again for the second derivative\n",
    "\n",
    "\\begin{align}\n",
    " f'' &\\approx  \\frac{f'(x+h/2)-f'(x-h/2)}{h}\\\\\n",
    "     & = \\frac{f(x+h)-2f(x)+f(x-h)}{h^2}\n",
    "\\end{align}"
   ]
  },
  {
   "cell_type": "markdown",
   "id": "described-robinson",
   "metadata": {
    "slideshow": {
     "slide_type": "slide"
    }
   },
   "source": [
    "### Apply the finite difference method to the Laplace equation\n",
    "\n",
    "<img src=\"laplace_grid.png\" width=\"300\"/>\n",
    "(Figure from \"Computational Physics\" by Marc Newman\n",
    "\n",
    "- divide the space in the box into grid points with spacing $a$ as shown in the figure. \n",
    "- put points also on interior and boundaries of that space\n",
    "\n",
    "Calculate now 2nd derivatives:\n",
    "\n",
    "\\begin{align}\n",
    " \\frac{\\partial^2\\phi}{\\partial x^2} &=\\frac{\\phi(x+a,y) + \\phi(x-a,y) -2\\phi(x,y)}{a^2}\\\\\n",
    " \\frac{\\partial^2\\phi}{\\partial y^2} &=\\frac{\\phi(x,y+a) + \\phi(x,y-a) -2\\phi(x,y)}{a^2}\n",
    "\\end{align}\n",
    "\n",
    "The Laplace equation in 2D is now:\n",
    "\n",
    "\\begin{equation}\n",
    "\\frac{\\partial^2\\phi}{\\partial x^2} +  \\frac{\\partial^2\\phi}{\\partial y^2} = \\frac{\\phi(x+a,y) + \\phi(x-a,y) +\\phi(x,y+a) + \\phi(x,y-a)-4\\phi(x,y)}{a^2} = 0\n",
    "\\end{equation}\n"
   ]
  },
  {
   "cell_type": "markdown",
   "id": "little-leisure",
   "metadata": {
    "slideshow": {
     "slide_type": "skip"
    }
   },
   "source": [
    "We basically add the values of $\\phi$ at all the grid points adjacent to $(x,y)$ and subtract 4x the value at $(x,y)$ and then divide by $a^2$."
   ]
  },
  {
   "cell_type": "markdown",
   "id": "potential-xerox",
   "metadata": {
    "slideshow": {
     "slide_type": "slide"
    }
   },
   "source": [
    "We need to solve\n",
    "\n",
    "\\begin{equation}\n",
    " \\phi(x+a,y) + \\phi(x-a,y) +\\phi(x,y+a) + \\phi(x,y-a)-4\\phi(x,y) = 0\n",
    "\\end{equation}\n",
    "\n",
    "- we have one equation like this for every grid point $(x,y)$\n",
    "- the solution to the entire set gives us $\\phi(x,y)$ at every grid point\n",
    "\n",
    "$\\rightarrow$ large set of linear simultaneous equations\n",
    "\n",
    "$\\rightarrow$ method of choice is here the relaxation method (lecture topic 3)"
   ]
  },
  {
   "cell_type": "markdown",
   "id": "super-broadcast",
   "metadata": {
    "slideshow": {
     "slide_type": "skip"
    }
   },
   "source": [
    "This linear set of equations could be solved, in principle, with Gaussian elimination or LU decomposition. In this case, using the relaxation method is a better choice because it is computationally cheaper. We introduced the relaxation method for non-linear equations, but they -of course- also be applied to linear equations."
   ]
  },
  {
   "cell_type": "markdown",
   "id": "flush-bulgaria",
   "metadata": {
    "slideshow": {
     "slide_type": "slide"
    }
   },
   "source": [
    "### Application of the relaxation method to our electrostatics problem\n",
    "\n",
    "Let's first rearrange\n",
    "\n",
    "\\begin{equation}\n",
    "\\phi(x,y) =\\frac{1}{4} (\\phi(x+a,y) + \\phi(x-a,y) +\\phi(x,y+a) + \\phi(x,y-a)) \n",
    "\\end{equation}\n",
    "\n",
    "<b>Procedure:</b>\n",
    "- fix $\\phi(x,y)$ at the boundaries of the system \n",
    "- guess some initial values for $\\phi(x,y)$, can be bad, doesn't matter\n",
    "- calculate new values $\\phi'$ we the guessed initial values\n",
    "- repeat until convergence reached\n",
    "\n",
    "$\\rightarrow$ this is also known as <b> Jacobi method </b>"
   ]
  },
  {
   "cell_type": "markdown",
   "id": "medium-tenant",
   "metadata": {
    "slideshow": {
     "slide_type": "slide"
    }
   },
   "source": [
    "### Solution of the 2D Laplace equation\n",
    "\n",
    "Let's now solve our electrostatics problem with the Jacobi method assuming that the box is 1 m long each side, $V =  1$ volt and the grid spacing $a = 1cm$. We hve 100 grid points or 101 if we count the points at both beginning and end. "
   ]
  },
  {
   "cell_type": "code",
   "execution_count": 129,
   "id": "homeless-divide",
   "metadata": {
    "slideshow": {
     "slide_type": "-"
    }
   },
   "outputs": [
    {
     "data": {
      "text/plain": [
       "<matplotlib.image.AxesImage at 0x7f795f889320>"
      ]
     },
     "execution_count": 129,
     "metadata": {},
     "output_type": "execute_result"
    },
    {
     "data": {
      "image/png": "[encoded data removed]",
      "text/plain": [
       "<Figure size 432x288 with 1 Axes>"
      ]
     },
     "metadata": {
      "needs_background": "light"
     },
     "output_type": "display_data"
    }
   ],
   "source": [
    "from numpy import empty,zeros,max\n",
    "from matplotlib import pyplot as plt\n",
    "\n",
    "#Constants\n",
    "M = 100         # Grid squares on a side\n",
    "V = 1.0         # Voltage at top wall\n",
    "target = 1e-6   # Target accuracy\n",
    "\n",
    "# Create arrays to hold potential values\n",
    "phi = zeros([M+1,M+1],float)\n",
    "phi[0,:] = V\n",
    "phiprime = empty([M+1,M+1],float)\n",
    "\n",
    "# Main loop\n",
    "delta = 1.0\n",
    "while delta>target:\n",
    "\n",
    "    # Calculate new values of the potential\n",
    "    for i in range(M+1):\n",
    "        for j in range(M+1):\n",
    "            if i==0 or i==M or j==0 or j==M:\n",
    "                phiprime[i,j] = phi[i,j]\n",
    "            else:\n",
    "                phiprime[i,j] = (phi[i+1,j] + phi[i-1,j] \\\n",
    "                                 + phi[i,j+1] + phi[i,j-1])/4\n",
    "    \n",
    "    # Calculate maximum difference from old values\n",
    "    delta = max(abs(phi-phiprime))\n",
    "\n",
    "    # Swap the two arrays around\n",
    "    phi,phiprime = phiprime,phi\n",
    "    # Alternative to swapping\n",
    "    #phi  = phiprime\n",
    "    #phiprime = empty([M+1,M+1],float)\n",
    "    \n",
    "# Make a plot\n",
    "plt.imshow(phi)\n"
   ]
  },
  {
   "cell_type": "markdown",
   "id": "eastern-privilege",
   "metadata": {
    "slideshow": {
     "slide_type": "skip"
    }
   },
   "source": [
    "The produced figure shows that there is a region of high electric potential around the top wall of the box, as expected, and low  potential aroudn the other three walls. Note that the program will run for a while."
   ]
  },
  {
   "cell_type": "markdown",
   "id": "mexican-racing",
   "metadata": {
    "slideshow": {
     "slide_type": "slide"
    }
   },
   "source": [
    "A few notes about the program:\n",
    "- if point $i,j$ at boundary, then set to start values; the values at the boundaries never change\n",
    "- if points $i,j$ not at boundary, calculate $\\phi'$"
   ]
  },
  {
   "cell_type": "markdown",
   "id": "chubby-herald",
   "metadata": {
    "slideshow": {
     "slide_type": "slide"
    }
   },
   "source": [
    "### Things to note about the Jacobi method\n",
    "\n",
    "<b>Accuracy:</b>\n",
    "- only approximate since we use finite differences for derivatives\n",
    "- small target accuracy won't fix this\n",
    "- higher-order derivative approximation necessary to improve accuracy\n",
    "\n",
    "<b>Accessible points </b>\n",
    "- the calculation give the value of $\\phi$ only at the grid points and not elsewhere\n",
    "- in between values: interpolation schemes possible\n",
    "\n",
    "<b> Division of space </b>\n",
    "- boundaries around space may not always be square\n",
    "- can be difficult to divide space with square grid $\\rightarrow$ grid points don't fall on boundaries\n"
   ]
  },
  {
   "cell_type": "markdown",
   "id": "disciplinary-karen",
   "metadata": {
    "slideshow": {
     "slide_type": "slide"
    }
   },
   "source": [
    "### Other, faster methods for boundary value problems\n",
    "\n",
    "- overrelaxation \n",
    "- Gauss-Seidel method"
   ]
  },
  {
   "cell_type": "markdown",
   "id": "fourth-clinic",
   "metadata": {
    "slideshow": {
     "slide_type": "slide"
    }
   },
   "source": [
    "### Initial value problems\n",
    "\n",
    "- starting point of variable known\n",
    "- goal: prediction of future variation as function of time\n",
    "\n",
    "<b>Example: </b> Diffusion equation\n",
    "\\begin{equation}\n",
    "    \\frac{\\partial \\phi}{\\partial t} = D\\frac{\\partial^2\\phi}{\\partial x^2}\n",
    "\\end{equation}\n",
    "\n",
    "- use space-time grid? 🤔 \n",
    "- we have boundary conditions in the spatial dimension ($x$), but not in time dimension\n",
    "$\\rightarrow$ relaxation method breaks down because we don't know what value to use for time-like end of the grid"
   ]
  },
  {
   "cell_type": "markdown",
   "id": "improving-distance",
   "metadata": {
    "slideshow": {
     "slide_type": "skip"
    }
   },
   "source": [
    "We have now (compared to the 2D Laplace equation), the independent variables $x$ and $t$, instead of $x$ and $y$ One might think that we can proceed as before and create a space-time grid, then write the derivatives in finite difference form and get a set of simultaneous equations that can be solved by the relaxation method. This doesn't work because we have only boundary conditions in the spatial direction $x$. For the time dimension we have an initial conditions. We know where the value starts, but not where it ends. The relaxation method breaks thus down because we don't know what value of $\\phi$ to use for time-like end of the grid."
   ]
  },
  {
   "cell_type": "markdown",
   "id": "domestic-angle",
   "metadata": {
    "slideshow": {
     "slide_type": "slide"
    }
   },
   "source": [
    "### FTCS method\n",
    "\n",
    "- short for forward-time centered-space method\n",
    "- method to solve initial value problems for partial differential equations\n",
    "\n",
    "<b>Procedure:</b>\n",
    " - divide spatial dimension $x$ into a grid of points with spacing $a$\n",
    " - calculate second derivative with respect to $x$ with finite differences\n",
    "   $\\rightarrow$ simultaneous ordinary differential equations are obtained\n",
    " - use the Euler method to solve them"
   ]
  },
  {
   "cell_type": "markdown",
   "id": "undefined-offering",
   "metadata": {
    "slideshow": {
     "slide_type": "skip"
    }
   },
   "source": [
    "For the ODEs we arrived at the conclusion that we shouldn't use Euler's method due to the poor accuracy. Why do we use it here? Estimating the second derivative with finite differences is not very accurate. There is no point in using a very accurate solver. Euler's method gives errros which are comparable to the error introduced by the finite difference approach. "
   ]
  },
  {
   "cell_type": "markdown",
   "id": "legendary-delivery",
   "metadata": {
    "slideshow": {
     "slide_type": "slide"
    }
   },
   "source": [
    "### Example: diffusion equation\n",
    "\n",
    "\\begin{equation}\n",
    "    \\frac{\\partial \\phi}{\\partial t} = D\\frac{\\partial^2\\phi}{\\partial x^2}\n",
    "\\end{equation}\n",
    "\n",
    "Take second derivatives with finite differences\n",
    "\n",
    "\\begin{align}\n",
    " \\frac{\\partial^2\\phi}{\\partial x^2} =\\frac{\\phi(x+a,y) + \\phi(x-a,y) -2\\phi(x,y)}{a^2}\n",
    "\\end{align}\n",
    "\n",
    "and insert in diffusion equation\n",
    "\n",
    "\\begin{equation}\n",
    "    \\frac{\\partial \\phi}{\\partial t} = \\frac{D}{a^2}\\left[\\phi(x+a,y) + \\phi(x-a,y) -2\\phi(x,y)\\right]\n",
    "\\end{equation}\n",
    "\n",
    "\n",
    "We can think of the value of $\\phi$ at the different grid points as separate variables \n",
    "$\\rightarrow$ we have a set of simultaneous ODEs now."
   ]
  },
  {
   "cell_type": "markdown",
   "id": "interested-retro",
   "metadata": {
    "slideshow": {
     "slide_type": "slide"
    }
   },
   "source": [
    "We have the ODE\n",
    "\n",
    "\\begin{equation}\n",
    " \\frac{\\mathrm{d}\\phi}{\\mathrm{d}t} = f(\\phi,t)\n",
    "\\end{equation}\n",
    "\n",
    "where $f(\\phi,t)$ is the right-hand side of the last equation. Solving with Euler yields\n",
    "\n",
    "\\begin{equation}\n",
    " \\phi(x,t+h) = \\phi(x,t) + h\\frac{D}{a^2}\\left[\\phi(x+a,y) + \\phi(x-a,y) -2\\phi(x,y)\\right]\n",
    "\\end{equation}\n",
    "\n",
    "If we know $\\phi$ at every grid pint $x$ hat some time $t$, then we get from this equation the value of each grid point at time $t+h$."
   ]
  },
  {
   "cell_type": "markdown",
   "id": "indoor-lighter",
   "metadata": {
    "slideshow": {
     "slide_type": "slide"
    }
   },
   "source": [
    "#### Example: Solving the heat equation with FTCS\n",
    "\n",
    "<img src=\"water_container.png\" width=\"300\"/>\n",
    "\n",
    "We have a steel container, which is 1 cm thick and is initially at a uniform temperature of 20 degree Celsius everywhere. The container is placed in a bath of cold water at 0 degree celsius and filled with hot water at 50 degree Celsius. \n",
    "\n",
    "Assumptions: container is arbitrarily wide. Neither cold not hot water change temperature. \n",
    "\n",
    "We have to solve the 1D diffusion equation for the temperature $T$\n",
    "\n",
    "\\begin{equation}\n",
    " \\frac{\\partial T}{\\partial t} = D \\frac{\\partial^2 T}{\\partial x^2}\n",
    "\\end{equation}\n",
    "\n",
    "The $x$-axis is divided into 100 equal points (101 in total counting boundaries). The first and last point have fixes temperatures at 50 degree Celsius and 0 degree Celsius, respectively. Intermediate points are initially at 20 degree Celsius. The diffusion coefficient is $D =  4.25\\times10^{-6}\\text{m}^2\\text{s}^{-1}$.\n",
    "\n",
    "Task: Plot of temperatures profile at times $t = 0.01, 0.1, 0.4, 1, 10$ s. "
   ]
  },
  {
   "cell_type": "code",
   "execution_count": 133,
   "id": "overall-handbook",
   "metadata": {
    "slideshow": {
     "slide_type": "slide"
    }
   },
   "outputs": [
    {
     "name": "stdout",
     "output_type": "stream",
     "text": [
      "0.5903024673461914\n"
     ]
    },
    {
     "data": {
      "text/plain": [
       "<matplotlib.legend.Legend at 0x7f795f4b0400>"
      ]
     },
     "execution_count": 133,
     "metadata": {},
     "output_type": "execute_result"
    },
    {
     "data": {
      "image/png": "[encoded data removed]",
      "text/plain": [
       "<Figure size 432x288 with 1 Axes>"
      ]
     },
     "metadata": {
      "needs_background": "light"
     },
     "output_type": "display_data"
    }
   ],
   "source": [
    "from numpy import empty\n",
    "from matplotlib import pyplot as plt \n",
    "import time\n",
    "\n",
    "\n",
    "# Constants\n",
    "L = 0.01      # Thickness of steel in meters\n",
    "D = 4.25e-6   # Thermal diffusivity\n",
    "N = 100       # Number of divisions in grid\n",
    "a = L/N       # Grid spacing\n",
    "h = 1e-4      # Time-step\n",
    "epsilon = h/1000\n",
    "\n",
    "Tlo = 0.0     # Low temperature in Celcius\n",
    "Tmid = 20.0   # Intermediate temperature in Celcius\n",
    "Thi = 50.0    # Hi temperature in Celcius\n",
    "\n",
    "t1 = 0.01\n",
    "t2 = 0.1\n",
    "t3 = 0.4\n",
    "t4 = 1.0\n",
    "t5 = 10.0\n",
    "tend = t5 + epsilon\n",
    "\n",
    "# Create arrays\n",
    "T = empty(N+1,float)\n",
    "T[0] = Thi\n",
    "T[N] = Tlo\n",
    "T[1:N] = Tmid\n",
    "Tp = empty(N+1,float)\n",
    "Tp[0] = Thi\n",
    "Tp[N] = Tlo\n",
    "\n",
    "# Main loop\n",
    "t = 0.0\n",
    "c = h*D/(a*a)\n",
    "\n",
    "start = time.time()\n",
    "while t<tend:\n",
    "\n",
    "    # Calculate the new values of T\n",
    "    \n",
    "    #for i in range(1,N):  ## Loop is the slow alternative\n",
    "    #    Tp[i] = T[i] + c*(T[i+1]+T[i-1]-2*T[i]) \n",
    "    \n",
    "    Tp[1:N] = T[1:N] + c* (T[2:N+1]+T[0:N-1]-2*T[1:N])\n",
    "    T,Tp = Tp,T\n",
    "    t += h\n",
    "\n",
    "    # Make plots at the given times\n",
    "    if abs(t-t1)<epsilon:\n",
    "        plt.plot(T,label='t1')\n",
    "    if abs(t-t2)<epsilon:\n",
    "        plt.plot(T,label='t2')\n",
    "    if abs(t-t3)<epsilon:\n",
    "        plt.plot(T,label='t3')\n",
    "    if abs(t-t4)<epsilon:\n",
    "        plt.plot(T,label='t4')\n",
    "    if abs(t-t5)<epsilon:\n",
    "        plt.plot(T,label='t5')\n",
    "\n",
    "end = time.time()\n",
    "print(end - start)\n",
    "plt.xlabel(\"x\")\n",
    "plt.ylabel(\"T in degree Celsius\")\n",
    "plt.legend()\n"
   ]
  },
  {
   "cell_type": "markdown",
   "id": "three-intersection",
   "metadata": {
    "slideshow": {
     "slide_type": "skip"
    }
   },
   "source": [
    "The temperatue profile starts off with a large region of the system at 20 degree Celsius and a much smaller region of hotter and colder temperatures. The profile becomes smoother over time, til we have a straight line in the end."
   ]
  },
  {
   "cell_type": "markdown",
   "id": "conventional-definition",
   "metadata": {
    "slideshow": {
     "slide_type": "skip"
    }
   },
   "source": [
    "<b>Comments:</b>\n",
    "- do not compare directly `t == t1`. They could be unequal due to numerical rounding errors; calculating the absolut value of the difference is better\n",
    "\n",
    "- use arrays instead of loop to calculate Tp; it's faster."
   ]
  },
  {
   "cell_type": "markdown",
   "id": "ranking-windsor",
   "metadata": {
    "slideshow": {
     "slide_type": "slide"
    }
   },
   "source": [
    "### Application of FTCS to wave equation\n",
    "\n",
    "The 1D wave equation is\n",
    "\n",
    "\\begin{equation}\n",
    " \\frac{\\partial^2\\phi}{\\partial x^2} - \\frac{1}{v^2}\\frac{\\partial^2\\phi}{\\partial t^2} =0\n",
    "\\end{equation}\n",
    "\n",
    "Your task in exercise 5.6 is to apply the FTCS method to the wave equation.This is an interesting case considering numercial stability. "
   ]
  },
  {
   "cell_type": "markdown",
   "id": "parliamentary-sarah",
   "metadata": {
    "slideshow": {
     "slide_type": "slide"
    }
   },
   "source": [
    "### Numerical stability of FTCS\n",
    "\n",
    "- von Neumann stability analysis yields for the diffusion equation that the solution will be stable if\n",
    "\n",
    "\\begin{equation}\n",
    " h\\leq \\frac{a^2}{2D}\n",
    "\\end{equation}\n",
    "\n",
    "- for the wave equation there exists no such expression. \n"
   ]
  }
 ],
 "metadata": {
  "celltoolbar": "Raw Cell Format",
  "kernelspec": {
   "display_name": "Python 3",
   "language": "python",
   "name": "python3"
  },
  "language_info": {
   "codemirror_mode": {
    "name": "ipython",
    "version": 3
   },
   "file_extension": ".py",
   "mimetype": "text/x-python",
   "name": "python",
   "nbconvert_exporter": "python",
   "pygments_lexer": "ipython3",
   "version": "3.6.13"
  }
 },
 "nbformat": 4,
 "nbformat_minor": 5
}
